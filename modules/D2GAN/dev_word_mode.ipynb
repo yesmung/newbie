{
 "cells": [
  {
   "cell_type": "code",
   "execution_count": 2,
   "metadata": {},
   "outputs": [],
   "source": [
    "\n",
    "import numpy as np\n",
    "import cv2\n",
    "import os\n",
    "from configparser import ConfigParser\n",
    "\n",
    "path_config_file = os.getcwd().split('docrv2_sroie')[0] + 'docrv2_sroie/' + 'config.ini'\n",
    "common_variable = ConfigParser()\n",
    "common_variable.read(path_config_file)\n",
    "\n",
    "import sys\n",
    "\n",
    "sys.path.append(common_variable['database']['module_path'])\n",
    "\n",
    "from db_util import *\n",
    "from db import *\n",
    "\n",
    "from base.base_data_loader import BaseDataLoader\n",
    "from utils import dirs\n",
    "from utils import image_utils\n",
    "from utils.image_utils import drawBoxes\n",
    "\n",
    "DB_MAIN_PATH = common_variable['database']['DB_MAIN_PATH']\n"
   ]
  },
  {
   "cell_type": "code",
   "execution_count": 15,
   "metadata": {},
   "outputs": [],
   "source": [
    "denv = open_env('/home/dk/docrv2_sroie/DB/d2gan_styled_combined_from_denoise_100')\n",
    "dkey = 'img-%09d'%0\n",
    "lkey = 'char_c-%09d'%0\n",
    "db = denv.open_db(b'db_data')\n",
    "with denv.begin(write=False) as txn:\n",
    "    db_cs = txn.cursor(db)\n",
    "    img = decode_img(db_cs.get(str(dkey).encode()))\n",
    "    img = np.array(img)\n",
    "    tlines = decode_pd(db_cs.get(str(lkey).encode()),\n",
    "                       sep=get_value_by_key(denv, 'sep'))\n",
    "\n",
    "# process line\n",
    "lines = [None] * len(tlines)\n",
    "for i in range(len(tlines)):\n",
    "    for j in range(8):\n",
    "        tlines[i][j] = int(tlines[i][j])\n",
    "    lines[i] = tuple(tlines[i])\n",
    "tline = lines"
   ]
  },
  {
   "cell_type": "code",
   "execution_count": 54,
   "metadata": {},
   "outputs": [
    {
     "data": {
      "text/plain": [
       "[(50, 26, 50, 26, 50, 41, 50, 41, ' '),\n",
       " (52, 26, 68, 26, 68, 41, 52, 41, 'S'),\n",
       " (68, 26, 85, 26, 85, 41, 68, 41, 'U'),\n",
       " (85, 26, 103, 26, 103, 41, 85, 41, 'N'),\n",
       " (103, 26, 112, 26, 112, 41, 103, 41, '-'),\n",
       " (112, 26, 127, 26, 127, 41, 112, 41, 'T'),\n",
       " (126, 26, 143, 26, 143, 41, 126, 41, 'H'),\n",
       " (143, 26, 160, 26, 160, 41, 143, 41, 'U'),\n",
       " (160, 26, 165, 26, 165, 41, 160, 41, ':'),\n",
       " (165, 26, 172, 26, 172, 41, 165, 41, '1'),\n",
       " (172, 26, 187, 26, 187, 41, 172, 41, '0'),\n",
       " (187, 26, 202, 26, 202, 41, 187, 41, '0'),\n",
       " (202, 26, 217, 26, 217, 41, 202, 41, '0'),\n",
       " (223, 26, 240, 26, 240, 41, 223, 41, 'H'),\n",
       " (240, 26, 258, 26, 258, 41, 240, 41, 'R'),\n",
       " (258, 26, 274, 26, 274, 41, 258, 41, 'S'),\n",
       " (280, 26, 289, 26, 289, 41, 280, 41, '-'),\n",
       " (295, 26, 309, 26, 309, 41, 295, 41, '2'),\n",
       " (309, 26, 323, 26, 323, 41, 309, 41, '2'),\n",
       " (323, 26, 337, 26, 337, 41, 323, 41, '3'),\n",
       " (337, 26, 352, 26, 352, 41, 337, 41, '0'),\n",
       " (358, 26, 375, 26, 375, 41, 358, 41, 'H'),\n",
       " (375, 26, 393, 26, 393, 41, 375, 41, 'R'),\n",
       " (393, 26, 409, 26, 409, 41, 393, 41, 'S'),\n",
       " (411, 26, 411, 26, 411, 41, 395, 41, ' '),\n",
       " (50, 57, 50, 57, 50, 74, 50, 74, ' '),\n",
       " (52, 57, 64, 57, 64, 74, 52, 74, '1'),\n",
       " (64, 57, 81, 57, 81, 74, 64, 74, '0'),\n",
       " (81, 57, 84, 57, 84, 74, 81, 74, '.'),\n",
       " (84, 57, 101, 57, 101, 74, 84, 74, '0'),\n",
       " (103, 57, 103, 57, 103, 74, 86, 74, ' ')]"
      ]
     },
     "execution_count": 54,
     "metadata": {},
     "output_type": "execute_result"
    }
   ],
   "source": [
    "tline"
   ]
  },
  {
   "cell_type": "code",
   "execution_count": 9,
   "metadata": {},
   "outputs": [],
   "source": [
    "size = 512\n",
    "sratio = [1,3,1,1]\n",
    "amp = [1,1]\n",
    "heatmap = image_utils.get_asymmetric_gaussian_heatmap(size, distanceRatio[0], sx=sratio[0], sy=sratio[1],\n",
    "                                                              amp=amp[0])\n",
    "heatmap_affinity = image_utils.get_asymmetric_gaussian_heatmap(size, distanceRatio[1], sx=sratio[2],\n",
    "                                                               sy=sratio[3], amp=amp[1])\n"
   ]
  },
  {
   "cell_type": "code",
   "execution_count": 68,
   "metadata": {},
   "outputs": [],
   "source": [
    "#heatmap, \n",
    "image_height = 128\n",
    "image_width = 256\n",
    "lines = [tline]\n",
    "#heatmap_affinity=None, \n",
    "descale=2\n",
    "make_channel=True\n",
    "\n",
    "if heatmap_affinity is None:\n",
    "    heatmap_affinity = heatmap\n",
    "\n",
    "textmap = np.zeros((image_height // descale, image_width // descale)).astype('float32')\n",
    "linkmap = np.zeros((image_height // descale, image_width // descale)).astype('float32')\n",
    "\n",
    "src = np.array([[0, 0], [heatmap.shape[1], 0], [heatmap.shape[1], heatmap.shape[0]], [0, heatmap.shape[0]]]).astype(\n",
    "    'float32')\n",
    "\n",
    "for line in lines:\n",
    "    previous_link_points = None\n",
    "\n",
    "    for lind in range(len(line)):\n",
    "        lvals = line[lind]\n",
    "        paddx = 3\n",
    "        paddy = 1\n",
    "        x1 = lvals[0] - paddx\n",
    "        y1 = lvals[1] - paddy\n",
    "\n",
    "        x2 = lvals[2] + paddx\n",
    "        y2 = lvals[3] - paddy\n",
    "\n",
    "        x3 = lvals[4] + paddx\n",
    "        y3 = lvals[5] + paddy\n",
    "\n",
    "        x4 = lvals[6] - paddx\n",
    "        y4 = lvals[7] + paddy\n",
    "        c = lvals[8]\n",
    "\n",
    "        if c == ' ':\n",
    "            previous_link_points = None\n",
    "            continue\n",
    "\n",
    "        yc = (y4 + y1 + y3 + y2) / (2 * descale)\n",
    "        xc = (x1 + x2 + x3 + x4) / (2 * descale)\n",
    "\n",
    "        current_link_points = np.array([[(xc + (x1 + x2) / descale) / 2,\n",
    "                                         (yc + (y1 + y2) / descale) / 2],\n",
    "                                        [(xc + (x3 + x4) / descale) / 2,\n",
    "                                         (yc + (y3 + y4) / descale) / 2]]) / 2\n",
    "        character_points = np.array([[x1, y1], [x2, y2], [x3, y3], [x4, y4]]).astype('float32') / descale\n",
    "\n",
    "        # pylint: disable=unsubscriptable-object\n",
    "        if previous_link_points is not None:\n",
    "            link_points = np.array([\n",
    "                previous_link_points[0], current_link_points[0], current_link_points[1],\n",
    "                previous_link_points[1]\n",
    "            ])\n",
    "            ML = cv2.getPerspectiveTransform(\n",
    "                src=src,\n",
    "                dst=link_points.astype('float32'),\n",
    "            )\n",
    "            linkmap += cv2.warpPerspective(heatmap_affinity,\n",
    "                                           ML,\n",
    "                                           dsize=(linkmap.shape[1],\n",
    "                                                  linkmap.shape[0])).astype('float32')\n",
    "        MA = cv2.getPerspectiveTransform(\n",
    "            src=src,\n",
    "            dst=character_points,\n",
    "        )\n",
    "        textmap += cv2.warpPerspective(heatmap, MA, dsize=(textmap.shape[1], textmap.shape[0])).astype('float32')\n",
    "\n",
    "        # pylint: enable=unsubscriptable-object\n",
    "        previous_link_points = current_link_points\n",
    "\n",
    "if make_channel == False:\n",
    "    result = np.concatenate([textmap[..., np.newaxis], linkmap[..., np.newaxis]], axis=2).clip(0, 255)\n",
    "else:\n",
    "    emptymap = np.zeros(textmap.shape)\n",
    "    result = np.concatenate([textmap[..., np.newaxis], linkmap[..., np.newaxis], emptymap[..., np.newaxis]],\n",
    "                          axis=2).clip(0, 255)\n",
    "#return result\n",
    "oimg = np.array(result,dtype=np.uint8)"
   ]
  },
  {
   "cell_type": "code",
   "execution_count": null,
   "metadata": {},
   "outputs": [],
   "source": []
  },
  {
   "cell_type": "code",
   "execution_count": 39,
   "metadata": {},
   "outputs": [
    {
     "data": {
      "text/plain": [
       "<matplotlib.image.AxesImage at 0x7fcbceea7a90>"
      ]
     },
     "execution_count": 39,
     "metadata": {},
     "output_type": "execute_result"
    },
    {
     "data": {
      "image/png": "[encoded data removed]",
      "text/plain": [
       "<Figure size 432x288 with 1 Axes>"
      ]
     },
     "metadata": {
      "needs_background": "light"
     },
     "output_type": "display_data"
    }
   ],
   "source": []
  },
  {
   "cell_type": "code",
   "execution_count": 69,
   "metadata": {},
   "outputs": [
    {
     "data": {
      "text/plain": [
       "<matplotlib.image.AxesImage at 0x7fcbce5221d0>"
      ]
     },
     "execution_count": 69,
     "metadata": {},
     "output_type": "execute_result"
    },
    {
     "data": {
      "image/png": "[encoded data removed]",
      "text/plain": [
       "<Figure size 432x288 with 2 Axes>"
      ]
     },
     "metadata": {
      "needs_background": "light"
     },
     "output_type": "display_data"
    }
   ],
   "source": [
    "#heatmap, \n",
    "image_height = 128\n",
    "image_width = 256\n",
    "lines = [tline]\n",
    "#heatmap_affinity=None, \n",
    "descale=2\n",
    "make_channel=True\n",
    "\n",
    "if heatmap_affinity is None:\n",
    "    heatmap_affinity = heatmap\n",
    "\n",
    "textmap = np.zeros((image_height // descale, image_width // descale)).astype('float32')\n",
    "linkmap = np.zeros((image_height // descale, image_width // descale)).astype('float32')\n",
    "\n",
    "src = np.array([[0, 0], [heatmap.shape[1], 0], [heatmap.shape[1], heatmap.shape[0]], [0, heatmap.shape[0]]]).astype(\n",
    "    'float32')\n",
    "\n",
    "for line in lines:\n",
    "    previous_link_points = False\n",
    "\n",
    "    for lind in range(len(line)):\n",
    "        lvals = line[lind]\n",
    "        paddx = 3\n",
    "        paddy = 1\n",
    "        x1 = lvals[0] - paddx\n",
    "        y1 = lvals[1] - paddy\n",
    "\n",
    "        x2 = lvals[2] + paddx\n",
    "        y2 = lvals[3] - paddy\n",
    "\n",
    "        x3 = lvals[4] + paddx\n",
    "        y3 = lvals[5] + paddy\n",
    "\n",
    "        x4 = lvals[6] - paddx\n",
    "        y4 = lvals[7] + paddy\n",
    "        c = lvals[8]\n",
    "        \n",
    "        if previous_link_points is False:\n",
    "            rx1 = x1\n",
    "            rx2 = x2\n",
    "            rx3 = x3\n",
    "            rx4 = x4\n",
    "            ry1 = y1\n",
    "            ry2 = y2\n",
    "            ry3 = y3\n",
    "            ry4 = y4\n",
    "        \n",
    "        rx1 = np.min([x1, rx1])\n",
    "        ry1 = np.min([y1, ry1])\n",
    "        \n",
    "        rx2 = np.max([x2, rx2])\n",
    "        ry2 = np.min([y2, ry2])\n",
    "        \n",
    "        rx3 = np.max([x3, rx3])\n",
    "        ry3 = np.max([y3, ry3])\n",
    "        \n",
    "        rx4 = np.min([x4, rx4])\n",
    "        ry4 = np.max([y4, ry4])\n",
    "\n",
    "        if c == ' ' and previous_link_points == True:\n",
    "            previous_link_points = False\n",
    "            character_points = np.array([[rx1, ry1], [rx2, ry2], [rx3, ry3], [rx4, ry4]]).astype('float32') / descale\n",
    "\n",
    "            MA = cv2.getPerspectiveTransform(\n",
    "                src=src,\n",
    "                dst=character_points,\n",
    "            )\n",
    "\n",
    "            textmap += cv2.warpPerspective(heatmap, MA, dsize=(textmap.shape[1], textmap.shape[0])).astype('float32')\n",
    "\n",
    "            continue\n",
    "        previous_link_points = True\n",
    "\n",
    "emptymap = np.zeros(textmap.shape)\n",
    "result = np.concatenate([emptymap[..., np.newaxis], textmap[..., np.newaxis], emptymap[..., np.newaxis]],\n",
    "                      axis=2).clip(0, 255)\n",
    "#return result\n",
    "plt.subplot(2,1,1)\n",
    "plt.imshow(oimg)\n",
    "plt.subplot(2,1,2)\n",
    "plt.imshow(np.array(result,dtype=np.uint8))"
   ]
  }
 ],
 "metadata": {
  "kernelspec": {
   "display_name": "dl",
   "language": "python",
   "name": "dl"
  },
  "language_info": {
   "codemirror_mode": {
    "name": "ipython",
    "version": 3
   },
   "file_extension": ".py",
   "mimetype": "text/x-python",
   "name": "python",
   "nbconvert_exporter": "python",
   "pygments_lexer": "ipython3",
   "version": "3.6.10"
  }
 },
 "nbformat": 4,
 "nbformat_minor": 4
}
