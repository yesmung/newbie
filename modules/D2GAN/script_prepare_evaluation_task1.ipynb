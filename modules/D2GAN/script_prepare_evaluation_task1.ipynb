{
 "cells": [
  {
   "cell_type": "code",
   "execution_count": 13,
   "metadata": {},
   "outputs": [
    {
     "name": "stdout",
     "output_type": "stream",
     "text": [
      "['database', 'mlflow', 'font']\n",
      "/media/myungsungkwak/msdisk/docrv2_sroie/modules/database/\n",
      "/media/myungsungkwak/msdisk/docrv2_data/DB/\n"
     ]
    }
   ],
   "source": [
    "import os\n",
    "from configparser import ConfigParser\n",
    "path_config_file = os.getcwd().split('docrv2_sroie')[0] + 'docrv2_sroie/' + 'config.ini'\n",
    "common_variable = ConfigParser()\n",
    "common_variable.read(path_config_file)\n",
    "\n",
    "print(common_variable.sections())\n",
    "print(common_variable['database']['module_path'])\n",
    "print(common_variable['database']['DB_BASE'])\n",
    "\n",
    "import sys\n",
    "sys.path.append(common_variable['database']['module_path'])\n",
    "from db_util import *\n",
    "from db import *\n",
    "\n",
    "import tensorflow\n",
    "import numpy as np\n",
    "import pandas as pd\n",
    "import matplotlib.pyplot as plt\n",
    "import shutil\n",
    "import time\n",
    "\n",
    "from parse import parse\n",
    "from PIL import Image, ImageFont, ImageDraw, ImageEnhance\n",
    "from glob import glob\n",
    "from tqdm import tqdm_notebook"
   ]
  },
  {
   "cell_type": "code",
   "execution_count": 6,
   "metadata": {},
   "outputs": [],
   "source": [
    "\"\"\"\n",
    "Evalution (1)\n",
    "\"\"\"\n",
    "# raw db\n",
    "raw_data_db_path = '/media/myungsungkwak/msdisk/docrv2_data/DB/raw_test_task12_img_txt_0001'\n",
    "datadb = open_env(path=raw_data_db_path)\n",
    "img_ref = read_bulk_data_from_db(datadb, prefix='ref')\n",
    "\n",
    "# target db\n",
    "target_db_name = \"d2gan_inference_crop_0003_result_thr04\"\n",
    "target_db_path = os.path.join(common_variable['database']['DB_BASE'], target_db_name)\n",
    "target_db = open_env(path=target_db_path)\n",
    "\n",
    "img = read_bulk_data_from_db(target_db, prefix='img')\n",
    "# img_c = read_bulk_data_from_db(datadb, prefix='img_c')\n",
    "char_c = read_bulk_data_from_db(datadb, prefix='char_c')\n",
    "# word_c = read_bulk_data_from_db(datadb, prefix='word_c')"
   ]
  },
  {
   "cell_type": "code",
   "execution_count": 7,
   "metadata": {},
   "outputs": [
    {
     "name": "stderr",
     "output_type": "stream",
     "text": [
      "100%|██████████| 10/10 [00:00<00:00, 326.01it/s]\n"
     ]
    }
   ],
   "source": [
    "\"\"\"\n",
    "Evalution (2)\n",
    "\"\"\"\n",
    "output_path = '/media/myungsungkwak/msdisk/docrv2_data/d2gan_inference/'\n",
    "output_path = os.path.join(output_path, target_db_name)\n",
    "os.makedirs(output_path, exist_ok=True)\n",
    "\n",
    "# create submission txt for each images\n",
    "for idx in tqdm(range(len(img_ref))):\n",
    "    tchar = char_c[idx]\n",
    "    for ii in range(len(tchar)):\n",
    "        tchar[ii] = [float (i) for i in tchar[ii][0:8]]\n",
    "        tchar[ii] = [int (i) for i in tchar[ii][0:8]]\n",
    "    \n",
    "    txt_filename = img_ref[idx]+'.txt'\n",
    "    df = pd.DataFrame(tchar)\n",
    "    df.to_csv(os.path.join(output_path,txt_filename),sep=',',index=False,header=False)"
   ]
  },
  {
   "cell_type": "code",
   "execution_count": 31,
   "metadata": {},
   "outputs": [
    {
     "name": "stdout",
     "output_type": "stream",
     "text": [
      "Run command in /media/myungsungkwak/msdisk/docrv2_sroie/evaluation/task1/\n",
      "$ python script.py -g=gt.zip -s=submit1400.zip\n"
     ]
    }
   ],
   "source": [
    "\"\"\"\n",
    "Evaluation (3)\n",
    "\"\"\"\n",
    "zip_name = 'submit'\n",
    "shutil.make_archive(zip_name, 'zip', output_path) # to avoid including submit.zip\n",
    "\n",
    "# move submit.zip to task evaluation path\n",
    "eval_path = '/media/myungsungkwak/msdisk/docrv2_sroie/evaluation/task1/'\n",
    "try:\n",
    "    shutil.move(os.path.join(os.getcwd(), zip_name+\".zip\"), eval_path) # move zip to output dir\n",
    "except:\n",
    "    now = time.localtime()\n",
    "    change_zip_name = zip_name+\"{}{}{}\".format(str(now.tm_hour), str(now.tm_min), str(now.tm_sec))\n",
    "    os.rename(os.path.join(os.getcwd(), zip_name+\".zip\"),\n",
    "              os.path.join(os.getcwd(), change_zip_name+'.zip')\n",
    "             )\n",
    "    zip_name = change_zip_name\n",
    "    shutil.move(os.path.join(os.getcwd(), zip_name+\".zip\"), eval_path) # move zip to output dir\n",
    "\n",
    "# copy gt.zip to task evaluation path\n",
    "gt_path = '/media/myungsungkwak/msdisk/docrv2_data/d2gan_inference/gt/'\n",
    "gt_name = \"gt.zip\"\n",
    "shutil.copy(gt_path+gt_name, eval_path)\n",
    "\n",
    "print(\"Run command in {}\\n$ python script.py -g=gt.zip -s={}.zip\".format(eval_path, zip_name))"
   ]
  },
  {
   "cell_type": "code",
   "execution_count": null,
   "metadata": {},
   "outputs": [],
   "source": []
  }
 ],
 "metadata": {
  "kernelspec": {
   "display_name": "Python [conda env:dl] *",
   "language": "python",
   "name": "conda-env-dl-py"
  },
  "language_info": {
   "codemirror_mode": {
    "name": "ipython",
    "version": 3
   },
   "file_extension": ".py",
   "mimetype": "text/x-python",
   "name": "python",
   "nbconvert_exporter": "python",
   "pygments_lexer": "ipython3",
   "version": "3.6.10"
  }
 },
 "nbformat": 4,
 "nbformat_minor": 4
}
