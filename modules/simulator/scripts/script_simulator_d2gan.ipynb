{
 "cells": [
  {
   "cell_type": "code",
   "execution_count": 8,
   "metadata": {},
   "outputs": [],
   "source": [
    "# import lib\n",
    "import os\n",
    "from PIL import Image, ImageDraw, ImageFont, ImageTransform\n",
    "import matplotlib.pyplot as plt\n",
    "import numpy as np\n",
    "import pandas as pd\n",
    "import pickle\n",
    "from tqdm import tqdm\n",
    "from glob import glob\n",
    "import sys\n",
    "sys.path.append('/home/dk/docr2/modules/database')\n",
    "from db_util import *\n",
    "from db import *\n",
    "from random import choice"
   ]
  },
  {
   "cell_type": "code",
   "execution_count": 2,
   "metadata": {},
   "outputs": [],
   "source": [
    "# set simulator data\n",
    "fontdir = '../../../data/font/*.ttf'\n",
    "fontpath = glob(fontdir)\n",
    "textdata = pd.read_csv('../../../data/textdata.csv',sep=',',header=None)\n",
    "textdata = list(textdata.values)"
   ]
  },
  {
   "cell_type": "code",
   "execution_count": 3,
   "metadata": {},
   "outputs": [],
   "source": [
    "# set simulator parameter\n",
    "imageSize = (256, 128)\n",
    "fontsSize = (10,30)"
   ]
  },
  {
   "cell_type": "code",
   "execution_count": 12,
   "metadata": {},
   "outputs": [],
   "source": [
    "# some generators\n",
    "def fontGenerator(fontpath, fontsSize):\n",
    "    while True:\n",
    "        fontselection = np.random.randint(0,len(fontpath),1)[0]\n",
    "        fontsize = np.random.randint(fontsSize[0],fontsSize[1],1)[0]\n",
    "        yield ImageFont.truetype(fontpath[fontselection], fontsize)\n",
    "fontgen = fontGenerator(fontpath, fontsSize)\n",
    "\n",
    "def randcapitalize(text):\n",
    "    return ''.join(choice((str.upper, str.lower))(c) for c in text)\n",
    "\n",
    "def textGenerator(textdata):\n",
    "    while True:\n",
    "        textselection = np.random.randint(0,len(textdata),1)[0]\n",
    "        randchoice = np.random.randint(0,10,1)[0]\n",
    "        if randchoice <= 2:\n",
    "            yield str(textdata[textselection]) \n",
    "        elif randchoice > 2 and randchoice < 8:\n",
    "            yield str(textdata[textselection]).lower()\n",
    "        else:\n",
    "            yield randcapitalize(str(textdata[textselection]))\n",
    "textgen = textGenerator(textdata[0])\n",
    "\n",
    "def locGenerator(imageSize):\n",
    "    while True:\n",
    "        x = np.random.randint(imageSize[0]//8,imageSize[0]//4,1)[0]\n",
    "        y = np.random.randint(imageSize[1]//8,imageSize[1]//4,1)[0]\n",
    "        yield [x,y]\n",
    "locgen = locGenerator(imageSize)\n",
    "\n",
    "def textcoordinates(font, text, loc):\n",
    "    char_table = pd.DataFrame({'x1':[], 'y1':[], 'x2':[], 'y2':[], 'x3':[], 'y3':[],\n",
    "                                     'x4':[], 'y4':[], 'char':[]})\n",
    "    for i, char in enumerate(text):\n",
    "        b1 = font.getsize('A')[1]\n",
    "        r, b2 = font.getsize(text[:i+1])\n",
    "        b = b1 if b1 < b2 else b2\n",
    "        w, _ = font.getmask(char).size\n",
    "        _, h = font.getmask('A').size\n",
    "        r += loc[0]\n",
    "        b += loc[1]\n",
    "        t = b - h\n",
    "        l = r - w\n",
    "        right = int(np.round(r))\n",
    "        bottom = int(np.round(b))\n",
    "        top = int(np.round(t))\n",
    "        left = int(np.round(l))\n",
    "        if i == 0:\n",
    "            char_data = pd.DataFrame({'x1':[left-2], 'y1':[top], \n",
    "                                     'x2':[left-2], 'y2':[top],\n",
    "                                     'x3':[left-2], 'y3':[bottom],\n",
    "                                     'x4':[left-2], 'y4':[bottom], 'char':' '})\n",
    "            char_table = char_table.append(char_data, ignore_index=True)\n",
    "        if text[i] != ' ':\n",
    "            char_data = pd.DataFrame({'x1':[left], 'y1':[top], \n",
    "                                     'x2':[right], 'y2':[top],\n",
    "                                     'x3':[right], 'y3':[bottom],\n",
    "                                     'x4':[left], 'y4':[bottom], 'char':text[i]})\n",
    "            char_table = char_table.append(char_data, ignore_index=True)\n",
    "        if i == len(text)-1:\n",
    "            char_data = pd.DataFrame({'x1':[right+2], 'y1':[top], \n",
    "                                     'x2':[right+2], 'y2':[top],\n",
    "                                     'x3':[right+2], 'y3':[bottom],\n",
    "                                     'x4':[left+2], 'y4':[bottom], 'char':' '})\n",
    "            char_table = char_table.append(char_data, ignore_index=True)\n",
    "            \n",
    "        char_table.x1 = char_table.x1.astype(int)\n",
    "        char_table.y1 = char_table.y1.astype(int)\n",
    "        char_table.x2 = char_table.x2.astype(int)\n",
    "        char_table.y2 = char_table.y2.astype(int)\n",
    "        char_table.x3 = char_table.x3.astype(int)\n",
    "        char_table.y3 = char_table.y3.astype(int)\n",
    "        char_table.x4 = char_table.x4.astype(int)\n",
    "        char_table.y4 = char_table.y4.astype(int)\n",
    "    return char_table\n",
    "\n",
    "def create_image():\n",
    "    # create image\n",
    "    img = Image.new('RGB', imageSize, color='White')\n",
    "    draw = ImageDraw.Draw(img)\n",
    "    # first text\n",
    "    font = next(fontgen)\n",
    "    text = next(textgen)\n",
    "    loc = next(locgen)\n",
    "    draw.text(loc, text, fill=(0,0,0), font=font)\n",
    "    tb = textcoordinates(font, text, loc)\n",
    "\n",
    "    # second text\n",
    "    loc[1] = tb['y4'].values[-1]+10\n",
    "    font = next(fontgen)\n",
    "    text = next(textgen)\n",
    "    draw.text(loc, text, fill=(0,0,0), font=font)\n",
    "    tb = tb.append(textcoordinates(font, text, loc))\n",
    "    \n",
    "    return img, tb\n"
   ]
  },
  {
   "cell_type": "code",
   "execution_count": 13,
   "metadata": {},
   "outputs": [
    {
     "name": "stderr",
     "output_type": "stream",
     "text": [
      "100%|██████████| 100/100 [00:04<00:00, 24.77it/s]\n"
     ]
    }
   ],
   "source": [
    "path = '/home/dk/docr2/DB/'\n",
    "name = 'd2gan_test_1'\n",
    "label = 'd2gan'\n",
    "numImage = 100\n",
    "cache = {}\n",
    "\n",
    "db_data = create_data_db(path=path, name=name, description='datadb_d2gan',data_class=label)\n",
    "db_data_db = db_data.open_db(b'db_data')\n",
    "for idx in tqdm(range(numImage)):\n",
    "    img, tb = create_image()\n",
    "    cache = update_cache(cache, index=idx, label=label, ref=label, char_c=tb, image=img)\n",
    "    if idx % 5000 == 0:\n",
    "        write_cache_to_db(db_data, db_data_db, cache)\n",
    "        cache = {}\n",
    "        \n",
    "write_cache_to_db(db_data, db_data_db, cache)\n",
    "cache = {}"
   ]
  },
  {
   "cell_type": "code",
   "execution_count": null,
   "metadata": {},
   "outputs": [],
   "source": []
  },
  {
   "cell_type": "code",
   "execution_count": 4,
   "metadata": {},
   "outputs": [],
   "source": []
  },
  {
   "cell_type": "code",
   "execution_count": null,
   "metadata": {},
   "outputs": [],
   "source": []
  }
 ],
 "metadata": {
  "kernelspec": {
   "display_name": "dl",
   "language": "python",
   "name": "dl"
  },
  "language_info": {
   "codemirror_mode": {
    "name": "ipython",
    "version": 3
   },
   "file_extension": ".py",
   "mimetype": "text/x-python",
   "name": "python",
   "nbconvert_exporter": "python",
   "pygments_lexer": "ipython3",
   "version": "3.6.10"
  }
 },
 "nbformat": 4,
 "nbformat_minor": 4
}
