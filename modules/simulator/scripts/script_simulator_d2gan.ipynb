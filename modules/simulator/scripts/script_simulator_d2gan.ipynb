{
 "cells": [
  {
   "cell_type": "code",
   "execution_count": 2,
   "metadata": {},
   "outputs": [],
   "source": [
    "# import lib\n",
    "import os\n",
    "from PIL import Image, ImageDraw, ImageFont, ImageTransform\n",
    "import matplotlib.pyplot as plt\n",
    "import numpy as np\n",
    "import pandas as pd\n",
    "import pickle\n",
    "from tqdm import tqdm\n",
    "from glob import glob\n",
    "import sys\n",
    "sys.path.append('../../database')\n",
    "from db_util import *\n",
    "from db import *"
   ]
  },
  {
   "cell_type": "code",
   "execution_count": 3,
   "metadata": {},
   "outputs": [],
   "source": [
    "# set simulator data\n",
    "fontdir = '../../../data/font/*.ttf'\n",
    "fontpath = glob(fontdir)\n",
    "textdata = pd.read_csv('../../../data/textdata.csv',sep=',',header=None)\n",
    "textdata = list(textdata.values)"
   ]
  },
  {
   "cell_type": "code",
   "execution_count": 4,
   "metadata": {},
   "outputs": [],
   "source": [
    "# set simulator parameter\n",
    "imageSize = (256, 128)\n",
    "fontsSize = (10,30)"
   ]
  },
  {
   "cell_type": "code",
   "execution_count": 5,
   "metadata": {},
   "outputs": [],
   "source": [
    "# some generators\n",
    "def fontGenerator(fontpath, fontsSize):\n",
    "    while True:\n",
    "        fontselection = np.random.randint(0,len(fontpath),1)[0]\n",
    "        fontsize = np.random.randint(fontsSize[0],fontsSize[1],1)[0]\n",
    "        yield ImageFont.truetype(fontpath[fontselection], fontsize)\n",
    "fontgen = fontGenerator(fontpath, fontsSize)\n",
    "\n",
    "def textGenerator(textdata):\n",
    "    while True:\n",
    "        textselection = np.random.randint(0,len(textdata),1)[0]\n",
    "        yield str(textdata[textselection])       \n",
    "textgen = textGenerator(textdata[0])\n",
    "\n",
    "def locGenerator(imageSize):\n",
    "    while True:\n",
    "        x = np.random.randint(imageSize[0]//8,imageSize[0]//4,1)[0]\n",
    "        y = np.random.randint(imageSize[1]//8,imageSize[1]//4,1)[0]\n",
    "        yield [x,y]\n",
    "locgen = locGenerator(imageSize)\n",
    "\n",
    "def textcoordinates(font, text, loc):\n",
    "    char_table = pd.DataFrame({'x1':[], 'y1':[], 'x2':[], 'y2':[], 'x3':[], 'y3':[],\n",
    "                                     'x4':[], 'y4':[], 'char':[]})\n",
    "    for i, char in enumerate(text):\n",
    "        b1 = font.getsize('A')[1]\n",
    "        r, b2 = font.getsize(text[:i+1])\n",
    "        b = b1 if b1 < b2 else b2\n",
    "        w, _ = font.getmask(char).size\n",
    "        _, h = font.getmask('A').size\n",
    "        r += loc[0]\n",
    "        b += loc[1]\n",
    "        t = b - h\n",
    "        l = r - w\n",
    "        right = int(np.round(r))\n",
    "        bottom = int(np.round(b))\n",
    "        top = int(np.round(t))\n",
    "        left = int(np.round(l))\n",
    "        if i == 0:\n",
    "            char_data = pd.DataFrame({'x1':[left-2], 'y1':[top], \n",
    "                                     'x2':[left-2], 'y2':[top],\n",
    "                                     'x3':[left-2], 'y3':[bottom],\n",
    "                                     'x4':[left-2], 'y4':[bottom], 'char':' '})\n",
    "            char_table = char_table.append(char_data, ignore_index=True)\n",
    "        if text[i] != ' ':\n",
    "            char_data = pd.DataFrame({'x1':[left], 'y1':[top], \n",
    "                                     'x2':[right], 'y2':[top],\n",
    "                                     'x3':[right], 'y3':[bottom],\n",
    "                                     'x4':[left], 'y4':[bottom], 'char':text[i]})\n",
    "            char_table = char_table.append(char_data, ignore_index=True)\n",
    "        if i == len(text)-1:\n",
    "            char_data = pd.DataFrame({'x1':[right+2], 'y1':[top], \n",
    "                                     'x2':[right+2], 'y2':[top],\n",
    "                                     'x3':[right+2], 'y3':[bottom],\n",
    "                                     'x4':[left+2], 'y4':[bottom], 'char':' '})\n",
    "            char_table = char_table.append(char_data, ignore_index=True)\n",
    "            \n",
    "    return char_table\n",
    "\n",
    "def create_image():\n",
    "    # create image\n",
    "    img = Image.new('RGB', imageSize, color='White')\n",
    "    draw = ImageDraw.Draw(img)\n",
    "    # first text\n",
    "    font = next(fontgen)\n",
    "    text = next(textgen)\n",
    "    loc = next(locgen)\n",
    "    draw.text(loc, text, fill=(0,0,0), font=font)\n",
    "    tb = textcoordinates(font, text, loc)\n",
    "\n",
    "    # second text\n",
    "    loc[1] = tb['y4'].values[-1]+10\n",
    "    font = next(fontgen)\n",
    "    text = next(textgen)\n",
    "    draw.text(loc, text, fill=(0,0,0), font=font)\n",
    "    tb = tb.append(textcoordinates(font, text, loc))\n",
    "    \n",
    "    return img, tb\n",
    "\n",
    "\"\"\"\n",
    "for x1,y1,_,_,x3,y3,_,_,_ in tb.values:\n",
    "    draw.rectangle((x1,y1,x3,y3),None,'#f00')\n",
    "display(tb)\n",
    "img\n",
    "\"\"\""
   ]
  },
  {
   "cell_type": "code",
   "execution_count": 7,
   "metadata": {},
   "outputs": [
    {
     "name": "stderr",
     "output_type": "stream",
     "text": [
      "100%|██████████| 100/100 [00:03<00:00, 30.01it/s]\n"
     ]
    }
   ],
   "source": [
    "path = '/home/dk/docr2/DB/'\n",
    "name = 'd2gan_train_1'\n",
    "label = 'd2gan'\n",
    "numImage = 100\n",
    "db_data = create_data_db(path=path, name=name, description='datadb_d2gan',data_class=label)\n",
    "for idx in tqdm(range(numImage)):\n",
    "    img, tb = create_image()\n",
    "    update_data(db_data, index=idx, label=label, ref=label, char_c=tb, image=img)"
   ]
  },
  {
   "cell_type": "code",
   "execution_count": 11,
   "metadata": {},
   "outputs": [
    {
     "data": {
      "text/plain": [
       "[['31.0', '24.0', '31.0', '24.0', '31.0', '34.0', '31.0', '34.0', ' '],\n",
       " ['33.0', '24.0', '42.0', '24.0', '42.0', '34.0', '33.0', '34.0', 'R'],\n",
       " ['42.0', '24.0', '50.0', '24.0', '50.0', '34.0', '42.0', '34.0', 'E'],\n",
       " ['50.0', '24.0', '59.0', '24.0', '59.0', '34.0', '50.0', '34.0', 'C'],\n",
       " ['59.0', '24.0', '67.0', '24.0', '67.0', '34.0', '59.0', '34.0', 'E'],\n",
       " ['67.0', '24.0', '71.0', '24.0', '71.0', '34.0', '67.0', '34.0', 'I'],\n",
       " ['71.0', '24.0', '79.0', '24.0', '79.0', '34.0', '71.0', '34.0', 'P'],\n",
       " ['79.0', '24.0', '87.0', '24.0', '87.0', '34.0', '79.0', '34.0', 'T'],\n",
       " ['89.0', '24.0', '89.0', '24.0', '89.0', '34.0', '81.0', '34.0', ' '],\n",
       " ['31.0', '49.0', '31.0', '49.0', '31.0', '58.0', '31.0', '58.0', ' '],\n",
       " ['33.0', '49.0', '41.0', '49.0', '41.0', '58.0', '33.0', '58.0', 'L'],\n",
       " ['41.0', '49.0', '49.0', '49.0', '49.0', '58.0', '41.0', '58.0', 'O'],\n",
       " ['49.0', '49.0', '57.0', '49.0', '57.0', '58.0', '49.0', '58.0', 'T'],\n",
       " ['59.0', '49.0', '59.0', '49.0', '59.0', '58.0', '51.0', '58.0', ' ']]"
      ]
     },
     "execution_count": 11,
     "metadata": {},
     "output_type": "execute_result"
    }
   ],
   "source": []
  },
  {
   "cell_type": "code",
   "execution_count": null,
   "metadata": {},
   "outputs": [],
   "source": []
  }
 ],
 "metadata": {
  "kernelspec": {
   "display_name": "dl",
   "language": "python",
   "name": "dl"
  },
  "language_info": {
   "codemirror_mode": {
    "name": "ipython",
    "version": 3
   },
   "file_extension": ".py",
   "mimetype": "text/x-python",
   "name": "python",
   "nbconvert_exporter": "python",
   "pygments_lexer": "ipython3",
   "version": "3.6.10"
  }
 },
 "nbformat": 4,
 "nbformat_minor": 4
}
