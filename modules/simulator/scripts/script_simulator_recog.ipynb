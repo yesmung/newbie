{
 "cells": [
  {
   "cell_type": "code",
   "execution_count": 1,
   "metadata": {},
   "outputs": [],
   "source": [
    "# import lib\n",
    "import os\n",
    "from PIL import Image, ImageDraw, ImageFont, ImageTransform\n",
    "import matplotlib.pyplot as plt\n",
    "import numpy as np\n",
    "import pandas as pd\n",
    "import pickle\n",
    "from tqdm import tqdm\n",
    "from glob import glob\n",
    "import sys\n",
    "sys.path.append('../../database')\n",
    "from db_util import *\n",
    "from db import *"
   ]
  },
  {
   "cell_type": "code",
   "execution_count": 2,
   "metadata": {},
   "outputs": [],
   "source": [
    "# set simulator data\n",
    "fontdir = '../../../data/font/*.ttf'\n",
    "fontpath = glob(fontdir)\n",
    "textdata = pd.read_csv('../../../data/textdata.csv',sep=',',header=None)\n",
    "textdata = list(textdata.values)"
   ]
  },
  {
   "cell_type": "code",
   "execution_count": 98,
   "metadata": {},
   "outputs": [],
   "source": [
    "# set simulator parameter\n",
    "imageSize = (256*4, 128)\n",
    "fontsSize = (10,30)"
   ]
  },
  {
   "cell_type": "code",
   "execution_count": 99,
   "metadata": {},
   "outputs": [
    {
     "data": {
      "text/plain": [
       "\"\\nfor x1,y1,_,_,x3,y3,_,_,_ in tb.values:\\n    draw.rectangle((x1,y1,x3,y3),None,'#f00')\\ndisplay(tb)\\nimg\\n\""
      ]
     },
     "execution_count": 99,
     "metadata": {},
     "output_type": "execute_result"
    }
   ],
   "source": [
    "# some generators\n",
    "def fontGenerator(fontpath, fontsSize):\n",
    "    while True:\n",
    "        fontselection = np.random.randint(0,len(fontpath),1)[0]\n",
    "        fontsize = np.random.randint(fontsSize[0],fontsSize[1],1)[0]\n",
    "        yield ImageFont.truetype(fontpath[fontselection], fontsize)\n",
    "fontgen = fontGenerator(fontpath, fontsSize)\n",
    "\n",
    "def textGenerator(textdata):\n",
    "    while True:\n",
    "        textselection = np.random.randint(0,len(textdata),1)[0]\n",
    "        yield str(textdata[textselection])       \n",
    "textgen = textGenerator(textdata[0])\n",
    "\n",
    "def locGenerator(imageSize):\n",
    "    while True:\n",
    "        x = np.random.randint(imageSize[0]//8,imageSize[0]//4,1)[0]\n",
    "        y = np.random.randint(imageSize[1]//8,imageSize[1]//4,1)[0]\n",
    "        yield [x,y]\n",
    "locgen = locGenerator(imageSize)\n",
    "\n",
    "def textcoordinates(font, text, loc):\n",
    "    char_table = pd.DataFrame({'x1':[], 'y1':[], 'x2':[], 'y2':[], 'x3':[], 'y3':[],\n",
    "                                     'x4':[], 'y4':[], 'char':[]})\n",
    "    for i, char in enumerate(text):\n",
    "        b1 = font.getsize('A')[1]\n",
    "        r, b2 = font.getsize(text[:i+1])\n",
    "        b = b1 if b1 < b2 else b2\n",
    "        w, _ = font.getmask(char).size\n",
    "        _, h = font.getmask('A').size\n",
    "        r += loc[0]\n",
    "        b += loc[1]\n",
    "        t = b - h\n",
    "        l = r - w\n",
    "        right = int(np.round(r))\n",
    "        bottom = int(np.round(b))\n",
    "        top = int(np.round(t))\n",
    "        left = int(np.round(l))\n",
    "        if i == 0:\n",
    "            char_data = pd.DataFrame({'x1':[left-2], 'y1':[top], \n",
    "                                     'x2':[left-2], 'y2':[top],\n",
    "                                     'x3':[left-2], 'y3':[bottom],\n",
    "                                     'x4':[left-2], 'y4':[bottom], 'char':' '})\n",
    "            char_table = char_table.append(char_data, ignore_index=True)\n",
    "        if text[i] != ' ':\n",
    "            char_data = pd.DataFrame({'x1':[left], 'y1':[top], \n",
    "                                     'x2':[right], 'y2':[top],\n",
    "                                     'x3':[right], 'y3':[bottom],\n",
    "                                     'x4':[left], 'y4':[bottom], 'char':text[i]})\n",
    "            char_table = char_table.append(char_data, ignore_index=True)\n",
    "        if i == len(text)-1:\n",
    "            char_data = pd.DataFrame({'x1':[right+2], 'y1':[top], \n",
    "                                     'x2':[right+2], 'y2':[top],\n",
    "                                     'x3':[right+2], 'y3':[bottom],\n",
    "                                     'x4':[left+2], 'y4':[bottom], 'char':' '})\n",
    "            char_table = char_table.append(char_data, ignore_index=True)\n",
    "            \n",
    "    return char_table\n",
    "\n",
    "def create_image():\n",
    "    # create image\n",
    "    img = Image.new('RGB', imageSize, color='White')\n",
    "    draw = ImageDraw.Draw(img)\n",
    "    \n",
    "    # first text\n",
    "    font = next(fontgen)\n",
    "    text = next(textgen)\n",
    "    loc = [10, 64]\n",
    "    draw.text(loc, text, fill=(0,0,0), font=font)\n",
    "    tb = textcoordinates(font, text, loc)\n",
    "    cr = [min(tb['x1']),min(tb['y1'])]-np.random.randint(2,6,2)\n",
    "    cr = np.append(cr, [max(tb['x3']),max(tb['y3'])]+np.random.randint(2,6,2))\n",
    "    img = img.crop(cr)\n",
    "    return img, text"
   ]
  },
  {
   "cell_type": "code",
   "execution_count": 189,
   "metadata": {},
   "outputs": [
    {
     "name": "stderr",
     "output_type": "stream",
     "text": [
      "\n",
      "  0%|          | 0/100 [00:00<?, ?it/s]\u001b[A\n",
      "  5%|▌         | 5/100 [00:00<00:02, 46.53it/s]\u001b[A\n",
      " 13%|█▎        | 13/100 [00:00<00:01, 52.62it/s]\u001b[A\n",
      " 22%|██▏       | 22/100 [00:00<00:01, 59.57it/s]\u001b[A\n",
      " 29%|██▉       | 29/100 [00:00<00:01, 60.50it/s]\u001b[A\n",
      " 35%|███▌      | 35/100 [00:00<00:01, 56.45it/s]\u001b[A\n",
      " 43%|████▎     | 43/100 [00:00<00:00, 58.13it/s]\u001b[A\n",
      " 49%|████▉     | 49/100 [00:00<00:00, 53.04it/s]\u001b[A\n",
      " 55%|█████▌    | 55/100 [00:00<00:00, 52.69it/s]\u001b[A\n",
      " 61%|██████    | 61/100 [00:01<00:00, 44.81it/s]\u001b[A\n",
      " 67%|██████▋   | 67/100 [00:01<00:00, 46.72it/s]\u001b[A\n",
      " 72%|███████▏  | 72/100 [00:01<00:00, 45.47it/s]\u001b[A\n",
      " 77%|███████▋  | 77/100 [00:01<00:00, 45.14it/s]\u001b[A\n",
      " 83%|████████▎ | 83/100 [00:01<00:00, 47.56it/s]\u001b[A\n",
      " 90%|█████████ | 90/100 [00:01<00:00, 51.69it/s]\u001b[A\n",
      "100%|██████████| 100/100 [00:01<00:00, 53.60it/s][A\n"
     ]
    }
   ],
   "source": [
    "path = '/home/dk/docr2/DB/'\n",
    "name = 'recog_test_1'\n",
    "label = 'recog'\n",
    "numImage = 100\n",
    "db_data = create_data_db(path=path, name=name, description='datadb_recog',data_class=label)\n",
    "for idx in tqdm(range(numImage)):\n",
    "    img, txt = create_image()\n",
    "    update_data(db_data, index=idx, label=label, ref=label, text=txt, image=img)"
   ]
  }
 ],
 "metadata": {
  "kernelspec": {
   "display_name": "dl",
   "language": "python",
   "name": "dl"
  },
  "language_info": {
   "codemirror_mode": {
    "name": "ipython",
    "version": 3
   },
   "file_extension": ".py",
   "mimetype": "text/x-python",
   "name": "python",
   "nbconvert_exporter": "python",
   "pygments_lexer": "ipython3",
   "version": "3.6.10"
  }
 },
 "nbformat": 4,
 "nbformat_minor": 4
}
