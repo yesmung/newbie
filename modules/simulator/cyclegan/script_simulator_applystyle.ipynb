{
 "cells": [
  {
   "cell_type": "code",
   "execution_count": 1,
   "metadata": {},
   "outputs": [
    {
     "name": "stdout",
     "output_type": "stream",
     "text": [
      "['database', 'mlflow', 'font']\n",
      "/home/dk/docrv2_sroie/modules/database/\n",
      "['database', 'mlflow', 'font']\n",
      "/home/dk/docrv2_sroie/modules/database/\n"
     ]
    },
    {
     "name": "stderr",
     "output_type": "stream",
     "text": [
      "Using TensorFlow backend.\n"
     ]
    }
   ],
   "source": [
    "\n",
    "import cv2\n",
    "from PIL import Image, ImageDraw, ImageFont, ImageTransform\n",
    "import matplotlib.pyplot as plt\n",
    "import numpy as np\n",
    "import pandas as pd\n",
    "import pickle\n",
    "from tqdm import tqdm\n",
    "from glob import glob\n",
    "import sys\n",
    "\n",
    "import os\n",
    "from configparser import ConfigParser\n",
    "path_config_file = os.getcwd().split('docrv2_sroie')[0] + 'docrv2_sroie/' + 'config.ini'\n",
    "common_variable = ConfigParser()\n",
    "common_variable.read(path_config_file)\n",
    "print(common_variable.sections())\n",
    "print(common_variable['database']['module_path'])\n",
    "sys.path.append(common_variable['database']['module_path'])\n",
    "from db_util import *\n",
    "from db import *\n",
    "from random import choice\n",
    "from cyclegan import CycleGAN\n",
    "import tensorflow as tf"
   ]
  },
  {
   "cell_type": "code",
   "execution_count": 7,
   "metadata": {},
   "outputs": [
    {
     "data": {
      "text/plain": [
       "'style_real_00020_A'"
      ]
     },
     "execution_count": 7,
     "metadata": {},
     "output_type": "execute_result"
    }
   ],
   "source": []
  },
  {
   "cell_type": "code",
   "execution_count": 8,
   "metadata": {},
   "outputs": [],
   "source": [
    "# set simulator parameter\n",
    "modeldir = '/home/dk/docrv2_sroie/modules/simulator/cyclegan/models/'\n",
    "modelpath = glob(modeldir+'*_BA.h5')\n",
    "modelpath.append('None')\n",
    "def load_model(path):\n",
    "    if path is not 'None':\n",
    "        gan = CycleGAN(dataset_name='inference')\n",
    "        gan.g_AB.load_weights(path)\n",
    "        return gan\n",
    "    else:\n",
    "        return 'None'\n",
    "\n",
    "def break_model(gan):\n",
    "    if gan is not 'None':\n",
    "        tf.keras.backend.clear_session()\n",
    "        del gan\n",
    "\n",
    "def inference_batch(gan, batch):\n",
    "    if gan is not 'None':\n",
    "        batch = np.array(batch)/127.5-1.\n",
    "        batch = gan.g_AB.predict(batch)\n",
    "        batch = 0.5*batch+0.5\n",
    "        batch = np.uint8(batch*255)\n",
    "    return batch"
   ]
  },
  {
   "cell_type": "code",
   "execution_count": 56,
   "metadata": {},
   "outputs": [],
   "source": [
    "# apply cycleGAN later here\n",
    "path = '/home/dk/docrv2_sroie/DB/'\n",
    "name = 'denoise_train_100000_nostyle'\n",
    "db_data = open_env(path+name)\n",
    "img_raw = read_bulk_data_from_db(db_data,'img')\n",
    "imgs = []\n",
    "for idx in range(0,len(img_raw),2):\n",
    "    imgs.append(img_raw[idx])\n"
   ]
  },
  {
   "cell_type": "code",
   "execution_count": 4,
   "metadata": {},
   "outputs": [],
   "source": [
    "# some generator\n",
    "def make_batch_image(imgs, batch_size):\n",
    "    numImages = len(imgs)\n",
    "    numbatch = int(np.ceil(numImages/batch_size))\n",
    "    imgsize = imgs[0].size\n",
    "\n",
    "    batchImages = np.zeros((batch_size,imgsize[1],imgsize[0],3), dtype=np.uint8)\n",
    "    bidx = 0\n",
    "    for img in imgs:\n",
    "        if bidx == batch_size:\n",
    "            batchImages = np.zeros((batch_size,imgsize[1],imgsize[0],3), dtype=np.uint8)\n",
    "            bidx = 0\n",
    "        batchImages[bidx,:] = np.array(img, dtype=np.uint8)\n",
    "        bidx = bidx + 1\n",
    "        if bidx == batch_size:\n",
    "            yield batchImages\n"
   ]
  },
  {
   "cell_type": "code",
   "execution_count": null,
   "metadata": {
    "scrolled": true
   },
   "outputs": [
    {
     "name": "stderr",
     "output_type": "stream",
     "text": [
      "\n",
      "  0%|          | 0/701 [00:00<?, ?it/s]\u001b[A"
     ]
    },
    {
     "name": "stdout",
     "output_type": "stream",
     "text": [
      "WARNING:tensorflow:11 out of the last 14 calls to <function Model.make_predict_function.<locals>.predict_function at 0x7f79604a61e0> triggered tf.function retracing. Tracing is expensive and the excessive number of tracings could be due to (1) creating @tf.function repeatedly in a loop, (2) passing tensors with different shapes, (3) passing Python objects instead of tensors. For (1), please define your @tf.function outside of the loop. For (2), @tf.function has experimental_relax_shapes=True option that relaxes argument shapes that can avoid unnecessary retracing. For (3), please refer to https://www.tensorflow.org/tutorials/customization/performance#python_or_tensor_args and https://www.tensorflow.org/api_docs/python/tf/function for  more details.\n"
     ]
    },
    {
     "name": "stderr",
     "output_type": "stream",
     "text": [
      "\n",
      "  0%|          | 1/701 [00:02<24:18,  2.08s/it]\u001b[A"
     ]
    },
    {
     "name": "stdout",
     "output_type": "stream",
     "text": [
      "WARNING:tensorflow:8 out of the last 11 calls to <function Model.make_predict_function.<locals>.predict_function at 0x7f795bc10e18> triggered tf.function retracing. Tracing is expensive and the excessive number of tracings could be due to (1) creating @tf.function repeatedly in a loop, (2) passing tensors with different shapes, (3) passing Python objects instead of tensors. For (1), please define your @tf.function outside of the loop. For (2), @tf.function has experimental_relax_shapes=True option that relaxes argument shapes that can avoid unnecessary retracing. For (3), please refer to https://www.tensorflow.org/tutorials/customization/performance#python_or_tensor_args and https://www.tensorflow.org/api_docs/python/tf/function for  more details.\n"
     ]
    },
    {
     "name": "stderr",
     "output_type": "stream",
     "text": [
      "\n",
      "  0%|          | 2/701 [00:03<23:29,  2.02s/it]\u001b[A"
     ]
    },
    {
     "name": "stdout",
     "output_type": "stream",
     "text": [
      "WARNING:tensorflow:5 out of the last 11 calls to <function Model.make_predict_function.<locals>.predict_function at 0x7f795bc28ae8> triggered tf.function retracing. Tracing is expensive and the excessive number of tracings could be due to (1) creating @tf.function repeatedly in a loop, (2) passing tensors with different shapes, (3) passing Python objects instead of tensors. For (1), please define your @tf.function outside of the loop. For (2), @tf.function has experimental_relax_shapes=True option that relaxes argument shapes that can avoid unnecessary retracing. For (3), please refer to https://www.tensorflow.org/tutorials/customization/performance#python_or_tensor_args and https://www.tensorflow.org/api_docs/python/tf/function for  more details.\n"
     ]
    },
    {
     "name": "stderr",
     "output_type": "stream",
     "text": [
      "\n",
      "  0%|          | 3/701 [00:05<22:37,  1.94s/it]\u001b[A\n",
      "  1%|          | 4/701 [00:07<22:02,  1.90s/it]\u001b[A\n",
      "  1%|          | 5/701 [00:09<23:26,  2.02s/it]\u001b[A\n",
      "  1%|          | 6/701 [00:11<22:34,  1.95s/it]\u001b[A\n",
      "  1%|          | 7/701 [00:13<22:18,  1.93s/it]\u001b[A\n",
      "  1%|          | 8/701 [00:15<22:05,  1.91s/it]\u001b[A\n",
      "  1%|▏         | 9/701 [00:17<23:31,  2.04s/it]\u001b[A\n",
      "  1%|▏         | 10/701 [00:19<22:54,  1.99s/it]\u001b[A"
     ]
    }
   ],
   "source": [
    "batch_size = 100\n",
    "numImages = len(imgs)\n",
    "numbatch = int(np.ceil(numImages/batch_size))\n",
    "batchgen = make_batch_image(imgs, batch_size)\n",
    "imglist = []\n",
    "for cidx in tqdm(range(numbatch)):\n",
    "    batchim = next(batchgen)\n",
    "    gan = load_model(choice(modelpath))\n",
    "    \n",
    "    # apply cyclegan\n",
    "    batchim_inf = inference_batch(gan, batchim)\n",
    "        \n",
    "    # make image list\n",
    "    for bidx in range(batch_size):\n",
    "        img = Image.fromarray(batchim_inf[bidx,])\n",
    "        imglist.append(img)\n",
    "\n",
    "    # remove model\n",
    "    break_model(gan)"
   ]
  },
  {
   "cell_type": "code",
   "execution_count": null,
   "metadata": {},
   "outputs": [],
   "source": [
    "#save image to db\n",
    "ind = 0\n",
    "for idx in range(0,len(img_raw),2):\n",
    "    img_raw[idx] = imglist[ind]\n",
    "    ind = ind + 1\n",
    "    \n",
    "#name = name+'_styled'\n",
    "name = 'denoise_train_100000_styled'\n",
    "cache = {}\n",
    "db_data = create_data_db(path=path, name=name, description='datadb_denoising',data_class='denoising')\n",
    "db_data_db = db_data.open_db(b'db_data')\n",
    "for idx in tqdm(range(len(img_raw))):\n",
    "    img = img_raw[idx]\n",
    "    cache = update_cache(cache, index=idx, label='denoising', ref=name, image=img)\n",
    "    if idx % 5000 == 0:\n",
    "        write_cache_to_db(db_data, db_data_db, cache)\n",
    "        cache = {}\n",
    "        \n",
    "write_cache_to_db(db_data, db_data_db, cache)\n",
    "cache = {}"
   ]
  },
  {
   "cell_type": "code",
   "execution_count": null,
   "metadata": {},
   "outputs": [],
   "source": [
    "print_env(db_data)\n",
    "refresh_main_db()"
   ]
  }
 ],
 "metadata": {
  "kernelspec": {
   "display_name": "dl",
   "language": "python",
   "name": "dl"
  },
  "language_info": {
   "codemirror_mode": {
    "name": "ipython",
    "version": 3
   },
   "file_extension": ".py",
   "mimetype": "text/x-python",
   "name": "python",
   "nbconvert_exporter": "python",
   "pygments_lexer": "ipython3",
   "version": "3.6.10"
  }
 },
 "nbformat": 4,
 "nbformat_minor": 4
}
