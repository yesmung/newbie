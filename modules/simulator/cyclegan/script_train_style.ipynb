{
 "cells": [
  {
   "cell_type": "code",
   "execution_count": 1,
   "metadata": {},
   "outputs": [
    {
     "name": "stdout",
     "output_type": "stream",
     "text": [
      "['database', 'mlflow', 'font']\n",
      "/home/dk/docrv2_sroie/modules/database/\n",
      "['database', 'mlflow', 'font']\n",
      "/home/dk/docrv2_sroie/modules/database/\n"
     ]
    },
    {
     "name": "stderr",
     "output_type": "stream",
     "text": [
      "Using TensorFlow backend.\n"
     ]
    }
   ],
   "source": [
    "\n",
    "import cv2\n",
    "from PIL import Image, ImageDraw, ImageFont, ImageTransform\n",
    "import matplotlib.pyplot as plt\n",
    "import numpy as np\n",
    "import pandas as pd\n",
    "import pickle\n",
    "from tqdm import tqdm\n",
    "from glob import glob\n",
    "import sys\n",
    "\n",
    "import os\n",
    "from configparser import ConfigParser\n",
    "path_config_file = os.getcwd().split('docrv2_sroie')[0] + 'docrv2_sroie/' + 'config.ini'\n",
    "common_variable = ConfigParser()\n",
    "common_variable.read(path_config_file)\n",
    "print(common_variable.sections())\n",
    "print(common_variable['database']['module_path'])\n",
    "sys.path.append(common_variable['database']['module_path'])\n",
    "from db_util import *\n",
    "from db import *\n",
    "from random import choice\n",
    "\n",
    "from cyclegan import CycleGAN"
   ]
  },
  {
   "cell_type": "code",
   "execution_count": null,
   "metadata": {},
   "outputs": [
    {
     "name": "stderr",
     "output_type": "stream",
     "text": [
      "\r",
      "  0%|          | 0/200 [00:00<?, ?it/s]"
     ]
    },
    {
     "name": "stdout",
     "output_type": "stream",
     "text": [
      "[Epoch 0/200] [Batch 0/5000] [D loss: 3.643009, acc:  39%] [G loss: 68.194412, adv: 23.448656, recon: 0.970362, id: 0.915623] time: 0:00:09.945258 \n"
     ]
    }
   ],
   "source": [
    "dataset_name = 'style_real_00301'\n",
    "gan = CycleGAN(dataset_name)\n",
    "gan.train(epochs=200, batch_size=1, sample_interval=200)"
   ]
  }
 ],
 "metadata": {
  "kernelspec": {
   "display_name": "dl",
   "language": "python",
   "name": "dl"
  },
  "language_info": {
   "codemirror_mode": {
    "name": "ipython",
    "version": 3
   },
   "file_extension": ".py",
   "mimetype": "text/x-python",
   "name": "python",
   "nbconvert_exporter": "python",
   "pygments_lexer": "ipython3",
   "version": "3.6.10"
  }
 },
 "nbformat": 4,
 "nbformat_minor": 4
}
