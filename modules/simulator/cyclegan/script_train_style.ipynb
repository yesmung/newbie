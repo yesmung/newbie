{
 "cells": [
  {
   "cell_type": "code",
   "execution_count": 1,
   "metadata": {},
   "outputs": [
    {
     "name": "stdout",
     "output_type": "stream",
     "text": [
      "['database', 'mlflow', 'font']\n",
      "/home/dk/docrv2_sroie/modules/database/\n",
      "['database', 'mlflow', 'font']\n",
      "/home/dk/docrv2_sroie/modules/database/\n"
     ]
    },
    {
     "name": "stderr",
     "output_type": "stream",
     "text": [
      "Using TensorFlow backend.\n"
     ]
    }
   ],
   "source": [
    "\n",
    "import cv2\n",
    "from PIL import Image, ImageDraw, ImageFont, ImageTransform\n",
    "import matplotlib.pyplot as plt\n",
    "import numpy as np\n",
    "import pandas as pd\n",
    "import pickle\n",
    "from tqdm import tqdm\n",
    "from glob import glob\n",
    "import sys\n",
    "\n",
    "import os\n",
    "from configparser import ConfigParser\n",
    "path_config_file = os.getcwd().split('docrv2_sroie')[0] + 'docrv2_sroie/' + 'config.ini'\n",
    "common_variable = ConfigParser()\n",
    "common_variable.read(path_config_file)\n",
    "print(common_variable.sections())\n",
    "print(common_variable['database']['module_path'])\n",
    "sys.path.append(common_variable['database']['module_path'])\n",
    "from db_util import *\n",
    "from db import *\n",
    "from random import choice\n",
    "\n",
    "from cyclegan import CycleGAN"
   ]
  },
  {
   "cell_type": "code",
   "execution_count": 2,
   "metadata": {},
   "outputs": [
    {
     "name": "stderr",
     "output_type": "stream",
     "text": [
      " 99%|█████████▉| 99/100 [01:40<00:00,  1.09it/s]\n",
      "  0%|          | 0/100 [00:00<?, ?it/s]\u001b[A\n",
      "  2%|▏         | 2/100 [00:00<00:47,  2.07it/s]\u001b[A\n",
      "  3%|▎         | 3/100 [00:01<00:57,  1.68it/s]\u001b[A\n",
      "  4%|▍         | 4/100 [00:02<01:06,  1.43it/s]\u001b[A\n",
      "  5%|▌         | 5/100 [00:03<01:12,  1.31it/s]\u001b[A\n",
      "  6%|▌         | 6/100 [00:04<01:15,  1.24it/s]\u001b[A\n",
      "  7%|▋         | 7/100 [00:05<01:17,  1.19it/s]\u001b[A\n",
      "  8%|▊         | 8/100 [00:06<01:18,  1.17it/s]\u001b[A\n",
      "  9%|▉         | 9/100 [00:07<01:20,  1.14it/s]\u001b[A\n",
      " 10%|█         | 10/100 [00:08<01:19,  1.14it/s]\u001b[A\n",
      " 11%|█         | 11/100 [00:09<01:19,  1.13it/s]\u001b[A\n",
      " 12%|█▏        | 12/100 [00:09<01:17,  1.13it/s]\u001b[A\n",
      " 13%|█▎        | 13/100 [00:10<01:16,  1.13it/s]\u001b[A\n",
      " 14%|█▍        | 14/100 [00:11<01:15,  1.14it/s]\u001b[A\n",
      " 15%|█▌        | 15/100 [00:12<01:15,  1.12it/s]\u001b[A\n",
      " 16%|█▌        | 16/100 [00:13<01:15,  1.11it/s]\u001b[A\n",
      " 17%|█▋        | 17/100 [00:14<01:14,  1.11it/s]\u001b[A\n",
      " 18%|█▊        | 18/100 [00:15<01:14,  1.10it/s]\u001b[A\n",
      " 19%|█▉        | 19/100 [00:16<01:13,  1.10it/s]\u001b[A\n",
      " 20%|██        | 20/100 [00:17<01:13,  1.09it/s]\u001b[A\n",
      " 21%|██        | 21/100 [00:18<01:12,  1.09it/s]\u001b[A\n",
      " 22%|██▏       | 22/100 [00:19<01:12,  1.08it/s]\u001b[A\n",
      " 23%|██▎       | 23/100 [00:20<01:10,  1.09it/s]\u001b[A\n",
      " 24%|██▍       | 24/100 [00:20<01:10,  1.08it/s]\u001b[A\n",
      " 25%|██▌       | 25/100 [00:21<01:08,  1.10it/s]\u001b[A\n",
      " 26%|██▌       | 26/100 [00:22<01:07,  1.09it/s]\u001b[A\n",
      " 27%|██▋       | 27/100 [00:23<01:06,  1.10it/s]\u001b[A\n",
      " 28%|██▊       | 28/100 [00:24<01:06,  1.09it/s]\u001b[A\n",
      " 29%|██▉       | 29/100 [00:25<01:05,  1.08it/s]\u001b[A\n",
      " 30%|███       | 30/100 [00:26<01:04,  1.09it/s]\u001b[A\n",
      " 31%|███       | 31/100 [00:27<01:02,  1.10it/s]\u001b[A\n",
      " 32%|███▏      | 32/100 [00:28<01:01,  1.10it/s]\u001b[A\n",
      " 33%|███▎      | 33/100 [00:29<01:00,  1.10it/s]\u001b[A\n",
      " 34%|███▍      | 34/100 [00:30<00:59,  1.11it/s]\u001b[A\n",
      " 35%|███▌      | 35/100 [00:30<00:58,  1.11it/s]\u001b[A\n",
      " 36%|███▌      | 36/100 [00:31<00:57,  1.11it/s]\u001b[A\n",
      " 37%|███▋      | 37/100 [00:32<00:57,  1.10it/s]\u001b[A\n",
      " 38%|███▊      | 38/100 [00:33<00:56,  1.10it/s]\u001b[A\n",
      " 39%|███▉      | 39/100 [00:34<00:55,  1.10it/s]\u001b[A\n",
      " 40%|████      | 40/100 [00:35<00:54,  1.11it/s]\u001b[A\n",
      " 41%|████      | 41/100 [00:36<00:52,  1.11it/s]\u001b[A\n",
      " 42%|████▏     | 42/100 [00:37<00:52,  1.10it/s]\u001b[A\n",
      " 43%|████▎     | 43/100 [00:38<00:51,  1.12it/s]\u001b[A\n",
      " 44%|████▍     | 44/100 [00:39<00:50,  1.10it/s]\u001b[A\n",
      " 45%|████▌     | 45/100 [00:39<00:49,  1.11it/s]\u001b[A\n",
      " 46%|████▌     | 46/100 [00:40<00:49,  1.10it/s]\u001b[A\n",
      " 47%|████▋     | 47/100 [00:41<00:47,  1.11it/s]\u001b[A\n",
      " 48%|████▊     | 48/100 [00:42<00:47,  1.10it/s]\u001b[A\n",
      " 49%|████▉     | 49/100 [00:43<00:46,  1.11it/s]\u001b[A\n",
      " 50%|█████     | 50/100 [00:44<00:45,  1.10it/s]\u001b[A\n",
      " 51%|█████     | 51/100 [00:45<00:44,  1.09it/s]\u001b[A\n",
      " 52%|█████▏    | 52/100 [00:46<00:43,  1.10it/s]\u001b[A\n",
      " 53%|█████▎    | 53/100 [00:47<00:43,  1.09it/s]\u001b[A\n",
      " 54%|█████▍    | 54/100 [00:48<00:41,  1.10it/s]\u001b[A\n",
      " 55%|█████▌    | 55/100 [00:49<00:41,  1.10it/s]\u001b[A\n",
      " 56%|█████▌    | 56/100 [00:49<00:39,  1.11it/s]\u001b[A\n",
      " 57%|█████▋    | 57/100 [00:50<00:38,  1.10it/s]\u001b[A\n",
      " 58%|█████▊    | 58/100 [00:51<00:37,  1.11it/s]\u001b[A\n",
      " 59%|█████▉    | 59/100 [00:52<00:37,  1.09it/s]\u001b[A\n",
      " 60%|██████    | 60/100 [00:53<00:36,  1.09it/s]\u001b[A\n",
      " 61%|██████    | 61/100 [00:54<00:35,  1.10it/s]\u001b[A\n",
      " 62%|██████▏   | 62/100 [00:55<00:34,  1.09it/s]\u001b[A\n",
      " 63%|██████▎   | 63/100 [00:56<00:34,  1.08it/s]\u001b[A\n",
      " 64%|██████▍   | 64/100 [00:57<00:33,  1.08it/s]\u001b[A\n",
      " 65%|██████▌   | 65/100 [00:58<00:32,  1.08it/s]\u001b[A\n",
      " 66%|██████▌   | 66/100 [00:59<00:31,  1.08it/s]\u001b[A\n",
      " 67%|██████▋   | 67/100 [01:00<00:30,  1.10it/s]\u001b[A\n",
      " 68%|██████▊   | 68/100 [01:00<00:29,  1.10it/s]\u001b[A\n",
      " 69%|██████▉   | 69/100 [01:01<00:28,  1.09it/s]\u001b[A\n",
      " 70%|███████   | 70/100 [01:02<00:27,  1.08it/s]\u001b[A\n",
      " 71%|███████   | 71/100 [01:03<00:26,  1.08it/s]\u001b[A\n",
      " 72%|███████▏  | 72/100 [01:04<00:25,  1.08it/s]\u001b[A\n",
      " 73%|███████▎  | 73/100 [01:05<00:25,  1.08it/s]\u001b[A\n",
      " 74%|███████▍  | 74/100 [01:06<00:24,  1.07it/s]\u001b[A\n",
      " 75%|███████▌  | 75/100 [01:07<00:23,  1.08it/s]\u001b[A\n",
      " 76%|███████▌  | 76/100 [01:08<00:21,  1.10it/s]\u001b[A\n",
      " 77%|███████▋  | 77/100 [01:09<00:21,  1.09it/s]\u001b[A\n",
      " 78%|███████▊  | 78/100 [01:10<00:20,  1.09it/s]\u001b[A\n",
      " 79%|███████▉  | 79/100 [01:11<00:19,  1.10it/s]\u001b[A\n",
      " 80%|████████  | 80/100 [01:11<00:17,  1.12it/s]\u001b[A\n",
      " 81%|████████  | 81/100 [01:12<00:17,  1.10it/s]\u001b[A\n",
      " 82%|████████▏ | 82/100 [01:13<00:16,  1.12it/s]\u001b[A\n",
      " 83%|████████▎ | 83/100 [01:14<00:15,  1.11it/s]\u001b[A\n",
      " 84%|████████▍ | 84/100 [01:15<00:14,  1.12it/s]\u001b[A\n",
      " 85%|████████▌ | 85/100 [01:16<00:13,  1.13it/s]\u001b[A\n",
      " 86%|████████▌ | 86/100 [01:17<00:12,  1.12it/s]\u001b[A\n",
      " 87%|████████▋ | 87/100 [01:18<00:11,  1.11it/s]\u001b[A\n",
      " 88%|████████▊ | 88/100 [01:19<00:10,  1.10it/s]\u001b[A\n",
      " 89%|████████▉ | 89/100 [01:20<00:09,  1.11it/s]\u001b[A\n",
      " 90%|█████████ | 90/100 [01:20<00:09,  1.09it/s]\u001b[A\n",
      " 91%|█████████ | 91/100 [01:21<00:08,  1.10it/s]\u001b[A\n",
      " 92%|█████████▏| 92/100 [01:22<00:07,  1.10it/s]\u001b[A\n",
      " 93%|█████████▎| 93/100 [01:23<00:06,  1.12it/s]\u001b[A\n",
      " 94%|█████████▍| 94/100 [01:24<00:05,  1.12it/s]\u001b[A\n",
      " 95%|█████████▌| 95/100 [01:25<00:04,  1.13it/s]\u001b[A\n",
      " 96%|█████████▌| 96/100 [01:26<00:03,  1.13it/s]\u001b[A\n",
      " 97%|█████████▋| 97/100 [01:27<00:02,  1.13it/s]\u001b[A\n",
      " 98%|█████████▊| 98/100 [01:28<00:01,  1.13it/s]\u001b[A\n",
      " 99%|█████████▉| 99/100 [01:28<00:00,  1.13it/s]\u001b[A\n",
      "\n",
      "  0%|          | 0/100 [00:00<?, ?it/s]\u001b[A\u001b[A\n",
      "\n",
      "  2%|▏         | 2/100 [00:00<00:48,  2.04it/s]\u001b[A\u001b[A\n",
      "\n",
      "  3%|▎         | 3/100 [00:01<00:59,  1.63it/s]\u001b[A\u001b[A\n",
      "\n",
      "  4%|▍         | 4/100 [00:02<01:07,  1.42it/s]\u001b[A\u001b[A\n",
      "\n",
      "  5%|▌         | 5/100 [00:03<01:12,  1.31it/s]\u001b[A\u001b[A\n",
      "\n",
      "  6%|▌         | 6/100 [00:04<01:15,  1.24it/s]\u001b[A\u001b[A\n",
      "\n",
      "  7%|▋         | 7/100 [00:05<01:18,  1.18it/s]\u001b[A\u001b[A\n",
      "\n",
      "  8%|▊         | 8/100 [00:06<01:20,  1.15it/s]\u001b[A\u001b[A\n",
      "\n",
      "  9%|▉         | 9/100 [00:07<01:21,  1.12it/s]\u001b[A\u001b[A\n",
      "\n",
      " 10%|█         | 10/100 [00:08<01:21,  1.11it/s]\u001b[A\u001b[A\n",
      "\n",
      " 11%|█         | 11/100 [00:09<01:21,  1.09it/s]\u001b[A\u001b[A\n",
      "\n",
      " 12%|█▏        | 12/100 [00:10<01:20,  1.09it/s]\u001b[A\u001b[A"
     ]
    },
    {
     "ename": "KeyboardInterrupt",
     "evalue": "",
     "output_type": "error",
     "traceback": [
      "\u001b[0;31m---------------------------------------------------------------------------\u001b[0m",
      "\u001b[0;31mKeyboardInterrupt\u001b[0m                         Traceback (most recent call last)",
      "\u001b[0;32m<ipython-input-2-f4c9d44c0846>\u001b[0m in \u001b[0;36m<module>\u001b[0;34m\u001b[0m\n\u001b[1;32m      1\u001b[0m \u001b[0mdataset_name\u001b[0m \u001b[0;34m=\u001b[0m \u001b[0;34m'style_real_00001'\u001b[0m\u001b[0;34m\u001b[0m\u001b[0;34m\u001b[0m\u001b[0m\n\u001b[1;32m      2\u001b[0m \u001b[0mgan\u001b[0m \u001b[0;34m=\u001b[0m \u001b[0mCycleGAN\u001b[0m\u001b[0;34m(\u001b[0m\u001b[0mdataset_name\u001b[0m\u001b[0;34m)\u001b[0m\u001b[0;34m\u001b[0m\u001b[0;34m\u001b[0m\u001b[0m\n\u001b[0;32m----> 3\u001b[0;31m \u001b[0mgan\u001b[0m\u001b[0;34m.\u001b[0m\u001b[0mtrain\u001b[0m\u001b[0;34m(\u001b[0m\u001b[0mepochs\u001b[0m\u001b[0;34m=\u001b[0m\u001b[0;36m5\u001b[0m\u001b[0;34m,\u001b[0m \u001b[0mbatch_size\u001b[0m\u001b[0;34m=\u001b[0m\u001b[0;36m10\u001b[0m\u001b[0;34m,\u001b[0m \u001b[0msample_interval\u001b[0m\u001b[0;34m=\u001b[0m\u001b[0;36m100\u001b[0m\u001b[0;34m,\u001b[0m \u001b[0mn_batches\u001b[0m\u001b[0;34m=\u001b[0m\u001b[0;36m100\u001b[0m\u001b[0;34m)\u001b[0m\u001b[0;34m\u001b[0m\u001b[0;34m\u001b[0m\u001b[0m\n\u001b[0m",
      "\u001b[0;32m~/docrv2_sroie/modules/simulator/cyclegan/cyclegan.py\u001b[0m in \u001b[0;36mtrain\u001b[0;34m(self, epochs, batch_size, sample_interval, n_batches)\u001b[0m\n\u001b[1;32m    207\u001b[0m                                                         [valid, valid,\n\u001b[1;32m    208\u001b[0m                                                         \u001b[0mimgs_A\u001b[0m\u001b[0;34m,\u001b[0m \u001b[0mimgs_B\u001b[0m\u001b[0;34m,\u001b[0m\u001b[0;34m\u001b[0m\u001b[0;34m\u001b[0m\u001b[0m\n\u001b[0;32m--> 209\u001b[0;31m                                                         imgs_A, imgs_B])\n\u001b[0m\u001b[1;32m    210\u001b[0m \u001b[0;34m\u001b[0m\u001b[0m\n\u001b[1;32m    211\u001b[0m                 \u001b[0melapsed_time\u001b[0m \u001b[0;34m=\u001b[0m \u001b[0mdatetime\u001b[0m\u001b[0;34m.\u001b[0m\u001b[0mdatetime\u001b[0m\u001b[0;34m.\u001b[0m\u001b[0mnow\u001b[0m\u001b[0;34m(\u001b[0m\u001b[0;34m)\u001b[0m \u001b[0;34m-\u001b[0m \u001b[0mstart_time\u001b[0m\u001b[0;34m\u001b[0m\u001b[0;34m\u001b[0m\u001b[0m\n",
      "\u001b[0;32m~/anaconda3/envs/dl/lib/python3.6/site-packages/tensorflow/python/keras/engine/training.py\u001b[0m in \u001b[0;36mtrain_on_batch\u001b[0;34m(self, x, y, sample_weight, class_weight, reset_metrics, return_dict)\u001b[0m\n\u001b[1;32m   1693\u001b[0m                                                     class_weight)\n\u001b[1;32m   1694\u001b[0m       \u001b[0mtrain_function\u001b[0m \u001b[0;34m=\u001b[0m \u001b[0mself\u001b[0m\u001b[0;34m.\u001b[0m\u001b[0mmake_train_function\u001b[0m\u001b[0;34m(\u001b[0m\u001b[0;34m)\u001b[0m\u001b[0;34m\u001b[0m\u001b[0;34m\u001b[0m\u001b[0m\n\u001b[0;32m-> 1695\u001b[0;31m       \u001b[0mlogs\u001b[0m \u001b[0;34m=\u001b[0m \u001b[0mtrain_function\u001b[0m\u001b[0;34m(\u001b[0m\u001b[0miterator\u001b[0m\u001b[0;34m)\u001b[0m\u001b[0;34m\u001b[0m\u001b[0;34m\u001b[0m\u001b[0m\n\u001b[0m\u001b[1;32m   1696\u001b[0m \u001b[0;34m\u001b[0m\u001b[0m\n\u001b[1;32m   1697\u001b[0m     \u001b[0;32mif\u001b[0m \u001b[0mreset_metrics\u001b[0m\u001b[0;34m:\u001b[0m\u001b[0;34m\u001b[0m\u001b[0;34m\u001b[0m\u001b[0m\n",
      "\u001b[0;32m~/anaconda3/envs/dl/lib/python3.6/site-packages/tensorflow/python/eager/def_function.py\u001b[0m in \u001b[0;36m__call__\u001b[0;34m(self, *args, **kwds)\u001b[0m\n\u001b[1;32m    778\u001b[0m       \u001b[0;32melse\u001b[0m\u001b[0;34m:\u001b[0m\u001b[0;34m\u001b[0m\u001b[0;34m\u001b[0m\u001b[0m\n\u001b[1;32m    779\u001b[0m         \u001b[0mcompiler\u001b[0m \u001b[0;34m=\u001b[0m \u001b[0;34m\"nonXla\"\u001b[0m\u001b[0;34m\u001b[0m\u001b[0;34m\u001b[0m\u001b[0m\n\u001b[0;32m--> 780\u001b[0;31m         \u001b[0mresult\u001b[0m \u001b[0;34m=\u001b[0m \u001b[0mself\u001b[0m\u001b[0;34m.\u001b[0m\u001b[0m_call\u001b[0m\u001b[0;34m(\u001b[0m\u001b[0;34m*\u001b[0m\u001b[0margs\u001b[0m\u001b[0;34m,\u001b[0m \u001b[0;34m**\u001b[0m\u001b[0mkwds\u001b[0m\u001b[0;34m)\u001b[0m\u001b[0;34m\u001b[0m\u001b[0;34m\u001b[0m\u001b[0m\n\u001b[0m\u001b[1;32m    781\u001b[0m \u001b[0;34m\u001b[0m\u001b[0m\n\u001b[1;32m    782\u001b[0m       \u001b[0mnew_tracing_count\u001b[0m \u001b[0;34m=\u001b[0m \u001b[0mself\u001b[0m\u001b[0;34m.\u001b[0m\u001b[0m_get_tracing_count\u001b[0m\u001b[0;34m(\u001b[0m\u001b[0;34m)\u001b[0m\u001b[0;34m\u001b[0m\u001b[0;34m\u001b[0m\u001b[0m\n",
      "\u001b[0;32m~/anaconda3/envs/dl/lib/python3.6/site-packages/tensorflow/python/eager/def_function.py\u001b[0m in \u001b[0;36m_call\u001b[0;34m(self, *args, **kwds)\u001b[0m\n\u001b[1;32m    805\u001b[0m       \u001b[0;31m# In this case we have created variables on the first call, so we run the\u001b[0m\u001b[0;34m\u001b[0m\u001b[0;34m\u001b[0m\u001b[0;34m\u001b[0m\u001b[0m\n\u001b[1;32m    806\u001b[0m       \u001b[0;31m# defunned version which is guaranteed to never create variables.\u001b[0m\u001b[0;34m\u001b[0m\u001b[0;34m\u001b[0m\u001b[0;34m\u001b[0m\u001b[0m\n\u001b[0;32m--> 807\u001b[0;31m       \u001b[0;32mreturn\u001b[0m \u001b[0mself\u001b[0m\u001b[0;34m.\u001b[0m\u001b[0m_stateless_fn\u001b[0m\u001b[0;34m(\u001b[0m\u001b[0;34m*\u001b[0m\u001b[0margs\u001b[0m\u001b[0;34m,\u001b[0m \u001b[0;34m**\u001b[0m\u001b[0mkwds\u001b[0m\u001b[0;34m)\u001b[0m  \u001b[0;31m# pylint: disable=not-callable\u001b[0m\u001b[0;34m\u001b[0m\u001b[0;34m\u001b[0m\u001b[0m\n\u001b[0m\u001b[1;32m    808\u001b[0m     \u001b[0;32melif\u001b[0m \u001b[0mself\u001b[0m\u001b[0;34m.\u001b[0m\u001b[0m_stateful_fn\u001b[0m \u001b[0;32mis\u001b[0m \u001b[0;32mnot\u001b[0m \u001b[0;32mNone\u001b[0m\u001b[0;34m:\u001b[0m\u001b[0;34m\u001b[0m\u001b[0;34m\u001b[0m\u001b[0m\n\u001b[1;32m    809\u001b[0m       \u001b[0;31m# Release the lock early so that multiple threads can perform the call\u001b[0m\u001b[0;34m\u001b[0m\u001b[0;34m\u001b[0m\u001b[0;34m\u001b[0m\u001b[0m\n",
      "\u001b[0;32m~/anaconda3/envs/dl/lib/python3.6/site-packages/tensorflow/python/eager/function.py\u001b[0m in \u001b[0;36m__call__\u001b[0;34m(self, *args, **kwargs)\u001b[0m\n\u001b[1;32m   2827\u001b[0m     \u001b[0;32mwith\u001b[0m \u001b[0mself\u001b[0m\u001b[0;34m.\u001b[0m\u001b[0m_lock\u001b[0m\u001b[0;34m:\u001b[0m\u001b[0;34m\u001b[0m\u001b[0;34m\u001b[0m\u001b[0m\n\u001b[1;32m   2828\u001b[0m       \u001b[0mgraph_function\u001b[0m\u001b[0;34m,\u001b[0m \u001b[0margs\u001b[0m\u001b[0;34m,\u001b[0m \u001b[0mkwargs\u001b[0m \u001b[0;34m=\u001b[0m \u001b[0mself\u001b[0m\u001b[0;34m.\u001b[0m\u001b[0m_maybe_define_function\u001b[0m\u001b[0;34m(\u001b[0m\u001b[0margs\u001b[0m\u001b[0;34m,\u001b[0m \u001b[0mkwargs\u001b[0m\u001b[0;34m)\u001b[0m\u001b[0;34m\u001b[0m\u001b[0;34m\u001b[0m\u001b[0m\n\u001b[0;32m-> 2829\u001b[0;31m     \u001b[0;32mreturn\u001b[0m \u001b[0mgraph_function\u001b[0m\u001b[0;34m.\u001b[0m\u001b[0m_filtered_call\u001b[0m\u001b[0;34m(\u001b[0m\u001b[0margs\u001b[0m\u001b[0;34m,\u001b[0m \u001b[0mkwargs\u001b[0m\u001b[0;34m)\u001b[0m  \u001b[0;31m# pylint: disable=protected-access\u001b[0m\u001b[0;34m\u001b[0m\u001b[0;34m\u001b[0m\u001b[0m\n\u001b[0m\u001b[1;32m   2830\u001b[0m \u001b[0;34m\u001b[0m\u001b[0m\n\u001b[1;32m   2831\u001b[0m   \u001b[0;34m@\u001b[0m\u001b[0mproperty\u001b[0m\u001b[0;34m\u001b[0m\u001b[0;34m\u001b[0m\u001b[0m\n",
      "\u001b[0;32m~/anaconda3/envs/dl/lib/python3.6/site-packages/tensorflow/python/eager/function.py\u001b[0m in \u001b[0;36m_filtered_call\u001b[0;34m(self, args, kwargs, cancellation_manager)\u001b[0m\n\u001b[1;32m   1846\u001b[0m                            resource_variable_ops.BaseResourceVariable))],\n\u001b[1;32m   1847\u001b[0m         \u001b[0mcaptured_inputs\u001b[0m\u001b[0;34m=\u001b[0m\u001b[0mself\u001b[0m\u001b[0;34m.\u001b[0m\u001b[0mcaptured_inputs\u001b[0m\u001b[0;34m,\u001b[0m\u001b[0;34m\u001b[0m\u001b[0;34m\u001b[0m\u001b[0m\n\u001b[0;32m-> 1848\u001b[0;31m         cancellation_manager=cancellation_manager)\n\u001b[0m\u001b[1;32m   1849\u001b[0m \u001b[0;34m\u001b[0m\u001b[0m\n\u001b[1;32m   1850\u001b[0m   \u001b[0;32mdef\u001b[0m \u001b[0m_call_flat\u001b[0m\u001b[0;34m(\u001b[0m\u001b[0mself\u001b[0m\u001b[0;34m,\u001b[0m \u001b[0margs\u001b[0m\u001b[0;34m,\u001b[0m \u001b[0mcaptured_inputs\u001b[0m\u001b[0;34m,\u001b[0m \u001b[0mcancellation_manager\u001b[0m\u001b[0;34m=\u001b[0m\u001b[0;32mNone\u001b[0m\u001b[0;34m)\u001b[0m\u001b[0;34m:\u001b[0m\u001b[0;34m\u001b[0m\u001b[0;34m\u001b[0m\u001b[0m\n",
      "\u001b[0;32m~/anaconda3/envs/dl/lib/python3.6/site-packages/tensorflow/python/eager/function.py\u001b[0m in \u001b[0;36m_call_flat\u001b[0;34m(self, args, captured_inputs, cancellation_manager)\u001b[0m\n\u001b[1;32m   1922\u001b[0m       \u001b[0;31m# No tape is watching; skip to running the function.\u001b[0m\u001b[0;34m\u001b[0m\u001b[0;34m\u001b[0m\u001b[0;34m\u001b[0m\u001b[0m\n\u001b[1;32m   1923\u001b[0m       return self._build_call_outputs(self._inference_function.call(\n\u001b[0;32m-> 1924\u001b[0;31m           ctx, args, cancellation_manager=cancellation_manager))\n\u001b[0m\u001b[1;32m   1925\u001b[0m     forward_backward = self._select_forward_and_backward_functions(\n\u001b[1;32m   1926\u001b[0m         \u001b[0margs\u001b[0m\u001b[0;34m,\u001b[0m\u001b[0;34m\u001b[0m\u001b[0;34m\u001b[0m\u001b[0m\n",
      "\u001b[0;32m~/anaconda3/envs/dl/lib/python3.6/site-packages/tensorflow/python/eager/function.py\u001b[0m in \u001b[0;36mcall\u001b[0;34m(self, ctx, args, cancellation_manager)\u001b[0m\n\u001b[1;32m    548\u001b[0m               \u001b[0minputs\u001b[0m\u001b[0;34m=\u001b[0m\u001b[0margs\u001b[0m\u001b[0;34m,\u001b[0m\u001b[0;34m\u001b[0m\u001b[0;34m\u001b[0m\u001b[0m\n\u001b[1;32m    549\u001b[0m               \u001b[0mattrs\u001b[0m\u001b[0;34m=\u001b[0m\u001b[0mattrs\u001b[0m\u001b[0;34m,\u001b[0m\u001b[0;34m\u001b[0m\u001b[0;34m\u001b[0m\u001b[0m\n\u001b[0;32m--> 550\u001b[0;31m               ctx=ctx)\n\u001b[0m\u001b[1;32m    551\u001b[0m         \u001b[0;32melse\u001b[0m\u001b[0;34m:\u001b[0m\u001b[0;34m\u001b[0m\u001b[0;34m\u001b[0m\u001b[0m\n\u001b[1;32m    552\u001b[0m           outputs = execute.execute_with_cancellation(\n",
      "\u001b[0;32m~/anaconda3/envs/dl/lib/python3.6/site-packages/tensorflow/python/eager/execute.py\u001b[0m in \u001b[0;36mquick_execute\u001b[0;34m(op_name, num_outputs, inputs, attrs, ctx, name)\u001b[0m\n\u001b[1;32m     58\u001b[0m     \u001b[0mctx\u001b[0m\u001b[0;34m.\u001b[0m\u001b[0mensure_initialized\u001b[0m\u001b[0;34m(\u001b[0m\u001b[0;34m)\u001b[0m\u001b[0;34m\u001b[0m\u001b[0;34m\u001b[0m\u001b[0m\n\u001b[1;32m     59\u001b[0m     tensors = pywrap_tfe.TFE_Py_Execute(ctx._handle, device_name, op_name,\n\u001b[0;32m---> 60\u001b[0;31m                                         inputs, attrs, num_outputs)\n\u001b[0m\u001b[1;32m     61\u001b[0m   \u001b[0;32mexcept\u001b[0m \u001b[0mcore\u001b[0m\u001b[0;34m.\u001b[0m\u001b[0m_NotOkStatusException\u001b[0m \u001b[0;32mas\u001b[0m \u001b[0me\u001b[0m\u001b[0;34m:\u001b[0m\u001b[0;34m\u001b[0m\u001b[0;34m\u001b[0m\u001b[0m\n\u001b[1;32m     62\u001b[0m     \u001b[0;32mif\u001b[0m \u001b[0mname\u001b[0m \u001b[0;32mis\u001b[0m \u001b[0;32mnot\u001b[0m \u001b[0;32mNone\u001b[0m\u001b[0;34m:\u001b[0m\u001b[0;34m\u001b[0m\u001b[0;34m\u001b[0m\u001b[0m\n",
      "\u001b[0;31mKeyboardInterrupt\u001b[0m: "
     ]
    }
   ],
   "source": [
    "dataset_name = 'style_real_00001'\n",
    "gan = CycleGAN(dataset_name)\n",
    "gan.train(epochs=5, batch_size=10, sample_interval=100, n_batches=100)"
   ]
  },
  {
   "cell_type": "code",
   "execution_count": 6,
   "metadata": {},
   "outputs": [
    {
     "data": {
      "text/plain": [
       "92"
      ]
     },
     "execution_count": 6,
     "metadata": {},
     "output_type": "execute_result"
    }
   ],
   "source": []
  },
  {
   "cell_type": "code",
   "execution_count": null,
   "metadata": {},
   "outputs": [],
   "source": []
  }
 ],
 "metadata": {
  "kernelspec": {
   "display_name": "dl",
   "language": "python",
   "name": "dl"
  },
  "language_info": {
   "codemirror_mode": {
    "name": "ipython",
    "version": 3
   },
   "file_extension": ".py",
   "mimetype": "text/x-python",
   "name": "python",
   "nbconvert_exporter": "python",
   "pygments_lexer": "ipython3",
   "version": "3.6.10"
  }
 },
 "nbformat": 4,
 "nbformat_minor": 4
}
