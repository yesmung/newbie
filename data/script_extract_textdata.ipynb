{
 "cells": [
  {
   "cell_type": "code",
   "execution_count": 18,
   "metadata": {},
   "outputs": [],
   "source": [
    "import numpy as np\n",
    "from PIL import Image\n",
    "import os\n",
    "from glob import glob\n",
    "from tqdm import tqdm\n",
    "import pandas as pd\n",
    "from parse import parse"
   ]
  },
  {
   "cell_type": "code",
   "execution_count": 19,
   "metadata": {},
   "outputs": [],
   "source": [
    "#datadir = './test_task12_text/'\n",
    "datadir = './train_task1/'\n",
    "datadirinfo = glob(datadir+'*.txt')\n",
    "textdata = []\n",
    "for filename in datadirinfo:\n",
    "    f = open(filename,'r')\n",
    "    txt = f.read().split('\\n')\n",
    "    txdata = []\n",
    "    for idx in range(len(txt)):\n",
    "        if len(txt[idx])>0:\n",
    "            ps = parse('{},{},{},{},{},{},{},{},{}',txt[idx])\n",
    "            lps = list(ps)\n",
    "            txdata.append(lps[8])\n",
    "    textdata.extend(txdata)"
   ]
  },
  {
   "cell_type": "code",
   "execution_count": 20,
   "metadata": {},
   "outputs": [],
   "source": [
    "datadir = './test_task12_text/'\n",
    "datadirinfo = glob(datadir+'*.txt')\n",
    "for filename in datadirinfo:\n",
    "    try:\n",
    "        f = open(filename,'r')\n",
    "        txt = f.read().split('\\n')\n",
    "    except:\n",
    "        f = open(filename,'r',encoding='ISO-8859-1')\n",
    "        txt = f.read().split('\\n')\n",
    "    txdata = []\n",
    "    for idx in range(len(txt)):\n",
    "        if len(txt[idx])>0:\n",
    "            ps = parse('{},{},{},{},{},{},{},{},{}',txt[idx])\n",
    "            lps = list(ps)\n",
    "            txdata.append(lps[8])\n",
    "    textdata.extend(txdata)"
   ]
  },
  {
   "cell_type": "code",
   "execution_count": null,
   "metadata": {},
   "outputs": [],
   "source": []
  },
  {
   "cell_type": "code",
   "execution_count": 21,
   "metadata": {},
   "outputs": [],
   "source": [
    "for ttx in textdata:\n",
    "    ttxs = ttx.split(' ')\n",
    "    if len(ttxs) > 1:\n",
    "        textdata.extend(ttxs)"
   ]
  },
  {
   "cell_type": "code",
   "execution_count": 22,
   "metadata": {},
   "outputs": [],
   "source": [
    "import csv\n",
    "with open('textdata_tab.csv', 'w', newline='') as myfile:\n",
    "     wr = csv.writer(myfile, quoting=csv.QUOTE_ALL, delimiter='\\t')\n",
    "     wr.writerow(textdata)"
   ]
  },
  {
   "cell_type": "code",
   "execution_count": null,
   "metadata": {},
   "outputs": [],
   "source": []
  }
 ],
 "metadata": {
  "kernelspec": {
   "display_name": "dl",
   "language": "python",
   "name": "dl"
  },
  "language_info": {
   "codemirror_mode": {
    "name": "ipython",
    "version": 3
   },
   "file_extension": ".py",
   "mimetype": "text/x-python",
   "name": "python",
   "nbconvert_exporter": "python",
   "pygments_lexer": "ipython3",
   "version": "3.6.10"
  }
 },
 "nbformat": 4,
 "nbformat_minor": 4
}
