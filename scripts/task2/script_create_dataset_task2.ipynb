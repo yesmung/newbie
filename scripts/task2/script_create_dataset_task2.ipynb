{
 "cells": [
  {
   "cell_type": "code",
   "execution_count": 2,
   "metadata": {},
   "outputs": [
    {
     "name": "stdout",
     "output_type": "stream",
     "text": [
      "['database', 'mlflow', 'font']\n",
      "/media/myungsungkwak/msdisk/docrv2_sroie/modules/database/\n",
      "/media/myungsungkwak/msdisk/docrv2_data/DB/\n"
     ]
    }
   ],
   "source": [
    "import os\n",
    "from configparser import ConfigParser\n",
    "path_config_file = os.getcwd().split('docrv2_sroie')[0] + 'docrv2_sroie/' + 'config.ini'\n",
    "common_variable = ConfigParser()\n",
    "common_variable.read(path_config_file)\n",
    "\n",
    "print(common_variable.sections())\n",
    "print(common_variable['database']['module_path'])\n",
    "print(common_variable['database']['DB_BASE'])\n",
    "\n",
    "import sys\n",
    "sys.path.append(common_variable['database']['module_path'])\n",
    "from db_util import *\n",
    "from db import *\n",
    "\n",
    "import tensorflow\n",
    "import numpy as np\n",
    "import pandas as pd\n",
    "import matplotlib.pyplot as plt\n",
    "import copy\n",
    "\n",
    "from parse import parse\n",
    "from PIL import Image, ImageFont, ImageDraw, ImageEnhance\n",
    "from glob import glob\n",
    "from tqdm import tqdm_notebook"
   ]
  },
  {
   "cell_type": "code",
   "execution_count": null,
   "metadata": {},
   "outputs": [],
   "source": []
  },
  {
   "cell_type": "code",
   "execution_count": 3,
   "metadata": {},
   "outputs": [],
   "source": [
    "def create_database(db_idx, db_name=None):\n",
    "    path = common_variable['database']['DB_BASE']\n",
    "    os.makedirs(path, exist_ok=True)\n",
    "\n",
    "    name = db_name + \"_%04d\"%db_idx\n",
    "    description = 'data db from train_task2 all coords images'\n",
    "    datadb = create_data_db(path=path, name=name, description=description, data_class='DATA')\n",
    "    print(\"... created db : \", name)\n",
    "    return datadb\n",
    "\n",
    "def update_database(datadb, imgs, coords, refname, db_start_idx):\n",
    "    for idx, img in enumerate(imgs):\n",
    "        chars = []\n",
    "        chars.append(coords[idx][8])\n",
    "        char_table = pd.DataFrame(coords[idx])\n",
    "        char_table = char_table.T\n",
    "        char_table.rename(columns={0:'x1', 1:'y1', 2:'x2', 3:'y2', 4:'x3',\n",
    "                                   5:'y3', 6:'x4', 7:'y4', 8:'char'}, inplace=True)\n",
    "        \n",
    "        char_table.x1 = char_table.x1.astype(int)\n",
    "        char_table.y1 = char_table.y1.astype(int)\n",
    "        char_table.x2 = char_table.x2.astype(int)\n",
    "        char_table.y2 = char_table.y2.astype(int)\n",
    "        char_table.x3 = char_table.x3.astype(int)\n",
    "        char_table.y3 = char_table.y3.astype(int)\n",
    "        char_table.x4 = char_table.x4.astype(int)\n",
    "        char_table.y4 = char_table.y4.astype(int)\n",
    "        \n",
    "        update_data(datadb, index=db_start_idx+idx, label='task12', image=img, text=chars[0], ref=refname)\n",
    "\n",
    "def get_coords_from_image(txt_file):\n",
    "    lps = []\n",
    "\n",
    "    try:\n",
    "        with open(txt_file, 'r') as f:\n",
    "            coords_data = f.read().split('\\n')\n",
    "            for ii in range(len(coords_data)):\n",
    "                if len(coords_data[ii]) > 0:\n",
    "                    ps = parse('{},{},{},{},{},{},{},{},{}', coords_data[ii])\n",
    "                    ps = list(ps)\n",
    "                    ps[:-1] = list(map(int, ps[:-1]))\n",
    "                    lps.append(ps)\n",
    "    except:\n",
    "        with open(txt_file, 'r', encoding='ISO-8859-1') as f:\n",
    "            coords_data = f.read().split('\\n')\n",
    "            for ii in range(len(coords_data)):\n",
    "                if len(coords_data[ii]) > 0:\n",
    "                    ps = parse('{},{},{},{},{},{},{},{},{}', coords_data[ii])\n",
    "                    ps = list(ps)\n",
    "                    ps[:-1] = list(map(int, ps[:-1]))\n",
    "                    lps.append(ps)\n",
    "    return lps"
   ]
  },
  {
   "cell_type": "code",
   "execution_count": 3,
   "metadata": {},
   "outputs": [],
   "source": [
    "\"\"\"\n",
    "method 1 - no padding\n",
    "crop images followed as original coordiantes\n",
    "\"\"\"\n",
    "def get_crop_image_by_coords(img_path, coords, num_images=1):\n",
    "    img = Image.open(img_path)\n",
    "    o_width = img.size[0]\n",
    "    o_height = img.size[1]\n",
    "    \n",
    "    transpose_x1_coords = np.transpose(coords)[0]\n",
    "    transpose_y1_coords = np.transpose(coords)[1]\n",
    "    transpose_x1_coords = list(map(int, transpose_x1_coords)) \n",
    "    transpose_y1_coords = list(map(int, transpose_y1_coords))\n",
    "    \n",
    "    transpose_x2_coords = np.transpose(coords)[2]\n",
    "    transpose_y2_coords = np.transpose(coords)[3]\n",
    "    transpose_x2_coords = list(map(int, transpose_x2_coords)) \n",
    "    transpose_y2_coords = list(map(int, transpose_y2_coords))    \n",
    "    \n",
    "    transpose_x3_coords = np.transpose(coords)[4]\n",
    "    transpose_y3_coords = np.transpose(coords)[5]\n",
    "    transpose_x3_coords = list(map(int, transpose_x3_coords)) \n",
    "    transpose_y3_coords = list(map(int, transpose_y3_coords))\n",
    "\n",
    "    transpose_x4_coords = np.transpose(coords)[6]\n",
    "    transpose_y4_coords = np.transpose(coords)[7]\n",
    "    transpose_x4_coords = list(map(int, transpose_x4_coords)) \n",
    "    transpose_y4_coords = list(map(int, transpose_y4_coords))\n",
    "    \n",
    "    transpose_chars = np.transpose(coords)[8]\n",
    "    \n",
    "    sample_list = []\n",
    "    coords_list = []\n",
    "    for idx in range(num_images):\n",
    "        base_idx = idx\n",
    "\n",
    "        new_x1 = transpose_x1_coords[base_idx]\n",
    "        new_y1 = transpose_y1_coords[base_idx]\n",
    "\n",
    "        new_x2 = transpose_x2_coords[base_idx]\n",
    "        new_y2 = transpose_y2_coords[base_idx]\n",
    "\n",
    "        new_x3 = transpose_x3_coords[base_idx]\n",
    "        new_y3 = transpose_y3_coords[base_idx]\n",
    "\n",
    "        new_x4 = transpose_x4_coords[base_idx]\n",
    "        new_y4 = transpose_y4_coords[base_idx]\n",
    "    \n",
    "        crop_img = img.crop((new_x1,\n",
    "                             new_y1,\n",
    "                             new_x3,\n",
    "                             new_y3))\n",
    "        sample_list.append(crop_img)\n",
    "        coords_list.append([new_x1, new_y1, new_x2, new_y2, new_x3, new_y3, new_x4, new_y4,\n",
    "                           transpose_chars[base_idx]])\n",
    "\n",
    "    return sample_list, coords_list"
   ]
  },
  {
   "cell_type": "code",
   "execution_count": 68,
   "metadata": {},
   "outputs": [],
   "source": [
    "\"\"\"\n",
    "method 2 - random size padding\n",
    "crop images followed as original coordiantes\n",
    "\"\"\"\n",
    "def get_crop_image_by_coords_pad_random(img_path, coords, num_images=1):\n",
    "    img = Image.open(img_path)\n",
    "    o_width = img.size[0]\n",
    "    o_height = img.size[1]\n",
    "\n",
    "    transpose_x1_coords = np.transpose(coords)[0]\n",
    "    transpose_y1_coords = np.transpose(coords)[1]\n",
    "    transpose_x1_coords = list(map(int, transpose_x1_coords))\n",
    "    transpose_y1_coords = list(map(int, transpose_y1_coords))\n",
    "\n",
    "    transpose_x2_coords = np.transpose(coords)[2]\n",
    "    transpose_y2_coords = np.transpose(coords)[3]\n",
    "    transpose_x2_coords = list(map(int, transpose_x2_coords))\n",
    "    transpose_y2_coords = list(map(int, transpose_y2_coords))\n",
    "\n",
    "    transpose_x3_coords = np.transpose(coords)[4]\n",
    "    transpose_y3_coords = np.transpose(coords)[5]\n",
    "    transpose_x3_coords = list(map(int, transpose_x3_coords))\n",
    "    transpose_y3_coords = list(map(int, transpose_y3_coords))\n",
    "\n",
    "    transpose_x4_coords = np.transpose(coords)[6]\n",
    "    transpose_y4_coords = np.transpose(coords)[7]\n",
    "    transpose_x4_coords = list(map(int, transpose_x4_coords))\n",
    "    transpose_y4_coords = list(map(int, transpose_y4_coords))\n",
    "\n",
    "    transpose_chars = np.transpose(coords)[8]\n",
    "    \n",
    "    sample_list = []\n",
    "    coords_list = []\n",
    "    \n",
    "    img_cnt = 0\n",
    "\n",
    "    for _ in range(np.random.randint(5, 10)):\n",
    "        # [-4  5  9  3] --> left right up bottom\n",
    "        # num_images --> coords imags\n",
    "        for idx in range(num_images):\n",
    "            # pdd = np.random.randint(-5,10,4)\n",
    "            pdd = np.random.randint(-5,5,4)\n",
    "            base_idx = idx\n",
    "            while True:\n",
    "                if (transpose_x3_coords[base_idx] - transpose_x1_coords[base_idx] <= 20) or (transpose_y3_coords[base_idx] - transpose_x1_coords[base_idx]<=20):\n",
    "                    new_x1 = transpose_x1_coords[base_idx]\n",
    "                    new_y1 = transpose_y1_coords[base_idx]\n",
    "                    new_x2 = transpose_x2_coords[base_idx]\n",
    "                    new_y2 = transpose_y2_coords[base_idx]\n",
    "                    new_x3 = transpose_x3_coords[base_idx]\n",
    "                    new_y3 = transpose_y3_coords[base_idx]\n",
    "                    new_x4 = transpose_x4_coords[base_idx]\n",
    "                    new_y4 = transpose_y4_coords[base_idx]\n",
    "                    break\n",
    "                else:\n",
    "                    new_x1 = transpose_x1_coords[base_idx] - pdd[0] # pad left\n",
    "                    new_y1 = transpose_y1_coords[base_idx] - pdd[2] # pad up\n",
    "\n",
    "                    new_x3 = transpose_x3_coords[base_idx] + pdd[1] # pad right\n",
    "                    new_y3 = transpose_y3_coords[base_idx] + pdd[3] # pad bottom\n",
    "\n",
    "                    new_x2 = new_x3\n",
    "                    new_y2 = new_y1\n",
    "\n",
    "                    new_x4 = new_x1\n",
    "                    new_y4 = new_y3\n",
    "\n",
    "                    if (new_x1 < 0) or (new_x4 < 0) or (new_x2 > o_width) or (new_x3 > o_width):\n",
    "                        print(\"[problem] x coords\")\n",
    "                        pdd = np.random.randint(-5,10,4)\n",
    "                        continue\n",
    "                    if (new_y1 < 0) or (new_y2 < 0) or (new_y3 > o_height) or (new_y3 > o_height):\n",
    "                        print(\"[problem] y coords\")\n",
    "                        pdd = np.random.randint(-5,10,4)\n",
    "                        continue\n",
    "                    break\n",
    "\n",
    "            crop_img = img.crop((new_x1, new_y1, new_x3, new_y3))\n",
    "            if (crop_img.size[0]) > 0 and (crop_img.size[1] > 0):\n",
    "                sample_list.append(crop_img)\n",
    "                coords_list.append([new_x1, new_y1, new_x2, new_y2, new_x3, new_y3, new_x4, new_y4,\n",
    "                                    transpose_chars[base_idx]])\n",
    "\n",
    "                img_cnt = img_cnt + 1\n",
    "\n",
    "    return sample_list, coords_list, img_cnt"
   ]
  },
  {
   "cell_type": "code",
   "execution_count": 6,
   "metadata": {},
   "outputs": [],
   "source": [
    "\"\"\"\n",
    "method 3 - fixed size padding\n",
    "crop images followed as original coordiantes\n",
    "\"\"\"\n",
    "def get_crop_image_by_coords_pad(img_path, coords, num_images=1, pad_max=5):\n",
    "    img = Image.open(img_path)\n",
    "    o_width = img.size[0]\n",
    "    o_height = img.size[1]\n",
    "\n",
    "    transpose_x1_coords = np.transpose(coords)[0]\n",
    "    transpose_y1_coords = np.transpose(coords)[1]\n",
    "    transpose_x1_coords = list(map(int, transpose_x1_coords))\n",
    "    transpose_y1_coords = list(map(int, transpose_y1_coords))\n",
    "\n",
    "    transpose_x2_coords = np.transpose(coords)[2]\n",
    "    transpose_y2_coords = np.transpose(coords)[3]\n",
    "    transpose_x2_coords = list(map(int, transpose_x2_coords))\n",
    "    transpose_y2_coords = list(map(int, transpose_y2_coords))\n",
    "\n",
    "    transpose_x3_coords = np.transpose(coords)[4]\n",
    "    transpose_y3_coords = np.transpose(coords)[5]\n",
    "    transpose_x3_coords = list(map(int, transpose_x3_coords))\n",
    "    transpose_y3_coords = list(map(int, transpose_y3_coords))\n",
    "\n",
    "    transpose_x4_coords = np.transpose(coords)[6]\n",
    "    transpose_y4_coords = np.transpose(coords)[7]\n",
    "    transpose_x4_coords = list(map(int, transpose_x4_coords))\n",
    "    transpose_y4_coords = list(map(int, transpose_y4_coords))\n",
    "\n",
    "    transpose_chars = np.transpose(coords)[8]\n",
    "    \n",
    "    \"\"\"\n",
    "    pad_type\n",
    "    1) left ←\n",
    "    2) right →\n",
    "    3) up ↑\n",
    "    4) bottom ↓\n",
    "    5) all ←, →, ↑, ↓\n",
    "    \"\"\"\n",
    "    # 1~5\n",
    "    # p_size = np.random.randint(1, pad_max)\n",
    "    p_size = pad_max # only 5 pix\n",
    "    #pad_type = [\"left\", \"right\", \"up\", \"bottom\", \"all\"]\n",
    "    pad_type = [\"all\"]\n",
    "\n",
    "    sample_list = []\n",
    "    coords_list = []\n",
    "    \n",
    "    for pad_idx in range(len(pad_type)):\n",
    "        for idx in range(num_images):\n",
    "            base_idx = idx\n",
    "\n",
    "            new_x1 = transpose_x1_coords[base_idx]\n",
    "            new_y1 = transpose_y1_coords[base_idx]\n",
    "\n",
    "            new_x2 = transpose_x2_coords[base_idx]\n",
    "            new_y2 = transpose_y2_coords[base_idx]\n",
    "\n",
    "            new_x3 = transpose_x3_coords[base_idx]\n",
    "            new_y3 = transpose_y3_coords[base_idx]\n",
    "\n",
    "            new_x4 = transpose_x4_coords[base_idx]\n",
    "            new_y4 = transpose_y4_coords[base_idx]\n",
    "            \n",
    "            if pad_type[pad_idx] == \"left\":\n",
    "                new_x1 = new_x1 - p_size\n",
    "                new_x4 = new_x4 - p_size\n",
    "            elif pad_type[pad_idx] == \"right\":\n",
    "                new_x2 = new_x2 + p_size\n",
    "                new_x3 = new_x3 + p_size\n",
    "            elif pad_type[pad_idx] == \"up\":\n",
    "                new_y1 = new_y1 - p_size\n",
    "                new_y2 = new_y2 - p_size\n",
    "            elif pad_type[pad_idx] == \"bottom\":\n",
    "                new_y3 = new_y3 + p_size\n",
    "                new_y4 = new_y4 + p_size\n",
    "            else:\n",
    "                new_x1 = new_x1 - p_size\n",
    "                new_y1 = new_y1 - p_size\n",
    "                \n",
    "                new_x2 = new_x2 + p_size\n",
    "                new_y2 = new_y2 - p_size\n",
    "                \n",
    "                new_x3 = new_x3 + p_size\n",
    "                new_y3 = new_y3 + p_size\n",
    "                \n",
    "                new_x4 = new_x4 - p_size\n",
    "                new_y4 = new_y4 + p_size\n",
    "                \n",
    "                \n",
    "            crop_img = img.crop((new_x1, new_y1, new_x3, new_y3))\n",
    "            sample_list.append(crop_img)\n",
    "            coords_list.append([new_x1, new_y1, new_x2, new_y2, new_x3, new_y3, new_x4, new_y4,\n",
    "                                transpose_chars[base_idx]])\n",
    "\n",
    "    return sample_list, coords_list"
   ]
  },
  {
   "cell_type": "code",
   "execution_count": 13,
   "metadata": {},
   "outputs": [
    {
     "name": "stdout",
     "output_type": "stream",
     "text": [
      "[ 0  1 -3 -1]\n",
      "[ 2  2  1 -2]\n",
      "[-3  1 -2  2]\n",
      "[-1 -1  0  1]\n",
      "[ 2 -1  2  1]\n",
      "[ 2  0  1 -2]\n",
      "[ 0  0  0 -3]\n",
      "[-3  0 -2 -2]\n",
      "[-3  0  1 -1]\n",
      "[ 2 -3  1  0]\n"
     ]
    }
   ],
   "source": [
    "for _ in range(10):\n",
    "    pdd = np.random.randint(-3,3,4)\n",
    "    print(pdd)"
   ]
  },
  {
   "cell_type": "code",
   "execution_count": 10,
   "metadata": {},
   "outputs": [
    {
     "name": "stderr",
     "output_type": "stream",
     "text": [
      "\r",
      "  0%|          | 0/361 [00:00<?, ?it/s]"
     ]
    },
    {
     "name": "stdout",
     "output_type": "stream",
     "text": [
      "... created db :  recog_test_all_pad5_valid_0001\n"
     ]
    },
    {
     "name": "stderr",
     "output_type": "stream",
     "text": [
      "100%|██████████| 361/361 [40:18<00:00,  6.70s/it]\n"
     ]
    }
   ],
   "source": [
    "\"\"\"\n",
    "temp\n",
    "\"\"\"\n",
    "def get_crop_image_by_coords_2(img_path, coords, num_images=1):\n",
    "    img = Image.open(img_path)\n",
    "    o_width = img.size[0]\n",
    "    o_height = img.size[1]\n",
    "    \n",
    "    transpose_x1_coords = np.transpose(coords)[0]\n",
    "    transpose_y1_coords = np.transpose(coords)[1]\n",
    "    transpose_x1_coords = list(map(int, transpose_x1_coords)) \n",
    "    transpose_y1_coords = list(map(int, transpose_y1_coords))\n",
    "    \n",
    "    transpose_x2_coords = np.transpose(coords)[2]\n",
    "    transpose_y2_coords = np.transpose(coords)[3]\n",
    "    transpose_x2_coords = list(map(int, transpose_x2_coords)) \n",
    "    transpose_y2_coords = list(map(int, transpose_y2_coords))    \n",
    "    \n",
    "    transpose_x3_coords = np.transpose(coords)[4]\n",
    "    transpose_y3_coords = np.transpose(coords)[5]\n",
    "    transpose_x3_coords = list(map(int, transpose_x3_coords)) \n",
    "    transpose_y3_coords = list(map(int, transpose_y3_coords))\n",
    "\n",
    "    transpose_x4_coords = np.transpose(coords)[6]\n",
    "    transpose_y4_coords = np.transpose(coords)[7]\n",
    "    transpose_x4_coords = list(map(int, transpose_x4_coords)) \n",
    "    transpose_y4_coords = list(map(int, transpose_y4_coords))\n",
    "    \n",
    "    transpose_chars = np.transpose(coords)[8]\n",
    "    \n",
    "    pad_size = 5\n",
    "    sample_list = []\n",
    "    coords_list = []\n",
    "    for idx in range(num_images):\n",
    "        base_idx = idx\n",
    "\n",
    "        new_x1 = transpose_x1_coords[base_idx] - pad_size\n",
    "        new_y1 = transpose_y1_coords[base_idx] - pad_size\n",
    "\n",
    "        new_x2 = transpose_x2_coords[base_idx] + pad_size\n",
    "        new_y2 = transpose_y2_coords[base_idx] - pad_size\n",
    "\n",
    "        new_x3 = transpose_x3_coords[base_idx] + pad_size\n",
    "        new_y3 = transpose_y3_coords[base_idx] + pad_size\n",
    "\n",
    "        new_x4 = transpose_x4_coords[base_idx] - pad_size\n",
    "        new_y4 = transpose_y4_coords[base_idx] + pad_size\n",
    "    \n",
    "        crop_img = img.crop((new_x1,\n",
    "                             new_y1,\n",
    "                             new_x3,\n",
    "                             new_y3))\n",
    "        sample_list.append(crop_img)\n",
    "        coords_list.append([new_x1, new_y1, new_x2, new_y2, new_x3, new_y3, new_x4, new_y4,\n",
    "                           transpose_chars[base_idx]])\n",
    "\n",
    "    return sample_list, coords_list\n",
    "\n",
    "\"\"\"\n",
    "run1: create data - no padding (use get_crop_image_by_coords)\n",
    "\"\"\"\n",
    "datadir = '/media/myungsungkwak/msdisk/docrv2_sroie/data/test_task12_img_text/'\n",
    "img_files = glob(datadir+'*.jpg')\n",
    "txt_files = glob(datadir+'*.txt')\n",
    "\n",
    "crop_images = []\n",
    "coords_table = []\n",
    "\n",
    "# create db : db_name_0001~000N\n",
    "datadb = create_database(1, \"recog_test_all_pad5_valid\")\n",
    "num_images = 1\n",
    "db_start_idx = 0\n",
    "for idx in tqdm(range(len(img_files))):\n",
    "    refname = os.path.basename(img_files[idx])[:-4]\n",
    "    txt_filepath = os.path.join(datadir, refname+'.txt')\n",
    "    coords_table.append(get_coords_from_image(txt_filepath))\n",
    "\n",
    "    num_images = len(coords_table[idx])\n",
    "\n",
    "    crop_img, crop_coords = get_crop_image_by_coords_2(img_files[idx], coords_table[idx], num_images=num_images)\n",
    "    update_database(datadb, crop_img, crop_coords, refname, db_start_idx)\n",
    "    db_start_idx = db_start_idx + num_images\n",
    "\n",
    "del coords_table[:][:]"
   ]
  },
  {
   "cell_type": "code",
   "execution_count": 20,
   "metadata": {},
   "outputs": [],
   "source": [
    "\"\"\"\n",
    "test\n",
    "\"\"\"\n",
    "valid_db_name = \"recog_test_task2_all_0001\"x\n",
    "valid_db = open_env(os.path.join(common_variable['database']['DB_BASE'],valid_db_name))\n",
    "imgs = read_bulk_data_from_db(valid_db, prefix='img')"
   ]
  },
  {
   "cell_type": "code",
   "execution_count": 43,
   "metadata": {},
   "outputs": [
    {
     "name": "stderr",
     "output_type": "stream",
     "text": [
      "\n",
      "100%|██████████| 27/27 [00:00<00:00, 3781.68it/s]"
     ]
    },
    {
     "name": "stdout",
     "output_type": "stream",
     "text": [
      "27\n",
      "27\n"
     ]
    },
    {
     "name": "stderr",
     "output_type": "stream",
     "text": [
      "\n"
     ]
    }
   ],
   "source": [
    "# #refresh_main_db()\n",
    "# \"\"\"\n",
    "# \"\"\"\n",
    "# import shutil\n",
    "# temp_datadir = '/media/myungsungkwak/msdisk/docrv2_data/task2_train_u80_aug_fax_style_2/'\n",
    "# train_all_datadir = '/media/myungsungkwak/msdisk/docrv2_sroie/data/train_task1_crop/'\n",
    "# temp_img_files = glob(temp_datadir+'*.jpg')\n",
    "# temp_txt_files = glob(temp_datadir+'*.txt')\n",
    "\n",
    "# print(len(temp_img_files))\n",
    "# print(len(temp_txt_files))\n",
    "# # print(img_files)\n",
    "# for idx in tqdm(range(len(temp_img_files))):\n",
    "#     refname = os.path.basename(temp_img_files[idx])[:-4]\n",
    "#     txt_filepath = os.path.join(train_all_datadir, refname+'.txt')\n",
    "# #     print(temp_img_files[idx])\n",
    "# #     print(refname)\n",
    "# #     print(txt_filepath)\n",
    "#     shutil.copy(txt_filepath, temp_datadir)"
   ]
  },
  {
   "cell_type": "code",
   "execution_count": null,
   "metadata": {},
   "outputs": [],
   "source": []
  },
  {
   "cell_type": "code",
   "execution_count": null,
   "metadata": {},
   "outputs": [],
   "source": []
  },
  {
   "cell_type": "code",
   "execution_count": 69,
   "metadata": {
    "scrolled": true
   },
   "outputs": [
    {
     "name": "stderr",
     "output_type": "stream",
     "text": [
      "\n",
      "  0%|          | 0/54 [00:00<?, ?it/s]\u001b[A"
     ]
    },
    {
     "name": "stdout",
     "output_type": "stream",
     "text": [
      "[/media/myungsungkwak/msdisk/docrv2_data/task2_train_u80_aug_fax_style_1/]\n",
      "... created db :  recog_train_task2_random_pad5_u80_fax_style_0001\n",
      "> imgs : 0. /media/myungsungkwak/msdisk/docrv2_data/task2_train_u80_aug_fax_style_1/X51005745183.jpg\n",
      "> text : 0. /media/myungsungkwak/msdisk/docrv2_data/task2_train_u80_aug_fax_style_1/X51005745183.txt\n",
      "- orig imgs : 40, len(crimg) : 320, created imgs : 320, start_db_idx : 0, end_db_idx : 320\n"
     ]
    },
    {
     "name": "stderr",
     "output_type": "stream",
     "text": [
      "\n",
      "  2%|▏         | 1/54 [00:30<27:08, 30.72s/it]\u001b[A"
     ]
    },
    {
     "name": "stdout",
     "output_type": "stream",
     "text": [
      "> imgs : 1. /media/myungsungkwak/msdisk/docrv2_data/task2_train_u80_aug_fax_style_1/X51005447848.jpg\n",
      "> text : 1. /media/myungsungkwak/msdisk/docrv2_data/task2_train_u80_aug_fax_style_1/X51005447848.txt\n",
      "- orig imgs : 75, len(crimg) : 600, created imgs : 600, start_db_idx : 320, end_db_idx : 920\n"
     ]
    },
    {
     "name": "stderr",
     "output_type": "stream",
     "text": [
      "\n",
      "  4%|▎         | 2/54 [01:30<34:09, 39.42s/it]\u001b[A"
     ]
    },
    {
     "name": "stdout",
     "output_type": "stream",
     "text": [
      "> imgs : 2. /media/myungsungkwak/msdisk/docrv2_data/task2_train_u80_aug_fax_style_1/X51005677329.jpg\n",
      "> text : 2. /media/myungsungkwak/msdisk/docrv2_data/task2_train_u80_aug_fax_style_1/X51005677329.txt\n",
      "- orig imgs : 58, len(crimg) : 406, created imgs : 406, start_db_idx : 920, end_db_idx : 1326\n"
     ]
    },
    {
     "name": "stderr",
     "output_type": "stream",
     "text": [
      "\n",
      "  6%|▌         | 3/54 [02:14<34:45, 40.89s/it]\u001b[A"
     ]
    },
    {
     "name": "stdout",
     "output_type": "stream",
     "text": [
      "> imgs : 3. /media/myungsungkwak/msdisk/docrv2_data/task2_train_u80_aug_fax_style_1/X51005677335.jpg\n",
      "> text : 3. /media/myungsungkwak/msdisk/docrv2_data/task2_train_u80_aug_fax_style_1/X51005677335.txt\n",
      "- orig imgs : 64, len(crimg) : 576, created imgs : 576, start_db_idx : 1326, end_db_idx : 1902\n"
     ]
    },
    {
     "name": "stderr",
     "output_type": "stream",
     "text": [
      "\n",
      "  7%|▋         | 4/54 [03:16<39:15, 47.11s/it]\u001b[A"
     ]
    },
    {
     "name": "stdout",
     "output_type": "stream",
     "text": [
      "> imgs : 4. /media/myungsungkwak/msdisk/docrv2_data/task2_train_u80_aug_fax_style_1/X51005763940.jpg\n",
      "> text : 4. /media/myungsungkwak/msdisk/docrv2_data/task2_train_u80_aug_fax_style_1/X51005763940.txt\n",
      "- orig imgs : 53, len(crimg) : 318, created imgs : 318, start_db_idx : 1902, end_db_idx : 2220\n"
     ]
    },
    {
     "name": "stderr",
     "output_type": "stream",
     "text": [
      "\n",
      "  9%|▉         | 5/54 [03:51<35:31, 43.50s/it]\u001b[A"
     ]
    },
    {
     "name": "stdout",
     "output_type": "stream",
     "text": [
      "> imgs : 5. /media/myungsungkwak/msdisk/docrv2_data/task2_train_u80_aug_fax_style_1/X51005337872.jpg\n",
      "> text : 5. /media/myungsungkwak/msdisk/docrv2_data/task2_train_u80_aug_fax_style_1/X51005337872.txt\n",
      "- orig imgs : 59, len(crimg) : 531, created imgs : 531, start_db_idx : 2220, end_db_idx : 2751\n"
     ]
    },
    {
     "name": "stderr",
     "output_type": "stream",
     "text": [
      "\n",
      " 11%|█         | 6/54 [04:46<37:28, 46.84s/it]\u001b[A"
     ]
    },
    {
     "name": "stdout",
     "output_type": "stream",
     "text": [
      "> imgs : 6. /media/myungsungkwak/msdisk/docrv2_data/task2_train_u80_aug_fax_style_1/X51005663301.jpg\n",
      "> text : 6. /media/myungsungkwak/msdisk/docrv2_data/task2_train_u80_aug_fax_style_1/X51005663301.txt\n",
      "- orig imgs : 42, len(crimg) : 252, created imgs : 252, start_db_idx : 2751, end_db_idx : 3003\n"
     ]
    },
    {
     "name": "stderr",
     "output_type": "stream",
     "text": [
      "\n",
      " 13%|█▎        | 7/54 [05:14<32:19, 41.27s/it]\u001b[A"
     ]
    },
    {
     "name": "stdout",
     "output_type": "stream",
     "text": [
      "> imgs : 7. /media/myungsungkwak/msdisk/docrv2_data/task2_train_u80_aug_fax_style_1/X51005719914.jpg\n",
      "> text : 7. /media/myungsungkwak/msdisk/docrv2_data/task2_train_u80_aug_fax_style_1/X51005719914.txt\n",
      "- orig imgs : 79, len(crimg) : 632, created imgs : 632, start_db_idx : 3003, end_db_idx : 3635\n"
     ]
    },
    {
     "name": "stderr",
     "output_type": "stream",
     "text": [
      "\n",
      " 15%|█▍        | 8/54 [06:26<38:43, 50.51s/it]\u001b[A"
     ]
    },
    {
     "name": "stdout",
     "output_type": "stream",
     "text": [
      "> imgs : 8. /media/myungsungkwak/msdisk/docrv2_data/task2_train_u80_aug_fax_style_1/X51005715010.jpg\n",
      "> text : 8. /media/myungsungkwak/msdisk/docrv2_data/task2_train_u80_aug_fax_style_1/X51005715010.txt\n",
      "- orig imgs : 56, len(crimg) : 504, created imgs : 504, start_db_idx : 3635, end_db_idx : 4139\n"
     ]
    },
    {
     "name": "stderr",
     "output_type": "stream",
     "text": [
      "\n",
      " 17%|█▋        | 9/54 [07:22<39:08, 52.20s/it]\u001b[A"
     ]
    },
    {
     "name": "stdout",
     "output_type": "stream",
     "text": [
      "> imgs : 9. /media/myungsungkwak/msdisk/docrv2_data/task2_train_u80_aug_fax_style_1/X51006387812.jpg\n",
      "> text : 9. /media/myungsungkwak/msdisk/docrv2_data/task2_train_u80_aug_fax_style_1/X51006387812.txt\n",
      "- orig imgs : 73, len(crimg) : 511, created imgs : 511, start_db_idx : 4139, end_db_idx : 4650\n"
     ]
    },
    {
     "name": "stderr",
     "output_type": "stream",
     "text": [
      "\n",
      " 19%|█▊        | 10/54 [08:20<39:33, 53.93s/it]\u001b[A"
     ]
    },
    {
     "name": "stdout",
     "output_type": "stream",
     "text": [
      "> imgs : 10. /media/myungsungkwak/msdisk/docrv2_data/task2_train_u80_aug_fax_style_1/X51005441402.jpg\n",
      "> text : 10. /media/myungsungkwak/msdisk/docrv2_data/task2_train_u80_aug_fax_style_1/X51005441402.txt\n",
      "- orig imgs : 41, len(crimg) : 328, created imgs : 328, start_db_idx : 4650, end_db_idx : 4978\n"
     ]
    },
    {
     "name": "stderr",
     "output_type": "stream",
     "text": [
      "\n",
      " 20%|██        | 11/54 [08:57<35:00, 48.85s/it]\u001b[A"
     ]
    },
    {
     "name": "stdout",
     "output_type": "stream",
     "text": [
      "> imgs : 11. /media/myungsungkwak/msdisk/docrv2_data/task2_train_u80_aug_fax_style_1/X51006387850.jpg\n",
      "> text : 11. /media/myungsungkwak/msdisk/docrv2_data/task2_train_u80_aug_fax_style_1/X51006387850.txt\n",
      "- orig imgs : 50, len(crimg) : 250, created imgs : 250, start_db_idx : 4978, end_db_idx : 5228\n"
     ]
    },
    {
     "name": "stderr",
     "output_type": "stream",
     "text": [
      "\n",
      " 22%|██▏       | 12/54 [09:26<30:02, 42.92s/it]\u001b[A"
     ]
    },
    {
     "name": "stdout",
     "output_type": "stream",
     "text": [
      "> imgs : 12. /media/myungsungkwak/msdisk/docrv2_data/task2_train_u80_aug_fax_style_1/X51005444045.jpg\n",
      "> text : 12. /media/myungsungkwak/msdisk/docrv2_data/task2_train_u80_aug_fax_style_1/X51005444045.txt\n",
      "- orig imgs : 26, len(crimg) : 182, created imgs : 182, start_db_idx : 5228, end_db_idx : 5410\n"
     ]
    },
    {
     "name": "stderr",
     "output_type": "stream",
     "text": [
      "\n",
      " 24%|██▍       | 13/54 [09:49<25:11, 36.86s/it]\u001b[A"
     ]
    },
    {
     "name": "stdout",
     "output_type": "stream",
     "text": [
      "> imgs : 13. /media/myungsungkwak/msdisk/docrv2_data/task2_train_u80_aug_fax_style_1/X51005568881.jpg\n",
      "> text : 13. /media/myungsungkwak/msdisk/docrv2_data/task2_train_u80_aug_fax_style_1/X51005568881.txt\n",
      "- orig imgs : 52, len(crimg) : 260, created imgs : 260, start_db_idx : 5410, end_db_idx : 5670\n"
     ]
    },
    {
     "name": "stderr",
     "output_type": "stream",
     "text": [
      "\n",
      " 26%|██▌       | 14/54 [10:19<23:09, 34.75s/it]\u001b[A"
     ]
    },
    {
     "name": "stdout",
     "output_type": "stream",
     "text": [
      "> imgs : 14. /media/myungsungkwak/msdisk/docrv2_data/task2_train_u80_aug_fax_style_1/X51005677334.jpg\n",
      "> text : 14. /media/myungsungkwak/msdisk/docrv2_data/task2_train_u80_aug_fax_style_1/X51005677334.txt\n",
      "- orig imgs : 64, len(crimg) : 448, created imgs : 448, start_db_idx : 5670, end_db_idx : 6118\n"
     ]
    },
    {
     "name": "stderr",
     "output_type": "stream",
     "text": [
      "\n",
      " 28%|██▊       | 15/54 [11:14<26:30, 40.78s/it]\u001b[A"
     ]
    },
    {
     "name": "stdout",
     "output_type": "stream",
     "text": [
      "> imgs : 15. /media/myungsungkwak/msdisk/docrv2_data/task2_train_u80_aug_fax_style_1/X51006329399.jpg\n",
      "> text : 15. /media/myungsungkwak/msdisk/docrv2_data/task2_train_u80_aug_fax_style_1/X51006329399.txt\n",
      "- orig imgs : 64, len(crimg) : 320, created imgs : 320, start_db_idx : 6118, end_db_idx : 6438\n"
     ]
    },
    {
     "name": "stderr",
     "output_type": "stream",
     "text": [
      "\n",
      " 30%|██▉       | 16/54 [11:50<25:06, 39.64s/it]\u001b[A"
     ]
    },
    {
     "name": "stdout",
     "output_type": "stream",
     "text": [
      "> imgs : 16. /media/myungsungkwak/msdisk/docrv2_data/task2_train_u80_aug_fax_style_1/X51005746140.jpg\n",
      "> text : 16. /media/myungsungkwak/msdisk/docrv2_data/task2_train_u80_aug_fax_style_1/X51005746140.txt\n",
      "- orig imgs : 45, len(crimg) : 405, created imgs : 405, start_db_idx : 6438, end_db_idx : 6843\n"
     ]
    },
    {
     "name": "stderr",
     "output_type": "stream",
     "text": [
      "\n",
      " 31%|███▏      | 17/54 [12:37<25:37, 41.55s/it]\u001b[A"
     ]
    },
    {
     "name": "stdout",
     "output_type": "stream",
     "text": [
      "> imgs : 17. /media/myungsungkwak/msdisk/docrv2_data/task2_train_u80_aug_fax_style_1/X51005447839.jpg\n",
      "> text : 17. /media/myungsungkwak/msdisk/docrv2_data/task2_train_u80_aug_fax_style_1/X51005447839.txt\n",
      "- orig imgs : 53, len(crimg) : 477, created imgs : 477, start_db_idx : 6843, end_db_idx : 7320\n"
     ]
    },
    {
     "name": "stderr",
     "output_type": "stream",
     "text": [
      "\n",
      " 33%|███▎      | 18/54 [13:32<27:29, 45.81s/it]\u001b[A"
     ]
    },
    {
     "name": "stdout",
     "output_type": "stream",
     "text": [
      "> imgs : 18. /media/myungsungkwak/msdisk/docrv2_data/task2_train_u80_aug_fax_style_1/X51005677331.jpg\n",
      "> text : 18. /media/myungsungkwak/msdisk/docrv2_data/task2_train_u80_aug_fax_style_1/X51005677331.txt\n",
      "- orig imgs : 70, len(crimg) : 560, created imgs : 560, start_db_idx : 7320, end_db_idx : 7880\n"
     ]
    },
    {
     "name": "stderr",
     "output_type": "stream",
     "text": [
      "\n",
      " 35%|███▌      | 19/54 [14:39<30:21, 52.04s/it]\u001b[A"
     ]
    },
    {
     "name": "stdout",
     "output_type": "stream",
     "text": [
      "> imgs : 19. /media/myungsungkwak/msdisk/docrv2_data/task2_train_u80_aug_fax_style_1/X51006350763.jpg\n",
      "> text : 19. /media/myungsungkwak/msdisk/docrv2_data/task2_train_u80_aug_fax_style_1/X51006350763.txt\n",
      "- orig imgs : 44, len(crimg) : 220, created imgs : 220, start_db_idx : 7880, end_db_idx : 8100\n"
     ]
    },
    {
     "name": "stderr",
     "output_type": "stream",
     "text": [
      "\n",
      " 37%|███▋      | 20/54 [15:04<24:53, 43.93s/it]\u001b[A"
     ]
    },
    {
     "name": "stdout",
     "output_type": "stream",
     "text": [
      "> imgs : 20. /media/myungsungkwak/msdisk/docrv2_data/task2_train_u80_aug_fax_style_1/X51006329402.jpg\n",
      "> text : 20. /media/myungsungkwak/msdisk/docrv2_data/task2_train_u80_aug_fax_style_1/X51006329402.txt\n",
      "- orig imgs : 36, len(crimg) : 288, created imgs : 288, start_db_idx : 8100, end_db_idx : 8388\n"
     ]
    },
    {
     "name": "stderr",
     "output_type": "stream",
     "text": [
      "\n",
      " 39%|███▉      | 21/54 [15:39<22:43, 41.31s/it]\u001b[A"
     ]
    },
    {
     "name": "stdout",
     "output_type": "stream",
     "text": [
      "> imgs : 21. /media/myungsungkwak/msdisk/docrv2_data/task2_train_u80_aug_fax_style_1/X51006328913.jpg\n",
      "> text : 21. /media/myungsungkwak/msdisk/docrv2_data/task2_train_u80_aug_fax_style_1/X51006328913.txt\n",
      "- orig imgs : 43, len(crimg) : 215, created imgs : 215, start_db_idx : 8388, end_db_idx : 8603\n"
     ]
    },
    {
     "name": "stderr",
     "output_type": "stream",
     "text": [
      "\n",
      " 41%|████      | 22/54 [16:04<19:27, 36.48s/it]\u001b[A"
     ]
    },
    {
     "name": "stdout",
     "output_type": "stream",
     "text": [
      "> imgs : 22. /media/myungsungkwak/msdisk/docrv2_data/task2_train_u80_aug_fax_style_1/X51005745187.jpg\n",
      "> text : 22. /media/myungsungkwak/msdisk/docrv2_data/task2_train_u80_aug_fax_style_1/X51005745187.txt\n",
      "- orig imgs : 60, len(crimg) : 300, created imgs : 300, start_db_idx : 8603, end_db_idx : 8903\n"
     ]
    },
    {
     "name": "stderr",
     "output_type": "stream",
     "text": [
      "\n",
      " 43%|████▎     | 23/54 [16:39<18:33, 35.92s/it]\u001b[A"
     ]
    },
    {
     "name": "stdout",
     "output_type": "stream",
     "text": [
      "> imgs : 23. /media/myungsungkwak/msdisk/docrv2_data/task2_train_u80_aug_fax_style_1/X51005441408.jpg\n",
      "> text : 23. /media/myungsungkwak/msdisk/docrv2_data/task2_train_u80_aug_fax_style_1/X51005441408.txt\n",
      "- orig imgs : 43, len(crimg) : 344, created imgs : 344, start_db_idx : 8903, end_db_idx : 9247\n"
     ]
    },
    {
     "name": "stderr",
     "output_type": "stream",
     "text": [
      "\n",
      " 44%|████▍     | 24/54 [17:21<18:51, 37.71s/it]\u001b[A"
     ]
    },
    {
     "name": "stdout",
     "output_type": "stream",
     "text": [
      "> imgs : 24. /media/myungsungkwak/msdisk/docrv2_data/task2_train_u80_aug_fax_style_1/X51005719912.jpg\n",
      "> text : 24. /media/myungsungkwak/msdisk/docrv2_data/task2_train_u80_aug_fax_style_1/X51005719912.txt\n",
      "- orig imgs : 51, len(crimg) : 408, created imgs : 408, start_db_idx : 9247, end_db_idx : 9655\n"
     ]
    },
    {
     "name": "stderr",
     "output_type": "stream",
     "text": [
      "\n",
      " 46%|████▋     | 25/54 [18:11<20:00, 41.39s/it]\u001b[A"
     ]
    },
    {
     "name": "stdout",
     "output_type": "stream",
     "text": [
      "> imgs : 25. /media/myungsungkwak/msdisk/docrv2_data/task2_train_u80_aug_fax_style_1/X51005715456.jpg\n",
      "> text : 25. /media/myungsungkwak/msdisk/docrv2_data/task2_train_u80_aug_fax_style_1/X51005715456.txt\n",
      "- orig imgs : 67, len(crimg) : 469, created imgs : 469, start_db_idx : 9655, end_db_idx : 10124\n"
     ]
    },
    {
     "name": "stderr",
     "output_type": "stream",
     "text": [
      "\n",
      " 48%|████▊     | 26/54 [19:07<21:23, 45.85s/it]\u001b[A"
     ]
    },
    {
     "name": "stdout",
     "output_type": "stream",
     "text": [
      "> imgs : 26. /media/myungsungkwak/msdisk/docrv2_data/task2_train_u80_aug_fax_style_1/X51006332649.jpg\n",
      "> text : 26. /media/myungsungkwak/msdisk/docrv2_data/task2_train_u80_aug_fax_style_1/X51006332649.txt\n",
      "- orig imgs : 58, len(crimg) : 406, created imgs : 406, start_db_idx : 10124, end_db_idx : 10530\n"
     ]
    },
    {
     "name": "stderr",
     "output_type": "stream",
     "text": [
      "\n",
      " 50%|█████     | 27/54 [19:55<20:51, 46.35s/it]\u001b[A"
     ]
    },
    {
     "name": "stdout",
     "output_type": "stream",
     "text": [
      "> imgs : 27. /media/myungsungkwak/msdisk/docrv2_data/task2_train_u80_aug_fax_style_1/X51006388082.jpg\n",
      "> text : 27. /media/myungsungkwak/msdisk/docrv2_data/task2_train_u80_aug_fax_style_1/X51006388082.txt\n",
      "- orig imgs : 46, len(crimg) : 414, created imgs : 414, start_db_idx : 10530, end_db_idx : 10944\n"
     ]
    },
    {
     "name": "stderr",
     "output_type": "stream",
     "text": [
      "\n",
      " 52%|█████▏    | 28/54 [20:42<20:17, 46.84s/it]\u001b[A"
     ]
    },
    {
     "name": "stdout",
     "output_type": "stream",
     "text": [
      "> imgs : 28. /media/myungsungkwak/msdisk/docrv2_data/task2_train_u80_aug_fax_style_1/X51005605333.jpg\n",
      "> text : 28. /media/myungsungkwak/msdisk/docrv2_data/task2_train_u80_aug_fax_style_1/X51005605333.txt\n",
      "- orig imgs : 45, len(crimg) : 315, created imgs : 315, start_db_idx : 10944, end_db_idx : 11259\n"
     ]
    },
    {
     "name": "stderr",
     "output_type": "stream",
     "text": [
      "\n",
      " 54%|█████▎    | 29/54 [21:21<18:29, 44.36s/it]\u001b[A"
     ]
    },
    {
     "name": "stdout",
     "output_type": "stream",
     "text": [
      "> imgs : 29. /media/myungsungkwak/msdisk/docrv2_data/task2_train_u80_aug_fax_style_1/X51006350750.jpg\n",
      "> text : 29. /media/myungsungkwak/msdisk/docrv2_data/task2_train_u80_aug_fax_style_1/X51006350750.txt\n",
      "- orig imgs : 44, len(crimg) : 396, created imgs : 396, start_db_idx : 11259, end_db_idx : 11655\n"
     ]
    },
    {
     "name": "stderr",
     "output_type": "stream",
     "text": [
      "\n",
      " 56%|█████▌    | 30/54 [22:09<18:09, 45.40s/it]\u001b[A"
     ]
    },
    {
     "name": "stdout",
     "output_type": "stream",
     "text": [
      "> imgs : 30. /media/myungsungkwak/msdisk/docrv2_data/task2_train_u80_aug_fax_style_1/X51005745214.jpg\n",
      "> text : 30. /media/myungsungkwak/msdisk/docrv2_data/task2_train_u80_aug_fax_style_1/X51005745214.txt\n",
      "- orig imgs : 38, len(crimg) : 190, created imgs : 190, start_db_idx : 11655, end_db_idx : 11845\n"
     ]
    },
    {
     "name": "stderr",
     "output_type": "stream",
     "text": [
      "\n",
      " 57%|█████▋    | 31/54 [22:32<14:52, 38.79s/it]\u001b[A"
     ]
    },
    {
     "name": "stdout",
     "output_type": "stream",
     "text": [
      "> imgs : 31. /media/myungsungkwak/msdisk/docrv2_data/task2_train_u80_aug_fax_style_1/X51005715451.jpg\n",
      "> text : 31. /media/myungsungkwak/msdisk/docrv2_data/task2_train_u80_aug_fax_style_1/X51005715451.txt\n",
      "- orig imgs : 46, len(crimg) : 322, created imgs : 322, start_db_idx : 11845, end_db_idx : 12167\n"
     ]
    },
    {
     "name": "stderr",
     "output_type": "stream",
     "text": [
      "\n",
      " 59%|█████▉    | 32/54 [23:11<14:13, 38.82s/it]\u001b[A"
     ]
    },
    {
     "name": "stdout",
     "output_type": "stream",
     "text": [
      "> imgs : 32. /media/myungsungkwak/msdisk/docrv2_data/task2_train_u80_aug_fax_style_1/X51005453729.jpg\n",
      "> text : 32. /media/myungsungkwak/msdisk/docrv2_data/task2_train_u80_aug_fax_style_1/X51005453729.txt\n",
      "- orig imgs : 48, len(crimg) : 336, created imgs : 336, start_db_idx : 12167, end_db_idx : 12503\n"
     ]
    },
    {
     "name": "stderr",
     "output_type": "stream",
     "text": [
      "\n",
      " 61%|██████    | 33/54 [23:48<13:23, 38.28s/it]\u001b[A"
     ]
    },
    {
     "name": "stdout",
     "output_type": "stream",
     "text": [
      "> imgs : 33. /media/myungsungkwak/msdisk/docrv2_data/task2_train_u80_aug_fax_style_1/X51005447833.jpg\n",
      "> text : 33. /media/myungsungkwak/msdisk/docrv2_data/task2_train_u80_aug_fax_style_1/X51005447833.txt\n",
      "- orig imgs : 46, len(crimg) : 322, created imgs : 322, start_db_idx : 12503, end_db_idx : 12825\n"
     ]
    },
    {
     "name": "stderr",
     "output_type": "stream",
     "text": [
      "\n",
      " 63%|██████▎   | 34/54 [24:26<12:40, 38.04s/it]\u001b[A"
     ]
    },
    {
     "name": "stdout",
     "output_type": "stream",
     "text": [
      "> imgs : 34. /media/myungsungkwak/msdisk/docrv2_data/task2_train_u80_aug_fax_style_1/X51005745188.jpg\n",
      "> text : 34. /media/myungsungkwak/msdisk/docrv2_data/task2_train_u80_aug_fax_style_1/X51005745188.txt\n",
      "- orig imgs : 49, len(crimg) : 294, created imgs : 294, start_db_idx : 12825, end_db_idx : 13119\n"
     ]
    },
    {
     "name": "stderr",
     "output_type": "stream",
     "text": [
      "\n",
      " 65%|██████▍   | 35/54 [25:01<11:45, 37.14s/it]\u001b[A"
     ]
    },
    {
     "name": "stdout",
     "output_type": "stream",
     "text": [
      "> imgs : 35. /media/myungsungkwak/msdisk/docrv2_data/task2_train_u80_aug_fax_style_1/X51005441398.jpg\n",
      "> text : 35. /media/myungsungkwak/msdisk/docrv2_data/task2_train_u80_aug_fax_style_1/X51005441398.txt\n",
      "- orig imgs : 53, len(crimg) : 424, created imgs : 424, start_db_idx : 13119, end_db_idx : 13543\n"
     ]
    },
    {
     "name": "stderr",
     "output_type": "stream",
     "text": [
      "\n",
      " 67%|██████▋   | 36/54 [25:50<12:13, 40.77s/it]\u001b[A"
     ]
    },
    {
     "name": "stdout",
     "output_type": "stream",
     "text": [
      "> imgs : 36. /media/myungsungkwak/msdisk/docrv2_data/task2_train_u80_aug_fax_style_1/X51005676549.jpg\n",
      "> text : 36. /media/myungsungkwak/msdisk/docrv2_data/task2_train_u80_aug_fax_style_1/X51005676549.txt\n",
      "- orig imgs : 66, len(crimg) : 396, created imgs : 396, start_db_idx : 13543, end_db_idx : 13939\n"
     ]
    },
    {
     "name": "stderr",
     "output_type": "stream",
     "text": [
      "\n",
      " 69%|██████▊   | 37/54 [26:37<12:06, 42.71s/it]\u001b[A"
     ]
    },
    {
     "name": "stdout",
     "output_type": "stream",
     "text": [
      "> imgs : 37. /media/myungsungkwak/msdisk/docrv2_data/task2_train_u80_aug_fax_style_1/X51006328919.jpg\n",
      "> text : 37. /media/myungsungkwak/msdisk/docrv2_data/task2_train_u80_aug_fax_style_1/X51006328919.txt\n",
      "- orig imgs : 31, len(crimg) : 186, created imgs : 186, start_db_idx : 13939, end_db_idx : 14125\n"
     ]
    },
    {
     "name": "stderr",
     "output_type": "stream",
     "text": [
      "\n",
      " 70%|███████   | 38/54 [26:58<09:40, 36.28s/it]\u001b[A"
     ]
    },
    {
     "name": "stdout",
     "output_type": "stream",
     "text": [
      "> imgs : 38. /media/myungsungkwak/msdisk/docrv2_data/task2_train_u80_aug_fax_style_1/X51005719904.jpg\n",
      "> text : 38. /media/myungsungkwak/msdisk/docrv2_data/task2_train_u80_aug_fax_style_1/X51005719904.txt\n",
      "- orig imgs : 43, len(crimg) : 258, created imgs : 258, start_db_idx : 14125, end_db_idx : 14383\n"
     ]
    },
    {
     "name": "stderr",
     "output_type": "stream",
     "text": [
      "\n",
      " 72%|███████▏  | 39/54 [27:30<08:44, 34.96s/it]\u001b[A"
     ]
    },
    {
     "name": "stdout",
     "output_type": "stream",
     "text": [
      "> imgs : 39. /media/myungsungkwak/msdisk/docrv2_data/task2_train_u80_aug_fax_style_1/X51006334699.jpg\n",
      "> text : 39. /media/myungsungkwak/msdisk/docrv2_data/task2_train_u80_aug_fax_style_1/X51006334699.txt\n",
      "- orig imgs : 46, len(crimg) : 322, created imgs : 322, start_db_idx : 14383, end_db_idx : 14705\n"
     ]
    },
    {
     "name": "stderr",
     "output_type": "stream",
     "text": [
      "\n",
      " 74%|███████▍  | 40/54 [28:11<08:34, 36.75s/it]\u001b[A"
     ]
    },
    {
     "name": "stdout",
     "output_type": "stream",
     "text": [
      "> imgs : 40. /media/myungsungkwak/msdisk/docrv2_data/task2_train_u80_aug_fax_style_1/X51006401869.jpg\n",
      "> text : 40. /media/myungsungkwak/msdisk/docrv2_data/task2_train_u80_aug_fax_style_1/X51006401869.txt\n",
      "- orig imgs : 40, len(crimg) : 240, created imgs : 240, start_db_idx : 14705, end_db_idx : 14945\n"
     ]
    },
    {
     "name": "stderr",
     "output_type": "stream",
     "text": [
      "\n",
      " 76%|███████▌  | 41/54 [28:40<07:25, 34.26s/it]\u001b[A"
     ]
    },
    {
     "name": "stdout",
     "output_type": "stream",
     "text": [
      "> imgs : 41. /media/myungsungkwak/msdisk/docrv2_data/task2_train_u80_aug_fax_style_1/X51006388065.jpg\n",
      "> text : 41. /media/myungsungkwak/msdisk/docrv2_data/task2_train_u80_aug_fax_style_1/X51006388065.txt\n",
      "[problem] y coords\n",
      "[problem] y coords\n",
      "[problem] y coords\n",
      "[problem] y coords\n",
      "- orig imgs : 27, len(crimg) : 135, created imgs : 135, start_db_idx : 14945, end_db_idx : 15080\n"
     ]
    },
    {
     "name": "stderr",
     "output_type": "stream",
     "text": [
      "\n",
      " 78%|███████▊  | 42/54 [28:56<05:46, 28.91s/it]\u001b[A"
     ]
    },
    {
     "name": "stdout",
     "output_type": "stream",
     "text": [
      "> imgs : 42. /media/myungsungkwak/msdisk/docrv2_data/task2_train_u80_aug_fax_style_1/X51006392299.jpg\n",
      "> text : 42. /media/myungsungkwak/msdisk/docrv2_data/task2_train_u80_aug_fax_style_1/X51006392299.txt\n",
      "- orig imgs : 43, len(crimg) : 344, created imgs : 344, start_db_idx : 15080, end_db_idx : 15424\n"
     ]
    },
    {
     "name": "stderr",
     "output_type": "stream",
     "text": [
      "\n",
      " 80%|███████▉  | 43/54 [29:39<06:04, 33.16s/it]\u001b[A"
     ]
    },
    {
     "name": "stdout",
     "output_type": "stream",
     "text": [
      "> imgs : 43. /media/myungsungkwak/msdisk/docrv2_data/task2_train_u80_aug_fax_style_1/X51005676546.jpg\n",
      "> text : 43. /media/myungsungkwak/msdisk/docrv2_data/task2_train_u80_aug_fax_style_1/X51005676546.txt\n",
      "- orig imgs : 58, len(crimg) : 406, created imgs : 406, start_db_idx : 15424, end_db_idx : 15830\n"
     ]
    },
    {
     "name": "stderr",
     "output_type": "stream",
     "text": [
      "\n",
      " 81%|████████▏ | 44/54 [30:28<06:19, 37.97s/it]\u001b[A"
     ]
    },
    {
     "name": "stdout",
     "output_type": "stream",
     "text": [
      "> imgs : 44. /media/myungsungkwak/msdisk/docrv2_data/task2_train_u80_aug_fax_style_1/X51006392122.jpg\n",
      "> text : 44. /media/myungsungkwak/msdisk/docrv2_data/task2_train_u80_aug_fax_style_1/X51006392122.txt\n",
      "- orig imgs : 41, len(crimg) : 287, created imgs : 287, start_db_idx : 15830, end_db_idx : 16117\n"
     ]
    },
    {
     "name": "stderr",
     "output_type": "stream",
     "text": [
      "\n",
      " 83%|████████▎ | 45/54 [31:03<05:33, 37.01s/it]\u001b[A"
     ]
    },
    {
     "name": "stdout",
     "output_type": "stream",
     "text": [
      "> imgs : 45. /media/myungsungkwak/msdisk/docrv2_data/task2_train_u80_aug_fax_style_1/X51006334741.jpg\n",
      "> text : 45. /media/myungsungkwak/msdisk/docrv2_data/task2_train_u80_aug_fax_style_1/X51006334741.txt\n",
      "- orig imgs : 46, len(crimg) : 414, created imgs : 414, start_db_idx : 16117, end_db_idx : 16531\n"
     ]
    },
    {
     "name": "stderr",
     "output_type": "stream",
     "text": [
      "\n",
      " 85%|████████▌ | 46/54 [31:55<05:32, 41.58s/it]\u001b[A"
     ]
    },
    {
     "name": "stdout",
     "output_type": "stream",
     "text": [
      "> imgs : 46. /media/myungsungkwak/msdisk/docrv2_data/task2_train_u80_aug_fax_style_1/X51005663311.jpg\n",
      "> text : 46. /media/myungsungkwak/msdisk/docrv2_data/task2_train_u80_aug_fax_style_1/X51005663311.txt\n",
      "- orig imgs : 42, len(crimg) : 210, created imgs : 210, start_db_idx : 16531, end_db_idx : 16741\n"
     ]
    },
    {
     "name": "stderr",
     "output_type": "stream",
     "text": [
      "\n",
      " 87%|████████▋ | 47/54 [32:35<04:46, 40.93s/it]\u001b[A"
     ]
    },
    {
     "name": "stdout",
     "output_type": "stream",
     "text": [
      "> imgs : 47. /media/myungsungkwak/msdisk/docrv2_data/task2_train_u80_aug_fax_style_1/X51005676547.jpg\n",
      "> text : 47. /media/myungsungkwak/msdisk/docrv2_data/task2_train_u80_aug_fax_style_1/X51005676547.txt\n",
      "- orig imgs : 58, len(crimg) : 522, created imgs : 522, start_db_idx : 16741, end_db_idx : 17263\n"
     ]
    },
    {
     "name": "stderr",
     "output_type": "stream",
     "text": [
      "\n",
      " 89%|████████▉ | 48/54 [34:18<05:57, 59.66s/it]\u001b[A"
     ]
    },
    {
     "name": "stdout",
     "output_type": "stream",
     "text": [
      "> imgs : 48. /media/myungsungkwak/msdisk/docrv2_data/task2_train_u80_aug_fax_style_1/X51006329395.jpg\n",
      "> text : 48. /media/myungsungkwak/msdisk/docrv2_data/task2_train_u80_aug_fax_style_1/X51006329395.txt\n",
      "- orig imgs : 31, len(crimg) : 279, created imgs : 279, start_db_idx : 17263, end_db_idx : 17542\n"
     ]
    },
    {
     "name": "stderr",
     "output_type": "stream",
     "text": [
      "\n",
      " 91%|█████████ | 49/54 [35:14<04:52, 58.53s/it]\u001b[A"
     ]
    },
    {
     "name": "stdout",
     "output_type": "stream",
     "text": [
      "> imgs : 49. /media/myungsungkwak/msdisk/docrv2_data/task2_train_u80_aug_fax_style_1/X51005741944.jpg\n",
      "> text : 49. /media/myungsungkwak/msdisk/docrv2_data/task2_train_u80_aug_fax_style_1/X51005741944.txt\n",
      "- orig imgs : 55, len(crimg) : 385, created imgs : 385, start_db_idx : 17542, end_db_idx : 17927\n"
     ]
    },
    {
     "name": "stderr",
     "output_type": "stream",
     "text": [
      "\n",
      " 93%|█████████▎| 50/54 [36:32<04:17, 64.47s/it]\u001b[A"
     ]
    },
    {
     "name": "stdout",
     "output_type": "stream",
     "text": [
      "> imgs : 50. /media/myungsungkwak/msdisk/docrv2_data/task2_train_u80_aug_fax_style_1/X51005361950.jpg\n",
      "> text : 50. /media/myungsungkwak/msdisk/docrv2_data/task2_train_u80_aug_fax_style_1/X51005361950.txt\n",
      "[problem] y coords\n",
      "- orig imgs : 28, len(crimg) : 196, created imgs : 196, start_db_idx : 17927, end_db_idx : 18123\n"
     ]
    },
    {
     "name": "stderr",
     "output_type": "stream",
     "text": [
      "\n",
      " 94%|█████████▍| 51/54 [37:15<02:53, 57.96s/it]\u001b[A"
     ]
    },
    {
     "name": "stdout",
     "output_type": "stream",
     "text": [
      "> imgs : 51. /media/myungsungkwak/msdisk/docrv2_data/task2_train_u80_aug_fax_style_1/X51005719902.jpg\n",
      "> text : 51. /media/myungsungkwak/msdisk/docrv2_data/task2_train_u80_aug_fax_style_1/X51005719902.txt\n",
      "- orig imgs : 64, len(crimg) : 448, created imgs : 448, start_db_idx : 18123, end_db_idx : 18571\n"
     ]
    },
    {
     "name": "stderr",
     "output_type": "stream",
     "text": [
      "\n",
      " 96%|█████████▋| 52/54 [38:44<02:14, 67.30s/it]\u001b[A"
     ]
    },
    {
     "name": "stdout",
     "output_type": "stream",
     "text": [
      "> imgs : 52. /media/myungsungkwak/msdisk/docrv2_data/task2_train_u80_aug_fax_style_1/X51005447832.jpg\n",
      "> text : 52. /media/myungsungkwak/msdisk/docrv2_data/task2_train_u80_aug_fax_style_1/X51005447832.txt\n",
      "- orig imgs : 48, len(crimg) : 288, created imgs : 288, start_db_idx : 18571, end_db_idx : 18859\n"
     ]
    },
    {
     "name": "stderr",
     "output_type": "stream",
     "text": [
      "\n",
      " 98%|█████████▊| 53/54 [39:41<01:04, 64.09s/it]\u001b[A"
     ]
    },
    {
     "name": "stdout",
     "output_type": "stream",
     "text": [
      "> imgs : 53. /media/myungsungkwak/msdisk/docrv2_data/task2_train_u80_aug_fax_style_1/X51006389893.jpg\n",
      "> text : 53. /media/myungsungkwak/msdisk/docrv2_data/task2_train_u80_aug_fax_style_1/X51006389893.txt\n",
      "- orig imgs : 42, len(crimg) : 210, created imgs : 210, start_db_idx : 18859, end_db_idx : 19069\n"
     ]
    },
    {
     "name": "stderr",
     "output_type": "stream",
     "text": [
      "\n",
      "100%|██████████| 54/54 [40:24<00:00, 44.90s/it]\u001b[A\n",
      "\n",
      "  0%|          | 0/27 [00:00<?, ?it/s]\u001b[A"
     ]
    },
    {
     "name": "stdout",
     "output_type": "stream",
     "text": [
      "[/media/myungsungkwak/msdisk/docrv2_data/task2_train_u80_aug_fax_style_2/]\n",
      "... created db :  recog_train_task2_random_pad5_u80_fax_style_0002\n",
      "> imgs : 0. /media/myungsungkwak/msdisk/docrv2_data/task2_train_u80_aug_fax_style_2/X51006620161.jpg\n",
      "> text : 0. /media/myungsungkwak/msdisk/docrv2_data/task2_train_u80_aug_fax_style_2/X51006620161.txt\n",
      "- orig imgs : 53, len(crimg) : 265, created imgs : 265, start_db_idx : 0, end_db_idx : 265\n"
     ]
    },
    {
     "name": "stderr",
     "output_type": "stream",
     "text": [
      "\n",
      "  4%|▎         | 1/27 [00:48<20:50, 48.09s/it]\u001b[A"
     ]
    },
    {
     "name": "stdout",
     "output_type": "stream",
     "text": [
      "> imgs : 1. /media/myungsungkwak/msdisk/docrv2_data/task2_train_u80_aug_fax_style_2/X51006619343.jpg\n",
      "> text : 1. /media/myungsungkwak/msdisk/docrv2_data/task2_train_u80_aug_fax_style_2/X51006619343.txt\n",
      "- orig imgs : 50, len(crimg) : 300, created imgs : 300, start_db_idx : 265, end_db_idx : 565\n"
     ]
    },
    {
     "name": "stderr",
     "output_type": "stream",
     "text": [
      "\n",
      "  7%|▋         | 2/27 [01:43<20:55, 50.20s/it]\u001b[A"
     ]
    },
    {
     "name": "stdout",
     "output_type": "stream",
     "text": [
      "> imgs : 2. /media/myungsungkwak/msdisk/docrv2_data/task2_train_u80_aug_fax_style_2/X51006619694.jpg\n",
      "> text : 2. /media/myungsungkwak/msdisk/docrv2_data/task2_train_u80_aug_fax_style_2/X51006619694.txt\n",
      "- orig imgs : 46, len(crimg) : 230, created imgs : 230, start_db_idx : 565, end_db_idx : 795\n"
     ]
    },
    {
     "name": "stderr",
     "output_type": "stream",
     "text": [
      "\n",
      " 11%|█         | 3/27 [02:25<19:08, 47.86s/it]\u001b[A"
     ]
    },
    {
     "name": "stdout",
     "output_type": "stream",
     "text": [
      "> imgs : 3. /media/myungsungkwak/msdisk/docrv2_data/task2_train_u80_aug_fax_style_2/X51006619785.jpg\n",
      "> text : 3. /media/myungsungkwak/msdisk/docrv2_data/task2_train_u80_aug_fax_style_2/X51006619785.txt\n",
      "- orig imgs : 79, len(crimg) : 632, created imgs : 632, start_db_idx : 795, end_db_idx : 1427\n"
     ]
    },
    {
     "name": "stderr",
     "output_type": "stream",
     "text": [
      "\n",
      " 15%|█▍        | 4/27 [04:24<26:28, 69.08s/it]\u001b[A"
     ]
    },
    {
     "name": "stdout",
     "output_type": "stream",
     "text": [
      "> imgs : 4. /media/myungsungkwak/msdisk/docrv2_data/task2_train_u80_aug_fax_style_2/X51006620191.jpg\n",
      "> text : 4. /media/myungsungkwak/msdisk/docrv2_data/task2_train_u80_aug_fax_style_2/X51006620191.txt\n",
      "- orig imgs : 40, len(crimg) : 200, created imgs : 200, start_db_idx : 1427, end_db_idx : 1627\n"
     ]
    },
    {
     "name": "stderr",
     "output_type": "stream",
     "text": [
      "\n",
      " 19%|█▊        | 5/27 [05:03<22:00, 60.01s/it]\u001b[A"
     ]
    },
    {
     "name": "stdout",
     "output_type": "stream",
     "text": [
      "> imgs : 5. /media/myungsungkwak/msdisk/docrv2_data/task2_train_u80_aug_fax_style_2/X51008123447.jpg\n",
      "> text : 5. /media/myungsungkwak/msdisk/docrv2_data/task2_train_u80_aug_fax_style_2/X51008123447.txt\n",
      "- orig imgs : 24, len(crimg) : 144, created imgs : 144, start_db_idx : 1627, end_db_idx : 1771\n"
     ]
    },
    {
     "name": "stderr",
     "output_type": "stream",
     "text": [
      "\n",
      " 22%|██▏       | 6/27 [05:30<17:36, 50.30s/it]\u001b[A"
     ]
    },
    {
     "name": "stdout",
     "output_type": "stream",
     "text": [
      "> imgs : 6. /media/myungsungkwak/msdisk/docrv2_data/task2_train_u80_aug_fax_style_2/X51006619550.jpg\n",
      "> text : 6. /media/myungsungkwak/msdisk/docrv2_data/task2_train_u80_aug_fax_style_2/X51006619550.txt\n",
      "- orig imgs : 57, len(crimg) : 456, created imgs : 456, start_db_idx : 1771, end_db_idx : 2227\n"
     ]
    },
    {
     "name": "stderr",
     "output_type": "stream",
     "text": [
      "\n",
      " 26%|██▌       | 7/27 [07:01<20:47, 62.36s/it]\u001b[A"
     ]
    },
    {
     "name": "stdout",
     "output_type": "stream",
     "text": [
      "> imgs : 7. /media/myungsungkwak/msdisk/docrv2_data/task2_train_u80_aug_fax_style_2/X51006619777.jpg\n",
      "> text : 7. /media/myungsungkwak/msdisk/docrv2_data/task2_train_u80_aug_fax_style_2/X51006619777.txt\n",
      "- orig imgs : 33, len(crimg) : 231, created imgs : 231, start_db_idx : 2227, end_db_idx : 2458\n"
     ]
    },
    {
     "name": "stderr",
     "output_type": "stream",
     "text": [
      "\n",
      " 30%|██▉       | 8/27 [07:48<18:20, 57.93s/it]\u001b[A"
     ]
    },
    {
     "name": "stdout",
     "output_type": "stream",
     "text": [
      "> imgs : 8. /media/myungsungkwak/msdisk/docrv2_data/task2_train_u80_aug_fax_style_2/X51007339648.jpg\n",
      "> text : 8. /media/myungsungkwak/msdisk/docrv2_data/task2_train_u80_aug_fax_style_2/X51007339648.txt\n",
      "- orig imgs : 58, len(crimg) : 406, created imgs : 406, start_db_idx : 2458, end_db_idx : 2864\n"
     ]
    },
    {
     "name": "stderr",
     "output_type": "stream",
     "text": [
      "\n",
      " 33%|███▎      | 9/27 [09:04<19:01, 63.41s/it]\u001b[A"
     ]
    },
    {
     "name": "stdout",
     "output_type": "stream",
     "text": [
      "> imgs : 9. /media/myungsungkwak/msdisk/docrv2_data/task2_train_u80_aug_fax_style_2/X51006619758.jpg\n",
      "> text : 9. /media/myungsungkwak/msdisk/docrv2_data/task2_train_u80_aug_fax_style_2/X51006619758.txt\n",
      "- orig imgs : 31, len(crimg) : 155, created imgs : 155, start_db_idx : 2864, end_db_idx : 3019\n"
     ]
    },
    {
     "name": "stderr",
     "output_type": "stream",
     "text": [
      "\n",
      " 37%|███▋      | 10/27 [09:36<15:12, 53.69s/it]\u001b[A"
     ]
    },
    {
     "name": "stdout",
     "output_type": "stream",
     "text": [
      "> imgs : 10. /media/myungsungkwak/msdisk/docrv2_data/task2_train_u80_aug_fax_style_2/X51006466056.jpg\n",
      "> text : 10. /media/myungsungkwak/msdisk/docrv2_data/task2_train_u80_aug_fax_style_2/X51006466056.txt\n",
      "- orig imgs : 61, len(crimg) : 366, created imgs : 366, start_db_idx : 3019, end_db_idx : 3385\n"
     ]
    },
    {
     "name": "stderr",
     "output_type": "stream",
     "text": [
      "\n",
      " 41%|████      | 11/27 [10:42<15:21, 57.60s/it]\u001b[A"
     ]
    },
    {
     "name": "stdout",
     "output_type": "stream",
     "text": [
      "> imgs : 11. /media/myungsungkwak/msdisk/docrv2_data/task2_train_u80_aug_fax_style_2/X51006828217.jpg\n",
      "> text : 11. /media/myungsungkwak/msdisk/docrv2_data/task2_train_u80_aug_fax_style_2/X51006828217.txt\n",
      "- orig imgs : 34, len(crimg) : 238, created imgs : 238, start_db_idx : 3385, end_db_idx : 3623\n"
     ]
    },
    {
     "name": "stderr",
     "output_type": "stream",
     "text": [
      "\n",
      " 44%|████▍     | 12/27 [11:30<13:38, 54.58s/it]\u001b[A"
     ]
    },
    {
     "name": "stdout",
     "output_type": "stream",
     "text": [
      "> imgs : 12. /media/myungsungkwak/msdisk/docrv2_data/task2_train_u80_aug_fax_style_2/X51006619342.jpg\n",
      "> text : 12. /media/myungsungkwak/msdisk/docrv2_data/task2_train_u80_aug_fax_style_2/X51006619342.txt\n",
      "- orig imgs : 27, len(crimg) : 243, created imgs : 243, start_db_idx : 3623, end_db_idx : 3866\n"
     ]
    },
    {
     "name": "stderr",
     "output_type": "stream",
     "text": [
      "\n",
      " 48%|████▊     | 13/27 [12:19<12:20, 52.89s/it]\u001b[A"
     ]
    },
    {
     "name": "stdout",
     "output_type": "stream",
     "text": [
      "> imgs : 13. /media/myungsungkwak/msdisk/docrv2_data/task2_train_u80_aug_fax_style_2/X51006619698.jpg\n",
      "> text : 13. /media/myungsungkwak/msdisk/docrv2_data/task2_train_u80_aug_fax_style_2/X51006619698.txt\n",
      "- orig imgs : 35, len(crimg) : 280, created imgs : 280, start_db_idx : 3866, end_db_idx : 4146\n"
     ]
    },
    {
     "name": "stderr",
     "output_type": "stream",
     "text": [
      "\n",
      " 52%|█████▏    | 14/27 [13:15<11:42, 54.04s/it]\u001b[A"
     ]
    },
    {
     "name": "stdout",
     "output_type": "stream",
     "text": [
      "> imgs : 14. /media/myungsungkwak/msdisk/docrv2_data/task2_train_u80_aug_fax_style_2/X51006619709.jpg\n",
      "> text : 14. /media/myungsungkwak/msdisk/docrv2_data/task2_train_u80_aug_fax_style_2/X51006619709.txt\n",
      "- orig imgs : 78, len(crimg) : 468, created imgs : 468, start_db_idx : 4146, end_db_idx : 4614\n"
     ]
    },
    {
     "name": "stderr",
     "output_type": "stream",
     "text": [
      "\n",
      " 56%|█████▌    | 15/27 [14:49<13:11, 65.97s/it]\u001b[A"
     ]
    },
    {
     "name": "stdout",
     "output_type": "stream",
     "text": [
      "> imgs : 15. /media/myungsungkwak/msdisk/docrv2_data/task2_train_u80_aug_fax_style_2/X51006620190.jpg\n",
      "> text : 15. /media/myungsungkwak/msdisk/docrv2_data/task2_train_u80_aug_fax_style_2/X51006620190.txt\n",
      "- orig imgs : 37, len(crimg) : 259, created imgs : 259, start_db_idx : 4614, end_db_idx : 4873\n"
     ]
    },
    {
     "name": "stderr",
     "output_type": "stream",
     "text": [
      "\n",
      " 59%|█████▉    | 16/27 [15:41<11:18, 61.72s/it]\u001b[A"
     ]
    },
    {
     "name": "stdout",
     "output_type": "stream",
     "text": [
      "> imgs : 16. /media/myungsungkwak/msdisk/docrv2_data/task2_train_u80_aug_fax_style_2/X51007339650.jpg\n",
      "> text : 16. /media/myungsungkwak/msdisk/docrv2_data/task2_train_u80_aug_fax_style_2/X51007339650.txt\n",
      "- orig imgs : 57, len(crimg) : 399, created imgs : 399, start_db_idx : 4873, end_db_idx : 5272\n"
     ]
    },
    {
     "name": "stderr",
     "output_type": "stream",
     "text": [
      "\n",
      " 63%|██████▎   | 17/27 [16:57<11:00, 66.06s/it]\u001b[A"
     ]
    },
    {
     "name": "stdout",
     "output_type": "stream",
     "text": [
      "> imgs : 17. /media/myungsungkwak/msdisk/docrv2_data/task2_train_u80_aug_fax_style_2/X51008123476.jpg\n",
      "> text : 17. /media/myungsungkwak/msdisk/docrv2_data/task2_train_u80_aug_fax_style_2/X51008123476.txt\n",
      "- orig imgs : 25, len(crimg) : 225, created imgs : 225, start_db_idx : 5272, end_db_idx : 5497\n"
     ]
    },
    {
     "name": "stderr",
     "output_type": "stream",
     "text": [
      "\n",
      " 67%|██████▋   | 18/27 [17:43<08:58, 59.83s/it]\u001b[A"
     ]
    },
    {
     "name": "stdout",
     "output_type": "stream",
     "text": [
      "> imgs : 18. /media/myungsungkwak/msdisk/docrv2_data/task2_train_u80_aug_fax_style_2/X51006620176.jpg\n",
      "> text : 18. /media/myungsungkwak/msdisk/docrv2_data/task2_train_u80_aug_fax_style_2/X51006620176.txt\n",
      "- orig imgs : 30, len(crimg) : 210, created imgs : 210, start_db_idx : 5497, end_db_idx : 5707\n"
     ]
    },
    {
     "name": "stderr",
     "output_type": "stream",
     "text": [
      "\n",
      " 70%|███████   | 19/27 [18:27<07:22, 55.30s/it]\u001b[A"
     ]
    },
    {
     "name": "stdout",
     "output_type": "stream",
     "text": [
      "> imgs : 19. /media/myungsungkwak/msdisk/docrv2_data/task2_train_u80_aug_fax_style_2/X51008123586.jpg\n",
      "> text : 19. /media/myungsungkwak/msdisk/docrv2_data/task2_train_u80_aug_fax_style_2/X51008123586.txt\n",
      "- orig imgs : 50, len(crimg) : 300, created imgs : 300, start_db_idx : 5707, end_db_idx : 6007\n"
     ]
    },
    {
     "name": "stderr",
     "output_type": "stream",
     "text": [
      "\n",
      " 74%|███████▍  | 20/27 [19:23<06:28, 55.54s/it]\u001b[A"
     ]
    },
    {
     "name": "stdout",
     "output_type": "stream",
     "text": [
      "> imgs : 20. /media/myungsungkwak/msdisk/docrv2_data/task2_train_u80_aug_fax_style_2/X51007339643.jpg\n",
      "> text : 20. /media/myungsungkwak/msdisk/docrv2_data/task2_train_u80_aug_fax_style_2/X51007339643.txt\n",
      "- orig imgs : 58, len(crimg) : 522, created imgs : 522, start_db_idx : 6007, end_db_idx : 6529\n"
     ]
    },
    {
     "name": "stderr",
     "output_type": "stream",
     "text": [
      "\n",
      " 78%|███████▊  | 21/27 [21:04<06:54, 69.04s/it]\u001b[A"
     ]
    },
    {
     "name": "stdout",
     "output_type": "stream",
     "text": [
      "> imgs : 21. /media/myungsungkwak/msdisk/docrv2_data/task2_train_u80_aug_fax_style_2/X51008123450.jpg\n",
      "> text : 21. /media/myungsungkwak/msdisk/docrv2_data/task2_train_u80_aug_fax_style_2/X51008123450.txt\n",
      "- orig imgs : 23, len(crimg) : 207, created imgs : 207, start_db_idx : 6529, end_db_idx : 6736\n"
     ]
    },
    {
     "name": "stderr",
     "output_type": "stream",
     "text": [
      "\n",
      " 81%|████████▏ | 22/27 [21:46<05:04, 60.83s/it]\u001b[A"
     ]
    },
    {
     "name": "stdout",
     "output_type": "stream",
     "text": [
      "> imgs : 22. /media/myungsungkwak/msdisk/docrv2_data/task2_train_u80_aug_fax_style_2/X51008122920.jpg\n",
      "> text : 22. /media/myungsungkwak/msdisk/docrv2_data/task2_train_u80_aug_fax_style_2/X51008122920.txt\n",
      "- orig imgs : 54, len(crimg) : 378, created imgs : 378, start_db_idx : 6736, end_db_idx : 7114\n"
     ]
    },
    {
     "name": "stderr",
     "output_type": "stream",
     "text": [
      "\n",
      " 85%|████████▌ | 23/27 [23:00<04:19, 64.84s/it]\u001b[A"
     ]
    },
    {
     "name": "stdout",
     "output_type": "stream",
     "text": [
      "> imgs : 23. /media/myungsungkwak/msdisk/docrv2_data/task2_train_u80_aug_fax_style_2/X51006619561.jpg\n",
      "> text : 23. /media/myungsungkwak/msdisk/docrv2_data/task2_train_u80_aug_fax_style_2/X51006619561.txt\n",
      "- orig imgs : 63, len(crimg) : 378, created imgs : 378, start_db_idx : 7114, end_db_idx : 7492\n"
     ]
    },
    {
     "name": "stderr",
     "output_type": "stream",
     "text": [
      "\n",
      " 89%|████████▉ | 24/27 [24:18<03:27, 69.01s/it]\u001b[A"
     ]
    },
    {
     "name": "stdout",
     "output_type": "stream",
     "text": [
      "> imgs : 24. /media/myungsungkwak/msdisk/docrv2_data/task2_train_u80_aug_fax_style_2/X51008123446.jpg\n",
      "> text : 24. /media/myungsungkwak/msdisk/docrv2_data/task2_train_u80_aug_fax_style_2/X51008123446.txt\n",
      "- orig imgs : 22, len(crimg) : 110, created imgs : 110, start_db_idx : 7492, end_db_idx : 7602\n"
     ]
    },
    {
     "name": "stderr",
     "output_type": "stream",
     "text": [
      "\n",
      " 93%|█████████▎| 25/27 [24:41<01:50, 55.19s/it]\u001b[A"
     ]
    },
    {
     "name": "stdout",
     "output_type": "stream",
     "text": [
      "> imgs : 25. /media/myungsungkwak/msdisk/docrv2_data/task2_train_u80_aug_fax_style_2/X51007339656.jpg\n",
      "> text : 25. /media/myungsungkwak/msdisk/docrv2_data/task2_train_u80_aug_fax_style_2/X51007339656.txt\n",
      "- orig imgs : 58, len(crimg) : 290, created imgs : 290, start_db_idx : 7602, end_db_idx : 7892\n"
     ]
    },
    {
     "name": "stderr",
     "output_type": "stream",
     "text": [
      "\n",
      " 96%|█████████▋| 26/27 [25:38<00:55, 55.57s/it]\u001b[A"
     ]
    },
    {
     "name": "stdout",
     "output_type": "stream",
     "text": [
      "> imgs : 26. /media/myungsungkwak/msdisk/docrv2_data/task2_train_u80_aug_fax_style_2/X51007339647.jpg\n",
      "> text : 26. /media/myungsungkwak/msdisk/docrv2_data/task2_train_u80_aug_fax_style_2/X51007339647.txt\n",
      "- orig imgs : 58, len(crimg) : 290, created imgs : 290, start_db_idx : 7892, end_db_idx : 8182\n"
     ]
    },
    {
     "name": "stderr",
     "output_type": "stream",
     "text": [
      "\n",
      "100%|██████████| 27/27 [26:35<00:00, 59.09s/it]\u001b[A"
     ]
    },
    {
     "name": "stdout",
     "output_type": "stream",
     "text": [
      "...completed\n"
     ]
    },
    {
     "name": "stderr",
     "output_type": "stream",
     "text": [
      "\n"
     ]
    }
   ],
   "source": [
    "\"\"\"\n",
    "run2: create data - random size padding (use get_crop_image_by_coords_pad_random)\n",
    "\"\"\"\n",
    "for folder_idx in range(2):\n",
    "    # datadir = '/media/myungsungkwak/msdisk/docrv2_sroie/data/train_task2_crop_split_{}/'.format(folder_idx+1)\n",
    "    #datadir = '/media/myungsungkwak/msdisk/docrv2_sroie/data/train_task2_crop_u80_style_{}/'.format(folder_idx+1)\n",
    "    datadir = '/media/myungsungkwak/msdisk/docrv2_data/task2_train_u80_aug_fax_style_{}/'.format(folder_idx+1)\n",
    "    # datadir = '/media/myungsungkwak/msdisk/docrv2_data/task2_train_u80_aug_gray_style_{}/'.format(folder_idx+1)\n",
    "    \n",
    "    print(\"[\" + datadir + \"]\")\n",
    "    img_files = glob(datadir+'*.jpg')\n",
    "    txt_files = glob(datadir+'*.txt')\n",
    "\n",
    "    crop_images = []\n",
    "    coords_table = []\n",
    "\n",
    "    datadb = create_database(folder_idx+1, \"recog_train_task2_random_pad5_u80_fax_style\")\n",
    "    num_images = 1\n",
    "    db_start_idx = 0\n",
    "    for idx in tqdm(range(len(img_files))):\n",
    "        \n",
    "        refname = os.path.basename(img_files[idx])[:-4]\n",
    "        txt_filepath = os.path.join(datadir, refname+'.txt')\n",
    "        coords_table.append(get_coords_from_image(txt_filepath))\n",
    "        \n",
    "        print(\"> imgs : {}. {}\".format(idx, img_files[idx]))\n",
    "        print(\"> text : {}. {}\".format(idx, txt_filepath))\n",
    "\n",
    "        num_images = len(coords_table[idx])\n",
    "\n",
    "        # crop_img, crop_coords = get_crop_image_by_coords(img_files[idx], coords_table[idx], num_images=num_images)\n",
    "        crop_img, crop_coords, img_cnt = get_crop_image_by_coords_pad_random(img_files[idx], \n",
    "                                                                             coords_table[idx], \n",
    "                                                                             num_images=num_images)\n",
    "        \n",
    "        print(\"- orig imgs : {}, len(crimg) : {}, created imgs : {}, start_db_idx : {}, end_db_idx : {}\".format(\n",
    "            num_images,\n",
    "            len(crop_img),\n",
    "            img_cnt,\n",
    "            db_start_idx,\n",
    "            db_start_idx+img_cnt))\n",
    "        \n",
    "        update_database(datadb, crop_img, crop_coords, refname, db_start_idx)\n",
    "        \n",
    "        db_start_idx = db_start_idx + img_cnt\n",
    "        \n",
    "\n",
    "    del coords_table[:][:]\n",
    "print(\"...completed\")"
   ]
  },
  {
   "cell_type": "code",
   "execution_count": 7,
   "metadata": {},
   "outputs": [
    {
     "name": "stderr",
     "output_type": "stream",
     "text": [
      "\r",
      "  0%|          | 0/361 [00:00<?, ?it/s]"
     ]
    },
    {
     "name": "stdout",
     "output_type": "stream",
     "text": [
      "[/media/myungsungkwak/msdisk/docrv2_sroie/data/test_task12_img_text/]\n",
      "... created db :  recog_test_task2_all_pad5_0001\n"
     ]
    },
    {
     "name": "stderr",
     "output_type": "stream",
     "text": [
      "100%|██████████| 361/361 [42:08<00:00,  7.00s/it]\n"
     ]
    }
   ],
   "source": [
    "\"\"\"\n",
    "run3: create data - fixed size padding (use get_crop_image_by_coords_pad)\n",
    "left, right, up, bottom, all\n",
    "\"\"\"\n",
    "for folder_idx in range(1):\n",
    "    #datadir = '/media/myungsungkwak/msdisk/docrv2_sroie/data/train_task2_crop_split_{}/'.format(folder_idx+1)\n",
    "    datadir = '/media/myungsungkwak/msdisk/docrv2_sroie/data/test_task12_img_text/'\n",
    "    print(\"[\" + datadir + \"]\")\n",
    "    img_files = glob(datadir+'*.jpg')\n",
    "    txt_files = glob(datadir+'*.txt')\n",
    "\n",
    "    crop_images = []\n",
    "    coords_table = []\n",
    "\n",
    "    datadb = create_database(folder_idx+1, \"recog_test_task2_all_pad5\")\n",
    "    num_images = 1\n",
    "    db_start_idx = 0\n",
    "    for idx in tqdm(range(len(img_files))):\n",
    "        # print(idx, \" : \", img_files[idx])\n",
    "        refname = os.path.basename(img_files[idx])[:-4]\n",
    "        txt_filepath = os.path.join(datadir, refname+'.txt')\n",
    "        coords_table.append(get_coords_from_image(txt_filepath))\n",
    "\n",
    "        num_images = len(coords_table[idx])\n",
    "\n",
    "        crop_img, crop_coords = get_crop_image_by_coords_pad(img_files[idx], coords_table[idx], \n",
    "                                                             num_images=num_images)\n",
    "        update_database(datadb, crop_img, crop_coords, refname, db_start_idx)\n",
    "        db_start_idx = db_start_idx + (num_images * 5)\n",
    "\n",
    "    del coords_table[:][:]"
   ]
  },
  {
   "cell_type": "code",
   "execution_count": 46,
   "metadata": {},
   "outputs": [],
   "source": [
    "\"\"\"\n",
    "check images\n",
    "\"\"\"\n",
    "tdb_path = common_variable['database']['DB_BASE']\n",
    "tdb_name = \"recog_train_task2_random_pad5_u80_fax_style_0001\"\n",
    "tdb = open_env(os.path.join(tdb_path, tdb_name))\n",
    "tdb_imgs = read_bulk_data_from_db(tdb, prefix='img')"
   ]
  },
  {
   "cell_type": "code",
   "execution_count": 47,
   "metadata": {},
   "outputs": [
    {
     "data": {
      "text/plain": [
       "1241"
      ]
     },
     "execution_count": 47,
     "metadata": {},
     "output_type": "execute_result"
    }
   ],
   "source": [
    "len(tdb_imgs)"
   ]
  },
  {
   "cell_type": "code",
   "execution_count": 65,
   "metadata": {},
   "outputs": [
    {
     "data": {
      "image/png": "[encoded data removed]",
      "text/plain": [
       "<PIL.Image.Image image mode=RGB size=87x39 at 0x7F08804E7FD0>"
      ]
     },
     "execution_count": 65,
     "metadata": {},
     "output_type": "execute_result"
    }
   ],
   "source": [
    "tdb_imgs[374]"
   ]
  },
  {
   "cell_type": "code",
   "execution_count": 66,
   "metadata": {},
   "outputs": [
    {
     "name": "stdout",
     "output_type": "stream",
     "text": [
      "+------------------------------------------------------+-------------------------------------------------------------------------------------------------+\n",
      "| Key                                                  | Value                                                                                           |\n",
      "+------------------------------------------------------+-------------------------------------------------------------------------------------------------+\n",
      "| d2gan_train_task12_crop50080_0002                    | /media/myungsungkwak/msdisk/docrv2_data/DB/d2gan_train_task12_crop50080_0002                    |\n",
      "| d2gan_train_task12_crop_0000                         | /media/myungsungkwak/msdisk/docrv2_data/DB/d2gan_train_task12_crop_0000                         |\n",
      "| d2gan_train_task12_crop_0001                         | /media/myungsungkwak/msdisk/docrv2_data/DB/d2gan_train_task12_crop_0001                         |\n",
      "| d2gan_train_task12_crop_random_0001                  | /media/myungsungkwak/msdisk/docrv2_data/DB/d2gan_train_task12_crop_random_0001                  |\n",
      "| d2gan_train_task12_crop_random_0002                  | /media/myungsungkwak/msdisk/docrv2_data/DB/d2gan_train_task12_crop_random_0002                  |\n",
      "| inference_crop_0831_thr05_all                        | /media/myungsungkwak/msdisk/docrv2_data/DB/inference_crop_0831_thr05_all                        |\n",
      "| inference_crop_0831_thr05_all_preview_detection      | /media/myungsungkwak/msdisk/docrv2_data/DB/inference_crop_0831_thr05_all_preview_detection      |\n",
      "| inference_crop_0831_thr05_sample40                   | /media/myungsungkwak/msdisk/docrv2_data/DB/inference_crop_0831_thr05_sample40                   |\n",
      "| inference_crop_0831_thr05_sample40_preview_detection | /media/myungsungkwak/msdisk/docrv2_data/DB/inference_crop_0831_thr05_sample40_preview_detection |\n",
      "| inference_crop_0831_thr07_sample40                   | /media/myungsungkwak/msdisk/docrv2_data/DB/inference_crop_0831_thr07_sample40                   |\n",
      "| inference_crop_0831_thr07_sample40_preview_detection | /media/myungsungkwak/msdisk/docrv2_data/DB/inference_crop_0831_thr07_sample40_preview_detection |\n",
      "| inference_crop_0901_thr05_sample40                   | /media/myungsungkwak/msdisk/docrv2_data/DB/inference_crop_0901_thr05_sample40                   |\n",
      "| inference_crop_0901_thr05_sample40_preview_detection | /media/myungsungkwak/msdisk/docrv2_data/DB/inference_crop_0901_thr05_sample40_preview_detection |\n",
      "| raw_recog_inference_data_all_0001                    | /media/myungsungkwak/msdisk/docrv2_data/DB/raw_recog_inference_data_all_0001                    |\n",
      "| raw_test_task12_img_txt                              | /media/myungsungkwak/msdisk/docrv2_data/DB/raw_test_task12_img_txt                              |\n",
      "| raw_test_task12_img_txt_0001                         | /media/myungsungkwak/msdisk/docrv2_data/DB/raw_test_task12_img_txt_0001                         |\n",
      "| raw_test_task12_img_txt_X51005230605                 | /media/myungsungkwak/msdisk/docrv2_data/DB/raw_test_task12_img_txt_X51005230605                 |\n",
      "| raw_test_task12_img_txt_issue                        | /media/myungsungkwak/msdisk/docrv2_data/DB/raw_test_task12_img_txt_issue                        |\n",
      "| raw_test_task12_img_txt_sample                       | /media/myungsungkwak/msdisk/docrv2_data/DB/raw_test_task12_img_txt_sample                       |\n",
      "| raw_test_task12_img_txt_sample40                     | /media/myungsungkwak/msdisk/docrv2_data/DB/raw_test_task12_img_txt_sample40                     |\n",
      "| recog_inference_result_2497d6_raw_pad1               | /media/myungsungkwak/msdisk/docrv2_data/DB/recog_inference_result_2497d6_raw_pad1               |\n",
      "| recog_inference_result_2497d6_raw_pad2               | /media/myungsungkwak/msdisk/docrv2_data/DB/recog_inference_result_2497d6_raw_pad2               |\n",
      "| recog_inference_result_2497d6_raw_pad3               | /media/myungsungkwak/msdisk/docrv2_data/DB/recog_inference_result_2497d6_raw_pad3               |\n",
      "| recog_inference_result_9ae078_raw_pad1               | /media/myungsungkwak/msdisk/docrv2_data/DB/recog_inference_result_9ae078_raw_pad1               |\n",
      "| recog_inference_result_9ae078_raw_pad2               | /media/myungsungkwak/msdisk/docrv2_data/DB/recog_inference_result_9ae078_raw_pad2               |\n",
      "| recog_inference_result_all_0001                      | /media/myungsungkwak/msdisk/docrv2_data/DB/recog_inference_result_all_0001                      |\n",
      "| recog_inference_result_b15a8a_raw_pad0               | /media/myungsungkwak/msdisk/docrv2_data/DB/recog_inference_result_b15a8a_raw_pad0               |\n",
      "| recog_inference_result_b15a8a_raw_pad1               | /media/myungsungkwak/msdisk/docrv2_data/DB/recog_inference_result_b15a8a_raw_pad1               |\n",
      "| recog_inference_result_b15a8a_raw_pad2               | /media/myungsungkwak/msdisk/docrv2_data/DB/recog_inference_result_b15a8a_raw_pad2               |\n",
      "| recog_inference_result_b15a8a_raw_pad3               | /media/myungsungkwak/msdisk/docrv2_data/DB/recog_inference_result_b15a8a_raw_pad3               |\n",
      "| recog_inference_result_b15a8a_raw_pad4               | /media/myungsungkwak/msdisk/docrv2_data/DB/recog_inference_result_b15a8a_raw_pad4               |\n",
      "| recog_inference_result_bf964e_raw_pad0               | /media/myungsungkwak/msdisk/docrv2_data/DB/recog_inference_result_bf964e_raw_pad0               |\n",
      "| recog_inference_result_cf12e0_raw_pad0               | /media/myungsungkwak/msdisk/docrv2_data/DB/recog_inference_result_cf12e0_raw_pad0               |\n",
      "| recog_inference_result_d4637d_raw_pad0               | /media/myungsungkwak/msdisk/docrv2_data/DB/recog_inference_result_d4637d_raw_pad0               |\n",
      "| recog_inference_result_d4637d_raw_pad1               | /media/myungsungkwak/msdisk/docrv2_data/DB/recog_inference_result_d4637d_raw_pad1               |\n",
      "| recog_inference_result_d4637d_raw_pad2               | /media/myungsungkwak/msdisk/docrv2_data/DB/recog_inference_result_d4637d_raw_pad2               |\n",
      "| recog_inference_result_d4637d_raw_pad7               | /media/myungsungkwak/msdisk/docrv2_data/DB/recog_inference_result_d4637d_raw_pad7               |\n",
      "| recog_inference_result_d4637d_raw_pad7_left_right    | /media/myungsungkwak/msdisk/docrv2_data/DB/recog_inference_result_d4637d_raw_pad7_left_right    |\n",
      "| recog_test_all_pad5_valid_0001                       | /media/myungsungkwak/msdisk/docrv2_data/DB/recog_test_all_pad5_valid_0001                       |\n",
      "| recog_test_task2_all_0001                            | /media/myungsungkwak/msdisk/docrv2_data/DB/recog_test_task2_all_0001                            |\n",
      "| recog_test_task2_eval_0001                           | /media/myungsungkwak/msdisk/docrv2_data/DB/recog_test_task2_eval_0001                           |\n",
      "| recog_train_task2_all_0001                           | /media/myungsungkwak/msdisk/docrv2_data/DB/recog_train_task2_all_0001                           |\n",
      "| recog_train_task2_pad_sp_0001                        | /media/myungsungkwak/msdisk/docrv2_data/DB/recog_train_task2_pad_sp_0001                        |\n",
      "| recog_train_task2_pad_sp_0002                        | /media/myungsungkwak/msdisk/docrv2_data/DB/recog_train_task2_pad_sp_0002                        |\n",
      "| recog_train_task2_pad_sp_0003                        | /media/myungsungkwak/msdisk/docrv2_data/DB/recog_train_task2_pad_sp_0003                        |\n",
      "| recog_train_task2_pad_sp_0004                        | /media/myungsungkwak/msdisk/docrv2_data/DB/recog_train_task2_pad_sp_0004                        |\n",
      "| recog_train_task2_pad_split_0001                     | /media/myungsungkwak/msdisk/docrv2_data/DB/recog_train_task2_pad_split_0001                     |\n",
      "| recog_train_task2_random_pad3_u80_0001               | /media/myungsungkwak/msdisk/docrv2_data/DB/recog_train_task2_random_pad3_u80_0001               |\n",
      "| recog_train_task2_random_pad3_u80_style_0001         | /media/myungsungkwak/msdisk/docrv2_data/DB/recog_train_task2_random_pad3_u80_style_0001         |\n",
      "| recog_train_task2_random_pad3_u80_style_0002         | /media/myungsungkwak/msdisk/docrv2_data/DB/recog_train_task2_random_pad3_u80_style_0002         |\n",
      "| recog_train_task2_random_pad_sp_0001                 | /media/myungsungkwak/msdisk/docrv2_data/DB/recog_train_task2_random_pad_sp_0001                 |\n",
      "| recog_train_task2_random_pad_sp_0002                 | /media/myungsungkwak/msdisk/docrv2_data/DB/recog_train_task2_random_pad_sp_0002                 |\n",
      "| recog_train_task2_random_pad_sp_0003                 | /media/myungsungkwak/msdisk/docrv2_data/DB/recog_train_task2_random_pad_sp_0003                 |\n",
      "| recog_train_task2_random_pad_sp_0004                 | /media/myungsungkwak/msdisk/docrv2_data/DB/recog_train_task2_random_pad_sp_0004                 |\n",
      "+------------------------------------------------------+-------------------------------------------------------------------------------------------------+\n"
     ]
    },
    {
     "data": {
      "text/plain": [
       "['raw_test_task12_img_txt_sample',\n",
       " 'recog_train_task2_random_pad_sp_0003',\n",
       " 'recog_inference_result_2497d6_raw_pad1',\n",
       " 'inference_crop_0831_thr05_all_preview_detection',\n",
       " 'raw_test_task12_img_txt_sample40',\n",
       " 'recog_train_task2_random_pad_sp_0004',\n",
       " 'd2gan_train_task12_crop50080_0002',\n",
       " 'recog_train_task2_pad_sp_0003',\n",
       " 'recog_train_task2_all_0001',\n",
       " 'recog_train_task2_random_pad_sp_0001',\n",
       " 'recog_inference_result_9ae078_raw_pad2',\n",
       " 'raw_test_task12_img_txt_X51005230605',\n",
       " 'raw_recog_inference_data_all_0001',\n",
       " 'recog_inference_result_2497d6_raw_pad2',\n",
       " 'recog_inference_result_d4637d_raw_pad7',\n",
       " 'recog_train_task2_random_pad3_u80_0001',\n",
       " 'recog_test_all_pad5_valid_0001',\n",
       " 'recog_train_task2_random_pad3_u80_style_0002',\n",
       " 'recog_inference_result_9ae078_raw_pad1',\n",
       " 'raw_test_task12_img_txt_0001',\n",
       " 'recog_train_task2_pad_sp_0002',\n",
       " 'recog_inference_result_b15a8a_raw_pad3',\n",
       " 'inference_crop_0901_thr05_sample40',\n",
       " 'recog_inference_result_b15a8a_raw_pad2',\n",
       " 'inference_crop_0831_thr05_sample40_preview_detection',\n",
       " 'recog_train_task2_random_pad3_u80_style_0001',\n",
       " 'd2gan_train_task12_crop_0000',\n",
       " 'recog_inference_result_2497d6_raw_pad3',\n",
       " 'd2gan_train_task12_crop_random_0002',\n",
       " 'recog_inference_result_b15a8a_raw_pad4',\n",
       " 'recog_inference_result_bf964e_raw_pad0',\n",
       " 'recog_test_task2_all_0001',\n",
       " 'd2gan_train_task12_crop_0001',\n",
       " 'recog_inference_result_cf12e0_raw_pad0',\n",
       " 'inference_crop_0831_thr07_sample40_preview_detection',\n",
       " 'recog_inference_result_b15a8a_raw_pad0',\n",
       " 'recog_inference_result_d4637d_raw_pad1',\n",
       " 'recog_inference_result_d4637d_raw_pad7_left_right',\n",
       " 'recog_train_task2_pad_split_0001',\n",
       " 'inference_crop_0901_thr05_sample40_preview_detection',\n",
       " 'recog_train_task2_pad_sp_0001',\n",
       " 'recog_inference_result_all_0001',\n",
       " 'recog_test_task2_eval_0001',\n",
       " 'recog_inference_result_d4637d_raw_pad2',\n",
       " 'd2gan_train_task12_crop_random_0001',\n",
       " 'raw_test_task12_img_txt_issue',\n",
       " 'inference_crop_0831_thr05_sample40',\n",
       " 'recog_inference_result_b15a8a_raw_pad1',\n",
       " 'recog_inference_result_d4637d_raw_pad0',\n",
       " 'inference_crop_0831_thr07_sample40',\n",
       " 'raw_test_task12_img_txt',\n",
       " 'inference_crop_0831_thr05_all',\n",
       " 'recog_train_task2_random_pad_sp_0002',\n",
       " 'recog_train_task2_pad_sp_0004']"
      ]
     },
     "execution_count": 66,
     "metadata": {},
     "output_type": "execute_result"
    }
   ],
   "source": [
    "refresh_main_db()"
   ]
  },
  {
   "cell_type": "code",
   "execution_count": null,
   "metadata": {},
   "outputs": [],
   "source": []
  }
 ],
 "metadata": {
  "kernelspec": {
   "display_name": "Python [conda env:dl] *",
   "language": "python",
   "name": "conda-env-dl-py"
  },
  "language_info": {
   "codemirror_mode": {
    "name": "ipython",
    "version": 3
   },
   "file_extension": ".py",
   "mimetype": "text/x-python",
   "name": "python",
   "nbconvert_exporter": "python",
   "pygments_lexer": "ipython3",
   "version": "3.6.10"
  }
 },
 "nbformat": 4,
 "nbformat_minor": 4
}
