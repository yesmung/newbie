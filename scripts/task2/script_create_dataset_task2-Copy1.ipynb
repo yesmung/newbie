{
 "cells": [
  {
   "cell_type": "code",
   "execution_count": 1,
   "metadata": {},
   "outputs": [
    {
     "name": "stdout",
     "output_type": "stream",
     "text": [
      "['database', 'mlflow', 'font']\n",
      "/media/myungsungkwak/msdisk/docrv2_sroie/modules/database/\n",
      "/media/myungsungkwak/msdisk/docrv2_data/DB/\n"
     ]
    }
   ],
   "source": [
    "import os\n",
    "from configparser import ConfigParser\n",
    "path_config_file = os.getcwd().split('docrv2_sroie')[0] + 'docrv2_sroie/' + 'config.ini'\n",
    "common_variable = ConfigParser()\n",
    "common_variable.read(path_config_file)\n",
    "\n",
    "print(common_variable.sections())\n",
    "print(common_variable['database']['module_path'])\n",
    "print(common_variable['database']['DB_BASE'])\n",
    "\n",
    "import sys\n",
    "sys.path.append(common_variable['database']['module_path'])\n",
    "from db_util import *\n",
    "from db import *\n",
    "\n",
    "import tensorflow\n",
    "import numpy as np\n",
    "import pandas as pd\n",
    "import matplotlib.pyplot as plt\n",
    "import copy\n",
    "\n",
    "from parse import parse\n",
    "from PIL import Image, ImageFont, ImageDraw, ImageEnhance\n",
    "from glob import glob\n",
    "from tqdm import tqdm_notebook"
   ]
  },
  {
   "cell_type": "code",
   "execution_count": null,
   "metadata": {},
   "outputs": [],
   "source": []
  },
  {
   "cell_type": "code",
   "execution_count": 2,
   "metadata": {},
   "outputs": [],
   "source": [
    "def create_database(db_idx, db_name=None):\n",
    "    path = common_variable['database']['DB_BASE']\n",
    "    os.makedirs(path, exist_ok=True)\n",
    "\n",
    "    name = db_name + \"_%04d\"%db_idx\n",
    "    description = 'data db from train_task2 all coords images'\n",
    "    datadb = create_data_db(path=path, name=name, description=description, data_class='DATA')\n",
    "    print(\"... created db : \", name)\n",
    "    return datadb\n",
    "\n",
    "def update_database(datadb, imgs, coords, refname, db_start_idx):\n",
    "    for idx, img in enumerate(imgs):\n",
    "        chars = []\n",
    "        chars.append(coords[idx][8])\n",
    "        char_table = pd.DataFrame(coords[idx])\n",
    "        char_table = char_table.T\n",
    "        char_table.rename(columns={0:'x1', 1:'y1', 2:'x2', 3:'y2', 4:'x3',\n",
    "                                   5:'y3', 6:'x4', 7:'y4', 8:'char'}, inplace=True)\n",
    "        \n",
    "        char_table.x1 = char_table.x1.astype(int)\n",
    "        char_table.y1 = char_table.y1.astype(int)\n",
    "        char_table.x2 = char_table.x2.astype(int)\n",
    "        char_table.y2 = char_table.y2.astype(int)\n",
    "        char_table.x3 = char_table.x3.astype(int)\n",
    "        char_table.y3 = char_table.y3.astype(int)\n",
    "        char_table.x4 = char_table.x4.astype(int)\n",
    "        char_table.y4 = char_table.y4.astype(int)\n",
    "        \n",
    "        update_data(datadb, index=db_start_idx+idx, label='task12', image=img, text=chars[0], ref=refname)\n",
    "\n",
    "def get_coords_from_image(txt_file):\n",
    "    lps = []\n",
    "\n",
    "    try:\n",
    "        with open(txt_file, 'r') as f:\n",
    "            coords_data = f.read().split('\\n')\n",
    "            for ii in range(len(coords_data)):\n",
    "                if len(coords_data[ii]) > 0:\n",
    "                    ps = parse('{},{},{},{},{},{},{},{},{}', coords_data[ii])\n",
    "                    ps = list(ps)\n",
    "                    ps[:-1] = list(map(int, ps[:-1]))\n",
    "                    lps.append(ps)\n",
    "    except:\n",
    "        with open(txt_file, 'r', encoding='ISO-8859-1') as f:\n",
    "            coords_data = f.read().split('\\n')\n",
    "            for ii in range(len(coords_data)):\n",
    "                if len(coords_data[ii]) > 0:\n",
    "                    ps = parse('{},{},{},{},{},{},{},{},{}', coords_data[ii])\n",
    "                    ps = list(ps)\n",
    "                    ps[:-1] = list(map(int, ps[:-1]))\n",
    "                    lps.append(ps)\n",
    "    return lps"
   ]
  },
  {
   "cell_type": "code",
   "execution_count": 3,
   "metadata": {},
   "outputs": [],
   "source": [
    "\"\"\"\n",
    "method 1 - no padding\n",
    "crop images followed as original coordiantes\n",
    "\"\"\"\n",
    "def get_crop_image_by_coords(img_path, coords, num_images=1):\n",
    "    img = Image.open(img_path)\n",
    "    o_width = img.size[0]\n",
    "    o_height = img.size[1]\n",
    "    \n",
    "    transpose_x1_coords = np.transpose(coords)[0]\n",
    "    transpose_y1_coords = np.transpose(coords)[1]\n",
    "    transpose_x1_coords = list(map(int, transpose_x1_coords)) \n",
    "    transpose_y1_coords = list(map(int, transpose_y1_coords))\n",
    "    \n",
    "    transpose_x2_coords = np.transpose(coords)[2]\n",
    "    transpose_y2_coords = np.transpose(coords)[3]\n",
    "    transpose_x2_coords = list(map(int, transpose_x2_coords)) \n",
    "    transpose_y2_coords = list(map(int, transpose_y2_coords))    \n",
    "    \n",
    "    transpose_x3_coords = np.transpose(coords)[4]\n",
    "    transpose_y3_coords = np.transpose(coords)[5]\n",
    "    transpose_x3_coords = list(map(int, transpose_x3_coords)) \n",
    "    transpose_y3_coords = list(map(int, transpose_y3_coords))\n",
    "\n",
    "    transpose_x4_coords = np.transpose(coords)[6]\n",
    "    transpose_y4_coords = np.transpose(coords)[7]\n",
    "    transpose_x4_coords = list(map(int, transpose_x4_coords)) \n",
    "    transpose_y4_coords = list(map(int, transpose_y4_coords))\n",
    "    \n",
    "    transpose_chars = np.transpose(coords)[8]\n",
    "    \n",
    "    sample_list = []\n",
    "    coords_list = []\n",
    "    for idx in range(num_images):\n",
    "        base_idx = idx\n",
    "\n",
    "        new_x1 = transpose_x1_coords[base_idx]\n",
    "        new_y1 = transpose_y1_coords[base_idx]\n",
    "\n",
    "        new_x2 = transpose_x2_coords[base_idx]\n",
    "        new_y2 = transpose_y2_coords[base_idx]\n",
    "\n",
    "        new_x3 = transpose_x3_coords[base_idx]\n",
    "        new_y3 = transpose_y3_coords[base_idx]\n",
    "\n",
    "        new_x4 = transpose_x4_coords[base_idx]\n",
    "        new_y4 = transpose_y4_coords[base_idx]\n",
    "    \n",
    "        crop_img = img.crop((new_x1,\n",
    "                             new_y1,\n",
    "                             new_x3,\n",
    "                             new_y3))\n",
    "        sample_list.append(crop_img)\n",
    "        coords_list.append([new_x1, new_y1, new_x2, new_y2, new_x3, new_y3, new_x4, new_y4,\n",
    "                           transpose_chars[base_idx]])\n",
    "\n",
    "    return sample_list, coords_list"
   ]
  },
  {
   "cell_type": "code",
   "execution_count": 21,
   "metadata": {},
   "outputs": [],
   "source": [
    "\"\"\"\n",
    "method 2 - random size padding\n",
    "crop images followed as original coordiantes\n",
    "\"\"\"\n",
    "def get_crop_image_by_coords_pad_random(img_path, coords, num_images=1):\n",
    "    img = Image.open(img_path)\n",
    "    o_width = img.size[0]\n",
    "    o_height = img.size[1]\n",
    "\n",
    "    transpose_x1_coords = np.transpose(coords)[0]\n",
    "    transpose_y1_coords = np.transpose(coords)[1]\n",
    "    transpose_x1_coords = list(map(int, transpose_x1_coords))\n",
    "    transpose_y1_coords = list(map(int, transpose_y1_coords))\n",
    "\n",
    "    transpose_x2_coords = np.transpose(coords)[2]\n",
    "    transpose_y2_coords = np.transpose(coords)[3]\n",
    "    transpose_x2_coords = list(map(int, transpose_x2_coords))\n",
    "    transpose_y2_coords = list(map(int, transpose_y2_coords))\n",
    "\n",
    "    transpose_x3_coords = np.transpose(coords)[4]\n",
    "    transpose_y3_coords = np.transpose(coords)[5]\n",
    "    transpose_x3_coords = list(map(int, transpose_x3_coords))\n",
    "    transpose_y3_coords = list(map(int, transpose_y3_coords))\n",
    "\n",
    "    transpose_x4_coords = np.transpose(coords)[6]\n",
    "    transpose_y4_coords = np.transpose(coords)[7]\n",
    "    transpose_x4_coords = list(map(int, transpose_x4_coords))\n",
    "    transpose_y4_coords = list(map(int, transpose_y4_coords))\n",
    "\n",
    "    transpose_chars = np.transpose(coords)[8]\n",
    "    \n",
    "    sample_list = []\n",
    "    coords_list = []\n",
    "    \n",
    "    img_cnt = 0\n",
    "\n",
    "    #for _ in range(np.random.randint(7, 12)):\n",
    "    for _ in range(np.random.randint(10, 20)):\n",
    "        # [-4  5  9  3] --> left right up bottom\n",
    "        # num_images --> coords imags\n",
    "        for idx in range(num_images):\n",
    "            # pdd = np.random.randint(-5,10,4)\n",
    "            pdd = np.random.randint(0,5,4)\n",
    "            base_idx = idx\n",
    "            while True:\n",
    "                if (transpose_x3_coords[base_idx] - transpose_x1_coords[base_idx] <= 20) or (transpose_y3_coords[base_idx] - transpose_x1_coords[base_idx]<=20):\n",
    "                    new_x1 = transpose_x1_coords[base_idx]\n",
    "                    new_y1 = transpose_y1_coords[base_idx]\n",
    "                    new_x2 = transpose_x2_coords[base_idx]\n",
    "                    new_y2 = transpose_y2_coords[base_idx]\n",
    "                    new_x3 = transpose_x3_coords[base_idx]\n",
    "                    new_y3 = transpose_y3_coords[base_idx]\n",
    "                    new_x4 = transpose_x4_coords[base_idx]\n",
    "                    new_y4 = transpose_y4_coords[base_idx]\n",
    "                    break\n",
    "                else:\n",
    "                    new_x1 = transpose_x1_coords[base_idx] - pdd[0] # pad left\n",
    "                    new_y1 = transpose_y1_coords[base_idx] - pdd[2] # pad up\n",
    "\n",
    "                    new_x3 = transpose_x3_coords[base_idx] + pdd[1] # pad right\n",
    "                    new_y3 = transpose_y3_coords[base_idx] + pdd[3] # pad bottom\n",
    "\n",
    "                    new_x2 = new_x3\n",
    "                    new_y2 = new_y1\n",
    "\n",
    "                    new_x4 = new_x1\n",
    "                    new_y4 = new_y3\n",
    "\n",
    "                    if (new_x1 < 0) or (new_x4 < 0) or (new_x2 > o_width) or (new_x3 > o_width):\n",
    "                        print(\"[problem] x coords\")\n",
    "                        pdd = np.random.randint(-5,10,4)\n",
    "                        continue\n",
    "                    if (new_y1 < 0) or (new_y2 < 0) or (new_y3 > o_height) or (new_y3 > o_height):\n",
    "                        print(\"[problem] y coords\")\n",
    "                        pdd = np.random.randint(-5,10,4)\n",
    "                        continue\n",
    "                    break\n",
    "\n",
    "            crop_img = img.crop((new_x1, new_y1, new_x3, new_y3))\n",
    "            if (crop_img.size[0]) > 0 and (crop_img.size[1] > 0):\n",
    "                sample_list.append(crop_img)\n",
    "                coords_list.append([new_x1, new_y1, new_x2, new_y2, new_x3, new_y3, new_x4, new_y4,\n",
    "                                    transpose_chars[base_idx]])\n",
    "\n",
    "                img_cnt = img_cnt + 1\n",
    "\n",
    "    return sample_list, coords_list, img_cnt"
   ]
  },
  {
   "cell_type": "code",
   "execution_count": 5,
   "metadata": {},
   "outputs": [],
   "source": [
    "\"\"\"\n",
    "method 3 - fixed size padding\n",
    "crop images followed as original coordiantes\n",
    "\"\"\"\n",
    "def get_crop_image_by_coords_pad(img_path, coords, num_images=1, pad_max=5):\n",
    "    img = Image.open(img_path)\n",
    "    o_width = img.size[0]\n",
    "    o_height = img.size[1]\n",
    "\n",
    "    transpose_x1_coords = np.transpose(coords)[0]\n",
    "    transpose_y1_coords = np.transpose(coords)[1]\n",
    "    transpose_x1_coords = list(map(int, transpose_x1_coords))\n",
    "    transpose_y1_coords = list(map(int, transpose_y1_coords))\n",
    "\n",
    "    transpose_x2_coords = np.transpose(coords)[2]\n",
    "    transpose_y2_coords = np.transpose(coords)[3]\n",
    "    transpose_x2_coords = list(map(int, transpose_x2_coords))\n",
    "    transpose_y2_coords = list(map(int, transpose_y2_coords))\n",
    "\n",
    "    transpose_x3_coords = np.transpose(coords)[4]\n",
    "    transpose_y3_coords = np.transpose(coords)[5]\n",
    "    transpose_x3_coords = list(map(int, transpose_x3_coords))\n",
    "    transpose_y3_coords = list(map(int, transpose_y3_coords))\n",
    "\n",
    "    transpose_x4_coords = np.transpose(coords)[6]\n",
    "    transpose_y4_coords = np.transpose(coords)[7]\n",
    "    transpose_x4_coords = list(map(int, transpose_x4_coords))\n",
    "    transpose_y4_coords = list(map(int, transpose_y4_coords))\n",
    "\n",
    "    transpose_chars = np.transpose(coords)[8]\n",
    "    \n",
    "    \"\"\"\n",
    "    pad_type\n",
    "    1) left ←\n",
    "    2) right →\n",
    "    3) up ↑\n",
    "    4) bottom ↓\n",
    "    5) all ←, →, ↑, ↓\n",
    "    \"\"\"\n",
    "    # 1~5\n",
    "    # p_size = np.random.randint(1, pad_max)\n",
    "    p_size = pad_max # only 5 pix\n",
    "    #pad_type = [\"left\", \"right\", \"up\", \"bottom\", \"all\"]\n",
    "    pad_type = [\"all\"]\n",
    "\n",
    "    sample_list = []\n",
    "    coords_list = []\n",
    "    \n",
    "    for pad_idx in range(len(pad_type)):\n",
    "        for idx in range(num_images):\n",
    "            base_idx = idx\n",
    "\n",
    "            new_x1 = transpose_x1_coords[base_idx]\n",
    "            new_y1 = transpose_y1_coords[base_idx]\n",
    "\n",
    "            new_x2 = transpose_x2_coords[base_idx]\n",
    "            new_y2 = transpose_y2_coords[base_idx]\n",
    "\n",
    "            new_x3 = transpose_x3_coords[base_idx]\n",
    "            new_y3 = transpose_y3_coords[base_idx]\n",
    "\n",
    "            new_x4 = transpose_x4_coords[base_idx]\n",
    "            new_y4 = transpose_y4_coords[base_idx]\n",
    "            \n",
    "            if pad_type[pad_idx] == \"left\":\n",
    "                new_x1 = new_x1 - p_size\n",
    "                new_x4 = new_x4 - p_size\n",
    "            elif pad_type[pad_idx] == \"right\":\n",
    "                new_x2 = new_x2 + p_size\n",
    "                new_x3 = new_x3 + p_size\n",
    "            elif pad_type[pad_idx] == \"up\":\n",
    "                new_y1 = new_y1 - p_size\n",
    "                new_y2 = new_y2 - p_size\n",
    "            elif pad_type[pad_idx] == \"bottom\":\n",
    "                new_y3 = new_y3 + p_size\n",
    "                new_y4 = new_y4 + p_size\n",
    "            else:\n",
    "                new_x1 = new_x1 - p_size\n",
    "                new_y1 = new_y1 - p_size\n",
    "                \n",
    "                new_x2 = new_x2 + p_size\n",
    "                new_y2 = new_y2 - p_size\n",
    "                \n",
    "                new_x3 = new_x3 + p_size\n",
    "                new_y3 = new_y3 + p_size\n",
    "                \n",
    "                new_x4 = new_x4 - p_size\n",
    "                new_y4 = new_y4 + p_size\n",
    "                \n",
    "                \n",
    "            crop_img = img.crop((new_x1, new_y1, new_x3, new_y3))\n",
    "            sample_list.append(crop_img)\n",
    "            coords_list.append([new_x1, new_y1, new_x2, new_y2, new_x3, new_y3, new_x4, new_y4,\n",
    "                                transpose_chars[base_idx]])\n",
    "\n",
    "    return sample_list, coords_list"
   ]
  },
  {
   "cell_type": "code",
   "execution_count": 6,
   "metadata": {},
   "outputs": [
    {
     "name": "stdout",
     "output_type": "stream",
     "text": [
      "[ 0 -2  2 -1]\n",
      "[-2 -1 -3 -3]\n",
      "[-2 -3 -3 -1]\n",
      "[-1 -2 -1 -2]\n",
      "[-1 -1 -2 -2]\n",
      "[ 1  2 -2  2]\n",
      "[ 0  0 -3  1]\n",
      "[-2 -3 -3 -1]\n",
      "[-1 -3 -1  1]\n",
      "[-2 -1 -2  2]\n"
     ]
    }
   ],
   "source": [
    "for _ in range(10):\n",
    "    pdd = np.random.randint(-3,3,4)\n",
    "    print(pdd)"
   ]
  },
  {
   "cell_type": "code",
   "execution_count": 10,
   "metadata": {},
   "outputs": [
    {
     "name": "stderr",
     "output_type": "stream",
     "text": [
      "\r",
      "  0%|          | 0/361 [00:00<?, ?it/s]"
     ]
    },
    {
     "name": "stdout",
     "output_type": "stream",
     "text": [
      "... created db :  recog_test_all_pad5_valid_0001\n"
     ]
    },
    {
     "name": "stderr",
     "output_type": "stream",
     "text": [
      "100%|██████████| 361/361 [40:18<00:00,  6.70s/it]\n"
     ]
    }
   ],
   "source": []
  },
  {
   "cell_type": "code",
   "execution_count": null,
   "metadata": {},
   "outputs": [],
   "source": []
  },
  {
   "cell_type": "code",
   "execution_count": 22,
   "metadata": {},
   "outputs": [
    {
     "name": "stderr",
     "output_type": "stream",
     "text": [
      "\r",
      "  0%|          | 0/38 [00:00<?, ?it/s]"
     ]
    },
    {
     "name": "stdout",
     "output_type": "stream",
     "text": [
      "[/media/myungsungkwak/msdisk/docrv2_data/raw_data/train_task2_u85_style2_modified_0928/]\n",
      "... created db :  recog_train_task2_random_ppad5_u85_style2_modified_0003\n",
      "> imgs : 0. /media/myungsungkwak/msdisk/docrv2_data/raw_data/train_task2_u85_style2_modified_0928/X51006620161.jpg\n",
      "> text : 0. /media/myungsungkwak/msdisk/docrv2_data/raw_data/train_task2_u85_style2_modified_0928/X51006620161.txt\n",
      "- orig imgs : 53, len(crimg) : 848, created imgs : 848, start_db_idx : 0, end_db_idx : 848\n"
     ]
    },
    {
     "name": "stderr",
     "output_type": "stream",
     "text": [
      "\r",
      "  3%|▎         | 1/38 [01:23<51:27, 83.44s/it]"
     ]
    },
    {
     "name": "stdout",
     "output_type": "stream",
     "text": [
      "> imgs : 1. /media/myungsungkwak/msdisk/docrv2_data/raw_data/train_task2_u85_style2_modified_0928/X51006619343.jpg\n",
      "> text : 1. /media/myungsungkwak/msdisk/docrv2_data/raw_data/train_task2_u85_style2_modified_0928/X51006619343.txt\n",
      "- orig imgs : 50, len(crimg) : 600, created imgs : 600, start_db_idx : 848, end_db_idx : 1448\n"
     ]
    },
    {
     "name": "stderr",
     "output_type": "stream",
     "text": [
      "\r",
      "  5%|▌         | 2/38 [02:27<46:34, 77.64s/it]"
     ]
    },
    {
     "name": "stdout",
     "output_type": "stream",
     "text": [
      "> imgs : 2. /media/myungsungkwak/msdisk/docrv2_data/raw_data/train_task2_u85_style2_modified_0928/X51006619696.jpg\n",
      "> text : 2. /media/myungsungkwak/msdisk/docrv2_data/raw_data/train_task2_u85_style2_modified_0928/X51006619696.txt\n",
      "- orig imgs : 27, len(crimg) : 297, created imgs : 297, start_db_idx : 1448, end_db_idx : 1745\n"
     ]
    },
    {
     "name": "stderr",
     "output_type": "stream",
     "text": [
      "\r",
      "  8%|▊         | 3/38 [02:59<37:17, 63.94s/it]"
     ]
    },
    {
     "name": "stdout",
     "output_type": "stream",
     "text": [
      "> imgs : 3. /media/myungsungkwak/msdisk/docrv2_data/raw_data/train_task2_u85_style2_modified_0928/X51006619694.jpg\n",
      "> text : 3. /media/myungsungkwak/msdisk/docrv2_data/raw_data/train_task2_u85_style2_modified_0928/X51006619694.txt\n",
      "- orig imgs : 46, len(crimg) : 598, created imgs : 598, start_db_idx : 1745, end_db_idx : 2343\n"
     ]
    },
    {
     "name": "stderr",
     "output_type": "stream",
     "text": [
      "\r",
      " 11%|█         | 4/38 [04:02<36:06, 63.72s/it]"
     ]
    },
    {
     "name": "stdout",
     "output_type": "stream",
     "text": [
      "> imgs : 4. /media/myungsungkwak/msdisk/docrv2_data/raw_data/train_task2_u85_style2_modified_0928/X51006619783.jpg\n",
      "> text : 4. /media/myungsungkwak/msdisk/docrv2_data/raw_data/train_task2_u85_style2_modified_0928/X51006619783.txt\n",
      "- orig imgs : 50, len(crimg) : 600, created imgs : 600, start_db_idx : 2343, end_db_idx : 2943\n"
     ]
    },
    {
     "name": "stderr",
     "output_type": "stream",
     "text": [
      "\r",
      " 13%|█▎        | 5/38 [05:02<34:27, 62.64s/it]"
     ]
    },
    {
     "name": "stdout",
     "output_type": "stream",
     "text": [
      "> imgs : 5. /media/myungsungkwak/msdisk/docrv2_data/raw_data/train_task2_u85_style2_modified_0928/X51006620187.jpg\n",
      "> text : 5. /media/myungsungkwak/msdisk/docrv2_data/raw_data/train_task2_u85_style2_modified_0928/X51006620187.txt\n",
      "- orig imgs : 50, len(crimg) : 550, created imgs : 550, start_db_idx : 2943, end_db_idx : 3493\n"
     ]
    },
    {
     "name": "stderr",
     "output_type": "stream",
     "text": [
      "\r",
      " 16%|█▌        | 6/38 [05:58<32:16, 60.51s/it]"
     ]
    },
    {
     "name": "stdout",
     "output_type": "stream",
     "text": [
      "> imgs : 6. /media/myungsungkwak/msdisk/docrv2_data/raw_data/train_task2_u85_style2_modified_0928/X51006619854.jpg\n",
      "> text : 6. /media/myungsungkwak/msdisk/docrv2_data/raw_data/train_task2_u85_style2_modified_0928/X51006619854.txt\n",
      "- orig imgs : 27, len(crimg) : 297, created imgs : 297, start_db_idx : 3493, end_db_idx : 3790\n"
     ]
    },
    {
     "name": "stderr",
     "output_type": "stream",
     "text": [
      "\r",
      " 18%|█▊        | 7/38 [06:30<26:56, 52.13s/it]"
     ]
    },
    {
     "name": "stdout",
     "output_type": "stream",
     "text": [
      "> imgs : 7. /media/myungsungkwak/msdisk/docrv2_data/raw_data/train_task2_u85_style2_modified_0928/X51006619545.jpg\n",
      "> text : 7. /media/myungsungkwak/msdisk/docrv2_data/raw_data/train_task2_u85_style2_modified_0928/X51006619545.txt\n",
      "- orig imgs : 100, len(crimg) : 1600, created imgs : 1600, start_db_idx : 3790, end_db_idx : 5390\n"
     ]
    },
    {
     "name": "stderr",
     "output_type": "stream",
     "text": [
      "\r",
      " 21%|██        | 8/38 [09:20<43:44, 87.47s/it]"
     ]
    },
    {
     "name": "stdout",
     "output_type": "stream",
     "text": [
      "> imgs : 8. /media/myungsungkwak/msdisk/docrv2_data/raw_data/train_task2_u85_style2_modified_0928/X51006619785.jpg\n",
      "> text : 8. /media/myungsungkwak/msdisk/docrv2_data/raw_data/train_task2_u85_style2_modified_0928/X51006619785.txt\n",
      "- orig imgs : 80, len(crimg) : 960, created imgs : 960, start_db_idx : 5390, end_db_idx : 6350\n"
     ]
    },
    {
     "name": "stderr",
     "output_type": "stream",
     "text": [
      "\r",
      " 24%|██▎       | 9/38 [11:11<45:34, 94.30s/it]"
     ]
    },
    {
     "name": "stdout",
     "output_type": "stream",
     "text": [
      "> imgs : 9. /media/myungsungkwak/msdisk/docrv2_data/raw_data/train_task2_u85_style2_modified_0928/X51006620191.jpg\n",
      "> text : 9. /media/myungsungkwak/msdisk/docrv2_data/raw_data/train_task2_u85_style2_modified_0928/X51006620191.txt\n",
      "- orig imgs : 40, len(crimg) : 440, created imgs : 440, start_db_idx : 6350, end_db_idx : 6790\n"
     ]
    },
    {
     "name": "stderr",
     "output_type": "stream",
     "text": [
      "\r",
      " 26%|██▋       | 10/38 [11:59<37:33, 80.49s/it]"
     ]
    },
    {
     "name": "stdout",
     "output_type": "stream",
     "text": [
      "> imgs : 10. /media/myungsungkwak/msdisk/docrv2_data/raw_data/train_task2_u85_style2_modified_0928/X51006619550.jpg\n",
      "> text : 10. /media/myungsungkwak/msdisk/docrv2_data/raw_data/train_task2_u85_style2_modified_0928/X51006619550.txt\n",
      "- orig imgs : 57, len(crimg) : 741, created imgs : 741, start_db_idx : 6790, end_db_idx : 7531\n"
     ]
    },
    {
     "name": "stderr",
     "output_type": "stream",
     "text": [
      "\r",
      " 29%|██▉       | 11/38 [13:24<36:51, 81.91s/it]"
     ]
    },
    {
     "name": "stdout",
     "output_type": "stream",
     "text": [
      "> imgs : 11. /media/myungsungkwak/msdisk/docrv2_data/raw_data/train_task2_u85_style2_modified_0928/X51006555570.jpg\n",
      "> text : 11. /media/myungsungkwak/msdisk/docrv2_data/raw_data/train_task2_u85_style2_modified_0928/X51006555570.txt\n",
      "- orig imgs : 88, len(crimg) : 1408, created imgs : 1408, start_db_idx : 7531, end_db_idx : 8939\n"
     ]
    },
    {
     "name": "stderr",
     "output_type": "stream",
     "text": [
      "\r",
      " 32%|███▏      | 12/38 [15:58<44:48, 103.42s/it]"
     ]
    },
    {
     "name": "stdout",
     "output_type": "stream",
     "text": [
      "> imgs : 12. /media/myungsungkwak/msdisk/docrv2_data/raw_data/train_task2_u85_style2_modified_0928/X51006619341.jpg\n",
      "> text : 12. /media/myungsungkwak/msdisk/docrv2_data/raw_data/train_task2_u85_style2_modified_0928/X51006619341.txt\n",
      "- orig imgs : 37, len(crimg) : 703, created imgs : 703, start_db_idx : 8939, end_db_idx : 9642\n"
     ]
    },
    {
     "name": "stderr",
     "output_type": "stream",
     "text": [
      "\r",
      " 34%|███▍      | 13/38 [17:22<40:43, 97.73s/it] "
     ]
    },
    {
     "name": "stdout",
     "output_type": "stream",
     "text": [
      "> imgs : 13. /media/myungsungkwak/msdisk/docrv2_data/raw_data/train_task2_u85_style2_modified_0928/X51006619777.jpg\n",
      "> text : 13. /media/myungsungkwak/msdisk/docrv2_data/raw_data/train_task2_u85_style2_modified_0928/X51006619777.txt\n",
      "- orig imgs : 33, len(crimg) : 429, created imgs : 429, start_db_idx : 9642, end_db_idx : 10071\n"
     ]
    },
    {
     "name": "stderr",
     "output_type": "stream",
     "text": [
      "\r",
      " 37%|███▋      | 14/38 [18:12<33:20, 83.37s/it]"
     ]
    },
    {
     "name": "stdout",
     "output_type": "stream",
     "text": [
      "> imgs : 14. /media/myungsungkwak/msdisk/docrv2_data/raw_data/train_task2_u85_style2_modified_0928/X51006441473.jpg\n",
      "> text : 14. /media/myungsungkwak/msdisk/docrv2_data/raw_data/train_task2_u85_style2_modified_0928/X51006441473.txt\n",
      "- orig imgs : 58, len(crimg) : 1044, created imgs : 1044, start_db_idx : 10071, end_db_idx : 11115\n"
     ]
    },
    {
     "name": "stderr",
     "output_type": "stream",
     "text": [
      "\r",
      " 39%|███▉      | 15/38 [20:08<35:45, 93.27s/it]"
     ]
    },
    {
     "name": "stdout",
     "output_type": "stream",
     "text": [
      "> imgs : 15. /media/myungsungkwak/msdisk/docrv2_data/raw_data/train_task2_u85_style2_modified_0928/X51006619758.jpg\n",
      "> text : 15. /media/myungsungkwak/msdisk/docrv2_data/raw_data/train_task2_u85_style2_modified_0928/X51006619758.txt\n",
      "- orig imgs : 31, len(crimg) : 372, created imgs : 372, start_db_idx : 11115, end_db_idx : 11487\n"
     ]
    },
    {
     "name": "stderr",
     "output_type": "stream",
     "text": [
      "\r",
      " 42%|████▏     | 16/38 [20:51<28:38, 78.11s/it]"
     ]
    },
    {
     "name": "stdout",
     "output_type": "stream",
     "text": [
      "> imgs : 16. /media/myungsungkwak/msdisk/docrv2_data/raw_data/train_task2_u85_style2_modified_0928/X51006466056.jpg\n",
      "> text : 16. /media/myungsungkwak/msdisk/docrv2_data/raw_data/train_task2_u85_style2_modified_0928/X51006466056.txt\n",
      "- orig imgs : 61, len(crimg) : 610, created imgs : 610, start_db_idx : 11487, end_db_idx : 12097\n"
     ]
    },
    {
     "name": "stderr",
     "output_type": "stream",
     "text": [
      "\r",
      " 45%|████▍     | 17/38 [21:58<26:12, 74.87s/it]"
     ]
    },
    {
     "name": "stdout",
     "output_type": "stream",
     "text": [
      "> imgs : 17. /media/myungsungkwak/msdisk/docrv2_data/raw_data/train_task2_u85_style2_modified_0928/X51006619496.jpg\n",
      "> text : 17. /media/myungsungkwak/msdisk/docrv2_data/raw_data/train_task2_u85_style2_modified_0928/X51006619496.txt\n",
      "- orig imgs : 44, len(crimg) : 748, created imgs : 748, start_db_idx : 12097, end_db_idx : 12845\n"
     ]
    },
    {
     "name": "stderr",
     "output_type": "stream",
     "text": [
      "\r",
      " 47%|████▋     | 18/38 [23:28<26:25, 79.28s/it]"
     ]
    },
    {
     "name": "stdout",
     "output_type": "stream",
     "text": [
      "> imgs : 18. /media/myungsungkwak/msdisk/docrv2_data/raw_data/train_task2_u85_style2_modified_0928/X51006828217.jpg\n",
      "> text : 18. /media/myungsungkwak/msdisk/docrv2_data/raw_data/train_task2_u85_style2_modified_0928/X51006828217.txt\n",
      "- orig imgs : 33, len(crimg) : 495, created imgs : 495, start_db_idx : 12845, end_db_idx : 13340\n"
     ]
    },
    {
     "name": "stderr",
     "output_type": "stream",
     "text": [
      "\r",
      " 50%|█████     | 19/38 [24:27<23:12, 73.30s/it]"
     ]
    },
    {
     "name": "stdout",
     "output_type": "stream",
     "text": [
      "> imgs : 19. /media/myungsungkwak/msdisk/docrv2_data/raw_data/train_task2_u85_style2_modified_0928/X51006619342.jpg\n",
      "> text : 19. /media/myungsungkwak/msdisk/docrv2_data/raw_data/train_task2_u85_style2_modified_0928/X51006619342.txt\n",
      "- orig imgs : 27, len(crimg) : 270, created imgs : 270, start_db_idx : 13340, end_db_idx : 13610\n"
     ]
    },
    {
     "name": "stderr",
     "output_type": "stream",
     "text": [
      "\r",
      " 53%|█████▎    | 20/38 [25:00<18:20, 61.16s/it]"
     ]
    },
    {
     "name": "stdout",
     "output_type": "stream",
     "text": [
      "> imgs : 20. /media/myungsungkwak/msdisk/docrv2_data/raw_data/train_task2_u85_style2_modified_0928/X51006619862.jpg\n",
      "> text : 20. /media/myungsungkwak/msdisk/docrv2_data/raw_data/train_task2_u85_style2_modified_0928/X51006619862.txt\n",
      "- orig imgs : 34, len(crimg) : 578, created imgs : 578, start_db_idx : 13610, end_db_idx : 14188\n"
     ]
    },
    {
     "name": "stderr",
     "output_type": "stream",
     "text": [
      "\r",
      " 55%|█████▌    | 21/38 [26:09<17:57, 63.38s/it]"
     ]
    },
    {
     "name": "stdout",
     "output_type": "stream",
     "text": [
      "> imgs : 21. /media/myungsungkwak/msdisk/docrv2_data/raw_data/train_task2_u85_style2_modified_0928/X51006555072.jpg\n",
      "> text : 21. /media/myungsungkwak/msdisk/docrv2_data/raw_data/train_task2_u85_style2_modified_0928/X51006555072.txt\n",
      "- orig imgs : 35, len(crimg) : 455, created imgs : 455, start_db_idx : 14188, end_db_idx : 14643\n"
     ]
    },
    {
     "name": "stderr",
     "output_type": "stream",
     "text": [
      "\r",
      " 58%|█████▊    | 22/38 [27:01<16:01, 60.09s/it]"
     ]
    },
    {
     "name": "stdout",
     "output_type": "stream",
     "text": [
      "> imgs : 22. /media/myungsungkwak/msdisk/docrv2_data/raw_data/train_task2_u85_style2_modified_0928/X51006619698.jpg\n",
      "> text : 22. /media/myungsungkwak/msdisk/docrv2_data/raw_data/train_task2_u85_style2_modified_0928/X51006619698.txt\n",
      "- orig imgs : 35, len(crimg) : 490, created imgs : 490, start_db_idx : 14643, end_db_idx : 15133\n"
     ]
    },
    {
     "name": "stderr",
     "output_type": "stream",
     "text": [
      "\r",
      " 61%|██████    | 23/38 [27:58<14:44, 58.99s/it]"
     ]
    },
    {
     "name": "stdout",
     "output_type": "stream",
     "text": [
      "> imgs : 23. /media/myungsungkwak/msdisk/docrv2_data/raw_data/train_task2_u85_style2_modified_0928/X51006619709.jpg\n",
      "> text : 23. /media/myungsungkwak/msdisk/docrv2_data/raw_data/train_task2_u85_style2_modified_0928/X51006619709.txt\n",
      "- orig imgs : 78, len(crimg) : 1248, created imgs : 1248, start_db_idx : 15133, end_db_idx : 16381\n"
     ]
    },
    {
     "name": "stderr",
     "output_type": "stream",
     "text": [
      "\r",
      " 63%|██████▎   | 24/38 [30:20<19:38, 84.16s/it]"
     ]
    },
    {
     "name": "stdout",
     "output_type": "stream",
     "text": [
      "> imgs : 24. /media/myungsungkwak/msdisk/docrv2_data/raw_data/train_task2_u85_style2_modified_0928/X51006620190.jpg\n",
      "> text : 24. /media/myungsungkwak/msdisk/docrv2_data/raw_data/train_task2_u85_style2_modified_0928/X51006620190.txt\n",
      "- orig imgs : 37, len(crimg) : 370, created imgs : 370, start_db_idx : 16381, end_db_idx : 16751\n"
     ]
    },
    {
     "name": "stderr",
     "output_type": "stream",
     "text": [
      "\r",
      " 66%|██████▌   | 25/38 [31:05<15:38, 72.17s/it]"
     ]
    },
    {
     "name": "stdout",
     "output_type": "stream",
     "text": [
      "> imgs : 25. /media/myungsungkwak/msdisk/docrv2_data/raw_data/train_task2_u85_style2_modified_0928/X51006619566.jpg\n",
      "> text : 25. /media/myungsungkwak/msdisk/docrv2_data/raw_data/train_task2_u85_style2_modified_0928/X51006619566.txt\n",
      "- orig imgs : 27, len(crimg) : 459, created imgs : 459, start_db_idx : 16751, end_db_idx : 17210\n"
     ]
    },
    {
     "name": "stderr",
     "output_type": "stream",
     "text": [
      "\r",
      " 68%|██████▊   | 26/38 [32:00<13:26, 67.21s/it]"
     ]
    },
    {
     "name": "stdout",
     "output_type": "stream",
     "text": [
      "> imgs : 26. /media/myungsungkwak/msdisk/docrv2_data/raw_data/train_task2_u85_style2_modified_0928/X51006619563.jpg\n",
      "> text : 26. /media/myungsungkwak/msdisk/docrv2_data/raw_data/train_task2_u85_style2_modified_0928/X51006619563.txt\n",
      "- orig imgs : 27, len(crimg) : 486, created imgs : 486, start_db_idx : 17210, end_db_idx : 17696\n"
     ]
    },
    {
     "name": "stderr",
     "output_type": "stream",
     "text": [
      "\r",
      " 71%|███████   | 27/38 [33:00<11:53, 64.91s/it]"
     ]
    },
    {
     "name": "stdout",
     "output_type": "stream",
     "text": [
      "> imgs : 27. /media/myungsungkwak/msdisk/docrv2_data/raw_data/train_task2_u85_style2_modified_0928/X51006857071.jpg\n",
      "> text : 27. /media/myungsungkwak/msdisk/docrv2_data/raw_data/train_task2_u85_style2_modified_0928/X51006857071.txt\n",
      "- orig imgs : 41, len(crimg) : 697, created imgs : 697, start_db_idx : 17696, end_db_idx : 18393\n"
     ]
    },
    {
     "name": "stderr",
     "output_type": "stream",
     "text": [
      "\r",
      " 74%|███████▎  | 28/38 [34:23<11:43, 70.32s/it]"
     ]
    },
    {
     "name": "stdout",
     "output_type": "stream",
     "text": [
      "> imgs : 28. /media/myungsungkwak/msdisk/docrv2_data/raw_data/train_task2_u85_style2_modified_0928/X51006733494.jpg\n",
      "> text : 28. /media/myungsungkwak/msdisk/docrv2_data/raw_data/train_task2_u85_style2_modified_0928/X51006733494.txt\n",
      "- orig imgs : 46, len(crimg) : 598, created imgs : 598, start_db_idx : 18393, end_db_idx : 18991\n"
     ]
    },
    {
     "name": "stderr",
     "output_type": "stream",
     "text": [
      "\r",
      " 76%|███████▋  | 29/38 [35:29<10:22, 69.13s/it]"
     ]
    },
    {
     "name": "stdout",
     "output_type": "stream",
     "text": [
      "> imgs : 29. /media/myungsungkwak/msdisk/docrv2_data/raw_data/train_task2_u85_style2_modified_0928/X51006620176.jpg\n",
      "> text : 29. /media/myungsungkwak/msdisk/docrv2_data/raw_data/train_task2_u85_style2_modified_0928/X51006620176.txt\n",
      "- orig imgs : 30, len(crimg) : 540, created imgs : 540, start_db_idx : 18991, end_db_idx : 19531\n"
     ]
    },
    {
     "name": "stderr",
     "output_type": "stream",
     "text": [
      "\r",
      " 79%|███████▉  | 30/38 [36:33<08:59, 67.40s/it]"
     ]
    },
    {
     "name": "stdout",
     "output_type": "stream",
     "text": [
      "> imgs : 30. /media/myungsungkwak/msdisk/docrv2_data/raw_data/train_task2_u85_style2_modified_0928/X51006466055.jpg\n",
      "> text : 30. /media/myungsungkwak/msdisk/docrv2_data/raw_data/train_task2_u85_style2_modified_0928/X51006466055.txt\n",
      "- orig imgs : 51, len(crimg) : 816, created imgs : 816, start_db_idx : 19531, end_db_idx : 20347\n"
     ]
    },
    {
     "name": "stderr",
     "output_type": "stream",
     "text": [
      "\r",
      " 82%|████████▏ | 31/38 [38:03<08:39, 74.19s/it]"
     ]
    },
    {
     "name": "stdout",
     "output_type": "stream",
     "text": [
      "> imgs : 31. /media/myungsungkwak/msdisk/docrv2_data/raw_data/train_task2_u85_style2_modified_0928/X51006856981.jpg\n",
      "> text : 31. /media/myungsungkwak/msdisk/docrv2_data/raw_data/train_task2_u85_style2_modified_0928/X51006856981.txt\n",
      "- orig imgs : 46, len(crimg) : 506, created imgs : 506, start_db_idx : 20347, end_db_idx : 20853\n"
     ]
    },
    {
     "name": "stderr",
     "output_type": "stream",
     "text": [
      "\r",
      " 84%|████████▍ | 32/38 [39:01<06:57, 69.56s/it]"
     ]
    },
    {
     "name": "stdout",
     "output_type": "stream",
     "text": [
      "> imgs : 32. /media/myungsungkwak/msdisk/docrv2_data/raw_data/train_task2_u85_style2_modified_0928/X51006555125.jpg\n",
      "> text : 32. /media/myungsungkwak/msdisk/docrv2_data/raw_data/train_task2_u85_style2_modified_0928/X51006555125.txt\n",
      "- orig imgs : 24, len(crimg) : 288, created imgs : 288, start_db_idx : 20853, end_db_idx : 21141\n"
     ]
    },
    {
     "name": "stderr",
     "output_type": "stream",
     "text": [
      "\r",
      " 87%|████████▋ | 33/38 [39:34<04:52, 58.52s/it]"
     ]
    },
    {
     "name": "stdout",
     "output_type": "stream",
     "text": [
      "> imgs : 33. /media/myungsungkwak/msdisk/docrv2_data/raw_data/train_task2_u85_style2_modified_0928/X51006554833.jpg\n",
      "> text : 33. /media/myungsungkwak/msdisk/docrv2_data/raw_data/train_task2_u85_style2_modified_0928/X51006554833.txt\n",
      "- orig imgs : 61, len(crimg) : 976, created imgs : 976, start_db_idx : 21141, end_db_idx : 22117\n"
     ]
    },
    {
     "name": "stderr",
     "output_type": "stream",
     "text": [
      "\r",
      " 89%|████████▉ | 34/38 [41:21<04:52, 73.07s/it]"
     ]
    },
    {
     "name": "stdout",
     "output_type": "stream",
     "text": [
      "> imgs : 34. /media/myungsungkwak/msdisk/docrv2_data/raw_data/train_task2_u85_style2_modified_0928/X51006620189.jpg\n",
      "> text : 34. /media/myungsungkwak/msdisk/docrv2_data/raw_data/train_task2_u85_style2_modified_0928/X51006620189.txt\n",
      "- orig imgs : 57, len(crimg) : 570, created imgs : 570, start_db_idx : 22117, end_db_idx : 22687\n"
     ]
    },
    {
     "name": "stderr",
     "output_type": "stream",
     "text": [
      "\r",
      " 92%|█████████▏| 35/38 [42:25<03:31, 70.34s/it]"
     ]
    },
    {
     "name": "stdout",
     "output_type": "stream",
     "text": [
      "> imgs : 35. /media/myungsungkwak/msdisk/docrv2_data/raw_data/train_task2_u85_style2_modified_0928/X51006619561.jpg\n",
      "> text : 35. /media/myungsungkwak/msdisk/docrv2_data/raw_data/train_task2_u85_style2_modified_0928/X51006619561.txt\n",
      "- orig imgs : 63, len(crimg) : 882, created imgs : 882, start_db_idx : 22687, end_db_idx : 23569\n"
     ]
    },
    {
     "name": "stderr",
     "output_type": "stream",
     "text": [
      "\r",
      " 95%|█████████▍| 36/38 [44:07<02:39, 79.81s/it]"
     ]
    },
    {
     "name": "stdout",
     "output_type": "stream",
     "text": [
      "> imgs : 36. /media/myungsungkwak/msdisk/docrv2_data/raw_data/train_task2_u85_style2_modified_0928/X51006619765.jpg\n",
      "> text : 36. /media/myungsungkwak/msdisk/docrv2_data/raw_data/train_task2_u85_style2_modified_0928/X51006619765.txt\n",
      "- orig imgs : 70, len(crimg) : 1050, created imgs : 1050, start_db_idx : 23569, end_db_idx : 24619\n"
     ]
    },
    {
     "name": "stderr",
     "output_type": "stream",
     "text": [
      "\r",
      " 97%|█████████▋| 37/38 [46:09<01:32, 92.60s/it]"
     ]
    },
    {
     "name": "stdout",
     "output_type": "stream",
     "text": [
      "> imgs : 37. /media/myungsungkwak/msdisk/docrv2_data/raw_data/train_task2_u85_style2_modified_0928/X51006857265.jpg\n",
      "> text : 37. /media/myungsungkwak/msdisk/docrv2_data/raw_data/train_task2_u85_style2_modified_0928/X51006857265.txt\n",
      "- orig imgs : 44, len(crimg) : 748, created imgs : 748, start_db_idx : 24619, end_db_idx : 25367\n"
     ]
    },
    {
     "name": "stderr",
     "output_type": "stream",
     "text": [
      "100%|██████████| 38/38 [47:39<00:00, 75.26s/it]"
     ]
    },
    {
     "name": "stdout",
     "output_type": "stream",
     "text": [
      "...completed\n"
     ]
    },
    {
     "name": "stderr",
     "output_type": "stream",
     "text": [
      "\n"
     ]
    }
   ],
   "source": [
    "\"\"\"\n",
    "run2: create data - random size padding (use get_crop_image_by_coords_pad_random)\n",
    "\"\"\"\n",
    "for folder_idx in range(1):\n",
    "    # datadir = '/media/myungsungkwak/msdisk/docrv2_sroie/data/train_task2_crop_split_{}/'.format(folder_idx+1)\n",
    "    #datadir = '/media/myungsungkwak/msdisk/docrv2_sroie/data/train_task2_crop_u80_style_{}/'.format(folder_idx+1)\n",
    "    # datadir = '/media/myungsungkwak/msdisk/docrv2_data/task2_train_u80_aug_fax_style_{}/'.format(folder_idx+1)\n",
    "    \n",
    "    #datadir = '/media/myungsungkwak/msdisk/docrv2_data/task2_train_u80_aug_gray_style_{}/'.format(folder_idx+1)\n",
    "    # datadir = '/media/myungsungkwak/msdisk/docrv2_data/raw_data/train_task2_u85_style2_modified_0925/'\n",
    "    datadir = '/media/myungsungkwak/msdisk/docrv2_data/raw_data/train_task2_u85_style2_modified_0928/'\n",
    "    \n",
    "    print(\"[\" + datadir + \"]\")\n",
    "    img_files = glob(datadir+'*.jpg')\n",
    "    txt_files = glob(datadir+'*.txt')\n",
    "\n",
    "    crop_images = []\n",
    "    coords_table = []\n",
    "\n",
    "    datadb = create_database(3, \"recog_train_task2_random_ppad5_u85_style2_modified\")\n",
    "    num_images = 1\n",
    "    db_start_idx = 0\n",
    "    for idx in tqdm(range(len(img_files))):\n",
    "        \n",
    "        refname = os.path.basename(img_files[idx])[:-4]\n",
    "        txt_filepath = os.path.join(datadir, refname+'.txt')\n",
    "        coords_table.append(get_coords_from_image(txt_filepath))\n",
    "        \n",
    "        print(\"> imgs : {}. {}\".format(idx, img_files[idx]))\n",
    "        print(\"> text : {}. {}\".format(idx, txt_filepath))\n",
    "\n",
    "        num_images = len(coords_table[idx])\n",
    "\n",
    "        # crop_img, crop_coords = get_crop_image_by_coords(img_files[idx], coords_table[idx], num_images=num_images)\n",
    "        crop_img, crop_coords, img_cnt = get_crop_image_by_coords_pad_random(img_files[idx], \n",
    "                                                                             coords_table[idx], \n",
    "                                                                             num_images=num_images)\n",
    "        \n",
    "        print(\"- orig imgs : {}, len(crimg) : {}, created imgs : {}, start_db_idx : {}, end_db_idx : {}\".format(\n",
    "            num_images,\n",
    "            len(crop_img),\n",
    "            img_cnt,\n",
    "            db_start_idx,\n",
    "            db_start_idx+img_cnt))\n",
    "        \n",
    "        update_database(datadb, crop_img, crop_coords, refname, db_start_idx)\n",
    "        \n",
    "        db_start_idx = db_start_idx + img_cnt\n",
    "        \n",
    "\n",
    "    del coords_table[:][:]\n",
    "print(\"...completed\")"
   ]
  },
  {
   "cell_type": "code",
   "execution_count": 20,
   "metadata": {},
   "outputs": [
    {
     "name": "stdout",
     "output_type": "stream",
     "text": [
      "+-----------------------------------------------------------+------------------------------------------------------------------------------------------------------+\n",
      "| Key                                                       | Value                                                                                                |\n",
      "+-----------------------------------------------------------+------------------------------------------------------------------------------------------------------+\n",
      "| d2gan_train_task12_crop50080_0002                         | /media/myungsungkwak/msdisk/docrv2_data/DB/d2gan_train_task12_crop50080_0002                         |\n",
      "| d2gan_train_task12_crop_0000                              | /media/myungsungkwak/msdisk/docrv2_data/DB/d2gan_train_task12_crop_0000                              |\n",
      "| d2gan_train_task12_crop_0001                              | /media/myungsungkwak/msdisk/docrv2_data/DB/d2gan_train_task12_crop_0001                              |\n",
      "| d2gan_train_task12_crop_random_0001                       | /media/myungsungkwak/msdisk/docrv2_data/DB/d2gan_train_task12_crop_random_0001                       |\n",
      "| d2gan_train_task12_crop_random_0002                       | /media/myungsungkwak/msdisk/docrv2_data/DB/d2gan_train_task12_crop_random_0002                       |\n",
      "| inference_crop_0831_thr05_all                             | /media/myungsungkwak/msdisk/docrv2_data/DB/inference_crop_0831_thr05_all                             |\n",
      "| inference_crop_0831_thr05_all_preview_detection           | /media/myungsungkwak/msdisk/docrv2_data/DB/inference_crop_0831_thr05_all_preview_detection           |\n",
      "| inference_crop_0831_thr05_sample40                        | /media/myungsungkwak/msdisk/docrv2_data/DB/inference_crop_0831_thr05_sample40                        |\n",
      "| inference_crop_0831_thr05_sample40_preview_detection      | /media/myungsungkwak/msdisk/docrv2_data/DB/inference_crop_0831_thr05_sample40_preview_detection      |\n",
      "| inference_crop_0831_thr07_sample40                        | /media/myungsungkwak/msdisk/docrv2_data/DB/inference_crop_0831_thr07_sample40                        |\n",
      "| inference_crop_0831_thr07_sample40_preview_detection      | /media/myungsungkwak/msdisk/docrv2_data/DB/inference_crop_0831_thr07_sample40_preview_detection      |\n",
      "| inference_crop_0901_thr05_sample40                        | /media/myungsungkwak/msdisk/docrv2_data/DB/inference_crop_0901_thr05_sample40                        |\n",
      "| inference_crop_0901_thr05_sample40_preview_detection      | /media/myungsungkwak/msdisk/docrv2_data/DB/inference_crop_0901_thr05_sample40_preview_detection      |\n",
      "| raw_recog_inference_data_all_0001                         | /media/myungsungkwak/msdisk/docrv2_data/DB/raw_recog_inference_data_all_0001                         |\n",
      "| raw_test_task12_img_txt                                   | /media/myungsungkwak/msdisk/docrv2_data/DB/raw_test_task12_img_txt                                   |\n",
      "| raw_test_task12_img_txt_0001                              | /media/myungsungkwak/msdisk/docrv2_data/DB/raw_test_task12_img_txt_0001                              |\n",
      "| raw_test_task12_img_txt_X51005230605                      | /media/myungsungkwak/msdisk/docrv2_data/DB/raw_test_task12_img_txt_X51005230605                      |\n",
      "| raw_test_task12_img_txt_issue                             | /media/myungsungkwak/msdisk/docrv2_data/DB/raw_test_task12_img_txt_issue                             |\n",
      "| raw_test_task12_img_txt_sample                            | /media/myungsungkwak/msdisk/docrv2_data/DB/raw_test_task12_img_txt_sample                            |\n",
      "| raw_test_task12_img_txt_sample40                          | /media/myungsungkwak/msdisk/docrv2_data/DB/raw_test_task12_img_txt_sample40                          |\n",
      "| recog_inference_result_0295e6_raw_pad0                    | /media/myungsungkwak/msdisk/docrv2_data/DB/recog_inference_result_0295e6_raw_pad0                    |\n",
      "| recog_inference_result_0295e6_raw_pad1                    | /media/myungsungkwak/msdisk/docrv2_data/DB/recog_inference_result_0295e6_raw_pad1                    |\n",
      "| recog_inference_result_0295e6_raw_pad1_end                | /media/myungsungkwak/msdisk/docrv2_data/DB/recog_inference_result_0295e6_raw_pad1_end                |\n",
      "| recog_inference_result_0295e6_raw_pad2                    | /media/myungsungkwak/msdisk/docrv2_data/DB/recog_inference_result_0295e6_raw_pad2                    |\n",
      "| recog_inference_result_0295e6_raw_pad2_end                | /media/myungsungkwak/msdisk/docrv2_data/DB/recog_inference_result_0295e6_raw_pad2_end                |\n",
      "| recog_inference_result_0295e6_raw_pad3                    | /media/myungsungkwak/msdisk/docrv2_data/DB/recog_inference_result_0295e6_raw_pad3                    |\n",
      "| recog_inference_result_0295e6_raw_pad3_end                | /media/myungsungkwak/msdisk/docrv2_data/DB/recog_inference_result_0295e6_raw_pad3_end                |\n",
      "| recog_inference_result_0295e6_raw_pad4                    | /media/myungsungkwak/msdisk/docrv2_data/DB/recog_inference_result_0295e6_raw_pad4                    |\n",
      "| recog_inference_result_0295e6_raw_pad5                    | /media/myungsungkwak/msdisk/docrv2_data/DB/recog_inference_result_0295e6_raw_pad5                    |\n",
      "| recog_inference_result_078e35_raw_pad2                    | /media/myungsungkwak/msdisk/docrv2_data/DB/recog_inference_result_078e35_raw_pad2                    |\n",
      "| recog_inference_result_078e35_raw_pad2_end                | /media/myungsungkwak/msdisk/docrv2_data/DB/recog_inference_result_078e35_raw_pad2_end                |\n",
      "| recog_inference_result_2497d6_raw_pad1                    | /media/myungsungkwak/msdisk/docrv2_data/DB/recog_inference_result_2497d6_raw_pad1                    |\n",
      "| recog_inference_result_2497d6_raw_pad2                    | /media/myungsungkwak/msdisk/docrv2_data/DB/recog_inference_result_2497d6_raw_pad2                    |\n",
      "| recog_inference_result_2497d6_raw_pad3                    | /media/myungsungkwak/msdisk/docrv2_data/DB/recog_inference_result_2497d6_raw_pad3                    |\n",
      "| recog_inference_result_2bf167_raw_pad0                    | /media/myungsungkwak/msdisk/docrv2_data/DB/recog_inference_result_2bf167_raw_pad0                    |\n",
      "| recog_inference_result_2bf167_raw_pad1                    | /media/myungsungkwak/msdisk/docrv2_data/DB/recog_inference_result_2bf167_raw_pad1                    |\n",
      "| recog_inference_result_2bf167_raw_pad2                    | /media/myungsungkwak/msdisk/docrv2_data/DB/recog_inference_result_2bf167_raw_pad2                    |\n",
      "| recog_inference_result_2bf167_raw_pad3                    | /media/myungsungkwak/msdisk/docrv2_data/DB/recog_inference_result_2bf167_raw_pad3                    |\n",
      "| recog_inference_result_3a5472_raw_pad1                    | /media/myungsungkwak/msdisk/docrv2_data/DB/recog_inference_result_3a5472_raw_pad1                    |\n",
      "| recog_inference_result_3a5472_raw_pad2                    | /media/myungsungkwak/msdisk/docrv2_data/DB/recog_inference_result_3a5472_raw_pad2                    |\n",
      "| recog_inference_result_3a5472_raw_pad3                    | /media/myungsungkwak/msdisk/docrv2_data/DB/recog_inference_result_3a5472_raw_pad3                    |\n",
      "| recog_inference_result_7e71c0_raw_pad0                    | /media/myungsungkwak/msdisk/docrv2_data/DB/recog_inference_result_7e71c0_raw_pad0                    |\n",
      "| recog_inference_result_7e71c0_raw_pad1                    | /media/myungsungkwak/msdisk/docrv2_data/DB/recog_inference_result_7e71c0_raw_pad1                    |\n",
      "| recog_inference_result_7e71c0_raw_pad1_end                | /media/myungsungkwak/msdisk/docrv2_data/DB/recog_inference_result_7e71c0_raw_pad1_end                |\n",
      "| recog_inference_result_7e71c0_raw_pad2                    | /media/myungsungkwak/msdisk/docrv2_data/DB/recog_inference_result_7e71c0_raw_pad2                    |\n",
      "| recog_inference_result_7e71c0_raw_pad3                    | /media/myungsungkwak/msdisk/docrv2_data/DB/recog_inference_result_7e71c0_raw_pad3                    |\n",
      "| recog_inference_result_8c2826_raw_pad2                    | /media/myungsungkwak/msdisk/docrv2_data/DB/recog_inference_result_8c2826_raw_pad2                    |\n",
      "| recog_inference_result_8c2826_raw_pad2_end                | /media/myungsungkwak/msdisk/docrv2_data/DB/recog_inference_result_8c2826_raw_pad2_end                |\n",
      "| recog_inference_result_9ae078_raw_pad1                    | /media/myungsungkwak/msdisk/docrv2_data/DB/recog_inference_result_9ae078_raw_pad1                    |\n",
      "| recog_inference_result_9ae078_raw_pad2                    | /media/myungsungkwak/msdisk/docrv2_data/DB/recog_inference_result_9ae078_raw_pad2                    |\n",
      "| recog_inference_result_a9fdb6_raw_pad1                    | /media/myungsungkwak/msdisk/docrv2_data/DB/recog_inference_result_a9fdb6_raw_pad1                    |\n",
      "| recog_inference_result_a9fdb6_raw_pad2                    | /media/myungsungkwak/msdisk/docrv2_data/DB/recog_inference_result_a9fdb6_raw_pad2                    |\n",
      "| recog_inference_result_a9fdb6_raw_pad3                    | /media/myungsungkwak/msdisk/docrv2_data/DB/recog_inference_result_a9fdb6_raw_pad3                    |\n",
      "| recog_inference_result_all_0001                           | /media/myungsungkwak/msdisk/docrv2_data/DB/recog_inference_result_all_0001                           |\n",
      "| recog_inference_result_b15a8a_raw_pad0                    | /media/myungsungkwak/msdisk/docrv2_data/DB/recog_inference_result_b15a8a_raw_pad0                    |\n",
      "| recog_inference_result_b15a8a_raw_pad1                    | /media/myungsungkwak/msdisk/docrv2_data/DB/recog_inference_result_b15a8a_raw_pad1                    |\n",
      "| recog_inference_result_b15a8a_raw_pad2                    | /media/myungsungkwak/msdisk/docrv2_data/DB/recog_inference_result_b15a8a_raw_pad2                    |\n",
      "| recog_inference_result_b15a8a_raw_pad2_end                | /media/myungsungkwak/msdisk/docrv2_data/DB/recog_inference_result_b15a8a_raw_pad2_end                |\n",
      "| recog_inference_result_b15a8a_raw_pad3                    | /media/myungsungkwak/msdisk/docrv2_data/DB/recog_inference_result_b15a8a_raw_pad3                    |\n",
      "| recog_inference_result_b15a8a_raw_pad4                    | /media/myungsungkwak/msdisk/docrv2_data/DB/recog_inference_result_b15a8a_raw_pad4                    |\n",
      "| recog_inference_result_bf964e_raw_pad0                    | /media/myungsungkwak/msdisk/docrv2_data/DB/recog_inference_result_bf964e_raw_pad0                    |\n",
      "| recog_inference_result_c1df6e_raw_pad2                    | /media/myungsungkwak/msdisk/docrv2_data/DB/recog_inference_result_c1df6e_raw_pad2                    |\n",
      "| recog_inference_result_cf12e0_raw_pad0                    | /media/myungsungkwak/msdisk/docrv2_data/DB/recog_inference_result_cf12e0_raw_pad0                    |\n",
      "| recog_inference_result_d4637d_raw_pad0                    | /media/myungsungkwak/msdisk/docrv2_data/DB/recog_inference_result_d4637d_raw_pad0                    |\n",
      "| recog_inference_result_d4637d_raw_pad1                    | /media/myungsungkwak/msdisk/docrv2_data/DB/recog_inference_result_d4637d_raw_pad1                    |\n",
      "| recog_inference_result_d4637d_raw_pad2                    | /media/myungsungkwak/msdisk/docrv2_data/DB/recog_inference_result_d4637d_raw_pad2                    |\n",
      "| recog_inference_result_d4637d_raw_pad7                    | /media/myungsungkwak/msdisk/docrv2_data/DB/recog_inference_result_d4637d_raw_pad7                    |\n",
      "| recog_inference_result_d4637d_raw_pad7_left_right         | /media/myungsungkwak/msdisk/docrv2_data/DB/recog_inference_result_d4637d_raw_pad7_left_right         |\n",
      "| recog_inference_result_fdcb2a_raw_pad1                    | /media/myungsungkwak/msdisk/docrv2_data/DB/recog_inference_result_fdcb2a_raw_pad1                    |\n",
      "| recog_inference_result_fdcb2a_raw_pad2                    | /media/myungsungkwak/msdisk/docrv2_data/DB/recog_inference_result_fdcb2a_raw_pad2                    |\n",
      "| recog_inference_result_fdcb2a_raw_pad2_end                | /media/myungsungkwak/msdisk/docrv2_data/DB/recog_inference_result_fdcb2a_raw_pad2_end                |\n",
      "| recog_inference_result_fdcb2a_raw_pad3                    | /media/myungsungkwak/msdisk/docrv2_data/DB/recog_inference_result_fdcb2a_raw_pad3                    |\n",
      "| recog_test_all_pad5_valid_0001                            | /media/myungsungkwak/msdisk/docrv2_data/DB/recog_test_all_pad5_valid_0001                            |\n",
      "| recog_test_task2_all_0001                                 | /media/myungsungkwak/msdisk/docrv2_data/DB/recog_test_task2_all_0001                                 |\n",
      "| recog_test_task2_eval_0001                                | /media/myungsungkwak/msdisk/docrv2_data/DB/recog_test_task2_eval_0001                                |\n",
      "| recog_train_task2_all_0001                                | /media/myungsungkwak/msdisk/docrv2_data/DB/recog_train_task2_all_0001                                |\n",
      "| recog_train_task2_pad_sp_0001                             | /media/myungsungkwak/msdisk/docrv2_data/DB/recog_train_task2_pad_sp_0001                             |\n",
      "| recog_train_task2_pad_sp_0002                             | /media/myungsungkwak/msdisk/docrv2_data/DB/recog_train_task2_pad_sp_0002                             |\n",
      "| recog_train_task2_pad_sp_0003                             | /media/myungsungkwak/msdisk/docrv2_data/DB/recog_train_task2_pad_sp_0003                             |\n",
      "| recog_train_task2_pad_sp_0004                             | /media/myungsungkwak/msdisk/docrv2_data/DB/recog_train_task2_pad_sp_0004                             |\n",
      "| recog_train_task2_pad_split_0001                          | /media/myungsungkwak/msdisk/docrv2_data/DB/recog_train_task2_pad_split_0001                          |\n",
      "| recog_train_task2_random_pad3_u80_0001                    | /media/myungsungkwak/msdisk/docrv2_data/DB/recog_train_task2_random_pad3_u80_0001                    |\n",
      "| recog_train_task2_random_pad3_u80_style_0001              | /media/myungsungkwak/msdisk/docrv2_data/DB/recog_train_task2_random_pad3_u80_style_0001              |\n",
      "| recog_train_task2_random_pad3_u80_style_0002              | /media/myungsungkwak/msdisk/docrv2_data/DB/recog_train_task2_random_pad3_u80_style_0002              |\n",
      "| recog_train_task2_random_pad5_u80_fax_style_0001          | /media/myungsungkwak/msdisk/docrv2_data/DB/recog_train_task2_random_pad5_u80_fax_style_0001          |\n",
      "| recog_train_task2_random_pad5_u80_fax_style_0002          | /media/myungsungkwak/msdisk/docrv2_data/DB/recog_train_task2_random_pad5_u80_fax_style_0002          |\n",
      "| recog_train_task2_random_pad5_u80_gray_style_0001         | /media/myungsungkwak/msdisk/docrv2_data/DB/recog_train_task2_random_pad5_u80_gray_style_0001         |\n",
      "| recog_train_task2_random_pad5_u80_gray_style_0002         | /media/myungsungkwak/msdisk/docrv2_data/DB/recog_train_task2_random_pad5_u80_gray_style_0002         |\n",
      "| recog_train_task2_random_pad_sp_0001                      | /media/myungsungkwak/msdisk/docrv2_data/DB/recog_train_task2_random_pad_sp_0001                      |\n",
      "| recog_train_task2_random_pad_sp_0002                      | /media/myungsungkwak/msdisk/docrv2_data/DB/recog_train_task2_random_pad_sp_0002                      |\n",
      "| recog_train_task2_random_pad_sp_0003                      | /media/myungsungkwak/msdisk/docrv2_data/DB/recog_train_task2_random_pad_sp_0003                      |\n",
      "| recog_train_task2_random_pad_sp_0004                      | /media/myungsungkwak/msdisk/docrv2_data/DB/recog_train_task2_random_pad_sp_0004                      |\n",
      "| recog_train_task2_random_ppad5_u85_style1_modified_0001   | /media/myungsungkwak/msdisk/docrv2_data/DB/recog_train_task2_random_ppad5_u85_style1_modified_0001   |\n",
      "| recog_train_task2_random_ppad5_u85_style1_modified_2_0001 | /media/myungsungkwak/msdisk/docrv2_data/DB/recog_train_task2_random_ppad5_u85_style1_modified_2_0001 |\n",
      "| recog_train_task2_random_ppad5_u85_style2_modified_0001   | /media/myungsungkwak/msdisk/docrv2_data/DB/recog_train_task2_random_ppad5_u85_style2_modified_0001   |\n",
      "| recog_train_task2_random_ppad5_u85_style2_modified_0002   | /media/myungsungkwak/msdisk/docrv2_data/DB/recog_train_task2_random_ppad5_u85_style2_modified_0002   |\n",
      "+-----------------------------------------------------------+------------------------------------------------------------------------------------------------------+\n"
     ]
    },
    {
     "data": {
      "text/plain": [
       "['recog_inference_result_2bf167_raw_pad0',\n",
       " 'recog_inference_result_fdcb2a_raw_pad2',\n",
       " 'raw_test_task12_img_txt_sample',\n",
       " 'recog_train_task2_random_pad_sp_0003',\n",
       " 'recog_inference_result_2497d6_raw_pad1',\n",
       " 'inference_crop_0831_thr05_all_preview_detection',\n",
       " 'raw_test_task12_img_txt_sample40',\n",
       " 'recog_train_task2_random_pad_sp_0004',\n",
       " 'recog_inference_result_7e71c0_raw_pad2',\n",
       " 'recog_inference_result_2bf167_raw_pad2',\n",
       " 'recog_inference_result_7e71c0_raw_pad1_end',\n",
       " 'd2gan_train_task12_crop50080_0002',\n",
       " 'recog_train_task2_pad_sp_0003',\n",
       " 'recog_train_task2_all_0001',\n",
       " 'recog_train_task2_random_pad_sp_0001',\n",
       " 'recog_inference_result_3a5472_raw_pad3',\n",
       " 'recog_train_task2_random_ppad5_u85_style2_modified_0002',\n",
       " 'recog_inference_result_9ae078_raw_pad2',\n",
       " 'raw_test_task12_img_txt_X51005230605',\n",
       " 'raw_recog_inference_data_all_0001',\n",
       " 'recog_train_task2_random_pad5_u80_fax_style_0001',\n",
       " 'recog_inference_result_2497d6_raw_pad2',\n",
       " 'recog_inference_result_3a5472_raw_pad2',\n",
       " 'recog_inference_result_d4637d_raw_pad7',\n",
       " 'recog_inference_result_7e71c0_raw_pad1',\n",
       " 'recog_train_task2_random_pad3_u80_0001',\n",
       " 'recog_train_task2_random_pad5_u80_gray_style_0002',\n",
       " 'recog_inference_result_078e35_raw_pad2_end',\n",
       " 'recog_test_all_pad5_valid_0001',\n",
       " 'recog_train_task2_random_pad3_u80_style_0002',\n",
       " 'recog_inference_result_9ae078_raw_pad1',\n",
       " 'recog_inference_result_8c2826_raw_pad2',\n",
       " 'raw_test_task12_img_txt_0001',\n",
       " 'recog_train_task2_pad_sp_0002',\n",
       " 'recog_inference_result_0295e6_raw_pad3',\n",
       " 'recog_inference_result_b15a8a_raw_pad3',\n",
       " 'inference_crop_0901_thr05_sample40',\n",
       " 'recog_inference_result_b15a8a_raw_pad2',\n",
       " 'recog_train_task2_random_ppad5_u85_style1_modified_2_0001',\n",
       " 'inference_crop_0831_thr05_sample40_preview_detection',\n",
       " 'recog_train_task2_random_pad3_u80_style_0001',\n",
       " 'recog_inference_result_0295e6_raw_pad2',\n",
       " 'd2gan_train_task12_crop_0000',\n",
       " 'recog_inference_result_2497d6_raw_pad3',\n",
       " 'd2gan_train_task12_crop_random_0002',\n",
       " 'recog_inference_result_0295e6_raw_pad4',\n",
       " 'recog_inference_result_078e35_raw_pad2',\n",
       " 'recog_inference_result_c1df6e_raw_pad2',\n",
       " 'recog_train_task2_random_ppad5_u85_style2_modified_0001',\n",
       " 'recog_inference_result_2bf167_raw_pad1',\n",
       " 'recog_inference_result_a9fdb6_raw_pad1',\n",
       " 'recog_inference_result_b15a8a_raw_pad4',\n",
       " 'recog_inference_result_8c2826_raw_pad2_end',\n",
       " 'recog_inference_result_bf964e_raw_pad0',\n",
       " 'recog_test_task2_all_0001',\n",
       " 'd2gan_train_task12_crop_0001',\n",
       " 'recog_inference_result_cf12e0_raw_pad0',\n",
       " 'inference_crop_0831_thr07_sample40_preview_detection',\n",
       " 'recog_inference_result_0295e6_raw_pad3_end',\n",
       " 'recog_inference_result_a9fdb6_raw_pad3',\n",
       " 'recog_train_task2_random_ppad5_u85_style1_modified_0001',\n",
       " 'recog_inference_result_0295e6_raw_pad1_end',\n",
       " 'recog_inference_result_b15a8a_raw_pad0',\n",
       " 'recog_inference_result_b15a8a_raw_pad2_end',\n",
       " 'recog_inference_result_d4637d_raw_pad1',\n",
       " 'recog_inference_result_d4637d_raw_pad7_left_right',\n",
       " 'recog_train_task2_pad_split_0001',\n",
       " 'recog_inference_result_2bf167_raw_pad3',\n",
       " 'recog_inference_result_7e71c0_raw_pad3',\n",
       " 'recog_inference_result_0295e6_raw_pad1',\n",
       " 'inference_crop_0901_thr05_sample40_preview_detection',\n",
       " 'recog_inference_result_0295e6_raw_pad5',\n",
       " 'recog_train_task2_pad_sp_0001',\n",
       " 'recog_inference_result_fdcb2a_raw_pad1',\n",
       " 'recog_inference_result_all_0001',\n",
       " 'recog_test_task2_eval_0001',\n",
       " 'recog_inference_result_d4637d_raw_pad2',\n",
       " 'd2gan_train_task12_crop_random_0001',\n",
       " 'raw_test_task12_img_txt_issue',\n",
       " 'inference_crop_0831_thr05_sample40',\n",
       " 'recog_inference_result_b15a8a_raw_pad1',\n",
       " 'recog_inference_result_d4637d_raw_pad0',\n",
       " 'recog_inference_result_a9fdb6_raw_pad2',\n",
       " 'inference_crop_0831_thr07_sample40',\n",
       " 'raw_test_task12_img_txt',\n",
       " 'recog_inference_result_0295e6_raw_pad0',\n",
       " 'recog_inference_result_fdcb2a_raw_pad3',\n",
       " 'recog_train_task2_random_pad5_u80_gray_style_0001',\n",
       " 'recog_inference_result_0295e6_raw_pad2_end',\n",
       " 'inference_crop_0831_thr05_all',\n",
       " 'recog_inference_result_7e71c0_raw_pad0',\n",
       " 'recog_train_task2_random_pad_sp_0002',\n",
       " 'recog_inference_result_fdcb2a_raw_pad2_end',\n",
       " 'recog_inference_result_3a5472_raw_pad1',\n",
       " 'recog_train_task2_pad_sp_0004',\n",
       " 'recog_train_task2_random_pad5_u80_fax_style_0002']"
      ]
     },
     "execution_count": 20,
     "metadata": {},
     "output_type": "execute_result"
    }
   ],
   "source": [
    "refresh_main_db()"
   ]
  },
  {
   "cell_type": "code",
   "execution_count": 7,
   "metadata": {},
   "outputs": [
    {
     "name": "stderr",
     "output_type": "stream",
     "text": [
      "\r",
      "  0%|          | 0/361 [00:00<?, ?it/s]"
     ]
    },
    {
     "name": "stdout",
     "output_type": "stream",
     "text": [
      "[/media/myungsungkwak/msdisk/docrv2_sroie/data/test_task12_img_text/]\n",
      "... created db :  recog_test_task2_all_pad5_0001\n"
     ]
    },
    {
     "name": "stderr",
     "output_type": "stream",
     "text": [
      "100%|██████████| 361/361 [42:08<00:00,  7.00s/it]\n"
     ]
    }
   ],
   "source": [
    "\"\"\"\n",
    "run3: create data - fixed size padding (use get_crop_image_by_coords_pad)\n",
    "left, right, up, bottom, all\n",
    "\"\"\"\n",
    "for folder_idx in range(1):\n",
    "    #datadir = '/media/myungsungkwak/msdisk/docrv2_sroie/data/train_task2_crop_split_{}/'.format(folder_idx+1)\n",
    "    datadir = '/media/myungsungkwak/msdisk/docrv2_sroie/data/test_task12_img_text/'\n",
    "    print(\"[\" + datadir + \"]\")\n",
    "    img_files = glob(datadir+'*.jpg')\n",
    "    txt_files = glob(datadir+'*.txt')\n",
    "\n",
    "    crop_images = []\n",
    "    coords_table = []\n",
    "\n",
    "    datadb = create_database(folder_idx+1, \"recog_test_task2_all_pad5\")\n",
    "    num_images = 1\n",
    "    db_start_idx = 0\n",
    "    for idx in tqdm(range(len(img_files))):\n",
    "        # print(idx, \" : \", img_files[idx])\n",
    "        refname = os.path.basename(img_files[idx])[:-4]\n",
    "        txt_filepath = os.path.join(datadir, refname+'.txt')\n",
    "        coords_table.append(get_coords_from_image(txt_filepath))\n",
    "\n",
    "        num_images = len(coords_table[idx])\n",
    "\n",
    "        crop_img, crop_coords = get_crop_image_by_coords_pad(img_files[idx], coords_table[idx], \n",
    "                                                             num_images=num_images)\n",
    "        update_database(datadb, crop_img, crop_coords, refname, db_start_idx)\n",
    "        db_start_idx = db_start_idx + (num_images * 5)\n",
    "\n",
    "    del coords_table[:][:]"
   ]
  },
  {
   "cell_type": "code",
   "execution_count": 46,
   "metadata": {},
   "outputs": [],
   "source": [
    "\"\"\"\n",
    "check images\n",
    "\"\"\"\n",
    "tdb_path = common_variable['database']['DB_BASE']\n",
    "tdb_name = \"recog_train_task2_random_pad5_u80_fax_style_0001\"\n",
    "tdb = open_env(os.path.join(tdb_path, tdb_name))\n",
    "tdb_imgs = read_bulk_data_from_db(tdb, prefix='img')"
   ]
  },
  {
   "cell_type": "code",
   "execution_count": 47,
   "metadata": {},
   "outputs": [
    {
     "data": {
      "text/plain": [
       "1241"
      ]
     },
     "execution_count": 47,
     "metadata": {},
     "output_type": "execute_result"
    }
   ],
   "source": [
    "len(tdb_imgs)"
   ]
  },
  {
   "cell_type": "code",
   "execution_count": 65,
   "metadata": {},
   "outputs": [
    {
     "data": {
      "image/png": "[encoded data removed]",
      "text/plain": [
       "<PIL.Image.Image image mode=RGB size=87x39 at 0x7F08804E7FD0>"
      ]
     },
     "execution_count": 65,
     "metadata": {},
     "output_type": "execute_result"
    }
   ],
   "source": [
    "tdb_imgs[374]"
   ]
  },
  {
   "cell_type": "code",
   "execution_count": 66,
   "metadata": {},
   "outputs": [
    {
     "name": "stdout",
     "output_type": "stream",
     "text": [
      "+------------------------------------------------------+-------------------------------------------------------------------------------------------------+\n",
      "| Key                                                  | Value                                                                                           |\n",
      "+------------------------------------------------------+-------------------------------------------------------------------------------------------------+\n",
      "| d2gan_train_task12_crop50080_0002                    | /media/myungsungkwak/msdisk/docrv2_data/DB/d2gan_train_task12_crop50080_0002                    |\n",
      "| d2gan_train_task12_crop_0000                         | /media/myungsungkwak/msdisk/docrv2_data/DB/d2gan_train_task12_crop_0000                         |\n",
      "| d2gan_train_task12_crop_0001                         | /media/myungsungkwak/msdisk/docrv2_data/DB/d2gan_train_task12_crop_0001                         |\n",
      "| d2gan_train_task12_crop_random_0001                  | /media/myungsungkwak/msdisk/docrv2_data/DB/d2gan_train_task12_crop_random_0001                  |\n",
      "| d2gan_train_task12_crop_random_0002                  | /media/myungsungkwak/msdisk/docrv2_data/DB/d2gan_train_task12_crop_random_0002                  |\n",
      "| inference_crop_0831_thr05_all                        | /media/myungsungkwak/msdisk/docrv2_data/DB/inference_crop_0831_thr05_all                        |\n",
      "| inference_crop_0831_thr05_all_preview_detection      | /media/myungsungkwak/msdisk/docrv2_data/DB/inference_crop_0831_thr05_all_preview_detection      |\n",
      "| inference_crop_0831_thr05_sample40                   | /media/myungsungkwak/msdisk/docrv2_data/DB/inference_crop_0831_thr05_sample40                   |\n",
      "| inference_crop_0831_thr05_sample40_preview_detection | /media/myungsungkwak/msdisk/docrv2_data/DB/inference_crop_0831_thr05_sample40_preview_detection |\n",
      "| inference_crop_0831_thr07_sample40                   | /media/myungsungkwak/msdisk/docrv2_data/DB/inference_crop_0831_thr07_sample40                   |\n",
      "| inference_crop_0831_thr07_sample40_preview_detection | /media/myungsungkwak/msdisk/docrv2_data/DB/inference_crop_0831_thr07_sample40_preview_detection |\n",
      "| inference_crop_0901_thr05_sample40                   | /media/myungsungkwak/msdisk/docrv2_data/DB/inference_crop_0901_thr05_sample40                   |\n",
      "| inference_crop_0901_thr05_sample40_preview_detection | /media/myungsungkwak/msdisk/docrv2_data/DB/inference_crop_0901_thr05_sample40_preview_detection |\n",
      "| raw_recog_inference_data_all_0001                    | /media/myungsungkwak/msdisk/docrv2_data/DB/raw_recog_inference_data_all_0001                    |\n",
      "| raw_test_task12_img_txt                              | /media/myungsungkwak/msdisk/docrv2_data/DB/raw_test_task12_img_txt                              |\n",
      "| raw_test_task12_img_txt_0001                         | /media/myungsungkwak/msdisk/docrv2_data/DB/raw_test_task12_img_txt_0001                         |\n",
      "| raw_test_task12_img_txt_X51005230605                 | /media/myungsungkwak/msdisk/docrv2_data/DB/raw_test_task12_img_txt_X51005230605                 |\n",
      "| raw_test_task12_img_txt_issue                        | /media/myungsungkwak/msdisk/docrv2_data/DB/raw_test_task12_img_txt_issue                        |\n",
      "| raw_test_task12_img_txt_sample                       | /media/myungsungkwak/msdisk/docrv2_data/DB/raw_test_task12_img_txt_sample                       |\n",
      "| raw_test_task12_img_txt_sample40                     | /media/myungsungkwak/msdisk/docrv2_data/DB/raw_test_task12_img_txt_sample40                     |\n",
      "| recog_inference_result_2497d6_raw_pad1               | /media/myungsungkwak/msdisk/docrv2_data/DB/recog_inference_result_2497d6_raw_pad1               |\n",
      "| recog_inference_result_2497d6_raw_pad2               | /media/myungsungkwak/msdisk/docrv2_data/DB/recog_inference_result_2497d6_raw_pad2               |\n",
      "| recog_inference_result_2497d6_raw_pad3               | /media/myungsungkwak/msdisk/docrv2_data/DB/recog_inference_result_2497d6_raw_pad3               |\n",
      "| recog_inference_result_9ae078_raw_pad1               | /media/myungsungkwak/msdisk/docrv2_data/DB/recog_inference_result_9ae078_raw_pad1               |\n",
      "| recog_inference_result_9ae078_raw_pad2               | /media/myungsungkwak/msdisk/docrv2_data/DB/recog_inference_result_9ae078_raw_pad2               |\n",
      "| recog_inference_result_all_0001                      | /media/myungsungkwak/msdisk/docrv2_data/DB/recog_inference_result_all_0001                      |\n",
      "| recog_inference_result_b15a8a_raw_pad0               | /media/myungsungkwak/msdisk/docrv2_data/DB/recog_inference_result_b15a8a_raw_pad0               |\n",
      "| recog_inference_result_b15a8a_raw_pad1               | /media/myungsungkwak/msdisk/docrv2_data/DB/recog_inference_result_b15a8a_raw_pad1               |\n",
      "| recog_inference_result_b15a8a_raw_pad2               | /media/myungsungkwak/msdisk/docrv2_data/DB/recog_inference_result_b15a8a_raw_pad2               |\n",
      "| recog_inference_result_b15a8a_raw_pad3               | /media/myungsungkwak/msdisk/docrv2_data/DB/recog_inference_result_b15a8a_raw_pad3               |\n",
      "| recog_inference_result_b15a8a_raw_pad4               | /media/myungsungkwak/msdisk/docrv2_data/DB/recog_inference_result_b15a8a_raw_pad4               |\n",
      "| recog_inference_result_bf964e_raw_pad0               | /media/myungsungkwak/msdisk/docrv2_data/DB/recog_inference_result_bf964e_raw_pad0               |\n",
      "| recog_inference_result_cf12e0_raw_pad0               | /media/myungsungkwak/msdisk/docrv2_data/DB/recog_inference_result_cf12e0_raw_pad0               |\n",
      "| recog_inference_result_d4637d_raw_pad0               | /media/myungsungkwak/msdisk/docrv2_data/DB/recog_inference_result_d4637d_raw_pad0               |\n",
      "| recog_inference_result_d4637d_raw_pad1               | /media/myungsungkwak/msdisk/docrv2_data/DB/recog_inference_result_d4637d_raw_pad1               |\n",
      "| recog_inference_result_d4637d_raw_pad2               | /media/myungsungkwak/msdisk/docrv2_data/DB/recog_inference_result_d4637d_raw_pad2               |\n",
      "| recog_inference_result_d4637d_raw_pad7               | /media/myungsungkwak/msdisk/docrv2_data/DB/recog_inference_result_d4637d_raw_pad7               |\n",
      "| recog_inference_result_d4637d_raw_pad7_left_right    | /media/myungsungkwak/msdisk/docrv2_data/DB/recog_inference_result_d4637d_raw_pad7_left_right    |\n",
      "| recog_test_all_pad5_valid_0001                       | /media/myungsungkwak/msdisk/docrv2_data/DB/recog_test_all_pad5_valid_0001                       |\n",
      "| recog_test_task2_all_0001                            | /media/myungsungkwak/msdisk/docrv2_data/DB/recog_test_task2_all_0001                            |\n",
      "| recog_test_task2_eval_0001                           | /media/myungsungkwak/msdisk/docrv2_data/DB/recog_test_task2_eval_0001                           |\n",
      "| recog_train_task2_all_0001                           | /media/myungsungkwak/msdisk/docrv2_data/DB/recog_train_task2_all_0001                           |\n",
      "| recog_train_task2_pad_sp_0001                        | /media/myungsungkwak/msdisk/docrv2_data/DB/recog_train_task2_pad_sp_0001                        |\n",
      "| recog_train_task2_pad_sp_0002                        | /media/myungsungkwak/msdisk/docrv2_data/DB/recog_train_task2_pad_sp_0002                        |\n",
      "| recog_train_task2_pad_sp_0003                        | /media/myungsungkwak/msdisk/docrv2_data/DB/recog_train_task2_pad_sp_0003                        |\n",
      "| recog_train_task2_pad_sp_0004                        | /media/myungsungkwak/msdisk/docrv2_data/DB/recog_train_task2_pad_sp_0004                        |\n",
      "| recog_train_task2_pad_split_0001                     | /media/myungsungkwak/msdisk/docrv2_data/DB/recog_train_task2_pad_split_0001                     |\n",
      "| recog_train_task2_random_pad3_u80_0001               | /media/myungsungkwak/msdisk/docrv2_data/DB/recog_train_task2_random_pad3_u80_0001               |\n",
      "| recog_train_task2_random_pad3_u80_style_0001         | /media/myungsungkwak/msdisk/docrv2_data/DB/recog_train_task2_random_pad3_u80_style_0001         |\n",
      "| recog_train_task2_random_pad3_u80_style_0002         | /media/myungsungkwak/msdisk/docrv2_data/DB/recog_train_task2_random_pad3_u80_style_0002         |\n",
      "| recog_train_task2_random_pad_sp_0001                 | /media/myungsungkwak/msdisk/docrv2_data/DB/recog_train_task2_random_pad_sp_0001                 |\n",
      "| recog_train_task2_random_pad_sp_0002                 | /media/myungsungkwak/msdisk/docrv2_data/DB/recog_train_task2_random_pad_sp_0002                 |\n",
      "| recog_train_task2_random_pad_sp_0003                 | /media/myungsungkwak/msdisk/docrv2_data/DB/recog_train_task2_random_pad_sp_0003                 |\n",
      "| recog_train_task2_random_pad_sp_0004                 | /media/myungsungkwak/msdisk/docrv2_data/DB/recog_train_task2_random_pad_sp_0004                 |\n",
      "+------------------------------------------------------+-------------------------------------------------------------------------------------------------+\n"
     ]
    },
    {
     "data": {
      "text/plain": [
       "['raw_test_task12_img_txt_sample',\n",
       " 'recog_train_task2_random_pad_sp_0003',\n",
       " 'recog_inference_result_2497d6_raw_pad1',\n",
       " 'inference_crop_0831_thr05_all_preview_detection',\n",
       " 'raw_test_task12_img_txt_sample40',\n",
       " 'recog_train_task2_random_pad_sp_0004',\n",
       " 'd2gan_train_task12_crop50080_0002',\n",
       " 'recog_train_task2_pad_sp_0003',\n",
       " 'recog_train_task2_all_0001',\n",
       " 'recog_train_task2_random_pad_sp_0001',\n",
       " 'recog_inference_result_9ae078_raw_pad2',\n",
       " 'raw_test_task12_img_txt_X51005230605',\n",
       " 'raw_recog_inference_data_all_0001',\n",
       " 'recog_inference_result_2497d6_raw_pad2',\n",
       " 'recog_inference_result_d4637d_raw_pad7',\n",
       " 'recog_train_task2_random_pad3_u80_0001',\n",
       " 'recog_test_all_pad5_valid_0001',\n",
       " 'recog_train_task2_random_pad3_u80_style_0002',\n",
       " 'recog_inference_result_9ae078_raw_pad1',\n",
       " 'raw_test_task12_img_txt_0001',\n",
       " 'recog_train_task2_pad_sp_0002',\n",
       " 'recog_inference_result_b15a8a_raw_pad3',\n",
       " 'inference_crop_0901_thr05_sample40',\n",
       " 'recog_inference_result_b15a8a_raw_pad2',\n",
       " 'inference_crop_0831_thr05_sample40_preview_detection',\n",
       " 'recog_train_task2_random_pad3_u80_style_0001',\n",
       " 'd2gan_train_task12_crop_0000',\n",
       " 'recog_inference_result_2497d6_raw_pad3',\n",
       " 'd2gan_train_task12_crop_random_0002',\n",
       " 'recog_inference_result_b15a8a_raw_pad4',\n",
       " 'recog_inference_result_bf964e_raw_pad0',\n",
       " 'recog_test_task2_all_0001',\n",
       " 'd2gan_train_task12_crop_0001',\n",
       " 'recog_inference_result_cf12e0_raw_pad0',\n",
       " 'inference_crop_0831_thr07_sample40_preview_detection',\n",
       " 'recog_inference_result_b15a8a_raw_pad0',\n",
       " 'recog_inference_result_d4637d_raw_pad1',\n",
       " 'recog_inference_result_d4637d_raw_pad7_left_right',\n",
       " 'recog_train_task2_pad_split_0001',\n",
       " 'inference_crop_0901_thr05_sample40_preview_detection',\n",
       " 'recog_train_task2_pad_sp_0001',\n",
       " 'recog_inference_result_all_0001',\n",
       " 'recog_test_task2_eval_0001',\n",
       " 'recog_inference_result_d4637d_raw_pad2',\n",
       " 'd2gan_train_task12_crop_random_0001',\n",
       " 'raw_test_task12_img_txt_issue',\n",
       " 'inference_crop_0831_thr05_sample40',\n",
       " 'recog_inference_result_b15a8a_raw_pad1',\n",
       " 'recog_inference_result_d4637d_raw_pad0',\n",
       " 'inference_crop_0831_thr07_sample40',\n",
       " 'raw_test_task12_img_txt',\n",
       " 'inference_crop_0831_thr05_all',\n",
       " 'recog_train_task2_random_pad_sp_0002',\n",
       " 'recog_train_task2_pad_sp_0004']"
      ]
     },
     "execution_count": 66,
     "metadata": {},
     "output_type": "execute_result"
    }
   ],
   "source": [
    "refresh_main_db()"
   ]
  },
  {
   "cell_type": "code",
   "execution_count": null,
   "metadata": {},
   "outputs": [],
   "source": []
  }
 ],
 "metadata": {
  "kernelspec": {
   "display_name": "Python [conda env:dl] *",
   "language": "python",
   "name": "conda-env-dl-py"
  },
  "language_info": {
   "codemirror_mode": {
    "name": "ipython",
    "version": 3
   },
   "file_extension": ".py",
   "mimetype": "text/x-python",
   "name": "python",
   "nbconvert_exporter": "python",
   "pygments_lexer": "ipython3",
   "version": "3.6.10"
  }
 },
 "nbformat": 4,
 "nbformat_minor": 4
}
