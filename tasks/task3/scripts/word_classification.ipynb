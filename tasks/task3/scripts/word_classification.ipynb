{
 "cells": [
  {
   "cell_type": "code",
   "execution_count": 1,
   "metadata": {},
   "outputs": [],
   "source": [
    "import glob\n",
    "import json\n",
    "import numpy.random as random\n",
    "import pandas as pd\n",
    "import numpy as np\n",
    "import matplotlib.pyplot as plt\n",
    "from functools import reduce"
   ]
  },
  {
   "cell_type": "markdown",
   "metadata": {},
   "source": [
    "## question"
   ]
  },
  {
   "cell_type": "code",
   "execution_count": 2,
   "metadata": {},
   "outputs": [],
   "source": [
    "question = glob.glob('../../../../ICDAR-2019-SROIE/data/box/*')"
   ]
  },
  {
   "cell_type": "code",
   "execution_count": 3,
   "metadata": {},
   "outputs": [],
   "source": [
    "txt_list = []\n",
    "for text in question:\n",
    "    with open(text) as f:\n",
    "        txt = f.read()\n",
    "    txt_list.append(txt)"
   ]
  },
  {
   "cell_type": "code",
   "execution_count": 4,
   "metadata": {},
   "outputs": [],
   "source": [
    "def split_only_8(string):\n",
    "    comma_split_string = [elem for elem in string.split(',')] \n",
    "    element_8_list = []\n",
    "    leftover = []\n",
    "    if comma_split_string != ['']:\n",
    "        for idx, txt in enumerate(comma_split_string):\n",
    "            if idx < 8:\n",
    "                element_8_list.append(int(txt))\n",
    "            else:\n",
    "                leftover.append(txt)\n",
    "        element_8_list.append(','.join(leftover))\n",
    "    return element_8_list"
   ]
  },
  {
   "cell_type": "code",
   "execution_count": 5,
   "metadata": {},
   "outputs": [],
   "source": [
    "corpus = [[split_only_8(row) for row in text.split('\\n')] for text in txt_list]"
   ]
  },
  {
   "cell_type": "code",
   "execution_count": 8,
   "metadata": {},
   "outputs": [],
   "source": [
    "df_list = [pd.DataFrame(c, columns=['x1', 'y1', 'x2', 'y2', 'x3', 'y3', 'x4','y4','transcript']).dropna() for c in corpus]"
   ]
  },
  {
   "cell_type": "code",
   "execution_count": 9,
   "metadata": {},
   "outputs": [],
   "source": [
    "df_long = reduce(lambda a,b: pd.concat([a, b]), df_list)"
   ]
  },
  {
   "cell_type": "code",
   "execution_count": 10,
   "metadata": {},
   "outputs": [],
   "source": [
    "text_list = list(df_long.transcript)"
   ]
  },
  {
   "cell_type": "markdown",
   "metadata": {},
   "source": [
    "## answer"
   ]
  },
  {
   "cell_type": "code",
   "execution_count": 11,
   "metadata": {},
   "outputs": [],
   "source": [
    "answer = glob.glob('../../../../ICDAR-2019-SROIE/data/key/*')"
   ]
  },
  {
   "cell_type": "code",
   "execution_count": 12,
   "metadata": {},
   "outputs": [],
   "source": [
    "json_list = []\n",
    "for ans in answer:\n",
    "    with open(ans) as f:\n",
    "        json_list.append(json.load(f))"
   ]
  },
  {
   "cell_type": "code",
   "execution_count": 13,
   "metadata": {},
   "outputs": [
    {
     "data": {
      "text/plain": [
       "{'company': 'INDAH GIFT & HOME DECO',\n",
       " 'date': '19/10/2018',\n",
       " 'address': '27, JALAN DEDAP 13, TAMAN JOHOR JAYA, 81100 JOHOR BAHRU, JOHOR.',\n",
       " 'total': '60.30'}"
      ]
     },
     "execution_count": 13,
     "metadata": {},
     "output_type": "execute_result"
    }
   ],
   "source": [
    "json_list[1]"
   ]
  },
  {
   "cell_type": "code",
   "execution_count": 14,
   "metadata": {},
   "outputs": [],
   "source": [
    "answer_df = pd.DataFrame(json_list)"
   ]
  },
  {
   "cell_type": "code",
   "execution_count": 17,
   "metadata": {},
   "outputs": [],
   "source": [
    "from collections import Counter\n",
    "from itertools import zip_longest"
   ]
  },
  {
   "cell_type": "code",
   "execution_count": 130,
   "metadata": {},
   "outputs": [],
   "source": [
    "def random_combination(zip_list, len_words, join_string):\n",
    "    random_elements = [random.choice(zip_seg_company[_+1], num_each_combination) for _ in range(len_words)]\n",
    "    return [join_string.join(rand) for rand in list(zip(*random_elements))] "
   ]
  },
  {
   "cell_type": "code",
   "execution_count": 259,
   "metadata": {},
   "outputs": [],
   "source": [
    "def random_combinations_from_list(nested_list, longest_list, num_each_combination, join_string):\n",
    "    set_list = set(nested_list)\n",
    "    seg_list = [str(lst).split() for lst in set_list]\n",
    "    zip_seg_list = list(zip_longest(*seg_list))\n",
    "    zip_seg_list = list(map(lambda e: list(filter(lambda x: x, e)), zip_seg_list))\n",
    "    random_comb_list = []\n",
    "    for _ in range(2, min(longest_list, len(zip_seg_list))):\n",
    "        random_comb_list.extend([random_combination(zip_seg_list, _, join_string) for __ in range(num_each_combination)])\n",
    "    return random_comb_list"
   ]
  },
  {
   "cell_type": "markdown",
   "metadata": {},
   "source": [
    "### company data augmentation"
   ]
  },
  {
   "cell_type": "code",
   "execution_count": 264,
   "metadata": {},
   "outputs": [],
   "source": [
    "set_company = list(answer_df.company)"
   ]
  },
  {
   "cell_type": "code",
   "execution_count": 265,
   "metadata": {},
   "outputs": [],
   "source": [
    "set_company.extend(random_combinations_from_list(set_company, 7, 400, ' '))"
   ]
  },
  {
   "cell_type": "markdown",
   "metadata": {},
   "source": [
    "### address data augmentation"
   ]
  },
  {
   "cell_type": "code",
   "execution_count": 293,
   "metadata": {},
   "outputs": [],
   "source": [
    "set_address = list(set(answer_df.address))"
   ]
  },
  {
   "cell_type": "code",
   "execution_count": 294,
   "metadata": {},
   "outputs": [],
   "source": [
    "seg_address = [addr.strip()+','\n",
    "                    if len(str(address).split(',')) != idx\n",
    "                    else addr.strip()+random.choice([',','.'])\n",
    "                    for address in set_address \n",
    "                    for idx, addr in enumerate(str(address).split(','))]"
   ]
  },
  {
   "cell_type": "code",
   "execution_count": 295,
   "metadata": {},
   "outputs": [],
   "source": [
    "set_address.extend(random_combinations_from_list(seg_address, 5, 750, ','))"
   ]
  },
  {
   "cell_type": "code",
   "execution_count": 296,
   "metadata": {},
   "outputs": [],
   "source": [
    "set_address.extend(seg_address)"
   ]
  },
  {
   "cell_type": "markdown",
   "metadata": {},
   "source": [
    "### date data augmentation"
   ]
  },
  {
   "cell_type": "code",
   "execution_count": 146,
   "metadata": {},
   "outputs": [],
   "source": [
    "set_date = list(answer_df.date)"
   ]
  },
  {
   "cell_type": "code",
   "execution_count": 147,
   "metadata": {},
   "outputs": [],
   "source": [
    "aug_each_date = 200"
   ]
  },
  {
   "cell_type": "code",
   "execution_count": 31,
   "metadata": {},
   "outputs": [],
   "source": [
    "from numpy.random import randint as rint"
   ]
  },
  {
   "cell_type": "code",
   "execution_count": 32,
   "metadata": {},
   "outputs": [],
   "source": [
    "months = ['JAN', 'FEB', 'MAR', 'APR', 'MAY', 'JUN', 'JUL', 'AUG', 'SEP', 'OCT', 'NOV', 'DEC']\n",
    "def rmonths():\n",
    "    return random.choice(months)"
   ]
  },
  {
   "cell_type": "code",
   "execution_count": 33,
   "metadata": {},
   "outputs": [],
   "source": [
    "set_date.extend(['{:02d}/{:02d}/{}'.format(rint(1, 32), rint(1,13), rint(1990, 2020)) for _ in range(aug_each_date)])\n",
    "set_date.extend(['{:02d}-{:02d}-{}'.format(rint(1, 32), rint(1,13), rint(1990, 2020)) for _ in range(aug_each_date)])\n",
    "set_date.extend(['{:02d}-{:02d}-{:02d}'.format(rint(1, 32), rint(1,13), rint(0, 99)) for _ in range(aug_each_date)])\n",
    "set_date.extend(['{:02d} {} {}'.format(rint(1, 32), rmonths(), rint(1990, 2020)) for _ in range(aug_each_date)])"
   ]
  },
  {
   "cell_type": "code",
   "execution_count": 34,
   "metadata": {},
   "outputs": [],
   "source": [
    "set_total = list(answer_df.total)"
   ]
  },
  {
   "cell_type": "markdown",
   "metadata": {},
   "source": [
    "### none data augmentation\n",
    "영수증에 나왔던 단어 중 company, date, address 가 아닌 단어들을 none으로 둠"
   ]
  },
  {
   "cell_type": "code",
   "execution_count": 297,
   "metadata": {},
   "outputs": [],
   "source": [
    "not_none = ' '.join(list(map(str, answer_df.company + answer_df.address + answer_df.date)))"
   ]
  },
  {
   "cell_type": "code",
   "execution_count": 298,
   "metadata": {},
   "outputs": [],
   "source": [
    "none = list(filter(lambda e: e not in not_none, text_list))"
   ]
  },
  {
   "cell_type": "code",
   "execution_count": 299,
   "metadata": {},
   "outputs": [],
   "source": [
    "set_none = random.choice(none, 10000)"
   ]
  },
  {
   "cell_type": "code",
   "execution_count": 300,
   "metadata": {},
   "outputs": [
    {
     "data": {
      "text/plain": [
       "(2626, 626, 3723, 10000)"
      ]
     },
     "execution_count": 300,
     "metadata": {},
     "output_type": "execute_result"
    }
   ],
   "source": [
    "len(set_company), len(set_date), len(set_address), len(set_none)"
   ]
  },
  {
   "cell_type": "code",
   "execution_count": 301,
   "metadata": {},
   "outputs": [],
   "source": [
    "answer = {0:'company', 1:'address', 2:'None'}\n",
    "answer_inv = {value:key for key, value in answer.items()}"
   ]
  },
  {
   "cell_type": "code",
   "execution_count": 302,
   "metadata": {},
   "outputs": [],
   "source": [
    "company_label_list = [(_, answer_inv['company']) for _ in set_company]\n",
    "# date_label_list = [(_, answer_inv['date']) for _ in set_date]\n",
    "address_label_list = [(_, answer_inv['address']) for _ in set_address]\n",
    "none_label_list = [(_, answer_inv['None']) for _ in set_none]"
   ]
  },
  {
   "cell_type": "code",
   "execution_count": 303,
   "metadata": {},
   "outputs": [],
   "source": [
    "corpus_label = company_label_list + address_label_list + none_label_list"
   ]
  },
  {
   "cell_type": "code",
   "execution_count": 304,
   "metadata": {},
   "outputs": [
    {
     "data": {
      "text/plain": [
       "16349"
      ]
     },
     "execution_count": 304,
     "metadata": {},
     "output_type": "execute_result"
    }
   ],
   "source": [
    "len(corpus_label)"
   ]
  },
  {
   "cell_type": "markdown",
   "metadata": {},
   "source": [
    "## put in DB"
   ]
  },
  {
   "cell_type": "code",
   "execution_count": 43,
   "metadata": {
    "scrolled": false
   },
   "outputs": [],
   "source": [
    "from glob import glob\n",
    "import sys\n",
    "sys.path.append('../../../modules/database/')\n",
    "from db_util import *\n",
    "from db import *"
   ]
  },
  {
   "cell_type": "code",
   "execution_count": 198,
   "metadata": {},
   "outputs": [],
   "source": [
    "path = r'C:\\Users\\hscho\\Desktop\\long8v/DB/'\n",
    "name = 'word_classificaton_data'\n",
    "description = 'data for word classification, no splitted'\n",
    "db_raw = create_data_db(path=path, name=name, description=description, data_class='RAW')"
   ]
  },
  {
   "cell_type": "code",
   "execution_count": 45,
   "metadata": {},
   "outputs": [
    {
     "name": "stderr",
     "output_type": "stream",
     "text": [
      "14624it [00:00, 337741.12it/s]\n"
     ]
    }
   ],
   "source": [
    "cache = {}\n",
    "for index, value in tqdm(enumerate(corpus_label)):\n",
    "    cache = update_cache(cache, index=index, label=str(value[1]), image=None, text=str(value[0]), ref=None)"
   ]
  },
  {
   "cell_type": "code",
   "execution_count": 46,
   "metadata": {},
   "outputs": [],
   "source": [
    "write_cache_to_db(db_raw, db_raw.open_db(b'db_data'), cache)"
   ]
  },
  {
   "cell_type": "code",
   "execution_count": 47,
   "metadata": {},
   "outputs": [
    {
     "name": "stdout",
     "output_type": "stream",
     "text": [
      "+-------------+----------------------------------------------------------+\n",
      "| Key         | Value                                                    |\n",
      "+-------------+----------------------------------------------------------+\n",
      "| class       | RAW                                                      |\n",
      "| created     | 2020-09-09 19:52:03                                      |\n",
      "| db_data     | (database)                                               |\n",
      "| description | data for word classification, no splitted                |\n",
      "| name        | word_classificaton_data                                  |\n",
      "| note        |                                                          |\n",
      "| reference   | C:\\Users\\hscho\\Desktop\\long8v/DB/word_classificaton_data |\n",
      "| sep         | \t                                                        |\n",
      "| updated     | 2020-09-09 19:52:03                                      |\n",
      "+-------------+----------------------------------------------------------+\n"
     ]
    }
   ],
   "source": [
    "print_env(db_raw)"
   ]
  },
  {
   "cell_type": "code",
   "execution_count": 48,
   "metadata": {},
   "outputs": [
    {
     "data": {
      "text/plain": [
       "<Environment at 0x1da32cf06f0>"
      ]
     },
     "execution_count": 48,
     "metadata": {},
     "output_type": "execute_result"
    }
   ],
   "source": [
    "register_db(db=db_raw)"
   ]
  },
  {
   "cell_type": "markdown",
   "metadata": {},
   "source": [
    "## tokenizer"
   ]
  },
  {
   "cell_type": "code",
   "execution_count": 161,
   "metadata": {},
   "outputs": [],
   "source": [
    "from tensorflow.keras import preprocessing"
   ]
  },
  {
   "cell_type": "code",
   "execution_count": 162,
   "metadata": {},
   "outputs": [],
   "source": [
    "all_text = list(zip(*corpus_label))[0]\n",
    "all_text_chr = list(map(lambda e: list(str(e)), all_text))\n",
    "tokenizer = preprocessing.text.Tokenizer(oov_token='<UNK>')\n",
    "tokenizer.fit_on_texts(all_text_chr)"
   ]
  },
  {
   "cell_type": "code",
   "execution_count": 163,
   "metadata": {},
   "outputs": [],
   "source": [
    "max_len = max([len(_) for _ in all_text_chr])"
   ]
  },
  {
   "cell_type": "code",
   "execution_count": 164,
   "metadata": {},
   "outputs": [],
   "source": [
    "tokenizer_path = r'C:\\Users\\hscho\\Desktop\\long8v/DB/'\n",
    "with open('{}/tokenizer.json'.format(tokenizer_path), 'w') as f:\n",
    "    json.dump(tokenizer.to_json(), f)"
   ]
  },
  {
   "cell_type": "markdown",
   "metadata": {},
   "source": [
    "## data preprocessing"
   ]
  },
  {
   "cell_type": "code",
   "execution_count": 222,
   "metadata": {},
   "outputs": [],
   "source": [
    "from sklearn.model_selection import train_test_split"
   ]
  },
  {
   "cell_type": "code",
   "execution_count": 223,
   "metadata": {},
   "outputs": [],
   "source": [
    "train, test = train_test_split(corpus_label, shuffle=True)"
   ]
  },
  {
   "cell_type": "code",
   "execution_count": 224,
   "metadata": {},
   "outputs": [],
   "source": [
    "zip_train = list(zip(*train))\n",
    "zip_test = list(zip(*test))"
   ]
  },
  {
   "cell_type": "code",
   "execution_count": 225,
   "metadata": {},
   "outputs": [],
   "source": [
    "train_x = zip_train[0]\n",
    "train_y = zip_train[1]\n",
    "test_x = zip_test[0]\n",
    "test_y = zip_test[1]"
   ]
  },
  {
   "cell_type": "code",
   "execution_count": 226,
   "metadata": {},
   "outputs": [],
   "source": [
    "n_cat = len(set(train_y))"
   ]
  },
  {
   "cell_type": "code",
   "execution_count": 227,
   "metadata": {},
   "outputs": [],
   "source": [
    "def preprocess(lst, tokenizer):\n",
    "    lst_chr = list(map(lambda e : list(str(e)), lst))\n",
    "    lst_sequences = tokenizer.texts_to_sequences(lst_chr)\n",
    "    padded_lst_sequences = preprocessing.sequence.pad_sequences(lst_sequences, maxlen=135, padding='post')\n",
    "    return padded_lst_sequences"
   ]
  },
  {
   "cell_type": "code",
   "execution_count": 228,
   "metadata": {},
   "outputs": [],
   "source": [
    "padded_train_x = preprocess(train_x, tokenizer)\n",
    "padded_test_x = preprocess(test_x, tokenizer)"
   ]
  },
  {
   "cell_type": "code",
   "execution_count": 229,
   "metadata": {},
   "outputs": [
    {
     "data": {
      "text/plain": [
       "array([[44, 12,  6, ...,  0,  0,  0],\n",
       "       [ 7, 11,  7, ...,  0,  0,  0],\n",
       "       [ 6,  7,  3, ...,  0,  0,  0],\n",
       "       ...,\n",
       "       [16, 14, 23, ...,  0,  0,  0],\n",
       "       [17,  3,  8, ...,  0,  0,  0],\n",
       "       [10,  7,  5, ...,  0,  0,  0]])"
      ]
     },
     "execution_count": 229,
     "metadata": {},
     "output_type": "execute_result"
    }
   ],
   "source": [
    "padded_train_x"
   ]
  },
  {
   "cell_type": "code",
   "execution_count": 230,
   "metadata": {},
   "outputs": [],
   "source": [
    "from keras.utils import to_categorical"
   ]
  },
  {
   "cell_type": "code",
   "execution_count": 231,
   "metadata": {},
   "outputs": [],
   "source": [
    "train_y_ctg = to_categorical(train_y)\n",
    "test_y_ctg = to_categorical(test_y)"
   ]
  },
  {
   "cell_type": "code",
   "execution_count": 305,
   "metadata": {},
   "outputs": [],
   "source": [
    "# -*- coding: utf-8 -*-\n",
    "\n",
    "from tensorflow.keras.models import Sequential\n",
    "from tensorflow.keras.layers import Input\n",
    "from tensorflow.keras.layers import Dense\n",
    "from tensorflow.keras.layers import Conv2D\n",
    "from tensorflow.keras.layers import Conv1D\n",
    "from tensorflow.keras.layers import MaxPooling2D\n",
    "from tensorflow.keras.layers import Dropout\n",
    "from tensorflow.keras.layers import Flatten\n",
    "from tensorflow.keras.layers import Bidirectional\n",
    "from tensorflow.keras.layers import Embedding\n",
    "from tensorflow.keras.layers import LSTM\n",
    "from tensorflow.keras.layers import Attention\n",
    "from tensorflow.keras.layers import GlobalAveragePooling1D\n",
    "from tensorflow.keras.layers import Concatenate\n",
    "from tensorflow.keras.layers import MaxPool1D\n",
    "from tensorflow.keras.layers import BatchNormalization\n",
    "from tensorflow.keras.layers import InputLayer\n",
    "from tensorflow.keras.layers import LeakyReLU\n",
    "\n",
    "import tensorflow as tf\n",
    "import tensorflow.keras as keras\n"
   ]
  },
  {
   "cell_type": "code",
   "execution_count": 306,
   "metadata": {},
   "outputs": [],
   "source": [
    "model = Sequential()\n",
    "model.add(Embedding(len(tokenizer.index_word)+1, 150, trainable=True))\n",
    "\n",
    "# conv\n",
    "model.add(Conv1D(128, 3, activation=None))\n",
    "model.add(LeakyReLU())\n",
    "model.add(BatchNormalization())\n",
    "model.add(MaxPool1D(2))\n",
    "model.add(Conv1D(256, 5, activation=None))\n",
    "model.add(LeakyReLU())\n",
    "model.add(BatchNormalization())\n",
    "model.add(MaxPool1D(2))\n",
    "\n",
    "# lstm\n",
    "model.add(Bidirectional(LSTM(128, return_sequences=True)))\n",
    "model.add(Bidirectional(LSTM(64)))\n",
    "\n",
    "model.add(Dense(64, activation=None))\n",
    "model.add(LeakyReLU())\n",
    "model.add(BatchNormalization())\n",
    "model.add(Dropout(0.5))\n",
    "model.add(Dense(n_cat, activation='softmax'))\n",
    "\n",
    "\n",
    "\n",
    "# compile model\n",
    "model.compile(optimizer='Adam', loss='categorical_crossentropy', metrics=['accuracy'])"
   ]
  },
  {
   "cell_type": "code",
   "execution_count": 307,
   "metadata": {},
   "outputs": [
    {
     "data": {
      "text/plain": [
       "((12261, 135), (12261, 3))"
      ]
     },
     "execution_count": 307,
     "metadata": {},
     "output_type": "execute_result"
    }
   ],
   "source": [
    "padded_train_x.shape, train_y_ctg.shape"
   ]
  },
  {
   "cell_type": "code",
   "execution_count": 308,
   "metadata": {},
   "outputs": [
    {
     "name": "stdout",
     "output_type": "stream",
     "text": [
      "552/552 [==============================] - 244s 442ms/step - loss: 0.2344 - accuracy: 0.9285\n",
      "552/552 [==============================] - 226s 409ms/step - loss: 0.1223 - accuracy: 0.9662\n",
      "552/552 [==============================] - 252s 456ms/step - loss: 0.0816 - accuracy: 0.9782\n",
      "552/552 [==============================] - 240s 434ms/step - loss: 0.0752 - accuracy: 0.9798\n",
      "552/552 [==============================] - 237s 430ms/step - loss: 0.0514 - accuracy: 0.9865\n",
      "552/552 [==============================] - 214s 387ms/step - loss: 0.0508 - accuracy: 0.9852\n",
      "552/552 [==============================] - 150s 271ms/step - loss: 0.0436 - accuracy: 0.9882\n",
      "552/552 [==============================] - 108s 195ms/step - loss: 0.0364 - accuracy: 0.9905\n",
      "552/552 [==============================] - 110s 198ms/step - loss: 0.0385 - accuracy: 0.9893\n",
      "552/552 [==============================] - 119s 216ms/step - loss: 0.0356 - accuracy: 0.9904\n"
     ]
    }
   ],
   "source": [
    "for _ in range(10):\n",
    "    model.fit(x=padded_train_x, y=train_y_ctg, batch_size=20, validation_split=0.1, validation_freq=2)"
   ]
  },
  {
   "cell_type": "code",
   "execution_count": 309,
   "metadata": {},
   "outputs": [
    {
     "name": "stdout",
     "output_type": "stream",
     "text": [
      "128/128 [==============================] - 11s 86ms/step - loss: 0.0498 - accuracy: 0.9863\n"
     ]
    },
    {
     "data": {
      "text/plain": [
       "[0.049779947847127914, 0.9863013625144958]"
      ]
     },
     "execution_count": 309,
     "metadata": {},
     "output_type": "execute_result"
    }
   ],
   "source": [
    "model.evaluate(x=padded_test_x, y=test_y_ctg)"
   ]
  },
  {
   "cell_type": "code",
   "execution_count": 310,
   "metadata": {},
   "outputs": [
    {
     "data": {
      "text/plain": [
       "'None'"
      ]
     },
     "execution_count": 310,
     "metadata": {},
     "output_type": "execute_result"
    }
   ],
   "source": [
    "answer[np.argmax(model.predict(preprocess(['20-19-2020'], tokenizer)))]"
   ]
  },
  {
   "cell_type": "markdown",
   "metadata": {},
   "source": [
    "## inference"
   ]
  },
  {
   "cell_type": "code",
   "execution_count": 311,
   "metadata": {},
   "outputs": [],
   "source": [
    "def get_answer(transcript):\n",
    "    return answer[np.argmax(model.predict(preprocess([transcript], tokenizer)))]"
   ]
  },
  {
   "cell_type": "code",
   "execution_count": 312,
   "metadata": {},
   "outputs": [
    {
     "name": "stdout",
     "output_type": "stream",
     "text": [
      "company BOOK TA .K(TAMAN DAYA) SDN BND\n",
      "address NO.53 55,57 & 59, JALAN SAGU 18,\n",
      "address TAMAN DAYA,\n",
      "address 81100 JOHOR BAHRU,\n",
      "company KF MODELLING CLAY KIDDY FISH\n"
     ]
    }
   ],
   "source": [
    "df = df_list[0]\n",
    "for idx, row in df.iterrows():\n",
    "    ans = get_answer(row.transcript)\n",
    "    if ans != 'None':\n",
    "        print(ans, row.transcript)"
   ]
  },
  {
   "cell_type": "code",
   "execution_count": 313,
   "metadata": {},
   "outputs": [
    {
     "data": {
      "text/plain": [
       "'NO.53 55,57 & 59, JALAN SAGU 18, TAMAN DAYA, 81100 JOHOR BAHRU, JOHOR.'"
      ]
     },
     "execution_count": 313,
     "metadata": {},
     "output_type": "execute_result"
    }
   ],
   "source": [
    "answer_df.loc[0]['address']"
   ]
  },
  {
   "cell_type": "code",
   "execution_count": 314,
   "metadata": {},
   "outputs": [],
   "source": [
    "from collections import defaultdict"
   ]
  },
  {
   "cell_type": "code",
   "execution_count": 333,
   "metadata": {},
   "outputs": [
    {
     "name": "stderr",
     "output_type": "stream",
     "text": [
      "100%|█████████████████████████████████████████████████| 626/626 [21:17<00:00,  2.04s/it]\n"
     ]
    }
   ],
   "source": [
    "predicted_list = []\n",
    "for df in tqdm(df_list):\n",
    "    dedict = defaultdict(str)\n",
    "    for idx, row in df.iterrows():\n",
    "        ans = get_answer(row.transcript)\n",
    "        if ans != 'None':\n",
    "            dedict[ans] += row.transcript\n",
    "    predicted_list.append(dedict)"
   ]
  },
  {
   "cell_type": "code",
   "execution_count": 334,
   "metadata": {},
   "outputs": [
    {
     "data": {
      "text/plain": [
       "'company'"
      ]
     },
     "execution_count": 334,
     "metadata": {},
     "output_type": "execute_result"
    }
   ],
   "source": [
    "get_answer('OLD TOWN KOPTIAM SDN BHD')"
   ]
  },
  {
   "cell_type": "code",
   "execution_count": 335,
   "metadata": {},
   "outputs": [
    {
     "data": {
      "text/plain": [
       "'None'"
      ]
     },
     "execution_count": 335,
     "metadata": {},
     "output_type": "execute_result"
    }
   ],
   "source": [
    "get_answer('OLDTOWN WHITE COFFEE')"
   ]
  },
  {
   "cell_type": "code",
   "execution_count": 336,
   "metadata": {},
   "outputs": [
    {
     "data": {
      "text/plain": [
       "'company'"
      ]
     },
     "execution_count": 336,
     "metadata": {},
     "output_type": "execute_result"
    }
   ],
   "source": [
    "get_answer('F&P PHARMACY')"
   ]
  },
  {
   "cell_type": "code",
   "execution_count": 337,
   "metadata": {},
   "outputs": [
    {
     "data": {
      "text/plain": [
       "'company'"
      ]
     },
     "execution_count": 337,
     "metadata": {},
     "output_type": "execute_result"
    }
   ],
   "source": [
    "get_answer('LIGHTROOM GALLERY SDN BHD')"
   ]
  },
  {
   "cell_type": "code",
   "execution_count": 338,
   "metadata": {},
   "outputs": [
    {
     "data": {
      "text/plain": [
       "'None'"
      ]
     },
     "execution_count": 338,
     "metadata": {},
     "output_type": "execute_result"
    }
   ],
   "source": [
    "get_answer('SWC ENTERPRISE SDN BHD')"
   ]
  },
  {
   "cell_type": "code",
   "execution_count": 339,
   "metadata": {},
   "outputs": [
    {
     "data": {
      "text/plain": [
       "[('BOOK TA .K(TAMAN DAYA) SDN BNDKF MODELLING CLAY KIDDY FISH',\n",
       "  'BOOK TA .K (TAMAN DAYA) SDN BHD'),\n",
       " ('INDAH GIFT & HOME DECOROUNDING ADJ............', 'INDAH GIFT & HOME DECO'),\n",
       " ('MR D.T.Y. (JOHOR) SDN BHD', 'MR D.I.Y. (JOHOR) SDN BHD'),\n",
       " ('YONGFATT ENTERPRISE', 'YONGFATT ENTERPRISE'),\n",
       " ('MR D.I.Y. (M) SDN BHD', 'MR D.I.Y. (M) SDN BHD'),\n",
       " ('TAN CHAY YEEABC HO TRADINGTAMAN DESA HARMONI.', 'ABC HO TRADING'),\n",
       " ('TAN CHAY YEESOON HUAT MACHINERY ENTERPRISEWORKMANSHIP & SERVICEGIANT 606 OVERFLOW ASSY',\n",
       "  'SOON HUAT MACHINERY ENTERPRISE'),\n",
       " ('TAN CHAY YEES.H.H. MOTOR (SUNGAI RENGIT) SDN. BHD.',\n",
       "  'S.H.H. MOTOR (SUNGAI RENGIT) SDN. BHD.')]"
      ]
     },
     "execution_count": 339,
     "metadata": {},
     "output_type": "execute_result"
    }
   ],
   "source": [
    "list(zip(company, answer_df['company']))"
   ]
  },
  {
   "cell_type": "code",
   "execution_count": 340,
   "metadata": {},
   "outputs": [],
   "source": [
    "address = [_['address'] for _ in predicted_list]\n",
    "company = [_['company'] for _ in predicted_list]"
   ]
  },
  {
   "cell_type": "code",
   "execution_count": 341,
   "metadata": {},
   "outputs": [
    {
     "data": {
      "text/plain": [
       "[('NO.53 55,57 & 59, JALAN SAGU 18,TAMAN DAYA,81100 JOHOR BAHRU,',\n",
       "  'NO.53 55,57 & 59, JALAN SAGU 18, TAMAN DAYA, 81100 JOHOR BAHRU, JOHOR.'),\n",
       " ('27,JALAN DEDAP 13,TAMAN JOHOR JAYA,',\n",
       "  '27, JALAN DEDAP 13, TAMAN JOHOR JAYA, 81100 JOHOR BAHRU, JOHOR.'),\n",
       " ('LOT 1851-A & 1851-B, JALAN KPB 6,KAWASAN PERINDUSTRIAN BALAKONG,XXXX',\n",
       "  'LOT 1851-A & 1851-B, JALAN KPB 6, KAWASAN PERINDUSTRIAN BALAKONG, 43300 SERI KEMBANGAN, SELANGOR (MR DIY TESCO TERBAU)'),\n",
       " ('', 'NO 122.124. JALAN DEDAP 13 81100 JOHOR BAHRU'),\n",
       " ('LOT 1851-A & 1851-B, JALAN KPB 6,KAWASAN PERINDUSTRIAN BALAKONG,XXXXX',\n",
       "  'LOT 1851-A & 1851-B, JALAN KPB 6, KAWASAN PERINDUSTRIAN BALAKONG, 43300 SERI KEMBANGAN, SELANGOR (TESCO PUTRA NILAI)'),\n",
       " ('NO.2&4,JALAN HARMONI 3/2,',\n",
       "  'NO.2&4, JALAN HARMONI 3/2, TAMAN DESA HARMONI. 81100 JOHOR BAHRU JOHOR'),\n",
       " ('NO.53 JALAN PUTRA 1,TAMAN SRIPUTRA,',\n",
       "  'NO.53 JALAN PUTRA 1, TAMAN SRI PUTRA, 81200 JOHOR BAHRU JOHOR'),\n",
       " ('NO. 343, JALAN KURAU, SUNGAI RENGIT,81620 PENGERANG, JOHOR.',\n",
       "  'NO. 343, JALAN KURAU, SUNGAI RENGIT, 81620 PENGERANG, JOHOR.'),\n",
       " ('', 'NO.59 JALAN PERMAS 9/5 BANDAR BARU PERMAS JAYA 81760 JOHOR BAHRU'),\n",
       " ('LEVEL 6, BANGUNAN TH, DAMANSARA UPTOWN3',\n",
       "  'LEVEL 6, BANGUNAN TH, DAMANSARA UPTOWN3 NO.3, JALAN SS21/39,47400 PETALING JAYA SELANGOR'),\n",
       " ('67,JLN MEWAH 25/63 TMN SRI MUDA,FRIDAY,',\n",
       "  '67,JLN MEWAH 25/63 TMN SRI MUDA, 40400 SHAH ALAM.'),\n",
       " ('(X) U13/X, SETIA ALAM,SEKSYEN U13, 40170 SHAH ALAM,BIG STRETCH FILM ???',\n",
       "  'NO. 17-G, JALAN SETIA INDAH (X) U13/X, SETIA ALAM, SEKSYEN U13, 40170 SHAH ALAM,'),\n",
       " ('U13/BG BANDAR SETIA ALAM,40170 BANDAR SETIA ALAM,XG',\n",
       "  'NO.113G & 115G, JALAN SETIA GEMBILANG U13/BG BANDAR SETIA ALAM, 40170 BANDAR SETIA ALAM, SELANGOR.'),\n",
       " ('',\n",
       "  'NO.2-1-1 JALAN SEITA PRIMA Q U 13/Q SEITA ALAM 40170 SHAN ALAM SELANGOR'),\n",
       " ('NO.23 BATU 10, TAMAN SENTOSA,JALAN KAPAR, 42200 KLANG, SELANGOR.',\n",
       "  'NO.23 BATU 10, TAMAN SENTOSA, JALAN KAPAR, 42200 KLANG, SELANGOR.'),\n",
       " ('U13/BG BANDAR SETIA ALAM,40170 BANDAR SETIA ALAM,XG',\n",
       "  'NO.113G & 115G, JALAN SETIA GEMBILANG U13/BG BANDAR SETIA ALAM, 40170 BANDAR SETIA ALAM, SELANGOR.'),\n",
       " ('NO: 28, JALAN ASTANA 1C,KLANG SELANGOR D.E, MALAYSIA',\n",
       "  'NO: 28, JALAN ASTANA 1C, BANDAR BUKIT RAJA, 41050 KLANG SELANGOR D.E, MALAYSIA'),\n",
       " ('NO: 28, JALAN ASTANA 1C,KLANG SELANGOR D. E, MALAYSIA',\n",
       "  'NO: 28, JALAN ASTANA 1C, BANDAR BUKIT RAJA, 41050 KLANG SELANGOR D.E, MALAYSIA'),\n",
       " ('NO: 28, JALAN ASTANA 1C,KLANG SELANGOR D.E, MALAYSIA',\n",
       "  'NO: 28,JALAN ASTANA 1C, BANDAR BUKIT RAJA, 41050 KLANG SELANGOR D.E, MALAYSIA'),\n",
       " ('', 'LOT 2685 JLN GENTING KLANG 53300 KL SITE 1066'),\n",
       " ('75, JALAN SS 22/19, DAMANSARA JAYA, 47400 PJ,',\n",
       "  '75. JALAN SS 22/19, DAMANSARA JAYA, 47400 PJ'),\n",
       " ('NO. 53, JALAN BESAR, 45600 BATANG BERJUNTAI',\n",
       "  'NO. 53, JALAN BESAR, 45600 BATANG BERJUNTAI SELANGOR DARUL EHSAN'),\n",
       " ('NO 43-45-47G,TAMAN SEJATI,IJOK, 45600 BESTARI JAYA,03-3279 1851,',\n",
       "  'NO 43-45-47G, TAMAN SEJATI, IJOK, 45600 BESTARI JAYA, KUALA SELANGOR.'),\n",
       " ('NO. 53, JALAN BESAR, 45600 BATANG BERJUNTAI',\n",
       "  'NO.53, JALAN BESAR, 45600 BATANG BERJUNTAI SELANGOR DARUL EHSAN'),\n",
       " ('NO. 53, JALAN BESAR, 45600 BATANG BERJUNTAI',\n",
       "  'NO.53, JALAN BESAR, 45600 BATANG BEJUNTAL SELANGOR DARUL EHSAN'),\n",
       " ('NO. 53, JALAN BESAR, 45600 BATANG BERJUNTAI',\n",
       "  'NO.53,JALAN BESAR,45600 BATANG BERJUNTAI SELANGOR DARUL EHSAN'),\n",
       " ('NO. 53, JALAN BESAR, 45600 BATANG BERJUNTAI',\n",
       "  'NO. 53, JALAN BESAR, 45600 BATANG BERJUNTAI SELANGOR DARUL EHSAN'),\n",
       " ('LOT 1851-A & 1851-B, JALAN KPB 6,KAWASAN PERINDUSTRIAN BALAKONG,',\n",
       "  'LOT 1851-A & 1851-B, JALAN KPB 6, KAWASAN PERINDUSTRIAN BALAKONG, 43300 SERI KEMBANGAN, SELANGOR'),\n",
       " ('LOT P.T. 2811, JALAN ANGSA,41150 KLANG, SELANGOR',\n",
       "  'LOT P.T. 2811, JALAN ANGSA, TAMAN BERKELEY 41150 KLANG, SELANGOR 1076-IJOK'),\n",
       " ('NO.50 , JALAN PBS 14/11 ,KAWASAN PERINDUSTRIAN BUKIT SERDANG,',\n",
       "  'NO.50,JALAN PBS 14/11, KAWASAN PERINDUSTRIAN BUKIT SERDANG,'),\n",
       " ('12, JALAN TAMPOI 7/4,KAWASAN PERINDUSTRIANTAMPOI,81200 JOHOR BAHRU,JOHOR',\n",
       "  '12, JALAN TAMPOI 7/4,KAWASAN PERINDUSTRIAN TAMPOI,81200 JOHOR BAHRU,JOHOR'),\n",
       " ('JLN JEJAKA, TAMAN MALURI',\n",
       "  '3RD FLR, AEON TAMAN MALURI SD JLN JEJAKA, TAMAN MALURI CHERAS, 55100 KUALA LUMPUR'),\n",
       " ('12, JALAN TAMPOI 7/4,KAWASAN PERINDUSTRIANTAMPOI,81200 JOHOR BAHRU,JOHOR',\n",
       "  '12, JALAN TAMPOI 7/4,KAWASAN PERINDUSTRIAN TAMPOI 81200 JOHOR BAHRU,JOHOR'),\n",
       " ('12, JALAN TAMPOI 7/4,KAWASAN PERINDUSTRIANTAMPOI,81200 JOHOR BAHRU,JOHOR',\n",
       "  '12, JALAN TAMPOI 7/4,KAWASAN PERINDUSTRIAN TAMPOI,81200 JOHOR BAHRU,JOHOR'),\n",
       " ('', 'NO.59 JALAN PERMAS 9/5 BANDAR BARU PERMAS JAYA 81750 JOHOR BAHRU'),\n",
       " ('12, JALAN TAMPOI 7/4,KAWASAN PERINDUSTRIANTAMPOI,81200 JOHOR BAHRU,JOHOR',\n",
       "  '12, JALAN TAMPOI 7/4,KAWASAN PERINDUSTRIAN TAMPOI,81200 JOHOR BAHRU,JOHOR'),\n",
       " ('12, JALAN TAMPOI 7/4,KAWASAN PERINDUSTRIANTAMPOI,81200 JOHOR BAHRU,JOHOR',\n",
       "  '12, JALAN TAMPOI 7/4,KAWASAN PERINDUSTRIAN TAMPOI,81200 JOHOR BAHRU,JOHOR'),\n",
       " ('', 'JALAN PERMAS UTARA 1 PERMAS JAYA 81750 MASAI JOHOR'),\n",
       " ('S117, SECOND FLOOR,AEON TEBRAU CITY,1, JALAN DESA TEBRAU,TAMAN DESA TEBRAU,',\n",
       "  'S117, SECOND FLOOR, AEON TEBRAU CITY, 1, JALAN DESA TEBRAU, TAMAN DESA TEBRAU, 81100 JOHOR BAHRU, JOHOR.'),\n",
       " (': HARRY,PAING',\n",
       "  \"AVTIVO PLAZA,LOT B-F-11, BLOCK B NO1.JALAN PJU 9/1,D'SARA AVEVUE BANDAR SRI D'SARA, 52000 KL\"),\n",
       " ('109, SS21/1A,', '109, SS21/1A, DAMANSARA UTAMA'),\n",
       " ('109, SS21/1A,', '109, SS21/1A, DAMANSARA UTAMA'),\n",
       " ('LOT 38, 39 101 BOULEVARD,JALAN KENARI 5, BANDAR PUCHONG JAYA,',\n",
       "  'LOT 38, 39 101 BOULEVARD, JALAN KENARI 5, BANDAR PUCHONG JAYA, 47170 PUCHONG, SELANGOR'),\n",
       " ('78G, JALAN SS21/62,DAMANSARA UTAMA,',\n",
       "  '78G, JALAN SS21/62, DAMANSARA UTAMA, 47400 PETALING JAYA.'),\n",
       " ('TAMPOI,81200 JOHOR BAHRU,JOHOR',\n",
       "  '12, JALAN TAMPOI 7/4,KAWASAN PARINDUSTRIAN TAMPOI,81200 JOHOR BAHRU,JOHOR'),\n",
       " ('TAMPOL,81200 JOHOR BAHRU,JOHOR',\n",
       "  '12, JALAN TAMPOI 7/4,KAWASAN PARINDUSTRIAN TAMPOI,81200 JOHOR BAHRU,JOHOR'),\n",
       " ('379,JALAN PERMAS SATU,SEAFOOD',\n",
       "  '379, JALAN PERMAS SATU, BANDAR BARU PERMAS JAYA 81750 PLENTONG, JOHOR.'),\n",
       " ('', 'K3-113, JL IBRAHIM SULTAN 80300 JOHOR BAHRU JOHOR'),\n",
       " ('NO4,JALAN PERJIRANAN 10,TAMAN AIR BIRU,81700 PASIR GUDANG,',\n",
       "  'NO 4,JALAN PERJIRANAN 10, TAMAN AIR BIRU, 81700 PASIR GUDANG, JOHOR.'),\n",
       " ('', 'NO.59 JALAN PERMAS 9/5 BANDAR BARU PERMAS JAYA 81750 JOHOR BAHRU'),\n",
       " ('',\n",
       "  'LOT 50, FLOOR T2,SKY AVENUE GENTING HIGHLANDS PAHANG, 69000 PAHANG MALAYSIA'),\n",
       " ('12, JALAN TAMPOI 7/4,KAWASAN PERINDUSTRIANTAMPOI,81200 JOHOR BAHRU,JOHOR',\n",
       "  '12, JALAN TAMPOI 7/4,KAWASAN PERINDUSTRIAN TAMPOI,81200 JOHOR BAHRU,JOHOR'),\n",
       " ('LOT R1, KWS REHAT & RAWAT PAGOH ARAH UTARA,SIMPANG AMPAT PAGOH, LEBUHRAYA UTARA SELATAN.,84600,PAGOH,JOHOR',\n",
       "  'LOT R1, KWS REHAT & RAWAT PAGOH ARAH UTARA, SIMPANG AMPAT PAGOH, LEBUHRAYA UTARA SELATAN, 84600,PAGOH,JOHOR'),\n",
       " ('12, JALAN TAMPOI 7/4,KAWASAN PERINDUSTRIANTAMPOL,81200 JOHOR BAHRU,JOHOR',\n",
       "  '12, JALAN TAMPOI 7/4,KAWASAN PERINDUSTRIAN TAMPOI,81200 JOHOR BAHRU,JOHOR'),\n",
       " ('BANDAR BARU PERMAS JAYA,',\n",
       "  '18,JALAN PERMAS 10/7 BANDAR BARU PERMAS JAYA, MASAI,JOHOR'),\n",
       " ('12, JALAN TAMPOI 7/4,KAWASAN PERINDUSTRIANTAMPOI,81200 JOHOR BAHRU,JOHOR',\n",
       "  '12, JALAN TAMPOI 7/4,KAWASAN PERINDUSTRIAN TAMPOI,81200 JOHOR BAHRU,JOHOR'),\n",
       " ('12, JALAN TAMPOI 7/4,KAWASAN PERINDUSTRIANTAMPOI,81200 JOHOR BAHRU,JOHOR',\n",
       "  '12, JALAN TAMPOI 7/4,KAWASAN PERINDUSTRIAN TAMPOI,81200 JOHOR BAHRU,JOHOR'),\n",
       " ('12, JALAN TAMPOI 7/4,KAWASAN PERINDUSTRIANTAMPOI,81200 JOHOR BAHRU,JOHOR',\n",
       "  '12 JALAN TAMPOI 7/4,KAWASAN PERINDUSTRIAN TAMPOI,81200 JOHOR BAHRU,JOHOR'),\n",
       " ('12, JALAN TAMPOI 7/4,KAWASAN PERINDUSTRIANTAMPOI,81200 JOHOR BAHRU,JOHOR',\n",
       "  '12, JALAN TAMPOI 7/4,KAWASAN PERINDUSTRIAN TAMPOI,81200 JOHOR BAHRU,JOHOR'),\n",
       " ('', 'NO 14 & 16 JALAN PERMAS 4/3 BANDAR BARU PERMAS JAY'),\n",
       " ('LOT 6, JALAN BATAI,PLAZA BATAI, DAMANSARA HEIGHTS',\n",
       "  'LOT 6, JALAN BATAI, PLAZA BATAI, DAMANSARA HEIGHTS 50490, KUALA LUMPUR'),\n",
       " (\"NANDO'S,YOUR FEEDBACK IS IMPORTANT,FOR TAKE AWAY AND DELIVERY,\",\n",
       "  'UNIT G-13, GROUND FLOOR, NO.1 JLN KIARA, MONT KIARA 50480 KUALA LUMPUR'),\n",
       " ('LOT P.T. 2811, JALAN ANGSA,41150 KLANG, SELANGOR',\n",
       "  'LOT P.T. 2811, JALAN ANGSA, TAMAN BERKELEY 41150 KLANG, SELANGOR 1245-DESA SRI HARTAMAS'),\n",
       " ('', 'LOT 485, TMN LEMBAH KERAMAT JLN ULU KELANG,  54200 KUALA LUMPUR'),\n",
       " ('176 JLN SUNGEI BESI,NUN', '176 JLN SUNGEI BESI 57100 KUALA LUMPUR.'),\n",
       " ('', '13, JLN TASIK UTAMA 8 MEDAN NIAGA DAMAI SG BESI 57000 KL'),\n",
       " ('NO 19-G& 19-1& 19-2 JALAN TASIK UTAMA 4,',\n",
       "  'NO 19-G& 19-1& 19-2 JALAN TASIK UTAMA 4, MEDAN NIAGA TASIK DAMAI'),\n",
       " ('', '54,JALAN SS23/11 TAMAN SEA,47400 PETALING JAYA,SELANGOR'),\n",
       " ('NO 19-G& 19-1& 19-2 JALAN TASIK UTAMA 4,',\n",
       "  'NO 19-G& 19-1& 19-2 JALAN TASIK UTAMA 4, MEDAN NIAGA TASIK DAMAI'),\n",
       " ('LOT P.T. 2811, JALAN ANGSA,41150 KLANG, SELANGOR',\n",
       "  'LOT P.T. 2811, JALAN ANGSA, TAMAN BERKELEY 41150 KLANG, SELANGOR 1249-TMN PANDAN CAHAYA'),\n",
       " ('LOT P.T. 2811, JALAN ANGSA,41150 KLANG, SELANGOR',\n",
       "  'LOT P.T. 2811, JALAN ANGSA, TAMAN BERKELEY 41150 KLANG, SELANGOR 1317 TRILLIUM S6 BESI'),\n",
       " ('JLN JEJAKA, TAMAN MALURI',\n",
       "  '3RD FLR, AEON TAMAN MALURI SC JLN JEJAKA, TAMAN MALURI CHERAS, 55100 KUALA LUMPUR'),\n",
       " ('NO 8, JALAN 7/118B, DESA TUN RAZAK56000 KUALA LUMPUR, MALAYSIA',\n",
       "  'NO 8, JALAN 7/118B, DESA TUN RAZAK 56000 KUALA LUMPUR, MALAYSIA'),\n",
       " ('TAMAN SERDANG RAYA,',\n",
       "  'NO.32 & 33, JALAN SR 1/9, SEKSYEN 9, TAMAN SERDANG RAYA, 43300 SERI KEMBANGAN, SELANGOR DARUL EHSAN'),\n",
       " ('19, JALAN KANCIL,OFF JALANPUDU,X',\n",
       "  '19, JALAN KANCIL, OFF JALAN PUDU, 55100 KUALA LUMPUR MALAYSIA'),\n",
       " ('NO.32 & 33, JALAN SR 1/9, SEKSYEN 9,',\n",
       "  'NO.32 & 33, JALAN SR 1/9, SEKSYEN 9, TAMAN SERDANG RAYA, 43300 SERI KEMBANGAN, SELANGOR DARUL EHSAN'),\n",
       " ('NO.32 & 33, JALAN SR 1/9, SEKSYEN 9,TAMAN SERDANG RAYA,',\n",
       "  'NO.32 & 33, JALAN SR 1/9, SEKSYEN 9, TAMAN SERDANG RAYA, 43300 SERI KEMBANGAN, SELANGOR DARUL EHSAN'),\n",
       " ('SELANGOR, MALAYSIA',\n",
       "  'NO,1 JALAN PUTERI 7/10 BANDAR PUTERI, 47100 PUCHONG SELANGOR, MALAYSIA'),\n",
       " ('', 'NO.22 JALAN PUTERI 2/4 BANDAR PUTERI 47100 PUCHONG, SELANGOR'),\n",
       " ('LOT 1851-A & 1851-B, JALAN KPB 6,KAWASAN PERINDUSTRIAN BALAKONG,',\n",
       "  'LOT 1851-A & 1851-B, JALAN KPB 6, KAWASAN PERINDUSTRIAN BALAKONG, 43300 SERI KEMBANGAN, SELANGOR'),\n",
       " ('NO 37, JALAN MANIS 7, TAMAN SEGAR,',\n",
       "  'NO 37, JALAN MANIS 7, TAMAN SEGAR, 56100 CHERAS, KUALA LUMPUR.'),\n",
       " ('LOT 1851-A & 1851-B, JALAN KPB 6,KAWASAN PERINDUSTRIAN BALAKONG,',\n",
       "  'LOT 1851-A & 1851-B, JALAN KPB 6, KAWASAN PERINDUSTRIAN BALAKONG, 43300 SERI KEMBANGAN, SELANGOR'),\n",
       " ('NO 37, JALAN MANIS 7, TAMAN SEGAR,',\n",
       "  'NO 37, JALAN MANIS 7, TAMAN SEGAR, 56100 CHERAS, KUALA LUMPUR.'),\n",
       " ('', '14 JALAN MANIS 4 TAMAN SEGAR 56100 KL'),\n",
       " ('LOT 1851-A & 1851-B, JALAN KPB 6,KWANSAN PERINDUSTRIAN BLANKONG,X',\n",
       "  'LOT 1851-A & 1851-B, JALAN KPB 6, KAWASAN PERINDUSTRIAN BALAKONG, 43300 SERI KEMBANGAN, SELANGOR'),\n",
       " ('LOT 1851-A & 1851-B, JALAN KPB 6,KWANSAN PERINDUSTRIAN BLANKONG,X',\n",
       "  'LOT 1851-A & 1851-B, JALAN KPB 6, KAWASAN PERINDUSTRIAN BALAKONG, 43300 SERI KEMBANGAN, SELANGOR'),\n",
       " ('LOT 1851-A & 1851-B, JALAN KPB 6,KWANSAN PERINDUSTRIAN BALANKONG,XXXX',\n",
       "  'LOT 1851-A & 1851-B, JALAN KPB 6, KAWASAN PERINDUSTRIAN BALAKONG, 43300 SERI KEMBANGAN, SELANGOR'),\n",
       " ('', 'NO 2A JALAN COCHRANE TAMAN MALURI 55100 KUALA LUMPUR'),\n",
       " ('', 'NO 2A JALAN COCHRANE TAMAN MALURI 55100 KUALA LUMPUR'),\n",
       " ('NO. 42, JALAN PBS 14/11,TAMAN PERINDUSTRIAN BUKIT SERDANG,43300 SERI KEMBANGAN,',\n",
       "  'NO. 42, JALAN PBS 14/11, TAMAN PERINDUSTRIAN BUKIT SERDANG, 43300 SERI KEMBANGAN, SELANGOR'),\n",
       " ('',\n",
       "  '4-20, JALAN RIA 25/62 TAMAN SRI MUDA SEKSYEN 25, 40400 SHAH ALAM SELANGOR'),\n",
       " ('',\n",
       "  '4-20, JALAN RIA 25/62 TAMAN SRI MUDA SEKSYEN 25, 40400 SHAH ALAM SELANGOR'),\n",
       " ('NO 1&3, JALAN ANGSA DELIMA 12,WANGSA LINK, WANGSA MAJU,',\n",
       "  'NO 1&3, JALAN WANGSA DELIMA 12, WANGSA LINK, WANGSA MAJU, 53300 KUALA LUMPUR'),\n",
       " ('3 FLOOR, AEON TAMAN MALURI SCJLN JEJAKA, TAMAN MALURI',\n",
       "  '3 FLOOR, AEON TAMAN MALURI SC JLN JEJAKA, TAMAN MALURI CHERAS, 55100 KUALA LUMPUR'),\n",
       " ('JLN JEJAKA, TAMAN MALURI',\n",
       "  '3RD FLR, AEON TAMAN MALURI SC JLN JEJAKA, TAMAN MALURI CHERAS, 55100 KUALA LUMPUR'),\n",
       " ('NO 8, JALAN 7/118B, DESA TUN RAZAK56000 KUALA LUMPUR, MALAYSIA',\n",
       "  'NO 8, JALAN 7/118B, DESA TUN RAZAK 56000 KUALA LUMPUR, MALAYSIA KL FESTIVAL CITY MALL'),\n",
       " ('NO 8, JALAN 7/118B, DESA TUN RAZAK56000 KUALA LUMPUR, MALAYSIA',\n",
       "  'NO 8, JALAN 7/118B, DESA TUN RAZAK 56000 KUALA LUMPUR, MALAYSIA'),\n",
       " ('NO 8, JALAN 7/118B, DESA TUN RAZAK56000 KUALA LUMPUR, MALAYSIA',\n",
       "  'NO 8, JALAN 7/118B, DESA TUN RAZAK 56000 KUALA LUMPUR, MALAYSIA'),\n",
       " ('425, JALAN PAHANG,TEL: 603-40232487, 40238191, 40218976,',\n",
       "  '425, JALAN PAHANG, SETAPAK, 53000 KUALA LUMPUR.'),\n",
       " ('NO 290, JALAN AIR PANAS,SETAPAK,',\n",
       "  'NO 290, JALAN AIR PANAS. SETAPAK, 53200, KUALA LUMPUR'),\n",
       " ('SETAPAK,', 'NO 290, JALAN AIR PANAS. SETAPAK. 53200, KUALA LUMPUR.'),\n",
       " ('SETAPAK,53200, KUALA LUMPUR,',\n",
       "  'NO 290, JALAN AIR PANAS. SETAPAK, 53200, KUALA LUMPUR.'),\n",
       " ('', 'NO 2A JALAN COCHRANE TAMAN MALURI 55100 KUALA LUMPUR'),\n",
       " ('SETAPAK,', 'NO 290, JALAN AIR PANAS. SETAPAK, 53200, KUALA LUMPUR'),\n",
       " ('MUST BE 18 OR ABOVE, VOID WHERE', nan),\n",
       " ('NO 21, JLN BUNGA KANTAN',\n",
       "  'NO 21, JLN BUNGA KANTAN TAMAN P. RAMLEE SETAPAK 53000 KUALA LUMPUR'),\n",
       " ('LOT 1-0-2, JLN 1/50,DIAMOND SQUARE,',\n",
       "  'LOT 1-0-2, JLN 1/50, DIAMOND SQUARE, OFF JLN GOMBAK 53000 KUALA LUMPUR'),\n",
       " ('',\n",
       "  '106-107, LEVEL 1 THE MINES MALL SERDANG SRI KEMBANGAN, 43300 SELANGOR DARUL EHSAN.'),\n",
       " ('X',\n",
       "  'NO 7. SIMPANG OFF BATU VILLAGE, JALAN IPOH BATU 5, 51200 KUALA LUMPUR MALAYSIA'),\n",
       " ('X',\n",
       "  'NO 7, SIMPANG OFF BATU VILLAGE, JALAN IPOH BATU 5, 51200 KUALA LUMPUR MALAYSIA'),\n",
       " ('X',\n",
       "  'NO 7, SIMPANG OFF BATU VILLAGE, JALAN IPOH BATU 5, 51200 KUALA LUMPUR MALAYSIA'),\n",
       " ('NO 290, JALAN AIR PANAS,SETAPAK,',\n",
       "  'NO 290, JALAN AIR PANAS, SETAPAK, 53200, KUALA LUMPUR.'),\n",
       " ('NO. 1, JALAN DUTAMAS 1,',\n",
       "  'LEVEL G2, BLOCK D1, SOLARIS DUTAMAS, NO.1, JALAN DUTAMAS 1, 50480 KUALA LUMPUR'),\n",
       " ('NO 290, JALAN AIR PANAS,SETAPAK,',\n",
       "  'NO 290, JALAN AIR PANAS, SETAPAK, 53200, KUALA LUMPUR.'),\n",
       " ('NO 290, JALAN AIR PANAS,SETAPAK,',\n",
       "  'NO 290, JALAN AIR PANAS, SETAPAK, 53200, KUALA LUMPUR.'),\n",
       " ('NO 290, JALAN AIR PANAS,SETAPAK,',\n",
       "  'NO 290, JALAN AIR PANAS, SETAPAK, 53200, KUALA LUMPUR.'),\n",
       " ('NO 290, JALAN AIR PANAS,SETAPAK,',\n",
       "  'NO 290, JALAN AIR PANAS, SETAPAK, 53200, KUALA LUMPUR.'),\n",
       " ('NO 290, JALAN AIR PANAS,SETAPAK,',\n",
       "  'NO 290, JALAN AIR PANAS, SETAPAK, 53200, KUALA LUMPUR.'),\n",
       " ('NO 290, JALAN AIR PANAS,SETAPAK,',\n",
       "  'NO 290, JALAN AIR PANAS, SETAPAK, 53200, KUALA LUMPUR.'),\n",
       " ('NO 290, JALAN AIR PANAS,SETAPAK,',\n",
       "  'NO 290, JALAN AIR PANAS, SETAPAK, 53200, KUALA LUMPUR.'),\n",
       " ('NO 290, JALAN AIR PANAS,SETAPAK,',\n",
       "  'NO 290, JALAN AIR PANAS, SETAPAK, 53200, KUALA LUMPUR.'),\n",
       " ('NO 290, JALAN AIR PANAS,SETAPAK,',\n",
       "  'NO 290, JALAN AIR PANAS, SETAPAK, 53200, KUALA LUMPUR.'),\n",
       " ('NO 290, JALAN AIR PANAS,SETAPAK,',\n",
       "  'NO 290, JALAN AIR PANAS, SETAPAK, 53200, KUALA LUMPUR.'),\n",
       " ('', 'NO 290, JALAN AIR PANAS, SETAPAK, 53200, KUALA LUMPUR.'),\n",
       " ('', 'NO 290, JALAN AIR PANAS, SETAPAK, 53200, KUALA LUMPUR.'),\n",
       " ('', 'NO 290, JALAN AIR PANAS, SETAPAK, 53200, KUALA LUMPUR.'),\n",
       " ('NO 290, JALAN AIR PANAS,SETAPAK,',\n",
       "  'NO 290, JALAN AIR PANAS, SETAPAK, 53200, KUALA LUMPUR.'),\n",
       " ('NO 290, JALAN AIR PANAS,STAPAK,53200, KUALA LUMPUR,',\n",
       "  'NO 290, JALAN AIR PANAS, SETAPAK, 53200, KUALA LUMPUR.'),\n",
       " ('SETAPAK,', 'NO 290, JALAN AIR PANAS, SETAPAK, 53200, KUALA LUMPUR.'),\n",
       " ('', 'NO 290, JALAN AIR PANAS, SETAPAK, 53200, KUALA LUMPUR.'),\n",
       " ('',\n",
       "  'LOT 1-0-2, JLN 1/50, DIAMOND SQUARE, OFF JLN GOMBAK 53000 KUALA LUMPUR'),\n",
       " ('NO.2, GROUND FLOOR, JALAN REKO SENTRAL 8TAMAN REKO SENTRAL, 43000 KAJANG',\n",
       "  'NO.2, GROUND FLOOR, JALAN REKO SENTRAL 8 TAMAN REKO SENTRAL, 43000 KAJANG SELANGOR DE'),\n",
       " ('23, JIN BURUNG JENTAYU, TMN BUKITMALURI, KEPONG, 52100 KL.',\n",
       "  '23, JIN BURUNG JENTAYU, TMN BUKIT MALURI, KEPONG, 52100 KL.'),\n",
       " ('NO 31G, JALAN SEPADU C 25/C,SECTION 25, TAMAN INDUSTRIES,AXIS 40400 SHAH ALAM, SELANGOR.SR: HAGER TIMER, 24HRS POWER RESERVE',\n",
       "  'NO 31G, JALAN SEPADU C 25/C, SECTION 25, TAMAN INDUSTRIES, AXIS 40400 SHAH ALAM, SELANGIR.'),\n",
       " ('UMOE S/NT 100MX75M, N/GRNUMOE S/NT 100MX75M, N/YLW',\n",
       "  '4-20, JALAN RIA 25/62 TAMAN SRI MUDA SEKSYEN 25, 40400 SHAH ALAM SELANGOR'),\n",
       " ('SECTION 25, TAMAN IDUSTRIES.AXIS 40400 SHAH ALAM, SELANGOR',\n",
       "  'NO 31G, JALAN SEPADU C 25/C, SECTION 25, TAMAN INDUSTRIES, AXIS 40400 SHAH ALAM, SELANGOR.'),\n",
       " ('NO.2, JALAN TEMENGGUNG 19/9,SEKSYEN 9, BANDAR MAHKOTA CHERAS,',\n",
       "  'NO.2, JALAN TEMENGGUNG 19/9, SEKSYEN 9, BANDAR MAHKOTA CHERAS, 43200 CHERAS, SELANGOR'),\n",
       " ('NO.2, JALAN TEMENGGUNG 19/9,SEKSYEN 9, BANDAR MAHKOTA CHERAS,',\n",
       "  'NO.2, JALAN TEMENGGUNG 19/9, SEKSYEN 9, BANDAR MAHKOTA CHERAS, 43200 CHERAS, SELANGOR'),\n",
       " ('NO.2, JALAN TEMENGGUNG 19/9,SEKSYEN 9, BANDAR MAHKOTA CHERAS,',\n",
       "  'NO.2, JALAN TEMENGGUNG 19/9, SEKSYEN 9, BANDAR MAHKOTA CHERAS, 43200 CHERAS, SELANGOR'),\n",
       " ('NO.2, JALAN TEMENGGUNG 19/9,SEKSYEN 9, BANDAR MAHKOTA CHERAS,',\n",
       "  'NO.2, JALAN TEMENGGUNG 19/9, SEKSYEN 9, BANDAR MAHKOTA CHERAS, 43200 CHERAS, SELANGOR'),\n",
       " ('NO.2, JALAN TEMENGGUNG 19/9,SEKSYEN 9, BANDAR MAHKOTA CHERAS,',\n",
       "  'NO.2, JALAN TEMENGGUNG 19/9, SEKSYEN 9, BANDAR MAHKOTA CHERAS, 43200 CHERAS, SELANGOR'),\n",
       " ('NO.2, JALAN TEMENGGUNG 19/9,SEKSYEN 9, BANDAR MAHKOTA CHERAS,',\n",
       "  'NO.2, JALAN TEMENGGUNG 19/9, SEKSYEN 9, BANDAR MAHKOTA CHERAS, 43200 CHERAS, SELANGOR'),\n",
       " ('NO.2, JALAN TEMENGGUNG 19/9,SEKSYEN 9, BANDAR MAHKOTA CHERAS,',\n",
       "  'NO.2, JALAN TEMENGGUNG 19/9, SEKSYEN 9, BANDAR MAHKOTA CHERAS, 43200 CHERAS, SELANGOR'),\n",
       " ('NO.2, JALAN TEMENGGUNG 19/9,SEKSYEN 9, BANDAR MAHKOTA CHERAS,',\n",
       "  'NO.2, JALAN TEMENGGUNG 19/9, SEKSYEN 9, BANDAR MAHKOTA CHERAS, 43200 CHERAS, SELANGOR'),\n",
       " ('LEVEL 6, BANGUNAN TH, DAMANSARA UPTOWN3',\n",
       "  'LEVEL 6, BANGUNAN TH, DAMANSARA UPTOWN3 NO.3, JALAN SS21/39, 47400 PETALING JAYA SELANGOR'),\n",
       " ('LEVEL 6, BANGUNAN TH, DAMANSARA UPTOWN3',\n",
       "  'LEVEL 6, BANGUNAN TH, DAMANSARA UPTOWN3 NO.3, JALAN SS21/39, 47400 PETALING JAYA SELANGOR'),\n",
       " ('43200 SELANGOR DARUL EHSAN, MALAYSIA',\n",
       "  'JALAN TEMENGGUNG 23/9 BANDAR MAHKOTA CHERAS 43200 SELANGOR DARUL EHSAN, MALAYSIA'),\n",
       " ('NO: 1-1&2 GROUND FLOOR,JLN TEMENGGUNG 13/9,',\n",
       "  'NO: 1-1&2 GROUND FLOOR, JLN TEMENGGUNG 13/9, 43200 CHERAS SELANGOR'),\n",
       " ('LEVEL 6, BANGUNAN TH, DAMANSARA UPTOWN3',\n",
       "  'LEVEL 6, BANGUNAN TH, DAMANSARA UPTOWN3 NO.3, JALAN SS21/39, 47400 PETALING JAYA SELANGOR'),\n",
       " ('19 & 19A, JALAN MERANTI 2A, SEKSYEI',\n",
       "  '19 & 19A, JALAN MERANTI 2A, SEKSYEI BANDAR BARU BATANG KALI, 44300'),\n",
       " ('SEKSYEN 4, BANDAR UTAMA, 44300BATANG KALI, SELANGOR',\n",
       "  '5-7, JALAN MAHAGONI 7/1 SEKSYEN 4, BANDAR UTAMA, 44300 BATANG KALI, SELANGOR'),\n",
       " ('NO.49, JALAN MAHAGONI 7/2,SEKSYEN 4 BANDAR UTAMA,',\n",
       "  'NO.49, JALAN MAHAGONI 7/2, SEKSYEN 4 BANDAR UTAMA, 44300 BATANG KALI, SELANGOR.'),\n",
       " ('USJ SUMMIT, SUBANG (SS)', 'USJ SUMMIT, SUBANG (SS)'),\n",
       " ('NO 8, JALAN 7/1188, BESA TAN RAZAK56000 KUALA LUMPUR, MALAYSIA',\n",
       "  'NO 8, JALAN 7/118B, DESA TAN RAZAH 56000 KUALA LUMPUR, MALAYSIA KSL CITY'),\n",
       " ('', '33-G JALAN MAJU 3/1 TAMAN LEMBAH MAJU CHERAS, 56100 KL'),\n",
       " ('LEVEL 6, BANGUNAN TH, DAMANSARA UPTOWN3',\n",
       "  'LEVEL 6, BANGUNAN TH, DAMANSARA UPTOWN3 NO.3, JALAN SS21/39, 47400 PETALING JAYA SELANGOR'),\n",
       " ('19-1, JALAN MALINJA 2, TAMAN BUNGA RAYA,',\n",
       "  '19-1. JALAN MALINJA 2, TAMAN BUNGA RAYA, 53100 SETAPAK, KUALA LUMPUR.'),\n",
       " ('CITY, NO1, MEDAN SYED PUTRA UTARA KUALA',\n",
       "  'A-16-1, TOWER A, NORTHPOINT OFFICE, MID VALLEY CITY, NO1, MEDAN SYED PUTRA UTARA KUALA LUMPUR MALAYSIA'),\n",
       " ('LOT P. T. 2811, JALAN ANGSA,41150 KLANG, SELANGOR',\n",
       "  'LOT P. T. 2811, JALAN ANGSA, TAMAN BERKELEY 41150 KLANG, SELANGOR 1934-LAMAN RIMBUNAN'),\n",
       " ('LOT 37636 , JALAN 6/37A ,TAMAN BUKIT MALURI ,TOTAL EXCL,GST',\n",
       "  'LOT 37636 , JALAN 6/37A, TAMAN BUKIT MALURI , 52100 KUALA LUMPUR'),\n",
       " ('BATU,', 'SHELL STATION PT15944, MUKIM BATU, JLN BESAR KEPONG'),\n",
       " ('',\n",
       "  'LOT NO. : G1 . 116A,GROUND FLOOR , SUNWAY PYRAMID , NO.3, JALAN PJS 11/15, BANDAR SUNWAY , 47500 PETALING JAYA.'),\n",
       " ('LOT P. T. 2811, JALAN ANGASA,41150 KLANG, SELANGOR',\n",
       "  'LOT P. T. 2811, JALAN ANGSA, TAMAN BERKELEY 41150 KLANG, SELANGOR 1181-TMN SRI SINAR'),\n",
       " ('LOT P. T. 2811, JALAN ANGSA,41150 KLANG, SELANGOR',\n",
       "  'LOT P. T. 2811, JALAN ANGSA, TAMAN BERKELEY 41150 KLANG, SELANGOR 1362-JLN DEVELOPMENT'),\n",
       " ('SUNFISH', '22 LRG PERUSAHAAN 4 KIMPAL INDS.PARK B.CAVES'),\n",
       " ('', 'NO.J-G-02, SOHO KI, SOLARIS MONT KIERA, 50 480 KL'),\n",
       " ('51200 KUALA LUMPUR,',\n",
       "  'LOT 34817 JALAN BATU AMBAR TAMAN KOK LIAN 51200 KUALA LUMPUR,'),\n",
       " ('HQ: 7, JLN SS21/34, 47400 PJ', 'HQ: 7, JLN SS21/34, 47400 PJ'),\n",
       " ('TAMAN SRI BINTANG,',\n",
       "  'NO.41, JALAN SERI BINTANG 2 TAMAN SRI BINTANG, 52100 KUALA LUMPUR.'),\n",
       " ('NO. 145G, JALAN RIMBUNAN RAYA 1,LAMAN RIMBUNAN KEPONG,:HERB,J',\n",
       "  'NO. 145G, JALAN RIMBUNAN RAYA 1, LAMAN RIMBUNAN KEPONG, 52100 KUALA LUMPUR'),\n",
       " ('NO 53, JALAN 3/62A,BANDAR MENJALARA,',\n",
       "  'NO 53, JALAN 3/62A, BANDAR MENJALARA, 52200 KUALA LUMPUR.'),\n",
       " ('GUARDIAN GIANT BREM MALL',\n",
       "  'GUARDIAN GIANT BREM MALL G-19 LEVEL G BREM MALL'),\n",
       " ('LOT 1851-A & 1851-B, JALAN KPB 6 ,KAWASAN PERINDUSTRIAN BALAKONG ,',\n",
       "  'LOT 1851-A & 1851-B, JALAN KPB 6, KAWASAN PERINDUSTRIAN BALAKONG, 43300 SERI KEMBANGAN, SELANGOR'),\n",
       " ('BY', 'D-08, M AVENUE , JLN 1 / 38A SEGAMBUT BAHAGIA 51200 KUALA LUMPUR'),\n",
       " ('TAMAN DATO AHMAD RAZALI, JALAN AMPANG,',\n",
       "  'NO 12 GF, JALAN MAMANDA 5, TAMAN DATO AHMAD RAZALI, JALAN AMPANG, 68000 AMPANG, SELANGOR.'),\n",
       " ('NO 8, JALAN 7/118B, DESA TUN RAZAK56000 KUALA LUMPUR, MALAYSIA',\n",
       "  'NO 8, JALAN 7/118B, DESA TUN RAZAK 56000 KUALA LUMPUR, MALAYSIA AMPANG POINT CENTRE'),\n",
       " ('', 'LOT 276 JALAN BANTING 43800 DENGKIL, SELANGOR.'),\n",
       " ('', 'LOT 276 JALAN BANTING 43800 DENGKIL, SELANGOR.'),\n",
       " ('', 'LOT 276 JALAN BANTING 43800 DENGKIL, SELANGOR.'),\n",
       " ('', 'LOT 276 JALAN BANTING 43800 DENGKIL, SELANGOR.'),\n",
       " ('', 'JALAN LAPANGAN TERBANG SUBANG 47200 SUBANG SELANGOR'),\n",
       " ('16200 PALEKBANG, KELANTAN',\n",
       "  'LOT 1626, MUKIM KAMPUNG LAUT TUMPAT 16200 PALEKBANG, KELANTAN'),\n",
       " ('', \"NO 3, JALAN TAMAN JAS'A 2; . SECTION U6, 40150 SHAH ALAM.\"),\n",
       " ('',\n",
       "  'NO. 15. JLN TSJ2,TMN SUBANG JASA, OFF JLN BT 3 SUBANG. 40000 SHAH ALAM. SEL.'),\n",
       " ('NO.15,JLN TSJ2,TMN SUBANG JASA,OFF JLN BT 3 SUBANG,40000 SHAH ALAM, SEL.',\n",
       "  'NO.15, JLN TSJ2,TMN SUBANG JASA, OFF JLN BT 3 SUBANG, 40000 SHAH ALAM, SEL.'),\n",
       " ('',\n",
       "  'NO. 1 JALAN EURO 1 OFF JALAN BATU TIGA SUNGAI BULOH SEKSYEN U3 SHAH ALAM, 40150'),\n",
       " ('LOT P.T. 2811, JALAN ANGSA,41150 KLANG, SELANGOR',\n",
       "  'LOT P.T. 2811, JALAN ANGSA, TAMAN BERKELEY 41150 KLANG, SELANGOR'),\n",
       " ('A-G-06, DATARAN GLOMAC,JALAN SS6/5A, PUSAT BANDAR KELANA JAYA,',\n",
       "  'A-G-06, DATARAN GLOMAC, JALAN SS6/5A, PUSAT BANDAR KELANA JAYA, 47301 PETALING JAYA, SELANGOR, MALAYSIA'),\n",
       " ('NO. 9-G, JALAN PERUBATAN 2,',\n",
       "  'NO. 9-G, JALAN PERUBATAN 2, PANDAN INDAH, 55100 KUALA LUMPUR.'),\n",
       " ('9, JALAN SUBANG JASA 3,',\n",
       "  '9, JALAN SUBANG JASA 3, 40150 SHAN ALAM, SELANGOR.'),\n",
       " ('LOT 1851-A & 1851-B, JALAN KPB 6,KAWASAN PERINOUSTRIAN BALAKONG,',\n",
       "  'LOT 1851-A & 1851-B, JALAN KPB 6, KAWASAN PERINDUSTRIAN BALAKONG, 43300 SERI KEMBANGAN, SELANGOR'),\n",
       " ('NO: G3, BLK G, JLN PJU 1A/3,PETALING JAYA, SELANGOR DARUL EHSAN.',\n",
       "  'NO: G3, BLK G, JIN PJU 1A/3, ARA DAMANSARA, 47301 PETALING JAYA, SELANGOR DARUL EHSAN.'),\n",
       " ('LOT 1851-A & 1851-B, JALAN KPB 6,KAWASAN PERINDUSTRIAN BALAKONG ,',\n",
       "  'LOT 1851-A & 1851-B, JALAN KPB 6, KAWASAN PERINDUSTRIAN BALAKONG, 43300 SERI KEMBANGAN, SELANGOR'),\n",
       " ('NO 8, JALAN 7/118B, DESA TUN RAZAK56000 KUALA LUMPUR , MALAYSIA',\n",
       "  'NO 8. JALAN 7/118B, DESA TUN RAZAK 56000 KUALA LUMPUR, MALAYSIA'),\n",
       " ('JLN JEJAKA, TAMAN MALURI',\n",
       "  '3RD FLR, AEON TAMAN MALURI SC JLN JEJAKA, TAMAN MALURI CHERAS ,55100 KUALA LUMPUR'),\n",
       " ('JLN JEJAKA, TAMAN MALURI',\n",
       "  '3RD FLR, AEON TAMAN MALURI SC JLN JEJAKA, TAMAN MALURI CHERAS, 55100 KUALA LUMPUR'),\n",
       " ('NO 8, JALAN 7/118B, DESA TUN RAZAK56000 KUALA LUMPUR, MALAYSI .',\n",
       "  'NO 8, JALAN 7/118B, DESA TUN RAZAK 56000 KUALA LUMPUR, MALAYSI.'),\n",
       " ('JLN JEJAKA, TAMAN MALURI',\n",
       "  '3RD FLR, AEON TAMAN MALURI SC JLN JEJAKA, TAMAN MALURI CHERAS, 55100 KUALA LUMPUR'),\n",
       " ('LOT 1851-A & 1851-B, JALAN KPB 6,KAWASAN PERINDUSTRIAN BALAKONG ,',\n",
       "  'LOT 1851-A & 1851-B, JALAN KPB 6, KAWASAN PERINDUSTRIAN BALAKONG, 43300 SERI KEMBANGAN, SELANGOR'),\n",
       " ('13-1, JALAN PJU 5/10,DATARAN SUNWAY, KOTA DAMANSARA,',\n",
       "  '13-1, JALAN PJU 5/10, DATARAN SUNWAY, KOTA DAMANSARA, 47810, PETALING JAYA, SELANGOR'),\n",
       " ('LOT 1851-A & 1851-B, JALAN KPB 6,KAWASAN PERINDUSTRIAN BALAKONG,',\n",
       "  'LOT 1851-A & 1851-B, JALAN KPB 6, KAWASAN PERINDUSTRIAN BALAKONG, 43300 SERI KEMBANGAN, SELANGOR'),\n",
       " ('LOT 1851-A & 1851-B, JALAN KPB 6 ,KAWASAN PERINDUSTRIAN BALAKONG ,',\n",
       "  'LOT 1851-A & 1851-B, JALAN KPB 6, KAWASAN PERINDUSTRIAN BALAKONG, 43300 SERI KEMBANGAN, SELANGOR'),\n",
       " ('DAISO JAPAN, IOI MALL', 'DAISO JAPAN, IOI MALL'),\n",
       " ('LOT 1851-A & 1851-B, JALAN KPB 6,KAWASAN PERINDUSTRIAN BALAKONG,',\n",
       "  'LOT 1851-A & 1851-B, JALAN KPB 6, KAWASAN PERINDUSTRIAN BALAKONG, 43300 SERI KEMBANGAN, SELANGOR'),\n",
       " ('LOT 1851-A & 1851-B, JALAN KPB 6 ,KAWASAN PERINDUSTRIAN BALAKONG ,',\n",
       "  'LOT 1851-A & 1851-B, JALAN KPB 6, KAWASAN PERINDUSTRIAN BALAKONG, 43300 SERI KEMBANGAN, SELANGOR'),\n",
       " ('LOT 1851-A & 1851-B, JALAN KPB 6,KAWASAN PERINDUSTRIAN BALAKONG ,',\n",
       "  'LOT 1851-A & 1851-B, JALAN KPB 6, KAWASAN PERINDUSTRIAN BALAKONG, 43300 SERI KEMBANGAN, SELANGOR'),\n",
       " ('NO 5, JALAN KENARI 2,BANDAR PUCHONG JAYA,',\n",
       "  'NO 5, JALAN KENARI 2, BANDAR PUCHONG JAYA, 47100 PUCHONG, SELANGOR'),\n",
       " ('LOT 1851-A & 1851-B, JALAN KPB 6,KAWASAN PERINDUSTRIAN BALAKONG ,',\n",
       "  'LOT 1851-A & 1851-B, JALAN KPB 6, KAWASAN PERINDUSTRIAN BALAKONG, 43300 SERI KEMBANGAN, SELANGOR'),\n",
       " ('LOT 1851-A & 1851-B, JALAN KPB 6,KAWASAN PERINDUSTRIAN BALAKONG,',\n",
       "  'LOT 1851-A & 1851-B, JALAN KPB 6, KAWASAN PERINDUSTRIAN BALAKONG, 43300 SERI KEMBANGAN, SELANGOR'),\n",
       " ('LOT 1F-01&02,1ST FLR,PARADIGM MALL,NO. 1 JALAN SS 7/26A,KELANA JAYA,',\n",
       "  'LOT 1F-01&02,1ST FLR,PARADIGM MALL, NO. 1 JALAN SS 7/26A, KELANA JAYA, 47301 PETALING JAYA'),\n",
       " ('L4-17 (B), LEVEL 4,UP2-01, MELAWATI MALL,355, JALAN BANDAR MELAWATI,PUSAT BANDAR MELAWATI,',\n",
       "  'L4-17 (B), LEVEL 4, UP2-01, MELAWATI MALL, 355, JALAN BANDAR MELAWATI, PUSAT BANDAR MELAWATI, 53100 KUALA LUMPUR.'),\n",
       " ('129, JALAN TUN H.S LEE,', '129, JALAN TUN H.S LEE, 50000 KUALA LUMPUR.'),\n",
       " ('NO 1&3, JALAN WANGSA DELIMA 12,WANGSA LINK, WANGSA MAJU,',\n",
       "  'NO 1&3, JALAN WANGSA DELIMA 12, WANGSA LINK, WANGSA MAJU, 53300 KUALA LUMPUR'),\n",
       " ('NO 1&3, JALAN WANGSA DELIMA 12,WANGSA LINK, WANGSA MAJU,',\n",
       "  'NO 1&3, JALAN WANGSA DELIMA 12, WANGSA LINK, WANGSA MAJU, 53300 KUALA LUMPUR'),\n",
       " ('NO.17, 18 & 41, JALAN BESAR,39100 BRINCHANG,CAMERON HIGHLANDS,PAHANG',\n",
       "  'NO.17, 18 & 41, JALAN BESAR, 39100 BRINCHANG, CAMERON HIGHLANDS, PAHANG'),\n",
       " ('NO.17,18 & 41,JALAN BESAR,39100 BRINCHANG,CAMERON HIGHLANDS,PAHANG',\n",
       "  'NO.17,18 & 41,JALAN BESAR,39100 BRINCHANG, CAMERON HIGHLANDS, PAHANG'),\n",
       " ('NO 1&3, JALAN WANGSA DELIMA 12,WANGSA LINK, WANGSA MAJU,',\n",
       "  'NO 1&3, JALAN WANGSA DELIMA 12, WANGSA LINK, WANGSA MAJU, 53300 KUALA LUMPUR'),\n",
       " ('ROUNDING ADJ ,BY', 'NO 2A JALAN COCHRANE TAMAN MALURI 55100 KUALA LUMPUR'),\n",
       " ('P6, BLOCK C, GM KLANG WHOLESALE CITY,JALAN KASUARINA 1,41200 KLANG, SELANGOR D.E.',\n",
       "  'P6, BLOCK C, GM KLANG WHOLESALE CITY, JALAN KASUARINA 1, 41200 KLANG, SELANGOR D.E.'),\n",
       " ('NO 18, 20, 22, JALAN BUNGA TANJONG 2/16,40000 SHAH ALAM, SELANGOR',\n",
       "  'NO 18, 20, 22, JALAN BUNGA TANJONG 2/16, 40000 SHAH ALAM, SELANGOR'),\n",
       " ('NO 18, 20, 22, JALAN BUNGA TANJONG 2/16,40000 SHAH ALAM, SELANGOR',\n",
       "  'NO 18, 20, 22, JALAN BUNGA TANJONG 2/16, 40000 SHAH ALAM, SELANGOR'),\n",
       " ('NO 8, JALAN 7/118B, DESA TUN RAZAK56000 KUALA LUMPUR, MALAYSIA',\n",
       "  'NO 8, JALAN 7/118B, DESA TUN RAZAK 56000 KUALA LUMPUR, MALAYSIA'),\n",
       " ('NO 8, JALAN 7/118B, DESA TUN RAZAK56000 KUALA LUMPUR, MALAYSIA',\n",
       "  'NO 8, JALAN 7/118B, DESA TUN RAZAK 56000 KUALA LUMPUR, MALAYSIA'),\n",
       " ('NO 8, JALAN 7/118B, DESA TUN RAZAK56000 KUALA LUMPUR, MALAYSIA',\n",
       "  'NO 8, JALAN 7/118B, DESA TUN RAZAK 56000 KUALA LUMPUR, MALAYSIA'),\n",
       " ('12, JALAN BUNGA TANJUNG,2/16 SEKSYEN 2,40000 SHAH ALAM, SELANGOR',\n",
       "  '12, JALAN BUNGA TANJUNG,2/16 SEKSYEN 2,40000 SHAH ALAM, SELANGOR'),\n",
       " ('LE 30/03/2018 A 12:36 V201855892CAISSIER 1, C',\n",
       "  'AUTOROUTE RABAT MEKNES 15000 KHEMISSET'),\n",
       " ('UNIT L1-044B, VIVACITY MEGAMALL,JALAN WAN ALWI,',\n",
       "  'UNIT L1-044B, VIVACITY MEGAMALL, JALAN WAN ALWI, 93350 KUCHING, SARAWAK.'),\n",
       " ('UNIT L1-044B, VIVACITY MEGAMALL,JALAN WAN ALWI,',\n",
       "  'UNIT L1-044B, VIVACITY MEGAMALL, JALAN WAN ALWI, 93350 KUCHING, SARAWAK.'),\n",
       " ('UNIT L1-044B, VIVACITY MEGAMALL,JALAN WAN ALWI,',\n",
       "  'UNIT L1-044B, VIVACITY MEGAMALL, JALAN WAN ALWI, 93350 KUCHING, SARAWAK.'),\n",
       " ('UNIT G-5B, GROUND FLOOR, WISMA UOA II,NO 21, JALAN PINANG,50450 KUALA LUMPUR, MALAYSIA',\n",
       "  'UNIT G-5B, GROUND FLOOR, WISMA UOA II, NO 21, JALAN PINANG, 50450 KUALA LUMPUR, MALAYSIA'),\n",
       " ('UNIT G-5B, GROUND FLOOR, WISMA UOA II,NO 21, JALAN PINANG,50450 KUALA LUMPUR, MALAYSIA',\n",
       "  'UNIT G-5B, GROUND FLOOR, WISMA UOA II, NO 21, JALAN PINANG, 50450 KUALA LUMPUR, MALAYSIA'),\n",
       " ('LOT 1851-A & 1851-B, JALAN KPB 6,KAWASAN PERINDUSTRIAN BALAKONG,',\n",
       "  'LOT 1851-A & 1851-B, JALAN KPB 6, KAWASAN PERINDUSTRIAN BALAKONG, 43300 SERI KEMBANGAN, SELANGOR'),\n",
       " ('STARTING 1ST APRIL, WE WILL NO LONGER BE ISSUING HANDWRITTEN',\n",
       "  'F-G-01 JALAN SS 6/5B DATARAN GLOMAC. KELANA JAYA 47301 PETALING JAYA. SELANGOR'),\n",
       " ('LOT 1504, BATU 8 1/2, JALAN KLANG LAMA,',\n",
       "  'LOT 1504, BATU 8 1/2, JALAN KLANG LAMA, 46000 PETALING JAYA, SELANGOR.'),\n",
       " ('NO.49, JALAN DINAR G U3/G,SUBANG PERDANA,40150 SHAH ALAM, SELANGOR D.E.',\n",
       "  'NO.49, JALAN DINAR G U3/G, SUBANG PERDANA, 40150 SHAH ALAM, SELANGOR D.E.'),\n",
       " ('', 'NO.12, JALAN SS4C/5,PETALING JAYA SELANGOR DARUL EHSAN'),\n",
       " ('', 'NO.12, JALAN SS4C/5,PETALING JAYA SELANGOR DARUL EHSAN'),\n",
       " ('', 'NO.12,JALAN SS4C/5,PETALING JAYA SELANGOR DARUL EHSAN'),\n",
       " ('69 JALAN NOVA U5/N, SEKSYEN U5 SUBANG BES* = STANDARD 6%,',\n",
       "  '69 JALAN NOVA U5/N, SEKSYEN U5 SUBANG BE'),\n",
       " ('PT17920 SEK U9, SHAH ALAM', 'PT17920 SEK U9, SHAH ALAM'),\n",
       " ('LOT F15, GIANT BANDAR PUTERI',\n",
       "  'LOT F15, GIANT BANDAR PUTERI JALAN PUTERI 1/1, BDR PUTERI 47100 PUCHONG, SELANGOR'),\n",
       " ('NO.49, JALAN DINAR G U3/G,SUBANG PERDANA,40150 SHAH ALAM, SELANGOR D.E.',\n",
       "  'NO.49, JALAN DINAR G U3/G, SUBANG PERDANA, 40150 SHAH ALAM, SELANGOR D.E.'),\n",
       " ('PT17920, SEKSYEN U9,40150 SHAH ALAM,',\n",
       "  'PT17920, SEKSYEN U9, 40150 SHAH ALAM, SELANGOR DARUL EHSAN.'),\n",
       " ('PT17920, SEKSYEN U9,40150 SHAH ALAM,',\n",
       "  'PT17920, SEKSYEN U9, 40150 SHAH ALAM, SELANGOR DARUL EHSAN.'),\n",
       " ('LEVEL 6, BANGUNAN TH, DAMANSARA UPTOWN3',\n",
       "  'LEVEL 6, BANGUNAN TH, DAMANSARA UPTOWN3 NO.3, JALAN SS21/39,47400 PETALING JAYA SELANGOR'),\n",
       " ('NO 2, JALAN BULAN BM U5/BM, SEKSYEN U5,40150 SHAH ALAM, SELANGOR',\n",
       "  'NO 2, JALAN BULAN BM U5/BM, SEKSYEN U5, 40150 SHAH ALAM, SELANGOR'),\n",
       " ('',\n",
       "  'LOT NO. G23, GIANT KELANA JAYA LOT PT244, JLN PERBANDARAN SS6/4 PUSAT BANDAR KELANA JAYA, PETALING'),\n",
       " ('LOT 1504, BATU 8 1/2, JALAN KLANG LAMA,',\n",
       "  'LOT 1504, BATU 8 1/2, JALAN KLANG LAMA, 46000 PETALING JAYA, SELANGOR.'),\n",
       " ('THE TUBE, 1/39, DATARAN PRIMA',\n",
       "  'A-09-10 PRIMA AVENUE THE TUBE, 1/39, DATARAN PRIMA 47301 PETALING JAYA SELANGOR DE'),\n",
       " ('19, JALAN KANCIL,OFF JALAN PUDU,X',\n",
       "  '19, JALAN KANCIL, OFF JALAN PUDU, 55100 KUALA LUMPUR MALAYSIA'),\n",
       " ('19, JALAN KANCIL,OFF JALAN PUDU,X',\n",
       "  '19, JALAN KANCIL, OFF JALAN PUDU, 55100 KUALA LUMPUR MALAYSIA'),\n",
       " ('', '44 JALAN SS21/58 DAMANSARA UTAMA 47400 PETALING JAYA'),\n",
       " ('', 'LOT F21 & 22, CITTA MALL NO 1, JLN PJU 1A/4 47301'),\n",
       " ('G-26, GRD FLOOR,CITTA MALL,NO 1, JALAN PJU,1A/4B, JLN PJU 1,ARA DAMANSARA,',\n",
       "  'G-26, GRD FLOOR,CITTA MALL, NO 1, JALAN PJU, 1A/4B, JLN PJU 1,ARA DAMANSARA, 47301 PETALING JAYA, SELANGOR.'),\n",
       " ('NO.49, JALAN DINAR G U3/G,SUBANG PERDANA,40150 SHAH ALAM, SELANGOR D.E.',\n",
       "  'NO.49, JALAN DINAR G U3/G, SUBANG PERDANA, 40150 SHAH ALAM, SELANGOR D.E.'),\n",
       " ('9, JALAN SUBANG JASA 3,',\n",
       "  '9, JALAN SUBANG JASA 3, 40150 SHAH ALAM, SELANGOR.'),\n",
       " ('NO 3, JALAN TAMAN JASA 2,',\n",
       "  'NO 3, JALAN TAMAN JASA 2, SECTION U6, 40150 SHAH ALAM.'),\n",
       " ('',\n",
       "  '12 JALAN PENGACARA U1/48 TEMASYA INDUSTRIAL PARK 40150 SHAH ALAM SELANGOR'),\n",
       " ('',\n",
       "  '12 JALAN PENGACARA U1/48 TEMASYA INDUSTRIAL PARK 40150 SHAH ALAM SELANGOR'),\n",
       " ('LOT P.T. 2811, JALAN ANGSA,41150 KLANG, SELANGOR',\n",
       "  'LOT P.T. 2811, JALAN ANGSA, TAMAN BERKELEY 41150 KLANG, SELANGOR 1313-SUBANG BESTARI'),\n",
       " ('NO7,JLN UERO,SHAH ALAM.RABU,OB', 'NO7,JLN UERO,SHAH ALAM.'),\n",
       " ('NO.49, JALAN DINAR G U3/G,SUBANG PERDANA,40150 SHAH ALAM, SELANGOR D.E.',\n",
       "  'NO.49, JALAN DINAR G U3/G, SUBANG PERDANA, 40150 SHAH ALAM, SELANGOR D.E.'),\n",
       " ('LOT P.T. 2811, JALAN ANGSA,41150 KLANG, SELANGOR',\n",
       "  'LOT P.T. 2811, JALAN ANGSA, TAMAN BERKELEY 41150 KLANG, SELANGOR 1032-SUBANG PERDANA'),\n",
       " ('4243,COMPLEKS PERNIAGAAN SRI GAYA,JLN TMN SUBANG JASA 3,SITI ANI',\n",
       "  '4243,COMPLEKS PERNIAGAAN SRI GAYA, JLN TMN SUBANG JASA 3, 40150 SELANGOR'),\n",
       " ('PT17920 SEK U9, SHAH ALAM', 'PT17920 SEK U9, SHAH ALAM'),\n",
       " ('TAMAN SUBANG PERDANA, SEK,U3,',\n",
       "  'NO. 9-G, JALAN DINAR D U3/D TAMAN SUBANG PERDANA, SEK,U3, 40150 SHAH ALAM,SELANGOR D.E.'),\n",
       " ('NO. 2, JALAN TEMENGGUNG 19/9,SEKSYEN 9, BANDAR MAHKOTA CHERAS,',\n",
       "  'NO. 2, JALAN TEMENGGUNG 19/9, SEKSYEN 9, BANDAR MAHKOTA CHERAS, 43200 CHERAS, SELANGOR'),\n",
       " ('LOT P.T. 2811, JALAN ANGSA,41150 KLANG, SELANGOR',\n",
       "  'LOT P.T. 2811, JALAN ANGSA, TAMAN BERKELEY 41150 KLANG, SELANGOR 1214-JINJANG UTARA'),\n",
       " ('LOT P.T. 2811, JALAN ANGSA,41150 KLANG, SELANGOR',\n",
       "  'LOT P.T. 2811, JALAN ANGSA, TAMAN BERKELEY 41150 KLANG, SELANGOR 1214-JINJANG UTARA'),\n",
       " ('NO.LOT 24, BATU 11 KAMPUNG DATO,UJANG BALAKONG, 43200 CHERAS, SEL.',\n",
       "  'NO.LOT 24, BATU 11 KAMPUNG DATO, UJANG BALAKONG, 43200 CHERAS, SEL.'),\n",
       " (': 2920/1, JALAN JINJANG INDAH 1,JINJANG UTARA,',\n",
       "  'NO 2-1 JALAN 3/137B BATU 5 JALAN KELANG LAMA 58000 KUALA LUMPUR'),\n",
       " ('G.23 & G.22, PLAZA SERI SETIA,NO.1 JALAN SS 9/1, 47300 PJ, SELANGOR,X',\n",
       "  'G.23 & G.22, PLAZA SERI SETIA, NO.1 JALAN SS 9/1, 47300 PJ, SELANGOR.'),\n",
       " ('TAMAN SUBANG PERDANA, SEK,U3,',\n",
       "  'NO. 9-G, JALAN DINAR D U3/D TAMAN SUBANG PERDANA, SEK,U3, 40150 SHAH ALAM,SELANGOR D.E.'),\n",
       " ('NO.49, JALAN DINAR G U3/G,SUBANG PERDANA,40150 SHAH ALAM, SELANGOR D.E.',\n",
       "  'NO.49, JALAN DINAR G U3/G, SUBANG PERDANA, 40150 SHAH ALAM, SELANGOR D.E.'),\n",
       " ('',\n",
       "  'NO. 1 JALAN EURO 1 OFF JALAN BATU TIGA SUNGAI BULOH SEKSYEN U3 SHAH ALAM,40150'),\n",
       " ('LOT P.T. 2811, JALAN ANGSA,41150 KLANG, SELANGOR',\n",
       "  'LOT P.T. 2811, JALAN ANGSA, TAMAN BERKELEY 41150 KLANG, SELANGOR 1214-JINJANG UTARA'),\n",
       " ('LOT P.T. 2811, JALAN ANGSA,41150 KLANG, SELANGOR',\n",
       "  'LOT P.T. 2811, JALAN ANGSA, TAMAN BERKELEY 41150 KLANG, SELANGOR 1422-TMN DESA JAYA'),\n",
       " ('NO.36G JALAN BULAN BM U5/BM,BANDAR PINGGIRAN SUBANG,SEKSYEN U5,E-MAIL: SNYSTATIONERY@HOTMAIL,.COM',\n",
       "  'NO. 36G JALAN BULAN BM U5/BM, BANDAR PINGGIRAN SUBANG, SEKSYEN U5, 40150 SHAH ALAM, SELANGOR.'),\n",
       " ('G.23 & G.22, PLAZA SERI SETIA,X',\n",
       "  'G.23 & G.22, PLAZA SERI SETIA, NO.1 JALAN SS 9/1, 47300 PJ, SELANGOR.'),\n",
       " ('NO. 20-A1, JALAN SS6/3, KELANA JAYA,',\n",
       "  'NO. 20-A1, JALAN SS6/3, KELANA JAYA, 47301 PETALING JAYA SELANGOR D.E.'),\n",
       " ('', 'NO.12,JALAN SS4C/5,PETALING JAYA SELANGOR DARUL EHSAN'),\n",
       " ('5,JALAN PERMAS 10/5,BANDAR BARU PERMAS JAYA,',\n",
       "  '5,JALAN PERMAS 10/5, BANDAR BARU PERMAS JAYA, 81750 JOHOR BAHRU,JOHOR'),\n",
       " ('NO. 8, JALAN PERMAS 10/7,',\n",
       "  'NO.8,JALAN PERMAS 10/7, PERMAS JAYA, 81750 JOHOR BAHRU.'),\n",
       " ('12, JALAN TAMPOI 7/4,KAWASAN PERINDUSTRIANTAMPOI,81200 JOHOR BAHRU,JOHOR',\n",
       "  '12, JALAN TAMPOI 7/4,KAWASAN PERINDUSTRIAN TAMPOI,81200 JOHOR BAHRU,JOHOR'),\n",
       " ('12, JALAN TAMPOI 7/4,KAWASAN PERINDUSTRIANTAMPOI,81200 JOHOR BAHRU,JOHOR',\n",
       "  '12, JALAN TAMPOI 7/4,KAWASAN PERINDUSTRIAN TAMPOI,81200 JOHOR BAHRU,JOHOR'),\n",
       " ('12, JALAN TAMPOI 7/4,KAWASAN PERINDUSTRIANTAMPOI,81200 JOHOR BAHRU,JOHOR',\n",
       "  '12, JALAN TAMPOI 7/4,KAWASAN PERINDUSTRIAN TAMPOI,81200 JOHOR BAHRU,JOHOR'),\n",
       " ('12, JALAN TAMPOI 7/4,KAWASAN PERINDUSTRIANTAMPOI,81200 JOHOR BAHRU,JOHOR',\n",
       "  '12, JALAN TAMPOI 7/4,KAWASAN PERINDUSTRIAN TAMPOI,81200 JOHOR BAHRU,JOHOR'),\n",
       " ('12, JALAN TAMPOI 7/4,KAWASAN PERINDUSTRIANTAMPOI,81200 JOHOR BAHRU,JOHOR',\n",
       "  '12, JALAN TAMPOI 7/4,KAWASAN PERINDUSTRIAN TAMPOI,81200 JOHOR BAHRU,JOHOR'),\n",
       " ('', 'LOT PTD 198718 TMN SIERRA P 81750 MASAI JOHOR'),\n",
       " ('8175 MASAI, JOHOR', 'LOT PTD 101051 JALAN PERMAS 10/10 81750 MASAI, JOHOR'),\n",
       " ('LOT G29 & G30, AEON MALL TEBRAU CITY,NO. 1, JALAN DESA TEBRAU,TAMAN DESA TEBRAU, 81100 JOHOR BAHRU.',\n",
       "  'LOT G29 & G30, AEON MALL TEBRAU CITY, NO. 1, JALAN DESA TEBRAU, TAMAN DESA TEBRAU, 81100 JOHOR BAHRU.'),\n",
       " ('12, JALAN TAMPOI 7/4,KAWASAN PERINDUSTRIANTAMPOI,81200 JOHOR BAHRU,JOHOR',\n",
       "  '12, JALAN TAMPOI 7/4,KAWASAN PERINDUSTRIAN TAMPOI,81200 JOHOR BAHRU,JOHOR'),\n",
       " ('12, JALAN TAMPOI 7/4,KAWASAN PERINDUSTRIANTAMPOI,81200 JOHOR BAHRU,JOHOR',\n",
       "  '12, JALAN TAMPOI 7/4,KAWASAN PERINDUSTRIAN TAMPOI,81200 JOHOR BAHRU,JOHOR'),\n",
       " ('', '88 JALAN IBRAHIM SULTAN STULANG LAUT 80300 JOHOR BAHRU'),\n",
       " ('379, JALAN PERMAS SATU,SEAFOOD',\n",
       "  '379, JALAN PERMAS SATU, BANDAR BARU PERMAS JAYA 81750 PLENTONG, JOHOR.'),\n",
       " ('12, JALAN TAMPOI 7/4,KAWASAN PERINDUSTRIANTAMPOI,81200 JOHOR BAHRU,JOHOR',\n",
       "  '12, JALAN TAMPOI 7/4,KAWASAN PERINDUSTRIAN TAMPOI,81200 JOHOR BAHRU,JOHOR'),\n",
       " ('NO.12, JALAN PERMAS JAYA 10,BY',\n",
       "  'NO.12, JALAN PERMAS JAYA 10, BANDAR BARU PERMAS JAYA, 81750 MASAI JOHOR'),\n",
       " ('NO.12, JALAN PERMAS JAYA 10,BY',\n",
       "  'NO.12, JALAN PERMAS JAYA 10, BANDAR BARU PERMAS JAYA, 81750 MASAI JOHOR'),\n",
       " (\"LOT F36, FIRST FLOOR,AEON MALL BDR DATO' ONN,81100 JOHOR BAHRU, JOHOR\",\n",
       "  \"LOT F36, FIRST FLOOR, AEON MALL BDR DATO' ONN, NO.3 JLN DATO' ONN 3, BDR DATO' ONN 81100 JOHOR BAHRU, JOHOR\"),\n",
       " ('BLK 2, UNIT G1 & G2, BESTARI TERRACE,LOT PTD 182908 & PTD 143216,JALAN DANGA, TAMAN NUSA BESTARI, 81300',\n",
       "  'BLK 2, UNIT G1 & G2, BESTARI TERRACE, LOT PTD 182908 & PTD 143216, JALAN DANGA, TAMAN NUSA BESTARI, 81300'),\n",
       " ('JLN JEJAKA, TAMAN MALURI',\n",
       "  '3RD FLR, AEON TAMAN MALURI SC JLN JEJAKA, TAMAN MALURI CHERAS, 55100 KUALA LUMPUR'),\n",
       " ('JLN JEJAKA, TAMAN MALURI',\n",
       "  '3RD FLR, AEON TAMAN MALURI SC JLN JEJAKA, TAMAN MALURI CHERAS, 55100 KUALA LUMPUR'),\n",
       " ('JLN JEJAKA, TAMAN MALURI',\n",
       "  '3RD FLR, AEON TAMAN MALURI SC JLN JEJAKA, TAMAN MALURI CHERAS, 55100 KUALA LUMPUR'),\n",
       " ('30, JLN KEBUDAYAAN 7, TMN UNIVERSITI81300 SKUDAI, JOHORBY',\n",
       "  \"DOMINO'S PIZZA TAMAN UNIVERSITI 30, JLN KEBUDAYAAN 7, TMN UNIVERSITI 81300 SKUDAI, JOHOR\"),\n",
       " ('30, JLN KEBUDAYAAN 7, TMN UNIVERSITI81300 SKUDAI, JOHORBYT/B',\n",
       "  \"DOMINO'S PIZZA TAMAN UNIVERSITI 30, JLN KEBUDAYAAN 7, TMN UNIVERSITI 81300 SKUDAI, JOHOR\"),\n",
       " ('S117, SECOND FLOOR,AEON TEBRAU CITY,1, JALAN DESA TEBRAU,TAMAN DESA TEBRAU,',\n",
       "  'S117, SECOND FLOOR, AEON TEBRAU CITY, 1, JALAN DESA TEBRAU, TAMAN DESA TEBRAU, 81100 JOHOR BAHRU, JOHOR.'),\n",
       " ('',\n",
       "  'LOT 2110&2111 JALAN PERMAS UTARA BANDAR BARU PERMAS 81750 JOHOR BAHRU JOHOR'),\n",
       " ('JLN JEJAKA, TAMAN MALURI',\n",
       "  '3RD FLR, AEON TAMAN MALURI SC JLN JEJAKA, TAMAN MALURI CHERAS, 55100 KUALA LUMPUR'),\n",
       " ('JLN JEJAKA, TAMAN MALURI',\n",
       "  '3RD FLR, AEON TAMAN MALURI SC JLN JEJAKA, TAMAN MALURI CHERAS, 55100 KUALA LUMPUR'),\n",
       " ('10-18,JLN KEBUDAYAAN 16,TMN U',\n",
       "  '10-18,JLN KEBUDAYAAN 16,TMN U 81300 JOHOR BAHRU.'),\n",
       " ('NO.12, JALAN PERMAS JAYA 10,BY',\n",
       "  \"DOMINO'S PIZZA PERMAS JAYA NO.12, JALAN PERMAS JAYA 10, BANDAR BARU PERMAS JAYA, 81750 MASAI JOHOR\"),\n",
       " ('JLN JEJAKA, TAMAN MALURI',\n",
       "  '3RD FLR, AEON TAMAN MALURI SC JLN JEJAKA, TAMAN MALURI CHERAS, 55100 KUALA LUMPUR'),\n",
       " ('', 'JALAN LOKE YEW BENTONG 90 GROUND FLOOR JALAN BENTONG'),\n",
       " ('', 'JALAN TRAS BATU 1 28700 BENTONG PAHANG DARUL MAKMUR.'),\n",
       " ('LOT 2942 & 2945, JLN SERI SENTOSA 8,SERI SENTOSA, OFF JLN KLANG LAMA,',\n",
       "  'LOT 2942 & 2945, JLN SERI SENTOSA 8, SERI SENTOSA, OFF JLN KLANG LAMA, 58000 KUALA LUMPUR.'),\n",
       " ('NO.1,JLN PUTERI 1/6,BANDAR PUTERI,47100 PUCHONG,',\n",
       "  'NO.1, JLN PUTERI 1/6, BANDAR PUTERI, 47100 PUCHONG, SELANGOR'),\n",
       " ('42-46, JLN SULTAN AZLAN',\n",
       "  '42-46, JLN SULTAN AZLAN SHAH 51200 KUALA LUMPUR'),\n",
       " ('42-46, JLN SULTAN AZLAN',\n",
       "  '42-46, JLN SULTAN AZLAN SHAH 51200 KUALA LUMPUR'),\n",
       " ('95, BEACH ROAD, 10300 PENANG.',\n",
       "  '95, BEACH ROAD, 10300 PENANG. 10400 PENANG.'),\n",
       " ('NO.37-1, PLAZA DANAU DESA 2,JALAN 109F, TAMAN DANAU DESA,',\n",
       "  'NO.37-1, PLAZA DANAU DESA 2, JALAN 109F, TAMAN DANAU DESA, 58100 KUALA LUMPUR.'),\n",
       " ('117, JALAN RADIN BAGUS, SRI PETALING',\n",
       "  '117, JALAN RADIN BAGUS, SRI PETALING'),\n",
       " ('FAMILYMART16A, JALAN ASTAKA U8/83, BUKIT JELUTONG40150 SHAH ALAN, SELANGOR D.E.',\n",
       "  '16A, JALAN ASTAKA U8/83, BUKIT JELUTONG 40150 SHAH ALAN, SELANGOR D.E.'),\n",
       " ('FAMILYMARTNO 16A, JALAN ASTAKA U8/83, BUKIT JELUTONG.40150 SHAH ALAM, SELANGOR, D.E.',\n",
       "  'NO 16A, JALAN ASTAKA U8/83, BUKIT JELUTONG. 40150 SHAH ALAM, SELANGOR, D.E.'),\n",
       " ('', 'LOT-18A-2, BERJAYA TIMES SQUARE, KUALA LUMPUR.'),\n",
       " ('B-8, JALAN SS15/4D,BHD', 'B-8, JALAN SS15/4D, 47500 SUBANG JAYA, SELANGOR'),\n",
       " ('LOT LG 315, 1-UTAMA SHOPPING CENTRE,LEBUH BANDAR UTAMA-BANDAR UTAMA,',\n",
       "  'LOT LG 315, 1-UTAMA SHOPPING CENTRE, LEBUH BANDAR UTAMA-BANDAR UTAMA, PETALING JAYA, 47800 SELANGOR'),\n",
       " ('NO. 76, JALAN SS15/4B,',\n",
       "  'NO. 76, JALAN SS15/4B, 47500 SUBANG JAYA, SELANGOR D.E.'),\n",
       " ('B-8, JALAN SS15/4D,BHD', 'B-8, JALAN SS15/4D, 47500 SUBANG JAYA, SELANGOR'),\n",
       " ('LOT 3, JALAN PELABUR 23/1,',\n",
       "  'LOT 3, JALAN PELABUR 23/1, 40300 SHAH ALAM, SELANGOR.'),\n",
       " ('LOT 3, JALAN PELABUR 23/1,',\n",
       "  'LOT 3, JALAN PELABUR 23/1, 40300 SHAH ALAM, SELANGOR.'),\n",
       " ('LOT 3, JALAN PELABUR 23/1,',\n",
       "  'LOT 3, JALAN PELABUR 23/1, 40300 SHAH ALAM, SELANGOR.'),\n",
       " ('LOT 3, JALAN PELABUR 23/1,',\n",
       "  'LOT 3, JALAN PELABUR 23/1, 40300 SHAH ALAM, SELANGOR.'),\n",
       " ('LOT 3, JALAN PELABUR 23/1,',\n",
       "  'LOT 3, JALAN PELABUR 23/1, 40300 SHAH ALAM, SELANGOR.'),\n",
       " ('LOT 3, JALAN PELABUR 23/1,',\n",
       "  'LOT 3, JALAN PELABUR 23/1, 40300 SHAH ALAM, SELANGOR.'),\n",
       " ('LOT 3, JALAN PELABUR 23/1,',\n",
       "  'LOT 3, JALAN PELABUR 23/1, 40300 SHAH ALAM, SELANGOR.'),\n",
       " ('LOT 3, JALAN PELABUR 23/1,',\n",
       "  'LOT 3, JALAN PELABUR 23/1, 40300 SHAH ALAM, SELANGOR.'),\n",
       " ('LOT 3, JALAN PELABUR 23/1,',\n",
       "  'LOT 3, JALAN PELABUR 23/1, 40300 SHAH ALAM, SELANGOR.'),\n",
       " ('LOT 3, JALAN PELABUR 23/1,GROUND FLOOR, NO4 & 6,',\n",
       "  'LOT 3, JALAN PELABUR 23/1, 40300 SHAH ALAM, SELANGOR.'),\n",
       " ('LOT 3, JALAN PELABUR 23/1,',\n",
       "  'LOT 3, JALAN PELABUR 23/1, 40300 SHAH ALAM, SELANGOR.'),\n",
       " ('LOT 3, JALAN PELABUR 23/1,',\n",
       "  'LOT 3, JALAN PELABUR 23/1, 40300 SHAH ALAM, SELANGOR.'),\n",
       " ('LOT 3, JALAN PELABUR 23/1,',\n",
       "  'LOT 3, JALAN PELABUR 23/1, 40300 SHAH ALAM, SELANGOR.'),\n",
       " ('JALAN SS15/4B,',\n",
       "  'GROUND FLOOR, NO. 4 & 6, JALAN SS15/4B, 47500 SUBANG JAYA, SELANGOR.'),\n",
       " ('LOT 3, JALAN PELABUR 23/1,',\n",
       "  'LOT 3, JALAN PELABUR 23/1, 40300 SHAH ALAM, SELANGOR.'),\n",
       " ('LOT 3, JALAN PELABUR 23/1,',\n",
       "  'LOT 3, JALAN PELABUR 23/1, 40300 SHAH ALAM, SELANGOR.'),\n",
       " ('LOT 3, JALAN PELABUR 23/1,',\n",
       "  'LOT 3, JALAN PELABUR 23/1, 40300 SHAH ALAM, SELANGOR.'),\n",
       " ('LOT 3, JALAN PELABUR 23/1,',\n",
       "  'LOT 3, JALAN PELABUR 23/1, 40300 SHAH ALAM, SELANGOR.'),\n",
       " ('LOT 3, JALAN PELABUR 23/1,',\n",
       "  'LOT 3, JALAN PELABUR 23/1, 40300 SHAH ALAM, SELANGOR.'),\n",
       " ('LOT 3, JALAN PELABUR 23/1,',\n",
       "  'LOT 3, JALAN PELABUR 23/1, 40300 SHAH ALAM, SELANGOR.'),\n",
       " ('LOT 3, JALAN PELABUR 23/1,',\n",
       "  'LOT 3, JALAN PELABUR 23/1, 40300 SHAH ALAM, SELANGOR.'),\n",
       " ('LOT 3, JALAN PELABUR 23/1,',\n",
       "  'LOT 3, JALAN PELABUR 23/1, 40300 SHAH ALAM, SELANGOR.'),\n",
       " ('NO.2, JALAN METRO PERDANA TIMUR 11,KEPONG ENTERPRENUERS PARK,OFF JALAN KEPONG,',\n",
       "  'NO.2, JALAN METRO PERDANA TIMUR 11, KEPONG ENTERPRENUERS PARK, OFF JALAN KEPONG, 52100 KUALA LUMPUR.'),\n",
       " ('NO.2, JALAN METRO PERDANA TIMUR 11,KEPONG ENTERPRENUERS PARK,OFF JALAN KEPONG,',\n",
       "  'NO.2, JALAN METRO PERDANA TIMUR 11, KEPONG ENTERPRENUERS PARK, OFF JALAN KEPONG, 52100 KUALA LUMPUR.'),\n",
       " ('LOT 3, JALAN PELABUR 23/1,',\n",
       "  'LOT 3, JALAN PELABUR 23/1, 40300 SHAH ALAM, SELANGOR.'),\n",
       " ('LOT 3, JALAN PELABUR 23/1,',\n",
       "  'LOT 3, JALAN PELABUR 23/1, 40300 SHAH ALAM, SELANGOR.'),\n",
       " ('LOT 3, JALAN PELABUR 23/1,',\n",
       "  'LOT 3, JALAN PELABUR 23/1, 40300 SHAH ALAM, SELANGOR.'),\n",
       " ('LOT 3, JALAN PELABUR 23/1,',\n",
       "  'LOT 3, JALAN PELABUR 23/1, 40300 SHAH ALAM, SELANGOR.'),\n",
       " ('LOT 3, JALAN PELABUR 23/1,',\n",
       "  'LOT 3, JALAN PELABUR 23/1, 40300 SHAH ALAM, SELANGOR.'),\n",
       " ('LOT 3, JALAN PELABUR 23/1,',\n",
       "  'LOT 3, JALAN PELABUR 23/1, 40300 SHAH ALAM, SELANGOR.'),\n",
       " ('LOT 3, JALAN PELABUR 23/1,',\n",
       "  'LOT 3, JALAN PELABUR 23/1, 40300 SHAH ALAM, SELANGOR.'),\n",
       " ('LOT 3, JALAN PELABUR 23/1,',\n",
       "  'LOT 3, JALAN PELABUR 23/1, 40300 SHAH ALAM, SELANGOR.'),\n",
       " ('LOT 3, JALAN PELABUR 23/1,',\n",
       "  'LOT 3, JALAN PELABUR 23/1, 40300 SHAH ALAM, SELANGOR.'),\n",
       " ('LOT 3, JALAN PELABUR 23/1,',\n",
       "  'LOT 3, JALAN PELABUR 23/1, 40300 SHAH ALAM, SELANGOR.'),\n",
       " ('LOT 3, JALAN PELABUR 23/1,',\n",
       "  'LOT 3, JALAN PELABUR 23/1, 40300 SHAH ALAM, SELANGOR.'),\n",
       " ('LOT 3, JALAN PELABUR 23/1,',\n",
       "  'LOT 3, JALAN PELABUR 23/1, 40300 SHAH ALAM, SELANGOR.'),\n",
       " ('LOT 3, JALAN PELABUR 23/1,',\n",
       "  'LOT 3, JALAN PELABUR 23/1, 40300 SHAH ALAM, SELANGOR.'),\n",
       " ('LOT 3, JALAN PELABUR 23/1,',\n",
       "  'LOT 3, JALAN PELABUR 23/1, 40300 SHAH ALAM, SELANGOR.'),\n",
       " ('LOT 3, JALAN PELABUR 23/1,',\n",
       "  'LOT 3, JALAN PELABUR 23/1, 40300 SHAH ALAM, SELANGOR.'),\n",
       " ('LOT 3, JALAN PELABUR 23/1,',\n",
       "  'LOT 3, JALAN PELABUR 23/1, 40300 SHAH ALAM, SELANGOR.'),\n",
       " ('LOT 3, JALAN PELABUR 23/1,',\n",
       "  'LOT 3, JALAN PELABUR 23/1, 40300 SHAH ALAM, SELANGOR.'),\n",
       " ('LOT 3, JALAN PELABUR 23/1,',\n",
       "  'LOT 3, JALAN PELABUR 23/1, 40300 SHAH ALAM, SELANGOR.'),\n",
       " ('LOT 3, JALAN PELABUR 23/1,',\n",
       "  'LOT 3, JALAN PELABUR 23/1, 40300 SHAH ALAM, SELANGOR.'),\n",
       " ('LOT 3, JALAN PELABUR 23/1,',\n",
       "  'LOT 3, JALAN PELABUR 23/1, 40300 SHAH ALAM, SELANGOR.'),\n",
       " ('LOT 3, JALAN PELABUR 23/1,',\n",
       "  'LOT 3, JALAN PELABUR 23/1, 40300 SHAH ALAM, SELANGOR.'),\n",
       " ('LOT 3, JALAN PELABUR 23/1,',\n",
       "  'LOT 3, JALAN PELABUR 23/1, 40300 SHAH ALAM, SELANGOR.'),\n",
       " ('LOT 3, JALAN PELABUR 23/1,',\n",
       "  'LOT 3, JALAN PELABUR 23/1, 40300 SHAH ALAM, SELANGOR.'),\n",
       " ('LOT 3, JALAN PELABUR 23/1,',\n",
       "  'LOT 3, JALAN PELABUR 23/1, 40300 SHAH ALAM, SELANGOR.'),\n",
       " ('LOT 3, JALAN PELABUR 23/1,',\n",
       "  'LOT 3, JALAN PELABUR 23/1, 40300 SHAH ALAM, SELANGOR.'),\n",
       " ('LOT 1851 -A & 1851-B, JALAN KPB 6,KAWASAN PERINDUSTRIAN BALAKONG,',\n",
       "  'LOT 1851 -A & 1851-B, JALAN KPB 6, KAWASAN PERINDUSTRIAN BALAKONG, 43300 SERI KEMBANGAN, SELANGOR'),\n",
       " ('LOT 1851-A & 1851-B, JALAN KPB 6,KAWASAN PERINDUSTRIAN BALAKONG,',\n",
       "  'LOT 1851-A & 1851-B, JALAN KPB 6, KAWASAN PERINDUSTRIAN BALAKONG, 43300 SERI KEMBANGAN, SELANGOR'),\n",
       " ('LOT 1851-A & 1851-B, JALAN KPB 6,KAWASAN PERINDUSTRIAN BALAKONG,',\n",
       "  'LOT 1851-A & 1851-B, JALAN KPB 6, KAWASAN PERINDUSTRIAN BALAKONG, 43300 SERI KEMBANGAN, SELANGOR'),\n",
       " ('LOT P.T. 2811, JALAN ANGSA,41150 KLANG, SELANGOR',\n",
       "  'LOT P.T. 2811, JALAN ANGSA, TAMAN BERKELEY 41150 KLANG, SELANGOR 1320-TMN BATU'),\n",
       " ('2ND FLOOR, WISMA COSWAY, JALAN RAJA CHULAN,50200 KUALA LUMPUR, MALAYSIA.',\n",
       "  '2ND FLOOR, WISMA COSWAY, JALAN RAJA CHULAN, 50200 KUALA LUMPUR, MALAYSIA.'),\n",
       " ('41400 KLANG, SELANGOR',\n",
       "  'LOT 11995, BATU 2, JALAN KAPAR 41400 KLANG, SELANGOR'),\n",
       " ('33 JLN BANGAU 1,KEPONG BARU,52100 KEPONG,KL',\n",
       "  '33 JLN BANGAU 1,KEPONG BARU, 52100 KEPONG,KL'),\n",
       " ('LOT P.T. 2811, JALAN ANGSA,41150 KLANG, SELANGOR',\n",
       "  'LOT P.T. 2811, JALAN ANGSA, TAMAN BERKELEY 41150 KLANG, SELANGOR 1558-TMN PUSAT KEPONG'),\n",
       " ('LOT P.T. 2811, JALAN ANGSA,41150 KLANG, SELANGOR',\n",
       "  'LOT P.T. 2811, JALAN ANGSA, TAMAN BERKELEY 41150 KLANG, SELANGOR 1558-TMN PUSAT KEPONG'),\n",
       " ('', 'LOT F/L2A.4, LEVEL 2A FIRST WORLD PLAZA, FIRST WORLD'),\n",
       " ('42100 KLANG, SELANGOR',\n",
       "  'LOT P.T. 33198, BATU 4 JALAN KAPAR, MUKIM KAPAR 42100 KLANG, SELANGOR 1320-TMN BATU'),\n",
       " ('LG226, LGF, 1 UTAMA SHOPPING CENTRE,',\n",
       "  'LG226, LGF, 1 UTAMA SHOPPING CENTRE, LEBUH BANDAR UTAMA, 47800 PETALING JAYA.'),\n",
       " ('LOT 1851-A & 1851-B, JALAN KPB 6,KAWASAN PERINDUSTRIAN BALAKONG,',\n",
       "  'LOT 1851-A & 1851-B, JALAN KPB 6, KAWASAN PERINDUSTRIAN BALAKONG, 43300 SERI KEMBANGAN, SELANGOR'),\n",
       " ('LOT 1851-A & 1851-B, JALAN KPB 6,KAWASAN PERINDUSTRIAN BALAKONG,',\n",
       "  'LOT 1851-A & 1851-B, JALAN KPB 6, KAWASAN PERINDUSTRIAN BALAKONG, 43300 SERI KEMBANGAN, SELANGOR'),\n",
       " ('42100 KLANG, SELANGOR',\n",
       "  'LOT P.T. 33198, BATU 4 JALAN KAPAR, MUKIM KAPAR 42100 KLANG, SELANGOR 1181-TMN SRI SINAR'),\n",
       " ('LOT 1851-A & 1851-B, JALAN KPB 6,KAWASAN PERINDUSTRIAN BALAKONG,',\n",
       "  'LOT 1851-A & 1851-B, JALAN KPB 6, KAWASAN PERINDUSTRIAN BALAKONG, 43300 SERI KEMBANGAN, SELANGOR'),\n",
       " ('LEVEL 6, BANGUNAN TH, DAMANSARA UPTOWN3',\n",
       "  'LEVEL 6, BANGUNAN TH, DAMANSARA UPTOWN3 NO.3, JALAN SS21/39,47400 PETALING JAYA SELANGOR'),\n",
       " ('42100 KLANG, SELANGOR',\n",
       "  'LOT P.T. 33198, BATU 4 JALAN KAPAR, MUKIM KAPAR 42100 KLANG, SELANGOR 1558-TMN PUSAT KEPONG'),\n",
       " ('NO.145G, JALAN RIMBUNAN RAYA 1,LAMAN RIMBUNAN KEPONG,',\n",
       "  'NO.145G, JALAN RIMBUNAN RAYA 1, LAMAN RIMBUNAN KEPONG, 52100 KUALA LUMPUR'),\n",
       " ('', 'NO.128G JLN SS21/35 DAMANSARA UTAMA PETALING JAYA 47400 SELANGOR'),\n",
       " ('2ND FLOOR, WISMA COSWAY, JALAN RAJA CHULAN,50200 KUALA LUMPUR, MALAYSIA.',\n",
       "  '2ND FLOOR, WISMA COSWAY, JALAN RAJA CHULAN, 50200 KUALA LUMPUR, MALAYSIA.'),\n",
       " ('42100 KLANG, SELANGOR',\n",
       "  'LOT P.T. 33198, BATU 4 JALAN KAPAR, MUKIM KAPAR 42100 KLANG, SELANGOR 1174-PERMATA MAGNA'),\n",
       " ('LOT 1851-A & 1851-B, JALAN KPB 6,KAWASAN PERINDUSTRIAN BALAKONG,',\n",
       "  'LOT 1851-A & 1851-B, JALAN KPB 6, KAWASAN PERINDUSTRIAN BALAKONG, 43300 SERI KEMBANGAN, SELANGOR'),\n",
       " ('NO.54, BATU 5,JALAN IPOH,KG.BATU,',\n",
       "  'NO.54, BATU 5,JALAN IPOH, KG.BATU, 51200 KUALA LUMPUR'),\n",
       " ('LOT 1851-A & 1851-B, JALAN KPB 6,KAWASAN PERINDUSTRIAN BALAKONG,',\n",
       "  'LOT 1851-A & 1851-B, JALAN KPB 6, KAWASAN PERINDUSTRIAN BALAKONG, 43300 SERI KEMBANGAN, SELANGOR'),\n",
       " ('NO.1,LEBUH BANDAR UTAMA,',\n",
       "  'GK 101,GND FLR,ONE UTAMA SHOPPING CENTRE NO.1,LEBUH BANDAR UTAMA, 47800 PETALING JAYA, SELANGOR.'),\n",
       " ('LOT 1851-A & 1851-B, JALAN KPB 6,KAWASAN PERINDUSTRIAN BALAKONG,',\n",
       "  'LOT 1851-A & 1851-B, JALAN KPB 6, KAWASAN PERINDUSTRIAN BALAKONG, 43300 SERI KEMBANGAN, SELANGOR'),\n",
       " ('LOT NO2, JALAN UTARID U5/13,SEKSYEN U5, 40150 SHAH ALAM,SELANGOR DARUL EHSAN, MALAYSIA',\n",
       "  'LOT NO2, JALAN UTARID U5/13, SEKSYEN U5, 40150 SNAH ALAM, SELANGOR DARUL EHSAN, MALAYSIA'),\n",
       " ('42100 KLANG, SELANGOR',\n",
       "  'LOT P.T. 33198, BATU 4 JALAN KAPAR, MUKIM KAPAR 42100 KLANG, SELANGOR 1605-TMN SRI BINTANG'),\n",
       " ('LOT 1851-A & 1851-B, JALAN KPB 6,KAWASAN PERINDUSTRIAN BALAKONG,',\n",
       "  'LOT 1851-A & 1851-B, JALAN KPB 6, KAWASAN PERINDUSTRIAN BALAKONG, 43300 SERI KEMBANGAN, SELANGOR'),\n",
       " ('',\n",
       "  'LOT LG 26, SUBANG PARADE NO.5, JALAN SS16/1 47500 SUBANG JAYA, SELANGOR'),\n",
       " ('NO 1, JALAN DUTAMAS, 50480 KL',\n",
       "  'LOT NO : 20, LEVEL UG1, PUBLIKA SOLARIS DUTAMAS. NO 1, JALAN DUTAMAS, 50480 KL'),\n",
       " ('22A-1, JALAN 17/54,SECTION 17,46400 PETALING JAYA,',\n",
       "  '22A-1, JALAN 17/54, SECTION 17, 46400 PETALING JAYA, SELANGOR.'),\n",
       " ('NO.25, JALAN METRO PERDANA BARAT 2,TAMAN USAHAWAN KEPONG, KEPONG UTARA,',\n",
       "  'NO.25, JALAN METRO PERDANA BARAT 2, TAMAN USAHAWAN KEPONG, KEPONG UTARA, 52100 KUALA LUMPUR.'),\n",
       " ('F.K06, FIRST FLOOR, THE GARDENS MALL,MID VALLEY CITY, LINGKARAN SYED PUTRA,',\n",
       "  'F.K06, FIRST FLOOR, THE GARDENS MALL, MID VALLEY CITY, LINGKARAN SYED PUTRA, 59200 KUALA LUMPUR.'),\n",
       " ('LOT 204 & 205, JALAN BATU 12 1/4,KG. DUSUN NANDING, 43100 HULU LANGAT,',\n",
       "  'LOT 204 & 205, JALAN BATU 12 1/4, KG. DUSUN NANDING, 43100 HULU LANGAT, SELANGOR DARUL EHSAN.'),\n",
       " ('SEMENYIH, SELANGOR', 'NO. 135, JALAN BANGI, 43500 SEMENYIH, SELANGOR'),\n",
       " ('3, JALAN PERDANA 5, TAMAN INDAH PERDANA,',\n",
       "  '3, JALAN PERDANA 5, TAMAN INDAH PERDANA, KEPONG, 52100 KL.'),\n",
       " ('LOT P.T. 2811, JALAN ANGSA,41150 KLANG, SELANGOR',\n",
       "  'LOT P.T. 2811, JALAN ANGSA, TAMAN BERKELEY 41150 KLANG, SELANGOR 1243-JLN PUDU ULU'),\n",
       " ('JALAN SS21/60,DAMANSARA UTAMA.',\n",
       "  'LOT B-005-006, BASEMENT LEVEL 1 THE STARLING MALL JALAN SS21/60, DAMANSARA UTAMA.'),\n",
       " ('NO.9, JALAN MANIS 3, TAMAN SEGAR',\n",
       "  'NO.9, JALAN MANIS 3, TAMAN SEGAR CHERAS, 56100 KUALA LUMPUR.'),\n",
       " ('LOT S319, 2ND FLOOR,1 UTAMA SHOPPING CENTRE,',\n",
       "  'LOT S319, 2ND FLOOR, 1 UTAMA SHOPPING CENTRE, NO1, LEBUH BANDAR UTAMA,47800 P.JAYA'),\n",
       " ('NO.41G,JLN SS21/60,DAMANSARA',\n",
       "  'NO.41G, JLN SS21/60, DAMANSARA UTAMA, 47400 PJ, SELANGOR.'),\n",
       " ('', 'NO 15 JALAN BANDAR RAWANG 10 BANDAR BARU RAWANG'),\n",
       " ('', 'NO 15 JALAN BANDAR RAWANG 10 BANDAR BARU RAWANG'),\n",
       " ('LOT F1-01, 6, JALAN 8/27A,SEKSYEN 5 WANGSA MAJU,53300 KUALA LUMPUR,LUMPUR, MALAYSIA.',\n",
       "  'LOT F1-01, 6, JALAN 8/27A, SEKSYEN 5 WANGSA MAJU, 53300 KUALA LUMPUR, WILAYAH PERSEKUTUAN KUALA LUMPUR, MALAYSIA.'),\n",
       " ('BLK 2, UNIT G1 & G2, BESTARI TERRACE,LOT PTD 182908 & PTD 143216,JALAN DANGA, TAMAN NUSA BESTARI, 81300',\n",
       "  'BLK 2, UNIT G1 & G2, BESTARI TERRACE, LOT PTD 182908 & PTD 143216, JALAN DANGA, TAMAN NUSA BESTARI, 81300'),\n",
       " ('12, JALAN TAMPOI 7/4,KAWASAN PERINDUSTRIANTAMPOI,81200 JOHOR BAHRU,JOHOR',\n",
       "  '12, JALAN TAMPOI 7/4,KAWASAN PERINDUSTRIAN TAMPOI,81200 JOHOR BAHRU,JOHOR'),\n",
       " ('12, JALAN TAMPOI 7/4,KAWASAN PERINDUSTRIANTAMPOI,81200 JOHOR BAHRU,JOHOR',\n",
       "  '12, JALAN TAMPOI 7/4,KAWASAN PERINDUSTRIAN TAMPOI,81200 JOHOR BAHRU,JOHOR'),\n",
       " ('JLN JEJAKA, TAMAN MALURI',\n",
       "  '3RD FLR, AEON TAMAN MALURI SC JLN JEJAKA, TAMAN MALURI CHERAS, 55100 KUALA LUMPUR'),\n",
       " ('JLN JEJAKA, TAMAN MALURI',\n",
       "  '3RD FLR, AEON TAMAN MALURI SC JLN JEJAKA, TAMAN MALURI CHERAS, 55100 KUALA LUMPUR'),\n",
       " ('12, JALAN TAMPOI 7/4,KAWASAN PERINDUSTRIANTAMPOI,81200 JOHOR BAHRU,JOHOR',\n",
       "  '12, JALAN TAMPOI 7/4,KAWASAN PERINDUSTRIAN TAMPOI,81200 JOHOR BAHRU,JOHOR'),\n",
       " ('12, JALAN TAMPOI 7/4,KAWASAN PERINDUSTRIANTAMPOI,81200 JOHOR BAHRU,JOHOR',\n",
       "  '12, JALAN TAMPOI 7/4,KAWASAN PERINDUSTRIAN TAMPOI,81200 JOHOR BAHRU,JOHOR'),\n",
       " ('12, JALAN TAMPOI 7/4,KAWASAN PERINDUSTRIANTAMPOI,81200 JOHOR BAHRU,JOHOR',\n",
       "  '12, JALAN TAMPOI 7/4,KAWASAN PERINDUSTRIAN TAMPOI,81200 JOHOR BAHRU,JOHOR'),\n",
       " ('12, JALAN TAMPOI 7/4,KAWASAN PERINDUSTRIANTAMPOI,81200 JOHOR BAHRU,JOHOR',\n",
       "  '12, JALAN TAMPOI 7/4,KAWASAN PERINDUSTRIAN TAMPOI,81200 JOHOR BAHRU,JOHOR'),\n",
       " ('12, JALAN TAMPOI 7/4,KAWASAN PERINDUSTRIANTAMPOI,81200 JOHOR BAHRU,JOHOR',\n",
       "  '12, JALAN TAMPOI 7/4,KAWASAN PERINDUSTRIAN TAMPOI,81200 JOHOR BAHRU,JOHOR'),\n",
       " ('',\n",
       "  'LOT 2110&2111 JALAN PERMAS UTARA BANDAR BARU PERMAS 81750 JOHOR BAHRU JOHOR'),\n",
       " ('NO, 89&91, JALAN UTAMA,TAMAN MUTIA RINI, 81300 SKUDAI, JOHOR.',\n",
       "  'NO. 89&91, JALAN UTAMA, TAMAN MUTIA RINI, 81300 SKUDAI, JOHOR.'),\n",
       " ('1, JALAN SUTERA TANJUNG 8/4,TMN SUTERA UTAMA, 81300 SKUDAI, JB.',\n",
       "  '1, JALAN SUTERA TANJUNG 8/4, TMN SUTERA UTAMA, 81300 SKUDAI, JB.'),\n",
       " ('12, JALAN TAMPOI 7/4,KAWASAN PERINDUSTRIANTAMPOI,81200 JOHOR BAHRU,JOHOR',\n",
       "  '12, JALAN TAMPOI 7/4,KAWASAN PERINDUSTRIAN TAMPOI,81200 JOHOR BAHRU,JOHOR'),\n",
       " ('LEVEL 6, BANGUNAN TH, DAMANSARA UPTOWN3',\n",
       "  'LEVEL 6, BANGUNAN TH, DAMANSARA UPTOWN3 NO.3, JALAN SS21/39,47400 PETA ING JAYA SELANGOR'),\n",
       " ('12, JALAN TAMPOI 7/4,KAWASAN PERINDUSTRIANTAMPOI,81200 JOHOR BAHRU,JOHOR',\n",
       "  '12, JALAN TAMPOI 7/4,KAWASAN PERINDUSTRIAN TAMPOI,81200 JOHOR BAHRU,JOHOR'),\n",
       " ('12, JALAN TAMPOI 7/4,KAWASAN PERINDUSTRIANTAMPOI,81200 JOHOR BAHRU,JOHOR',\n",
       "  '12, JALAN TAMPOI 7/4,KAWASAN PERINDUSTRIAN TAMPOI,81200 JOHOR BAHRU,JOHOR'),\n",
       " ('30, JLN KEBUDAYAAN 7, TMN UNIVERSITI81300 SKUDAI, JOHORBYHDBY',\n",
       "  '30, JLN KEBUDAYAAN 7, TMN UNIVERSITI 81300 SKUDAI, JOHOR'),\n",
       " ('LOT 1851-A & 1851-B, JALAN KPB 6,KAWASAN PERINDUSTRIAN BALAKONG,',\n",
       "  'LOT 1851-A & 1851-B, JALAN KPB 6, KAWASAN PERINDUSTRIAN BALAKONG, 43300 SERI KEMBANGAN, SELANGOR'),\n",
       " ('LOT 1851-A & 1851-B, JALAN KPB 6,KAWASAN PERINDUSTRIAN BALAKONG,',\n",
       "  'LOT 1851-A & 1851-B, JALAN KPB 6, KAWASAN PERINDUSTRIAN BALAKONG, 43300 SERI KEMBANGAN, SELANGOR'),\n",
       " ('LOT 1851-A & 1851-B, JALAN KPB 6,KAWASAN PERINDUSTRIAN BALAKONG,',\n",
       "  'LOT 1851-A & 1851-B, JALAN KPB 6, KAWASAN PERINDUSTRIAN BALAKONG, 43300 SERI KEMBANGAN, SELANGOR'),\n",
       " ('LOT 1851-A & 1851-B, JALAN KPB 6,KAWASAN PERINDUSTRIAN BALAKONG,',\n",
       "  'LOT 1851-A & 1851-B, JALAN KPB 6, KAWASAN PERINDUSTRIAN BALAKONG, 43300 SERI KEMBANGAN, SELANGOR'),\n",
       " ('LOT 1851-A & 1851-B, JALAN KPB 6,KAWASAN PERINDUSTRIAN BALAKONG,',\n",
       "  'LOT 1851-A & 1851-B, JALAN KPB 6, KAWASAN PERINDUSTRIAN BALAKONG, 43300 SERI KEMBANGAN, SELANGOR'),\n",
       " ('LOT 1851-A & 1851-B, JALAN KPB 6,KAWASAN PERINDUSTRIAN BALAKONG,XXX',\n",
       "  'LOT 1851-A & 1851-B, JALAN KPB 6, KAWASAN PERINDUSTRIAN BALAKONG, 43300 SERI KEMBANGAN, SELANGOR'),\n",
       " ('LOT 1851-A & 1851-B, JALAN KPB 6,KAWASAN PERINDUSTRIAN BALAKONG,X',\n",
       "  'LOT 1851-A & 1851-B, JALAN KPB 6, KAWASAN PERINDUSTRIAN BALAKONG, 43300 SERI KEMBANGAN, SELANGOR'),\n",
       " ('LOT 1851-A & 1851-B, JALAN KPB 6,KAWASAN PERINDUSTRIAN BALAKONG,X',\n",
       "  'LOT 1851-A & 1851-B, JALAN KPB 6, KAWASAN PERINDUSTRIAN BALAKONG, 43300 SERI KEMBANGAN, SELANGOR'),\n",
       " ('JLN JEJAKA, TAMAN MALURI',\n",
       "  '3RD FLR, AEON TAMAN MALURI SC JLN JEJAKA, TAMAN MALURI CHERAS, 55100 KUALA LUMPUR'),\n",
       " ('LOT 1851-A & 1851-B, JALAN KPB 6,KAWASAN PERINDUSTRIAN BALAKONG,XXX',\n",
       "  'LOT 1851-A & 1851-B, JALAN KPB 6, KAWASAN PERINDUSTRIAN BALAKONG, 43300 SERI KEMBANGAN, SELANGOR'),\n",
       " ('LOT 1851-A & 1851-B, JALAN KPB 6,KAWASAN PERINDUSTRIAN BALAKONG,XX',\n",
       "  'LOT 1851-A & 1851-B, JALAN KPB 6, KAWASAN PERINDUSTRIAN BALAKONG, 43300 SERI KEMBANGAN, SELANGOR'),\n",
       " ('NO.36G JALAN BULAN BM U5/BM,BANDAR PINGGIRAN SUBANG,SEKSYEN U5,E-MAIL: SNYSTATIONERY@HOTMAIL,.COM',\n",
       "  'NO. 36G JALAN BULAN BM U5/BM, BANDAR PINGGIRAN SUBANG, SEKSYEN U5, 40150 SHAH ALAM, SELANGOR.'),\n",
       " ('LOT P.T. 2811, JALAN ANGSA,41150 KLANG, SELANGOR',\n",
       "  'LOT P.T. 2811, JALAN ANGSA, TAMAN BERKELEY 41150 KLANG, SELANGOR'),\n",
       " ('NO: G3, BLK G, JLN PJU 1A/3,PETALING JAYA, SELANGOR DARUL EHSAN.',\n",
       "  'NO: G3, BLK G, JLN PJU 1A/3, ARA DAMANSARA, 47301 PETALING JAYA, SELANGOR DARUL EHSAN.'),\n",
       " ('NO: G3, BLK G, JLN PJU 1A/3,PETALING JAYA, SELANGOR DARUL EHSAN.',\n",
       "  'NO: G3, BLK G, JLN PJU 1A/3, ARA DAMANSARA, 47301 PETALING JAYA, SELANGOR DARUL EHSAN.'),\n",
       " ('NO: G3, BLK G, JLN PJU 1A/3,PETALING JAYA, SELANGOR DARUL EHSAN.',\n",
       "  'NO: G3, BLK G, JLN PJU 1A/3, ARA DAMANSARA, 47301 PETALING JAYA, SELANGOR DARUL EHSAN.'),\n",
       " ('LOT 1851-A & 1851-B, JALAN KPB 6,KAWASAN PERINDUSTRIAN BALAKONG,',\n",
       "  'LOT 1851-A & 1851-B, JALAN KPB 6, KAWASAN PERINDUSTRIAN BALAKONG, 43300 SERI KEMBANGAN, SELANGOR'),\n",
       " ('',\n",
       "  '125A TINGKAT BAWAH PT 1961 JALAN MALINJA SITE B 45400 SEKINCHAN SELANGOR'),\n",
       " ('12, JALAN TAMPOI 7/4,KAWASAN PERINDUSTRIANTAMPOI,81200 JOHOR BAHRU,JOHOR',\n",
       "  '12, JALAN TAMPOI 7/4,KAWASAN PERINDUSTRIAN TAMPOI,81200 JOHOR BAHRU,JOHOR'),\n",
       " ('YEN', 'PARADIGM MALL LOT NO.: 4F-27 & 4FK-38, 4TH FLOOR'),\n",
       " ('12, JALAN TAMPOI 7/4,KAWASAN PERINDUSTRIANTAMPOI,81200 JOHOR BAHRU,JOHOR',\n",
       "  '12, JALAN TAMPOI 7/4,KAWASAN PERINDUSTRIAN TAMPOI,81200 JOHOR BAHRU,JOHOR'),\n",
       " ('LOT S25, AEON TEBRAU CITY JUSCONO 1, JLN DESA TEBRAU, TMN DESA TEBRAU,81100 JOHOR BAHRU, JOHOR',\n",
       "  'LOT S25, AEON TEBRAU CITY JUSCO NO 1, JLN DESA TEBRAU, TMN DESA TEBRAU, 81100 JOHOR BAHRU, JOHOR'),\n",
       " ('NO,35, JALAN KEBUDAYAAN 8,TAMAN UNIVERSITY,81300 SKUDAI, JOHOR',\n",
       "  'NO,35, JALAN KEBUDAYAAN 8, TAMAN UNIVERSITY,81300 SKUDAI, JOHOR'),\n",
       " ('NO 35,JALAN INDAH 15/2,BUKIT INDAH',\n",
       "  'NO 35,JALAN INDAH 15/2,BUKIT INDAH 81200 JOHOR BAHRU,JOHOR'),\n",
       " ('JALAN PERMAS UTARA 1,',\n",
       "  'JALAN PERMAS UTARA 1, PERMAS JAYA 81750 MASAI JOHOR'),\n",
       " ('LEVEL 6, BANGUNAN TH, DAMANSARA UPTOWN3',\n",
       "  'LEVEL 6, BANGUNAN TH, DAMANSARA UPTOWN3 NO.3, JALAN SS21/39,47400 PETALING JAYA SELANGOR'),\n",
       " ('NO. 47, JALAN MERANTI 1A,BANDAR BARU UTAMA,',\n",
       "  'NO. 47, JALAN MERANTI 1A, BANDAR BARU UTAMA, 44300 BATANG KALI, SELANGOR.'),\n",
       " ('SEKSYEN 4, BANDAR UTAMA, 44300BATANG KALI, SELANGOR',\n",
       "  '5-7, JALAN MAHAGONI 7/1 SEKSYEN 4, BANDAR UTAMA, 44300 BATANG KALI, SELANGOR'),\n",
       " ('', 'NO. 31G&33G, JALAN SETIA INDAH X ,U13/X 40170 SETIA ALAM'),\n",
       " ('', 'NO. 31G&33G, JALAN SETIA INDAH X ,U13/X 40170 SETIA ALAM'),\n",
       " ('', 'NO. 31G&33G, JALAN SETIA INDAH X ,U13/X 40170 SETIA ALAM'),\n",
       " ('', 'NO. 31G&33G, JALAN SETIA INDAH X ,U13/X 40170 SETIA ALAM'),\n",
       " ('', 'NO. 31G&33G, JALAN SETIA INDAH X ,U13/X 40170 SETIA ALAM'),\n",
       " ('', 'NO. 31G&33G, JALAN SETIA INDAH X ,U13/X 40170 SETIA ALAM'),\n",
       " ('', 'NO. 31G&33G, JALAN SETIA INDAH X ,U13/X 40170 SETIA ALAM'),\n",
       " ('', 'NO. 31G&33G, JALAN SETIA INDAH X ,U13/X 40170 SETIA ALAM'),\n",
       " ('', 'NO. 31G&33G, JALAN SETIA INDAH X ,U13/X 40170 SETIA ALAM'),\n",
       " ('', 'NO. 31G&33G, JALAN SETIA INDAH X ,U13/X 40170 SETIA ALAM'),\n",
       " ('', 'NO. 31G&33G, JALAN SETIA INDAH X ,U13/X 40170 SETIA ALAM'),\n",
       " ('', 'NO. 31G&33G, JALAN SETIA INDAH X ,U13/X 40170 SETIA ALAM'),\n",
       " ('', 'NO. 31G&33G, JALAN SETIA INDAH X ,U13/X 40170 SETIA ALAM'),\n",
       " ('', 'NO. 31G&33G, JALAN SETIA INDAH X ,U13/X 40170 SETIA ALAM'),\n",
       " ('', 'NO. 31G&33G, JALAN SETIA INDAH X ,U13/X 40170 SETIA ALAM'),\n",
       " ('', 'NO. 31G&33G, JALAN SETIA INDAH X ,U13/X 40170 SETIA ALAM'),\n",
       " ('', 'NO. 31G&33G, JALAN SETIA INDAH X ,U13/X 40170 SETIA ALAM'),\n",
       " ('', 'NO. 31G&33G, JALAN SETIA INDAH X ,U13/X 40170 SETIA ALAM'),\n",
       " ('', 'NO. 31G&33G, JALAN SETIA INDAH X ,U13/X 40170 SETIA ALAM'),\n",
       " ('', 'NO. 31G&33G, JALAN SETIA INDAH X ,U13/X 40170 SETIA ALAM'),\n",
       " ('', 'NO. 31G&33G, JALAN SETIA INDAH X ,U13/X 40170 SETIA ALAM'),\n",
       " ('', 'NO. 31G&33G, JALAN SETIA INDAH X ,U13/X 40170 SETIA ALAM'),\n",
       " ('', 'NO. 31G&33G, JALAN SETIA INDAH X ,U13/X 40170 SETIA ALAM'),\n",
       " ('', 'NO. 31G&33G, JALAN SETIA INDAH X ,U13/X 40170 SETIA ALAM'),\n",
       " ('', 'NO. 31G&33G, JALAN SETIA INDAH X ,U13/X 40170 SETIA ALAM'),\n",
       " ('', 'NO. 31G&33G, JALAN SETIA INDAH X ,U13/X 40170 SETIA ALAM'),\n",
       " ('', 'NO. 31G&33G, JALAN SETIA INDAH X ,U13/X 40170 SETIA ALAM'),\n",
       " ('', 'NO. 31G&33G, JALAN SETIA INDAH X ,U13/X 40170 SETIA ALAM'),\n",
       " ('', 'NO. 31G&33G, JALAN SETIA INDAH X ,U13/X 40170 SETIA ALAM'),\n",
       " ('', 'NO. 31G&33G, JALAN SETIA INDAH X ,U13/X 40170 SETIA ALAM'),\n",
       " ('', 'NO. 31G&33G, JALAN SETIA INDAH X ,U13/X 40170 SETIA ALAM'),\n",
       " ('', 'NO. 31G&33G, JALAN SETIA INDAH X ,U13/X 40170 SETIA ALAM'),\n",
       " ('', 'NO. 31G&33G, JALAN SETIA INDAH X ,U13/X 40170 SETIA ALAM'),\n",
       " ('', 'NO. 31G&33G, JALAN SETIA INDAH X ,U13/X 40170 SETIA ALAM'),\n",
       " ('', 'NO. 31G&33G, JALAN SETIA INDAH X ,U13/X 40170 SETIA ALAM'),\n",
       " ('', 'NO. 31G&33G, JALAN SETIA INDAH X ,U13/X 40170 SETIA ALAM'),\n",
       " ('(X) U13/X, SETIA ALAM,SEKSYEN U13, 40170 SHAH ALAM,',\n",
       "  'NO. 17-G, JALAN SETIA INDAH (X) U13/X, SETIA ALAM, SEKSYEN U13, 40170 SHAH ALAM,'),\n",
       " ('(X) U13/X, SETIA ALAM,SEKSYEN U13, 40170 SHAH ALAM,',\n",
       "  'NO. 17-G, JALAN SETIA INDAH (X) U13/X, SETIA ALAM, SEKSYEN U13, 40170 SHAH ALAM,'),\n",
       " ('(X) U13/X, SETIA ALAM,SEKSYEN U13, 40170 SHAH ALAM,',\n",
       "  'NO. 17-G, JALAN SETIA INDAH (X) U13/X, SETIA ALAM, SEKSYEN U13, 40170 SHAH ALAM,'),\n",
       " ('(X) U13/X, SETIA ALAM,SEKSYEN U13, 40170 SHAH ALAM,',\n",
       "  'NO. 17-G, JALAN SETIA INDAH (X) U13/X, SETIA ALAM, SEKSYEN U13, 40170 SHAH ALAM,'),\n",
       " ('(X) U13/X, SETIA ALAM,SEKSYEN U13, 40170 SHAH ALAM,',\n",
       "  'NO. 17-G, JALAN SETIA INDAH (X) U13/X, SETIA ALAM, SEKSYEN U13, 40170 SHAH ALAM,'),\n",
       " ('(X) U13/X, SETIA ALAM,SEKSYEN U13, 40170 SHAH ALAM,',\n",
       "  'NO. 17-G, JALAN SETIA INDAH (X) U13/X, SETIA ALAM, SEKSYEN U13, 40170 SHAH ALAM,'),\n",
       " ('(X) U13/X, SETIA ALAM,SEKSYEN U13, 40170 SHAH ALAM,',\n",
       "  'NO. 17-G, JALAN SETIA INDAH (X) U13/X, SETIA ALAM, SEKSYEN U13, 40170 SHAH ALAM,'),\n",
       " ('(X) U13/X, SETIA ALAM,SEKSYEN U13, 40170 SHAH ALAM,',\n",
       "  'NO. 17-G, JALAN SETIA INDAH (X) U13/X, SETIA ALAM, SEKSYEN U13, 40170 SHAH ALAM,'),\n",
       " ('(X) U13/X, SETIA ALAM,SEKSYEN U13, 40170 SHAH ALAM,',\n",
       "  'NO. 17-G, JALAN SETIA INDAH (X) U13/X, SETIA ALAM, SEKSYEN U13, 40170 SHAH ALAM,'),\n",
       " ('(X) U13/X, SETIA ALAM,SEKSYEN U13, 40170 SHAH ALAM,',\n",
       "  'NO. 17-G, JALAN SETIA INDAH (X) U13/X, SETIA ALAM, SEKSYEN U13, 40170 SHAH ALAM,'),\n",
       " ('(X) U13/X, SETIA ALAM,SEKSYEN U13, 40170 SHAH ALAM,',\n",
       "  'NO. 17-G, JALAN SETIA INDAH (X) U13/X, SETIA ALAM, SEKSYEN U13, 40170 SHAH ALAM,'),\n",
       " ('NO. 42, JALAN PBS 14/11,TAMAN PERINDUSTRIAN BUKIT SERDANG,43300 SERI KEMBANGAN,',\n",
       "  'NO. 42, JALAN PBS 14/11, TAMAN PERINDUSTRIAN BUKIT SERDANG, 43300 SERI KEMBANGAN, SELANGOR'),\n",
       " ('UNIT 105, BLOCK A,PUSAT DAGANGAN PHILEO DAMANSARA,NO.9, JALAN 16/11,,46350,PETALING JAYA,SELANGOR',\n",
       "  'UNIT 105, BLOCK A,PUSAT DAGANGAN PHILEO DAMANSARA, NO.9, JALAN 16/11,,46350,PETALING JAYA,SELANGOR'),\n",
       " ('NO.1 JALAN PJU 1A/46,',\n",
       "  'NO.1 JALAN PJU 1A/46, OFF JALAN LAPANGAN TERBANG SUBANG PETALING JAYA SELANGOR 47301'),\n",
       " ('81750 MASAI, JOHOR',\n",
       "  'LOT PTD 101051 JALAN PERMAS 10/10 81750 MASAI, JOHOR'),\n",
       " ('12, JALAN TAMPOI 7/4,KAWASAN PERINDUSTRIANTAMPOI,81200 JOHOR BAHRU,JOHOR',\n",
       "  '12, JALAN TAMPOI 7/4,KAWASAN PERINDUSTRIAN TAMPOI,81200 JOHOR BAHRU,JOHOR'),\n",
       " ('NO.1, JALAN PERMAS 10/5, BANDAR BARU PERMAS JAYA',\n",
       "  'NO.1, JALAN PERMAS 10/5, BANDAR BARU PERMAS JAYA 81750 JOHOR BAHRU, JOHOR.'),\n",
       " ('12, JALAN TAMPOI 7/4,KAWASAN PERINDUSTRIANTAMPOI,81200 JOHOR BAHRU,JOHOR',\n",
       "  '12, JALAN TAMPOI 7/4,KAWASAN PERINDUSTRIAN TAMPOI,81200 JOHOR BAHRU,JOHOR'),\n",
       " ('12, JALAN TAMPOI 7/4,KAWASAN PERINDUSTRIANTAMPOI,81200 JOHOR BAHRU,JOHOR',\n",
       "  '12, JALAN TAMPOI 7/4,KAWASAN PERINDUSTRIAN TAMPOI,81200 JOHOR BAHRU,JOHOR'),\n",
       " ('NO.1, JALAN PERMAS 10/5, BANDAR BARU PERMAS JAYA',\n",
       "  'NO.1, JALAN PERMAS 10/5, BANDAR BARU PERMAS JAYA 81750 JOHOR BAHRU, JOHOR.'),\n",
       " ('JLN JEJAKA, TAMAN MALURICN PEAR',\n",
       "  '3RD FLR, AEON TAMAN MALURI SC JLN JEJAKA, TAMAN MALURI CHERAS, 55100 KUALA LUMPUR'),\n",
       " ('12, JALAN TAMPOI 7/4,KAWASAN PERINDUSTRIANTAMPOI,81200 JOHOR BAHRU,JOHOR',\n",
       "  '12, JALAN TAMPOI 7/4,KAWASAN PERINDUSTRIAN TAMPOI,81200 JOHOR BAHRU,JOHOR'),\n",
       " ('12, JALAN TAMPOI 7/4,KAWASAN PERINDUSTRIANTAMPOI,81200 JOHOR BAHRU,JOHOR',\n",
       "  '12, JALAN TAMPOI 7/4,KAWASAN PERINDUSTRIAN TAMPOI,81200 JOHOR BAHRU,JOHOR'),\n",
       " ('NO.89&91, JALAN UTAMA,TAMAN MUTIA RINI, 81300 SKUDAI, JOHOR.*THANK YOU, SEE YOU AGAIN !!',\n",
       "  'NO.89&91, JALAN UTAMA, TAMAN MUTIA RINI, 81300 SKUDAI, JOHOR.'),\n",
       " ('NO 3, JALAN PERMAS 10/8,BANDAR BARU PERMAS JAYA, 81750 MASAI, JOHOR',\n",
       "  'NO 3, JALAN PERMAS 10/8, BANDAR BARU PERMAS JAYA, 81750 MASAI, JOHOR'),\n",
       " ('NO.6,8, 10& 12 JALAN PERMAS 4/3BANDAR BARU PERMAS JAYA,',\n",
       "  'NO.6,8, 10& 12 JALAN PERMAS 4/3 BANDAR BARU PERMAS JAYA, 81750 JOHOR BAHRU,JOHOR.'),\n",
       " ('',\n",
       "  'LOT 2110&2111 JALAN PERMAS UTARA BANDAR BARU PERMAS 81750 JOHOR BAHRU JOHOR'),\n",
       " ('NO.17,JALAN PERMAS 1/7,BANDAR BARU PERMAS JAYA,',\n",
       "  'NO.17,JALAN PERMAS 1/7, BANDAR BARU PERMAS JAYA,81750,MASAI'),\n",
       " ('JLN JEJAKA, TAMAN MALURI',\n",
       "  '3RD FLR, AEON TAMAN MALURI SC JLN JEJAKA, TAMAN MALURI CHERAS, 55100 KUALA LUMPUR'),\n",
       " ('NO.3 & 5, JALAN PERMAS 11,BANDAR BARU PERMAS JAYA,81750 MASAI,',\n",
       "  'NO.3 & 5, JALAN PERMAS 11, BANDAR BARU PERMAS JAYA, 81750 MASAI, JOHOR'),\n",
       " ('12, JALAN TAMPOI 7/4,KAWASAN PERINDUSTRIANTAMPOI,81200 JOHOR BAHRU,JOHOR',\n",
       "  '12, JALAN TAMPOI 7/4,KAWASAN PERINDUSTRIAN TAMPOI,81200 JOHOR BAHRU, JOHOR'),\n",
       " ('12, JALAN TAMPOI 7/4,KAWASAN PERINDUSTRIANTAMPOI,81200 JOHOR BAHRU, JOHOR',\n",
       "  '12, JALAN TAMPOI 7/4,KAWASAN PERINDUSTRIAN TAMPOI,81200 JOHOR BAHRU, JOHOR'),\n",
       " ('12, JALAN TAMPOI 7/4,KAWASAN PERINDUSTRIANTAMPOI,81200 JOHOR BAHRU,JOHOR',\n",
       "  '12, JALAN TAMPOI 7/4,KAWASAN PERINDUSTRIAN TAMPOI,81200 JOHOR BAHRU, JOHOR'),\n",
       " ('NO.1, JALAN PERMAS 10/5, BANDAR BARU PERMAS JAYA',\n",
       "  'NO.1, JALAN PERMAS 10/5, BANDAR BARU PERMAS JAYA 81750 JOHOR BAHRU, JOHOR.'),\n",
       " ('LEVEL 6, BANGUNAN TH, DAMANSARA UPTOWN3',\n",
       "  'LEVEL 6, BANGUNAN TH, DAMANSARA UPTOWN3 NO.3, JALAN SS21/39, 47400 PETALING JAYA SELANGOR'),\n",
       " ('12, JALAN TAMPOI 7/4,KAWASAN PERINDUSTRIANTAMPOI,81200 JOHOR BAHRU, JOHOR',\n",
       "  '12, JALAN TAMPOL 7/4,KAWASAN PERINDUSTRIAN TAMPOI,81200 JOHOR BAHRU,JOHOR'),\n",
       " ('31,31A, JALAN HANG TUAH 9,TAMAN SKUDAI BARU,81300 SKUDAI,',\n",
       "  '31,31A, JALAN HANG TUAH 9, TAMAN SKUDAI BARU, 81300 SKUDAI, JOHOR'),\n",
       " ('LOT G29 & G30, AEON MALL TEBRAU CITY,NO. 1, JALAN DESA TEBRAU,TAMAN DESA TEBRAU, 81100 JOHOR BAHRU.',\n",
       "  'LOT G29 & G30, AEON MALL TEBRAU CITY, NO. 1, JALAN DESA TEBRAU, TAMAN DESA TEBRAU, 81100 JOHOR BAHRU.'),\n",
       " ('NO 69,JALAN PENGKALAN 5,TAMAN PASIR EMAS,KG PASIR PUTIH,',\n",
       "  'NO 69, JALAN PENGKALAN 5, TAMAN PASIR EMAS, KG PASIR PUTIH, 81700 PASIR GUDANG, JOHOR.'),\n",
       " ('NO 33, 35, G F,JALAN TEMENGGUNG 3/9,BANDAR MAHKOTA CHERAS,',\n",
       "  'NO 33, 35, G F ,JALAN TEMENGGUNG 3/9, BANDAR MAHKOTA CHERAS, 43200 CHERAS, SELANGOR'),\n",
       " ('NO.2, JALAN TEMENGGUNG 19/9,SEKSYEN 9, BANDAR MAHKOTA CHERAS,',\n",
       "  'NO.2, JALAN TEMENGGUNG 19/9, SEKSYEN 9, BANDAR MAHKOTA CHERAS, 43200 CHERAS, SELANGOR'),\n",
       " ('NO.2, JALAN TEMENGGUNG 19/9,SEKSYEN 9, BANDAR MAHKOTA CHERAS,',\n",
       "  'NO.2, JALAN TEMENGGUNG 19/9, SEKSYEN 9, BANDAR MAHKOTA CHERAS, 43200 CHERAS, SELANGOR'),\n",
       " ('NO.2, JALAN TEMENGGUNG 19/9,SEKSYEN 9, BANDAR MAHKOTA CHERAS,',\n",
       "  'NO.2, JALAN TEMENGGUNG 19/9, SEKSYEN 9, BANDAR MAHKOTA CHERAS, 43200 CHERAS, SELANGOR'),\n",
       " ('NO.2, JALAN TEMENGGUNG 19/9,SEKSYEN 9, BANDAR MAHKOTA CHERAS,',\n",
       "  'NO.2, JALAN TEMENGGUNG 19/9, SEKSYEN 9, BANDAR MAHKOTA CHERAS, 43200 CHERAS, SELANGOR'),\n",
       " ('NO.2, JALAN TEMENGGUNG 19/9,SEKSYEN 9, BANDAR MAHKOTA CHERAS,',\n",
       "  'NO.2, JALAN TEMENGGUNG 19/9, SEKSYEN 9, BANDAR MAHKOTA CHERAS, 43200 CHERAS, SELANGOR'),\n",
       " ('LEVEL 6, BANGUNAN TH, DAMANSARA UPTOWN3',\n",
       "  'LEVEL 6, BANGUNAN TH, DAMANSARA UPTOWN3 NO.3, JALAN SS21/39,47400 PETALING JAYA SELANGOR'),\n",
       " ('NO.2, JALAN TEMENGGUNG 19/9,SEKSYEN 9, BANDAR MAHKOTA CHERAS,',\n",
       "  'NO.2, JALAN TEMENGGUNG 19/9, SEKSYEN 9, BANDAR MAHKOTA CHERAS, 43200 CHERAS, SELANGOR'),\n",
       " ('NO.2, JALAN TEMENGGUNG 19/9,SEKSYEN 9, BANDAR MAHKOTA CHERAS,',\n",
       "  'NO.2, JALAN TEMENGGUNG 19/9, SEKSYEN 9, BANDAR MAHKOTA CHERAS, 43200 CHERAS, SELANGOR'),\n",
       " ('', '69, JALAN TEMENGGUNG 3/9 BANDAR MAHKOTA CHERAS 43200 CHERAS SELANGOR'),\n",
       " ('LOT 1851-A & 1851-B, JALAN KPB 6,KAWASAN PERINDUSTRIAN BALAKONG,',\n",
       "  'LOT 1851-A & 1851-B, JALAN KPB 6, KAWASAN PERINDUSTRIAN BALAKONG, 43300 SERI KEMBANGAN, SELANGOR'),\n",
       " ('LOT 1851-A & 1851-B, JALAN KPB 6,KAWASAN PERINDUSTRIAN BALAKONG,',\n",
       "  'LOT 1851-A & 1851-B, JALAN KPB 6, KAWASAN PERINDUSTRIAN BALAKONG, 43300 SERI KEMBANGAN, SELANGOR'),\n",
       " ('NO.2, JALAN TEMENGGUNG 19/9,SEKSYEN 9, BANDAR MAHKOTA CHERAS,',\n",
       "  'NO.2, JALAN TEMENGGUNG 19/9, SEKSYEN 9, BANDAR MAHKOTA CHERAS, 43200 CHERAS, SELANGOR'),\n",
       " ('NO.2, JALAN TEMENGGUNG 19/9,SEKSYEN 9, BANDAR MAHKOTA CHERAS,',\n",
       "  'NO.2, JALAN TEMENGGUNG 19/9, SEKSYEN 9, BANDAR MAHKOTA CHERAS, 43200 CHERAS, SELANGOR'),\n",
       " ('NO.2, JALAN TEMENGGUNG 19/9,SEKSYEN 9, BANDAR MAHKOTA CHERAS,',\n",
       "  'NO.2, JALAN TEMENGGUNG 19/9, SEKSYEN 9, BANDAR MAHKOTA CHERAS, 43200 CHERAS, SELANGOR'),\n",
       " ('NO.2, JALAN TEMENGGUNG 19/9,SEKSYEN 9, BANDAR MAHKOTA CHERAS,',\n",
       "  'NO.2, JALAN TEMENGGUNG 19/9, SEKSYEN 9, BANDAR MAHKOTA CHERAS, 43200 CHERAS, SELANGOR'),\n",
       " ('NO.2, JALAN TEMENGGUNG 19/9,SEKSYEN 9, BANDAR MAHKOTA CHERAS,',\n",
       "  'NO.2, JALAN TEMENGGUNG 19/9, SEKSYEN 9, BANDAR MAHKOTA CHERAS, 43200 CHERAS, SELANGOR'),\n",
       " ('43200 SELANGOR DARUL EHSAN, MALAYSIA',\n",
       "  'NO.19 & 21 JALAN TEMENGGUNG 23/9 BANDAR MAHKOTA CHERAS 43200 SELANGOR DARUL EHSAN, MALAYSIA'),\n",
       " ('BANDAR MAHKOTA CHERAS,',\n",
       "  'NO 3, JALAN TEMENGGUNG 27/9 BANDAR MAHKOTA CHERAS, 43200 SELANGOR.'),\n",
       " ('LOT 26151 BANDAR SG LONG,11 1/4 MILES CHERAS,',\n",
       "  'LOT 26151 BANDAR SG LONG, 11 1/4 MILES CHERAS, 43000 KAJANG, SELANGOR'),\n",
       " ('LOT PT 1138 ,PT 33122,',\n",
       "  'LOT PT 1138 ,PT 33122, BANDAR MAHKOTA CHERAS 43200 CHERAS, SELANGOR'),\n",
       " ('NO.2, JALAN TEMENGGUNG 19/9,SEKSYEN 9, BANDAR MAHKOTA CHERAS,',\n",
       "  'NO.2, JALAN TEMENGGUNG 19/9, SEKSYEN 9, BANDAR MAHKOTA CHERAS, 43200 CHERAS, SELANGOR'),\n",
       " ('NO.2, JALAN TEMENGGUNG 19/9,SEKSYEN 9, BANDAR MAHKOTA CHERAS,',\n",
       "  'NO.2, JALAN TEMENGGUNG 19/9, SEKSYEN 9, BANDAR MAHKOTA CHERAS, 43200 CHERAS, SELANGOR'),\n",
       " ('NO.2, JALAN TEMENGGUNG 19/9,SEKSYEN 9, BANDAR MAHKOTA CHERAS,',\n",
       "  'NO.2, JALAN TEMENGGUNG 19/9, SEKSYEN 9, BANDAR MAHKOTA CHERAS, 43200 CHERAS, SELANGOR'),\n",
       " ('NO.2, JALAN TEMENGGUNG 19/9,SEKSYEN 9, BANDAR MAHKOTA CHERAS,',\n",
       "  'NO.2, JALAN TEMENGGUNG 19/9, SEKSYEN 9, BANDAR MAHKOTA CHERAS, 43200 CHERAS, SELANGOR'),\n",
       " ('NO.2, JALAN TEMENGGUNG 19/9,SEKSYEN 9, BANDAR MAHKOTA CHERAS,',\n",
       "  'NO.2, JALAN TEMENGGUNG 19/9, SEKSYEN 9, BANDAR MAHKOTA CHERAS, 43200 CHERAS, SELANGOR'),\n",
       " ('NO.2, JALAN TEMENGGUNG 19/9,SEKSYEN 9, BANDAR MAHKOTA CHERAS,',\n",
       "  'NO.2, JALAN TEMENGGUNG 19/9, SEKSYEN 9, BANDAR MAHKOTA CHERAS, 43200 CHERAS, SELANGOR'),\n",
       " ('NO: 1-1&2 GROUND FLOOR,JLN TEMENGGUNG 13/9,',\n",
       "  'NO: 1-1&2 GROUND FLOOR, JLN TEMENGGUNG 13/9, 43200 CHERAS SELANGOR.'),\n",
       " ('LOT 1851-A & 1851-B, JALAN KPB 6,KAWASAN PERINDUSTRIAN BALAKONG,',\n",
       "  'LOT 1851-A & 1851-B, JALAN KPB 6, KAWASAN PERINDUSTRIAN BALAKONG, 43300 SERI KEMBANGAN, SELANGOR'),\n",
       " ('LOT 1851-A & 1851-B, JALAN KPB 6,KAWASAN PERINDUSTRIAN BALAKONG,',\n",
       "  'LOT 1851-A & 1851-B, JALAN KPB 6, KAWASAN PERINDUSTRIAN BALAKONG, 43300 SERI KEMBANGAN, SELANGOR'),\n",
       " ('LOT P.T. 2811, JALAN ANGSA,41150 KLANG, SELANGOR',\n",
       "  'LOT P.T. 2811, JALAN ANGSA, TAMAN BERKELEY 41150 KLANG, SELANGOR 1237-TMN INDAH PERDANA'),\n",
       " ('LOP P.T. 2811, JALAN ANGSA,41150 KLANG, SELANGOR',\n",
       "  'LOT P.T. 2811, JALAN ANGSA, TAMAN BERKELEY 41150 KLANG, SELANGOR 1237-TMN INDAH PERDANA'),\n",
       " ('LOP P.T. 2811, JALAN ANGSA,41150 KLANG, SELANGOR',\n",
       "  'LOT P.T. 2811, JALAN ANGSA, TAMAN BERKELEY 41150 KLANG, SELANGOR 1237-TMN INDAH PERDANA'),\n",
       " ('LOP P.T. 2811, JALAN ANGSA,41150 KLANG, SELANGOR',\n",
       "  'LOT P.T. 2811, JALAN ANGSA, TAMAN BERKELEY 41150 KLANG, SELANGOR 1237-TMN INDAH PERDANA'),\n",
       " ('LOP P.T. 2811, JALAN ANGSA,41150 KLANG, SELANGOR',\n",
       "  'LOT P.T. 2811, JALAN ANGSA, TAMAN BERKELEY 41150 KLANG, SELANGOR 1237-TMN INDAH PERDANA'),\n",
       " ('LOT 1851-A & 1851-B, JALAN KPB 6,KAWASAN PERINDUSTRIAN BALAKONG,',\n",
       "  'LOT 1851-A & 1851-B, JALAN KPB 6, KAWASAN PERINDUSTRIAN BALAKONG, 43300 SERI KEMBANGAN, SELANGOR'),\n",
       " ('LOT 1851-A & 1851-B, JALAN KPB 6,KAWASAN PERINDUSTRIAN BALAKONG,',\n",
       "  'LOT 1851-A & 1851-B, JALAN KPB 6, KAWASAN PERINDUSTRIAN BALAKONG, KAWASAN PERINDUSTRIAN BALAKONG, 43300 SERI KEMBANGAN, SELANGOR'),\n",
       " ('52100 KEPONG BARU, KL', 'LOT 2407, JALAN DUA 52100 KEPONG BARU, KL'),\n",
       " ('NO.50, JALAN PBS 14/11,KAWASAN PERINDUSTRIAN BUKIT SERDANG,',\n",
       "  'NO.50, JALAN PBS 14/11, KAWASAN PERINDUSTRIAN BUKIT SERDANG,'),\n",
       " ('MENARA DION #02-03, LEVEL 2,27, JALAN SULTAN ISMAIL,',\n",
       "  'MENARA DION #02-03, LEVEL 2, 27, JALAN SULTAN ISMAIL, 50250 KUALA LUMPUR.'),\n",
       " ('MENARA DION #02-03, LEVEL 2,27, JALAN SULTAN ISMAIL,',\n",
       "  'MENARA DION #02-03, LEVEL 2, 27, JALAN SULTAN ISMAIL, 50250 KUALA LUMPUR.'),\n",
       " ('CAR PARK OFFICE, BASEMANT 1,LABUHRAYA SPRINT, PJU6A,',\n",
       "  'CAR PARK OFFICE, BASEMENT 1, LABUHRAYA SPRINT, PJU6A, 47400 PETALING JAYA, SELANGOR'),\n",
       " ('NO.50, JALAN PBS 14/11,KAWASAN PERINDUSTRIAN BUKIT SERDANG,',\n",
       "  'NO.50 , JALAN PBS 14/11 , KAWASAN PERINDUSTRIAN BUKIT SERDANG,'),\n",
       " ('MENARA DION #02-03, LEVEL 2,27, JALAN SULTAN ISMAIL,',\n",
       "  'MENARA DION #02-03, LEVEL 2, 27, JALAN SULTAN ISMAIL, 50250 KUALA LUMPUR.'),\n",
       " ('LOT 1851-A & 1851-B, JALAN KP8 6,KAWASAN PERINDUSTRIAN BALAKONG,',\n",
       "  'LOT 1851-A & 1851-B, JALAN KP3 6, KAWASAN PERINDUSTRIAN BALAKONG, 43300 SERI KEMBANGAN, SELANGOR'),\n",
       " ('LOUNGE 2, GROUND FLOOR, OASIS VILLAGE,NO 2,JALAN PJU 1A/7A, OASIS SQUARE,OASIS DAMANSARA.,',\n",
       "  'OASIS VILLAGE LOUNGE 2, GROUND FLOOR, OASIS VILLAGE,NO 2, JALAN PJU 1A/7A, OASIS SQUARE,OASIS DAMANSARA., 47301, PETALING JAYA,SELANGOR'),\n",
       " ('NO.29M,JALAN DINAR G U3/G,SEKSYEN U3,',\n",
       "  'NO.29M, JALAN DINAR G U3/G, SEKSYEN U3, SUBANG PERDANA, 40150 SHAH ALAM'),\n",
       " ('NO.29M, JALAN DINAR G U3/G, SEKSYEN U3,',\n",
       "  'NO.29M, JALAN DINAR G U3/G, SEKSYEN U3, SUBANG PERDANA, 40150 SHAH ALAM'),\n",
       " ('M4-A-8, JALAN PANDAH INDAH 4/1A,PANDAH INDAH, 55100 KUALA LUMPUR,TONG HOU',\n",
       "  'M4-A-8, JALAN PANDAH INDAH 4/1A, PANDAH INDAH, 55100 KUALA LUMPUR.'),\n",
       " ('', '13, JLN TASIK UTAMA 8 MEDAN NIAGA DAMAI SG BESI 57000 KL'),\n",
       " ('LOT P.T. 2811, JALAN ANGSA,41150 KLANG, SELANGOR',\n",
       "  'LOT P.T. 2811, JALAN ANGSA, TAMAN BERKELEY 41150 KLANG, SELANGOR 1249-TMN PANDAN CAHAYA'),\n",
       " ('NO.1, TAMAN SRI DENGKIL, JALAN AIR HITAM',\n",
       "  'NO.1, TAMAN SRI DENGKIL, JALAN AIR HITAM 43800 DENGKIL, SELANGOR.'),\n",
       " ('NO.1, TAMAN SRI DENGKIL, JALAN AIR HITAM',\n",
       "  'NO. 1, TAMAN SRI DENGKIL, JALAN AIR HITAM 43800 DENGKIL, SELANGOR.'),\n",
       " ('NO.1, TAMAN SRI DENGKIL, JALAN AIR HITAM',\n",
       "  'NO. 1, TAMAN SRI DENGKIL, JALAN AIR HITAM 43800 DENGKIL, SELANGOR.'),\n",
       " ('NO.1, TAMAN SRI DENGKIL, JALAN AIR HITAM',\n",
       "  'NO. 1, TAMAN SRI DENGKIL, JALAN AIR HITAM 43800 DENGKIL, SELANGOR.'),\n",
       " ('NO.1, TAMAN SRI DENGKIL, JALAN AIR HITAM',\n",
       "  'NO. 1, TAMAN SRI DENGKIL, JALAN AIR HITAM 43800 DENGKIL, SELANGOR.'),\n",
       " ('3-7, GROUND FLOOR,43800 DENGKIL, SELANGOR DARUL EHSAN',\n",
       "  '3-7, GROUND FLOOR, JLN PURTA DENGKIL 1 TMN PUTRA DENGKIL 43800 DENGKIL, SELANGOR DARUL EHSAN'),\n",
       " ('LOT P.T. 2811, JALAN ANGSA,41150 KLANG, SELANGOR',\n",
       "  'LOT P.T. 2811, JALAN ANGSA, TAMAN BERKELEY 41150 KLANG, SELANGOR 1225-DENGKIL'),\n",
       " ('', 'LOT 276 JALAN BANTING 43800 DENGKIL, SELANGOR'),\n",
       " ('', 'LOT 276 JALAN BANTING 43800 DENGKIL, SELANGOR'),\n",
       " ('', 'LOT 276 JALAN BANTING 43800 DENGKIL, SELANGOR'),\n",
       " ('', 'LOT 276 JALAN BANTING 43800 DENGKIL, SELANGOR'),\n",
       " ('', 'LOT 276 JALAN BANTING 43800 DENGKIL, SELANGOR'),\n",
       " ('', 'LOT 276 JALAN BANTING 43800 DENGKIL, SELANGOR'),\n",
       " ('', 'LOT 276 JALAN BANTING 43800 DENGKIL, SELANGOR.'),\n",
       " ('', 'LOT 276 JALAN BANTING 43800 DENGKIL, SELANGOR'),\n",
       " ('216, MACALISTER ROAD, 10400 PENANG.',\n",
       "  '216, MACALISTER ROAD, 10400 PENANG, 10400 PENANG.'),\n",
       " ('107, JALAN BANDAR RAWANG 2,PUSAT BANDAR RAWANG,',\n",
       "  '107,JALAN BANDAR RAWANG 2, PUSAT BANDAR RAWANG, 48000 RAWANG,SELANGOR D E'),\n",
       " ('22, JALAN PERINDUSTRIAN HIJAU 5,TAMAN PERINDUSTRIAN HIJAU,',\n",
       "  '22, JALAN PERINDUSTRIAN HIJAU 5, TAMAN PERINDUSTRIAN HIJAU,'),\n",
       " ('NO 8, JALAN 7/118B, DESA TUN RAZAK56000 KUALA LUMPUR, MALAYSIA',\n",
       "  'NO 8, JALAN 7/118B, DESA TUN RAZAK 56000 KUALA LUMPUR, MALAYSIA'),\n",
       " ('41-1, JLN RADIN ANUM 2, SRI',\n",
       "  '41-1, JLN RADIN ANUM 2, SRI PETALING, 57000 KUALA LUMPUR.'),\n",
       " ('LOT 1851-A & 1851-B, JALAN KPB 6,KAWASAN PERINDUSTRIAN BALAKONG,X',\n",
       "  'LOT 1851-A & 1851-B, JALAN KPB 6, KAWASAN PERINDUSTRIAN BALAKONG, 43300 SERI KEMBANGAN, SELANGOR'),\n",
       " ('NO 24, 25 & 26,JALAN PUSAT PERNIAGAAN BUNGA RAYA 4,PUSAT PERNIAGAAN BUNGA RAYA,',\n",
       "  'NO 24, 25 & 26, JALAN PUSAT PERNIAGAAN BUNGA RAYA 4, PUSAT PERNIAGAAN BUNGA RAYA,'),\n",
       " ('NO.1, TAMAN SRI DENGKIL, JALAN AIR HITAM',\n",
       "  'NO. 1, TAMAN SRI DENGKIL, JALAN AIR HITAM 43800 DENGKIL, SELANGOR.'),\n",
       " ('NO.1, TAMAN SRI DENGKIL, JALAN AIR HITAM',\n",
       "  'NO.1, TAMAN SRI DENGKIL, JALAN AIR HITAM 43800 DENGKIL, SELANGOR.'),\n",
       " ('NO.1, TAMAN SRI DENGKIL, JALAN AIR HITAM',\n",
       "  'NO.1, TAMAN SRI DENGKIL, JALAN AIR HITAM 43800 DENGKIL, SELANGOR.'),\n",
       " ('NO.1, TAMAN SRI DENGKIL, JALAN AIR HITAM',\n",
       "  'NO.1, TAMAN SRI DENGKIL, JALAN AIR HITAM 43800 DENGKIL, SELANGOR.'),\n",
       " ('NO.1, TAMAN SRI DENGKIL, JALAN AIR HITAM',\n",
       "  'NO.1, TAMAN SRI DENGKIL, JALAN AIR HITAM 43800 DENGKIL, SELANGOR.'),\n",
       " ('NO.1, TAMAN SRI DENGKIL, JALAN AIR HITAM',\n",
       "  'NO. 1, TAMAN SRI DENGKIL, JALAN AIR HITAM 43800 DENGKIL, SELANGOR.'),\n",
       " ('NO.1, TAMAN SRI DENGKIL, JALAN AIR HITAM',\n",
       "  'NO.1, TAMAN SRI DENGKIL, JALAN AIR HITAM 43800 DENGKIL, SELANGOR.'),\n",
       " ('19, JALAN KANCIL,OFF JALAN PUDU,X',\n",
       "  '19, JALAN KANCIL, OFF JALAN PUDU, 55100 KUALA LUMPUR MALAYSIA'),\n",
       " ('NO.32 & 33, JALAN SR 1/9, SEKSYEN 9,TAMAN SERDANG RAYA,',\n",
       "  'NO.32 & 33, JALAN SR 1/9, SEKSYEN 9, TAMAN SERDANG RAYA, 43300 SERI KEMBANGAN, SELANGOR DARUL EHSAN')]"
      ]
     },
     "execution_count": 341,
     "metadata": {},
     "output_type": "execute_result"
    }
   ],
   "source": [
    "list(zip(address, answer_df['address']))"
   ]
  },
  {
   "cell_type": "code",
   "execution_count": 342,
   "metadata": {},
   "outputs": [
    {
     "data": {
      "text/plain": [
       "7"
      ]
     },
     "execution_count": 342,
     "metadata": {},
     "output_type": "execute_result"
    }
   ],
   "source": [
    "sum(pred==ans for pred, ans in zip(address, answer_df.address))"
   ]
  },
  {
   "cell_type": "code",
   "execution_count": 343,
   "metadata": {},
   "outputs": [
    {
     "data": {
      "text/plain": [
       "226"
      ]
     },
     "execution_count": 343,
     "metadata": {},
     "output_type": "execute_result"
    }
   ],
   "source": [
    "sum(pred==ans for pred, ans in zip(company, answer_df.company))"
   ]
  },
  {
   "cell_type": "code",
   "execution_count": 344,
   "metadata": {},
   "outputs": [
    {
     "data": {
      "text/plain": [
       "626"
      ]
     },
     "execution_count": 344,
     "metadata": {},
     "output_type": "execute_result"
    }
   ],
   "source": [
    "len(answer_df.company)"
   ]
  },
  {
   "cell_type": "code",
   "execution_count": 345,
   "metadata": {},
   "outputs": [
    {
     "data": {
      "text/plain": [
       "0.3610223642172524"
      ]
     },
     "execution_count": 345,
     "metadata": {},
     "output_type": "execute_result"
    }
   ],
   "source": [
    "226/ 626"
   ]
  },
  {
   "cell_type": "code",
   "execution_count": null,
   "metadata": {},
   "outputs": [],
   "source": []
  },
  {
   "cell_type": "code",
   "execution_count": null,
   "metadata": {},
   "outputs": [],
   "source": []
  }
 ],
 "metadata": {
  "kernelspec": {
   "display_name": "sorie_kernel",
   "language": "python",
   "name": "sroie"
  },
  "language_info": {
   "codemirror_mode": {
    "name": "ipython",
    "version": 3
   },
   "file_extension": ".py",
   "mimetype": "text/x-python",
   "name": "python",
   "nbconvert_exporter": "python",
   "pygments_lexer": "ipython3",
   "version": "3.6.10"
  }
 },
 "nbformat": 4,
 "nbformat_minor": 4
}
